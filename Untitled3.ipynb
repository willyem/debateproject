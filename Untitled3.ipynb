{
 "cells": [
  {
   "cell_type": "code",
   "execution_count": 1,
   "metadata": {
    "collapsed": false
   },
   "outputs": [],
   "source": [
    "import processing"
   ]
  },
  {
   "cell_type": "code",
   "execution_count": 2,
   "metadata": {
    "collapsed": true
   },
   "outputs": [],
   "source": [
    "names_and_win = [('campus_assault.txt', [0, 1]), ('samesex.txt', [0, 1]), ('iran_deal.txt', [0, 1]),\\\n",
    "('death_penalty.txt', [0, 1]), ('constitutional_authority.txt', [0, 1]), ('right_to_forget.txt', [0, 1]), \\\n",
    "('liberals_stifling.txt', [1, 0]), ('declinists.txt', [1, 0]), ('amazon.txt', [0, 1]), ('gmos.txt', [1, 0]), ('eutha.txt', [0, 1]), \\\n",
    "('income_inequal.txt', [0, 1]), ('mass_collection.txt', [1, 0]), ('flexing_musc.txt', [1, 0]), ('common_core.txt', [1, 0]), \\\n",
    "('pacs.txt', [0, 1]), ('death_not_final.txt', [0, 1]), ('millenials.txt', [1, 0]), ('lecture_obsolete.txt', [1, 0]), \\\n",
    "('russia.txt', [0, 1]), ('USA_kill.txt', [1, 0]), ('affirmative.txt', [1, 0]), ('snowden.txt', [1, 0]), ('obamacare.txt', [1, 0]), \\\n",
    "('eat_face.txt', [1, 0]), ('spy_on_me.txt', [0, 1]), ('right_to_bear.txt', [1, 0]), ('take_job_anywhere.txt', [0, 1]), \\\n",
    "('red_state.txt', [1, 0]), ('break_up_banks.txt', [0, 1]), ('drones.txt', [0, 1]), ('us_syria.txt', [1, 0]), \\\n",
    "('pentagon_budget.txt', [0, 1]), ('fda_caution.txt', [1, 0]), ('gop_center.txt', [0, 1]), ('minimum_wage.txt', [0, 1]), \\\n",
    "('strong_dollar.txt', [1, 0]), ('prohibit_genetic.txt', [0, 1]), ('nuclear_iran.txt', [0, 1]), ('science_god.txt', [1, 0]), \\\n",
    "('legalize_drugs.txt', [1, 0]), ('rich_taxed.txt', [0, 1]), ('end_of_life_care.txt', [1, 0]), ('elected_islamists.txt', [0, 1]),\\\n",
    "('money_politics_overregulated.txt', [0, 1]), ('natural_gas_bad.txt', [1, 0]), ('ban_football.txt', [1, 0]), \\\n",
    "('internet_closing_minds.txt', [1, 0]), ('china_capitalism_better.txt', [0, 1]), ('obesity_govt_business.txt', [0, 1]), \\\n",
    "('palestine_statehood.txt', [1, 0]), ('no_religion.txt', [1, 0]), ('job_plan.txt', [1, 0]), ('too_many_kids_college.txt', [1, 0]), \\\n",
    "('grandmas_benefits.txt', [0, 1]), ('men_are_finished.txt', [1, 0]), ('end_war_on_terror.txt', [0, 1]), \\\n",
    "('freedom_press_state.txt', [0, 1]), ('dont_give_us.txt', [1, 0]), ('clip_americas_wings.txt', [1, 0]), \\\n",
    "('clean_energy.txt', [0, 1]), ('two_party_bad.txt', [0, 1]), ('repeal_obamacare.txt', [0, 1]), ('airports_profiling.txt', [1, 0]), \\\n",
    "('afghanistan_lost.txt', [0, 1]), ('big_govt_stifling.txt', [1, 0]), ('islam_is_peace.txt', [0, 1])]\n",
    "\n",
    "                 \n",
    "                 \n",
    "names_and_win2 = [('terrorists_enemy_combatants.txt', [0, 1]), ('cyber_war_exaggerated.txt', [0, 1]), ('obamas_policy_us_decline.txt', [0, 1]), \\\n",
    "('organic_is_hype.txt', [0, 1]), ('teacher_unions_failing_schools.txt', [0, 1]), ('us_stepback_israel.txt', [1, 0]), \\\n",
    "('california_failed.txt', [1, 0]), ('us_mexico_drugs.txt', [1, 0]), ('obamas_policies_working.txt', [1, 0]), \\\n",
    "('good_riddance_mainstream.txt', [0, 1]), ('us_will_not_succeed_afghan.txt', [0, 1]), ('buy_american_bad.txt', [1, 0]), \\\n",
    "('diplomacy_iran_nowhere.txt', [0, 1]), ('pay_for_sex.txt', [1, 0]), ('blame_washington_financial.txt', [1, 0]), \\\n",
    "('art_market_ethical.txt', [1, 0]), ('carbon_reductions_not_worth_it.txt', [1, 0]), ('bush_is_worst.txt', [0, 1]), \\\n",
    "('google_dont_be_evil.txt', [1, 0]), ('guns_reduce_crime.txt', [1, 0]), ('america_winning_iraq.txt', [1, 0]), \\\n",
    "('universal_health.txt', [0, 1]), ('legalize_organs.txt', [1, 0]), ('islam_radicals.txt', [1, 0]), \\\n",
    "('tough_interrogation.txt', [0, 1]), ('america_policeman.txt', [1, 0]), ('performance_enhancing.txt', [1, 0]), \\\n",
    "('aid_africa_bad.txt', [0, 1]), ('end_affirmative.txt', [0, 1]), ('russia_enemy_again.txt', [0, 1]), \\\n",
    "('stop_welcoming_immigrants.txt', [1, 0]), ('spread_democracy_me.txt', [1, 0]), ('booming_china.txt', [0, 1]), \\\n",
    "('more_domestic_surveillance.txt', [0, 1]), ('global_warming_not.txt', [1, 0]), ('america_too_religious.txt', [1, 0]), \\\n",
    "('hollywood_anti_us.txt', [0, 1]), ('democratic_hamas.txt', [0, 1]), ('license_to_offend.txt', [1, 0]), \\\n",
    "('tolerate_iran.txt', [1, 0])]"
   ]
  },
  {
   "cell_type": "code",
   "execution_count": null,
   "metadata": {
    "collapsed": false,
    "scrolled": true
   },
   "outputs": [],
   "source": [
    "for name in names_and_win: \n",
    "    processing.parse_text('debate_text/'+name[0])"
   ]
  },
  {
   "cell_type": "code",
   "execution_count": 3,
   "metadata": {
    "collapsed": false
   },
   "outputs": [
    {
     "name": "stdout",
     "output_type": "stream",
     "text": [
      "debate_text/china_capitalism_better.txt\n",
      "['Orville Schell:', 'Peter Schiff:']\n",
      "laughter count:\n",
      "5\n",
      "applause count:\n",
      "0\n",
      "['Ian Bremmer:', 'Minxin Pei:']\n",
      "laughter count:\n",
      "14\n",
      "applause count:\n",
      "6\n",
      "\n",
      "\n",
      "\n",
      "********\n"
     ]
    }
   ],
   "source": [
    "processing.parse_text('debate_text/china_capitalism_better.txt')"
   ]
  },
  {
   "cell_type": "code",
   "execution_count": null,
   "metadata": {
    "collapsed": false
   },
   "outputs": [],
   "source": [
    "processing.parse_text('debate_text/income_inequal.txt')"
   ]
  },
  {
   "cell_type": "code",
   "execution_count": null,
   "metadata": {
    "collapsed": false
   },
   "outputs": [],
   "source": [
    "string = 'And they despaired of Congress taking any action. \\\n",
    "You can tell them, \"It\\'s not despairing.  We think you should take action.\"  \\\n",
    "Vote for the resolution in this debate.'"
   ]
  },
  {
   "cell_type": "code",
   "execution_count": null,
   "metadata": {
    "collapsed": false
   },
   "outputs": [],
   "source": [
    "string.replace(\"It's\", \"it's\")"
   ]
  },
  {
   "cell_type": "code",
   "execution_count": null,
   "metadata": {
    "collapsed": true
   },
   "outputs": [],
   "source": [
    "xxx = [\"hahahaha\", \"haha\"]"
   ]
  },
  {
   "cell_type": "code",
   "execution_count": null,
   "metadata": {
    "collapsed": false
   },
   "outputs": [],
   "source": [
    "sum([item.count('ha') for item in xxx])"
   ]
  },
  {
   "cell_type": "code",
   "execution_count": null,
   "metadata": {
    "collapsed": true
   },
   "outputs": [],
   "source": [
    "import re"
   ]
  },
  {
   "cell_type": "code",
   "execution_count": null,
   "metadata": {
    "collapsed": false
   },
   "outputs": [],
   "source": [
    "anotherpagenumber = re.compile('Intelligence Squared U.S. -.?.?.?.?.?-.?.?.?.?$')"
   ]
  },
  {
   "cell_type": "code",
   "execution_count": null,
   "metadata": {
    "collapsed": false
   },
   "outputs": [],
   "source": [
    "anotherpagenumber.search(\"Intelligence Squared U.S. -\") == None"
   ]
  },
  {
   "cell_type": "code",
   "execution_count": null,
   "metadata": {
    "collapsed": false
   },
   "outputs": [],
   "source": [
    "sum([sum([3]), sum([2])])"
   ]
  },
  {
   "cell_type": "code",
   "execution_count": null,
   "metadata": {
    "collapsed": true
   },
   "outputs": [],
   "source": []
  }
 ],
 "metadata": {
  "kernelspec": {
   "display_name": "Python 2",
   "language": "python",
   "name": "python2"
  },
  "language_info": {
   "codemirror_mode": {
    "name": "ipython",
    "version": 2
   },
   "file_extension": ".py",
   "mimetype": "text/x-python",
   "name": "python",
   "nbconvert_exporter": "python",
   "pygments_lexer": "ipython2",
   "version": "2.7.10"
  }
 },
 "nbformat": 4,
 "nbformat_minor": 0
}
