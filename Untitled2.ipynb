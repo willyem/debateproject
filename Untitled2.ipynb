{
 "cells": [
  {
   "cell_type": "code",
   "execution_count": 42,
   "metadata": {
    "collapsed": true
   },
   "outputs": [],
   "source": [
    "from sklearn.metrics import f1_score"
   ]
  },
  {
   "cell_type": "code",
   "execution_count": 2,
   "metadata": {
    "collapsed": false
   },
   "outputs": [],
   "source": [
    "import processing\n",
    "import pandas as pd\n",
    "import string \n",
    "from sklearn.feature_extraction.text import CountVectorizer, TfidfVectorizer\n",
    "from sklearn.metrics.pairwise import linear_kernel\n",
    "\n",
    "import nltk.data\n",
    "from nltk.corpus import stopwords\n",
    "from nltk.tokenize import word_tokenize\n",
    "from nltk.stem.wordnet import WordNetLemmatizer\n",
    "from nltk import pos_tag\n",
    "import numpy as np\n",
    "\n",
    "\n",
    "names_and_win = [('campus_assault.txt', [0, 1]), ('ISIS_defeated.txt', [0, 1]), ('samesex.txt', [0, 1]), ('iran_deal.txt', [0, 1]),\\\n",
    "('death_penalty.txt', [0, 1]), ('constitutional_authority.txt', [0, 1]), ('right_to_forget.txt', [0, 1]), \\\n",
    "('liberals_stifling.txt', [1, 0]), ('declinists.txt', [1, 0]), ('amazon.txt', [0, 1]), ('gmos.txt', [1, 0]), ('eutha.txt', [0, 1]), \\\n",
    "('income_inequal.txt', [0, 1]), ('mass_collection.txt', [1, 0]), ('flexing_musc.txt', [1, 0]), ('common_core.txt', [1, 0]), \\\n",
    "('pacs.txt', [0, 1]), ('death_not_final.txt', [0, 1]), ('millenials.txt', [1, 0]), ('lecture_obsolete.txt', [1, 0]), \\\n",
    "('russia.txt', [0, 1]), ('USA_kill.txt', [1, 0]), ('affirmative.txt', [1, 0]), ('snowden.txt', [1, 0]), ('obamacare.txt', [1, 0]), \\\n",
    "('eat_face.txt', [1, 0]), ('spy_on_me.txt', [0, 1]), ('right_to_bear.txt', [1, 0]), ('take_job_anywhere.txt', [0, 1]), \\\n",
    "('red_state.txt', [1, 0]), ('break_up_banks.txt', [0, 1]), ('drones.txt', [0, 1]), ('us_syria.txt', [1, 0]), \\\n",
    "('pentagon_budget.txt', [0, 1]), ('fda_caution.txt', [1, 0]), ('gop_center.txt', [0, 1]), ('minimum_wage.txt', [0, 1]), \\\n",
    "('strong_dollar.txt', [1, 0]), ('prohibit_genetic.txt', [0, 1]), ('nuclear_iran.txt', [0, 1]), ('science_god.txt', [1, 0]), \\\n",
    "('legalize_drugs.txt', [1, 0]), ('rich_taxed.txt', [0, 1]), ('end_of_life_care.txt', [1, 0]), ('elected_islamists.txt', [0, 1]),\\\n",
    "('money_politics_overregulated.txt', [0, 1]), ('natural_gas_bad.txt', [1, 0]), ('ban_football.txt', [1, 0]), \\\n",
    "('internet_closing_minds.txt', [1, 0]), ('china_capitalism_better.txt', [0, 1]), ('obesity_govt_business.txt', [0, 1]), \\\n",
    "('palestine_statehood.txt', [1, 0]), ('no_religion.txt', [1, 0]), ('job_plan.txt', [1, 0]), ('too_many_kids_college.txt', [1, 0]), \\\n",
    "('grandmas_benefits.txt', [0, 1]), ('men_are_finished.txt', [1, 0]), ('end_war_on_terror.txt', [0, 1]), \\\n",
    "('freedom_press_state.txt', [0, 1]), ('dont_give_us.txt', [1, 0]), ('clip_americas_wings.txt', [1, 0]), \\\n",
    "('clean_energy.txt', [0, 1]), ('two_party_bad.txt', [0, 1]), ('repeal_obamacare.txt', [0, 1]), ('airports_profiling.txt', [1, 0]), \\\n",
    "('afghanistan_lost.txt', [0, 1]), ('big_govt_stifling.txt', [1, 0]), ('islam_is_peace.txt', [0, 1]), \\\n",
    "('terrorists_enemy_combatants.txt', [0, 1]), ('cyber_war_exaggerated.txt', [0, 1]), ('obamas_policy_us_decline.txt', [0, 1]), \\\n",
    "('organic_is_hype.txt', [0, 1]), ('teacher_unions_failing_schools.txt', [0, 1]), ('us_stepback_israel.txt', [1, 0]), \\\n",
    "('california_failed.txt', [1, 0]), ('us_mexico_drugs.txt', [1, 0]), ('obamas_policies_working.txt', [1, 0]), \\\n",
    "('good_riddance_mainstream.txt', [0, 1]), ('us_will_not_succeed_afghan.txt', [0, 1]), ('buy_american_bad.txt', [1, 0]), \\\n",
    "('diplomacy_iran_nowhere.txt', [0, 1]), ('pay_for_sex.txt', [1, 0]), ('blame_washington_financial.txt', [1, 0]), \\\n",
    "('art_market_ethical.txt', [1, 0]), ('carbon_reductions_not_worth_it.txt', [1, 0]), ('bush_is_worst.txt', [0, 1]), \\\n",
    "('google_dont_be_evil.txt', [1, 0]), ('guns_reduce_crime.txt', [1, 0]), ('america_winning_iraq.txt', [1, 0]), \\\n",
    "('universal_health.txt', [0, 1]), ('legalize_organs.txt', [1, 0]), ('islam_radicals.txt', [1, 0]), \\\n",
    "('tough_interrogation.txt', [0, 1]), ('america_policeman.txt', [1, 0]), ('performance_enhancing.txt', [1, 0]), \\\n",
    "('aid_africa_bad.txt', [0, 1]), ('end_affirmative.txt', [0, 1]), ('russia_enemy_again.txt', [0, 1]), \\\n",
    "('stop_welcoming_immigrants.txt', [1, 0]), ('spread_democracy_me.txt', [1, 0]), ('booming_china.txt', [0, 1]), \\\n",
    "('more_domestic_surveillance.txt', [0, 1]), ('global_warming_not.txt', [1, 0]), ('america_too_religious.txt', [1, 0]), \\\n",
    "('hollywood_anti_us.txt', [0, 1]), ('democratic_hamas.txt', [0, 1]), ('license_to_offend.txt', [1, 0]), \\\n",
    "('tolerate_iran.txt', [1, 0])]\n",
    "\n",
    "wordnet = WordNetLemmatizer()\n",
    "stop = set(stopwords.words('english'))\n",
    "all_words = [] \n",
    "\n",
    "for document in names_and_win:\n",
    "    for_, aga_=  processing.parse_text('debate_text/'+document[0]) #/document\n",
    "    ##tokenize 'for_'\n",
    "    tokenized_for = word_tokenize(for_[0].decode('unicode_escape').encode('ascii', 'ignore'))\n",
    "    tokenized_aga = word_tokenize(aga_[0].decode('unicode_escape').encode('ascii', 'ignore'))\n",
    "\n",
    "    for_wo_punctuation_words = [x for x in tokenized_for if x not in string.punctuation]\n",
    "    aga_wo_punctuation_words = [x for x in tokenized_aga if x not in string.punctuation]\n",
    "\n",
    "    docs_for = [word for word in for_wo_punctuation_words if word not in stop] \n",
    "    docs_aga = [word for word in aga_wo_punctuation_words if word not in stop] \n",
    "\n",
    "    all_words += for_ + aga_\n",
    "\n",
    "#docs_wordnet = [wordnet.lemmatize(word) for word in all_words]\n",
    "\n",
    "#docs = docs_wordnet\n",
    "\n",
    "#vocab_set = set()\n",
    "\n",
    "#[vocab_set.add(token) for token in docs]\n",
    "\n",
    "#vocab = list(vocab_set)\n",
    "\n",
    "#cv = CountVectorizer(stop_words = 'english')\n",
    "#vectorized = cv.fit_transform(for_+aga_)\n",
    "def tokenize(doc):\n",
    "    '''\n",
    "    INPUT: string\n",
    "    OUTPUT: list of strings\n",
    "\n",
    "    Tokenize and stem/lemmatize the document.\n",
    "    '''\n",
    "    return [wordnet.lemmatize(word) for word in word_tokenize(doc.lower())]\n",
    "\n",
    "tfidf = TfidfVectorizer(stop_words='english')\n",
    "tfidfed = tfidf.fit_transform(all_words).toarray()\n",
    "\n",
    "#print tfidfed\n",
    "\n",
    "cosine_similarities = linear_kernel(tfidfed, tfidfed)\n",
    "\n",
    "df = pd.DataFrame(tfidfed)\n",
    "\n",
    "#print cosine_similarities\n",
    "#for index, vector in enumerate(tfidfed): \n",
    "#    if sum(vector) == 0.0:\n",
    "#        print index \n"
   ]
  },
  {
   "cell_type": "code",
   "execution_count": 3,
   "metadata": {
    "collapsed": false
   },
   "outputs": [],
   "source": [
    "winslosses = []\n",
    "for debate in names_and_win:\n",
    "    winslosses.append(debate[1][0])\n",
    "    winslosses.append(debate[1][1])"
   ]
  },
  {
   "cell_type": "code",
   "execution_count": 4,
   "metadata": {
    "collapsed": false
   },
   "outputs": [],
   "source": [
    "y = np.array(winslosses)"
   ]
  },
  {
   "cell_type": "code",
   "execution_count": 5,
   "metadata": {
    "collapsed": false
   },
   "outputs": [],
   "source": [
    "from sklearn.cross_validation import train_test_split\n",
    "from sklearn.ensemble import RandomForestClassifier"
   ]
  },
  {
   "cell_type": "code",
   "execution_count": 6,
   "metadata": {
    "collapsed": true
   },
   "outputs": [],
   "source": [
    "X_train, X_test, y_train, y_test = train_test_split(df, y)"
   ]
  },
  {
   "cell_type": "code",
   "execution_count": 7,
   "metadata": {
    "collapsed": true
   },
   "outputs": [],
   "source": [
    "rf = RandomForestClassifier(n_estimators = 10000)"
   ]
  },
  {
   "cell_type": "code",
   "execution_count": 8,
   "metadata": {
    "collapsed": true
   },
   "outputs": [],
   "source": [
    "fittedrf = rf.fit(X_train, y_train)"
   ]
  },
  {
   "cell_type": "code",
   "execution_count": 9,
   "metadata": {
    "collapsed": false
   },
   "outputs": [],
   "source": [
    "y_hat = fittedrf.predict(X_test)"
   ]
  },
  {
   "cell_type": "code",
   "execution_count": 12,
   "metadata": {
    "collapsed": false
   },
   "outputs": [
    {
     "data": {
      "text/plain": [
       "0.93827160493827155"
      ]
     },
     "execution_count": 12,
     "metadata": {},
     "output_type": "execute_result"
    }
   ],
   "source": [
    "fittedrf.score(X_train, y_train)"
   ]
  },
  {
   "cell_type": "code",
   "execution_count": 13,
   "metadata": {
    "collapsed": false
   },
   "outputs": [
    {
     "data": {
      "text/plain": [
       "0.29629629629629628"
      ]
     },
     "execution_count": 13,
     "metadata": {},
     "output_type": "execute_result"
    }
   ],
   "source": [
    "fittedrf.score(X_test, y_test)"
   ]
  },
  {
   "cell_type": "code",
   "execution_count": 14,
   "metadata": {
    "collapsed": true
   },
   "outputs": [],
   "source": [
    "from sklearn.linear_model import LogisticRegression"
   ]
  },
  {
   "cell_type": "code",
   "execution_count": 15,
   "metadata": {
    "collapsed": true
   },
   "outputs": [],
   "source": [
    "lr = LogisticRegression()"
   ]
  },
  {
   "cell_type": "code",
   "execution_count": 16,
   "metadata": {
    "collapsed": true
   },
   "outputs": [],
   "source": [
    "fittedlr = lr.fit(X_train, y_train)"
   ]
  },
  {
   "cell_type": "code",
   "execution_count": 43,
   "metadata": {
    "collapsed": true
   },
   "outputs": [],
   "source": [
    "y_test_hat = fittedlr.predict(X_test)"
   ]
  },
  {
   "cell_type": "code",
   "execution_count": 45,
   "metadata": {
    "collapsed": true
   },
   "outputs": [],
   "source": [
    "y_train_hat = fittedlr.predict(X_train)"
   ]
  },
  {
   "cell_type": "code",
   "execution_count": 46,
   "metadata": {
    "collapsed": false
   },
   "outputs": [
    {
     "data": {
      "text/plain": [
       "0.90109890109890112"
      ]
     },
     "execution_count": 46,
     "metadata": {},
     "output_type": "execute_result"
    }
   ],
   "source": [
    "f1_score(y_train, y_train_hat)"
   ]
  },
  {
   "cell_type": "code",
   "execution_count": 44,
   "metadata": {
    "collapsed": false
   },
   "outputs": [
    {
     "data": {
      "text/plain": [
       "0.29508196721311475"
      ]
     },
     "execution_count": 44,
     "metadata": {},
     "output_type": "execute_result"
    }
   ],
   "source": [
    "f1_score(y_test, y_test_hat)"
   ]
  },
  {
   "cell_type": "code",
   "execution_count": 17,
   "metadata": {
    "collapsed": false
   },
   "outputs": [
    {
     "data": {
      "text/plain": [
       "0.20370370370370369"
      ]
     },
     "execution_count": 17,
     "metadata": {},
     "output_type": "execute_result"
    }
   ],
   "source": [
    "lr.score(X_test, y_test)"
   ]
  },
  {
   "cell_type": "code",
   "execution_count": 18,
   "metadata": {
    "collapsed": false
   },
   "outputs": [],
   "source": [
    "list_of_indices = []\n",
    "for index, vector in enumerate(tfidfed):\n",
    "    if sum(vector)==0: \n",
    "        list_of_indices.append(index)"
   ]
  },
  {
   "cell_type": "code",
   "execution_count": 20,
   "metadata": {
    "collapsed": true
   },
   "outputs": [],
   "source": [
    "copy = tfidfed"
   ]
  },
  {
   "cell_type": "code",
   "execution_count": 47,
   "metadata": {
    "collapsed": false
   },
   "outputs": [],
   "source": [
    "newlist = []\n",
    "for index, vector in enumerate(copy): \n",
    "    if index not in list_of_indices: \n",
    "        newlist.append(vector)"
   ]
  },
  {
   "cell_type": "code",
   "execution_count": 48,
   "metadata": {
    "collapsed": false
   },
   "outputs": [],
   "source": [
    "newy = []\n",
    "for index, value in enumerate(y): \n",
    "    if index not in list_of_indices: \n",
    "        newy.append(value)"
   ]
  },
  {
   "cell_type": "code",
   "execution_count": 49,
   "metadata": {
    "collapsed": false
   },
   "outputs": [],
   "source": [
    "newlr = LogisticRegression()"
   ]
  },
  {
   "cell_type": "code",
   "execution_count": 50,
   "metadata": {
    "collapsed": true
   },
   "outputs": [],
   "source": [
    "X2_train, X2_test, y2_train, y2_test = train_test_split(newlist, newy)"
   ]
  },
  {
   "cell_type": "code",
   "execution_count": 51,
   "metadata": {
    "collapsed": false
   },
   "outputs": [],
   "source": [
    "newfittedlr = newlr.fit(X2_train, y2_train)"
   ]
  },
  {
   "cell_type": "code",
   "execution_count": 52,
   "metadata": {
    "collapsed": false
   },
   "outputs": [
    {
     "data": {
      "text/plain": [
       "0.083333333333333329"
      ]
     },
     "execution_count": 52,
     "metadata": {},
     "output_type": "execute_result"
    }
   ],
   "source": [
    "newfittedlr.score(X2_test, y2_test)"
   ]
  },
  {
   "cell_type": "code",
   "execution_count": 58,
   "metadata": {
    "collapsed": false
   },
   "outputs": [
    {
     "data": {
      "text/plain": [
       "array([0, 1, 0, 1, 0, 1, 0, 1, 0, 1, 0, 1, 0, 1, 1, 0, 1, 0, 0, 1, 1, 0, 0,\n",
       "       1, 0, 1, 1, 0, 1, 0, 1, 0, 0, 1, 0, 1, 1, 0, 1, 0, 0, 1, 1, 0, 1, 0,\n",
       "       1, 0, 1, 0, 1, 0, 0, 1, 1, 0, 0, 1, 1, 0, 0, 1, 0, 1, 1, 0, 0, 1, 1,\n",
       "       0, 0, 1, 0, 1, 1, 0, 0, 1, 0, 1, 1, 0, 1, 0, 0, 1, 1, 0, 0, 1, 0, 1,\n",
       "       1, 0, 1, 0, 1, 0, 0, 1, 0, 1, 1, 0, 1, 0, 1, 0, 1, 0, 0, 1, 1, 0, 0,\n",
       "       1, 0, 1, 1, 0, 1, 0, 0, 1, 0, 1, 0, 1, 1, 0, 0, 1, 1, 0, 0, 1, 0, 1,\n",
       "       0, 1, 0, 1, 0, 1, 0, 1, 1, 0, 1, 0, 1, 0, 1, 0, 0, 1, 0, 1, 1, 0, 0,\n",
       "       1, 1, 0, 1, 0, 1, 0, 1, 0, 0, 1, 1, 0, 1, 0, 1, 0, 0, 1, 1, 0, 1, 0,\n",
       "       0, 1, 1, 0, 1, 0, 0, 1, 0, 1, 0, 1, 1, 0, 1, 0, 0, 1, 0, 1, 1, 0, 1,\n",
       "       0, 0, 1, 0, 1, 1, 0, 1, 0])"
      ]
     },
     "execution_count": 58,
     "metadata": {},
     "output_type": "execute_result"
    }
   ],
   "source": [
    "y"
   ]
  },
  {
   "cell_type": "code",
   "execution_count": 53,
   "metadata": {
    "collapsed": false
   },
   "outputs": [
    {
     "data": {
      "text/plain": [
       "0.91608391608391604"
      ]
     },
     "execution_count": 53,
     "metadata": {},
     "output_type": "execute_result"
    }
   ],
   "source": [
    "newfittedlr.score(X2_train, y2_train)"
   ]
  },
  {
   "cell_type": "code",
   "execution_count": 54,
   "metadata": {
    "collapsed": true
   },
   "outputs": [],
   "source": [
    "subtracted_tfidf = [] \n",
    "for index in range(tfidfed.shape[0]):\n",
    "    if index%2 == 0: \n",
    "        subtracted_tfidf.append(tfidfed[index]-tfidfed[index+1])"
   ]
  },
  {
   "cell_type": "code",
   "execution_count": 55,
   "metadata": {
    "collapsed": true
   },
   "outputs": [],
   "source": [
    "subtracted_y = [] \n",
    "for index in range(y.shape[0]):\n",
    "    if index%2 == 0: \n",
    "        subtracted_y.append(y[index])"
   ]
  },
  {
   "cell_type": "code",
   "execution_count": 58,
   "metadata": {
    "collapsed": false
   },
   "outputs": [],
   "source": [
    "empty_indices = []\n",
    "for index, vector in enumerate(subtracted_tfidf): \n",
    "    if sum(vector) == 0: \n",
    "        empty_indices.append(index)"
   ]
  },
  {
   "cell_type": "code",
   "execution_count": 59,
   "metadata": {
    "collapsed": false
   },
   "outputs": [],
   "source": [
    "new_subtracted_vectors = []\n",
    "for index, vector in enumerate(subtracted_tfidf):\n",
    "    if index not in empty_indices:\n",
    "        new_subtracted_vectors.append(vector)\n",
    "        \n",
    "new_subtracted_y = []\n",
    "for index, value in enumerate(subtracted_y):\n",
    "    if index not in empty_indices:\n",
    "        new_subtracted_y.append(value)"
   ]
  },
  {
   "cell_type": "code",
   "execution_count": 60,
   "metadata": {
    "collapsed": false
   },
   "outputs": [],
   "source": [
    "new_subtracted_vectors = np.array(new_subtracted_vectors)"
   ]
  },
  {
   "cell_type": "code",
   "execution_count": 61,
   "metadata": {
    "collapsed": false
   },
   "outputs": [],
   "source": [
    "new_subtracted_y = np.array(new_subtracted_y)"
   ]
  },
  {
   "cell_type": "code",
   "execution_count": 62,
   "metadata": {
    "collapsed": true
   },
   "outputs": [],
   "source": [
    "Xnew_train, Xnew_test, ynew_train, ynew_test = train_test_split(new_subtracted_vectors, new_subtracted_y)"
   ]
  },
  {
   "cell_type": "code",
   "execution_count": 63,
   "metadata": {
    "collapsed": false
   },
   "outputs": [
    {
     "data": {
      "text/plain": [
       "array([[ 0.        ,  0.00643007,  0.        , ...,  0.        ,\n",
       "         0.        ,  0.        ],\n",
       "       [-0.01445194,  0.00472562,  0.00604486, ...,  0.        ,\n",
       "         0.        ,  0.        ],\n",
       "       [-0.00571085, -0.00122234,  0.        , ...,  0.        ,\n",
       "         0.        ,  0.        ],\n",
       "       ..., \n",
       "       [ 0.        , -0.00194317,  0.        , ...,  0.        ,\n",
       "         0.        ,  0.        ],\n",
       "       [ 0.00261787,  0.0112248 ,  0.        , ...,  0.        ,\n",
       "         0.        ,  0.        ],\n",
       "       [ 0.00609003,  0.00044511,  0.        , ...,  0.02056965,\n",
       "         0.        ,  0.        ]])"
      ]
     },
     "execution_count": 63,
     "metadata": {},
     "output_type": "execute_result"
    }
   ],
   "source": [
    "Xnew_train"
   ]
  },
  {
   "cell_type": "code",
   "execution_count": 64,
   "metadata": {
    "collapsed": true
   },
   "outputs": [],
   "source": [
    "newlr = LogisticRegression()"
   ]
  },
  {
   "cell_type": "code",
   "execution_count": 65,
   "metadata": {
    "collapsed": false
   },
   "outputs": [
    {
     "data": {
      "text/plain": [
       "LogisticRegression(C=1.0, class_weight=None, dual=False, fit_intercept=True,\n",
       "          intercept_scaling=1, max_iter=100, multi_class='ovr',\n",
       "          penalty='l2', random_state=None, solver='liblinear', tol=0.0001,\n",
       "          verbose=0)"
      ]
     },
     "execution_count": 65,
     "metadata": {},
     "output_type": "execute_result"
    }
   ],
   "source": [
    "newlr.fit(Xnew_train, ynew_train)"
   ]
  },
  {
   "cell_type": "code",
   "execution_count": 66,
   "metadata": {
    "collapsed": false
   },
   "outputs": [
    {
     "data": {
      "text/plain": [
       "1.0"
      ]
     },
     "execution_count": 66,
     "metadata": {},
     "output_type": "execute_result"
    }
   ],
   "source": [
    "newlr.score(Xnew_train, ynew_train)"
   ]
  },
  {
   "cell_type": "code",
   "execution_count": 69,
   "metadata": {
    "collapsed": true
   },
   "outputs": [],
   "source": [
    "ynew_hat = newlr.predict(Xnew_test)"
   ]
  },
  {
   "cell_type": "code",
   "execution_count": 70,
   "metadata": {
    "collapsed": false
   },
   "outputs": [
    {
     "name": "stderr",
     "output_type": "stream",
     "text": [
      "/Users/datascientist/anaconda/lib/python2.7/site-packages/sklearn/metrics/classification.py:958: UndefinedMetricWarning: F-score is ill-defined and being set to 0.0 due to no predicted samples.\n",
      "  'precision', 'predicted', average, warn_for)\n"
     ]
    },
    {
     "data": {
      "text/plain": [
       "0.0"
      ]
     },
     "execution_count": 70,
     "metadata": {},
     "output_type": "execute_result"
    }
   ],
   "source": [
    "f1_score(ynew_test, ynew_hat)"
   ]
  },
  {
   "cell_type": "code",
   "execution_count": 67,
   "metadata": {
    "collapsed": false
   },
   "outputs": [
    {
     "data": {
      "text/plain": [
       "0.45833333333333331"
      ]
     },
     "execution_count": 67,
     "metadata": {},
     "output_type": "execute_result"
    }
   ],
   "source": [
    "newlr.score(Xnew_test, ynew_test)"
   ]
  },
  {
   "cell_type": "code",
   "execution_count": 68,
   "metadata": {
    "collapsed": false
   },
   "outputs": [
    {
     "data": {
      "text/plain": [
       "0.54166666666666663"
      ]
     },
     "execution_count": 68,
     "metadata": {},
     "output_type": "execute_result"
    }
   ],
   "source": [
    "sum(ynew_test)/float(len(ynew_test))"
   ]
  },
  {
   "cell_type": "code",
   "execution_count": 98,
   "metadata": {
    "collapsed": false
   },
   "outputs": [],
   "source": [
    "newrf = RandomForestClassifier(n_estimators=10000)"
   ]
  },
  {
   "cell_type": "code",
   "execution_count": 99,
   "metadata": {
    "collapsed": false
   },
   "outputs": [
    {
     "data": {
      "text/plain": [
       "RandomForestClassifier(bootstrap=True, class_weight=None, criterion='gini',\n",
       "            max_depth=None, max_features='auto', max_leaf_nodes=None,\n",
       "            min_samples_leaf=1, min_samples_split=2,\n",
       "            min_weight_fraction_leaf=0.0, n_estimators=10000, n_jobs=1,\n",
       "            oob_score=False, random_state=None, verbose=0,\n",
       "            warm_start=False)"
      ]
     },
     "execution_count": 99,
     "metadata": {},
     "output_type": "execute_result"
    }
   ],
   "source": [
    "newrf.fit(Xnew_train, ynew_train)"
   ]
  },
  {
   "cell_type": "code",
   "execution_count": 100,
   "metadata": {
    "collapsed": false
   },
   "outputs": [
    {
     "data": {
      "text/plain": [
       "0.54166666666666663"
      ]
     },
     "execution_count": 100,
     "metadata": {},
     "output_type": "execute_result"
    }
   ],
   "source": []
  },
  {
   "cell_type": "code",
   "execution_count": 107,
   "metadata": {
    "collapsed": false
   },
   "outputs": [
    {
     "name": "stdout",
     "output_type": "stream",
     "text": [
      "debate_text/campus_assault.txt\n",
      "['Jed Rubenfeld:', 'Jeannie Suk:']\n",
      "['Michelle Anderson:', 'Stephen Schulhofer:']\n",
      "*****************************************************\n",
      "debate_text/ISIS_defeated.txt\n",
      "[]\n",
      "[]\n",
      "*****************************************************\n",
      "debate_text/samesex.txt\n",
      "['John Eastman:', 'Sherif Girgis:']\n",
      "['Kenji Yoshino:', 'Evan Wolfson:']\n",
      "*****************************************************\n",
      "debate_text/iran_deal.txt\n",
      "['Philip Gordon:', 'Thomas Pickering:']\n",
      "['Michael Doran:', 'Mark Dubowitz:']\n",
      "*****************************************************\n",
      "debate_text/death_penalty.txt\n",
      "['Diann Rust-Tierney:', 'Barry Scheck:']\n",
      "['Robert Blecker:', 'Kent Scheidegger:']\n",
      "*****************************************************\n",
      "debate_text/constitutional_authority.txt\n",
      "['Gene Healy:', 'Deborah Pearlstein:']\n",
      "['Akhil Amar:', 'Philip Bobbitt:']\n",
      "*****************************************************\n",
      "debate_text/right_to_forget.txt\n",
      "['Paul Nemitz:', 'Eric Posner:']\n",
      "['Jonathan Zittrain:', 'Andrew McLaughlin:']\n",
      "*****************************************************\n",
      "debate_text/liberals_stifling.txt\n",
      "['Greg Lukianoff:', 'Kirsten Powers:']\n",
      "['Angus Johnston:', 'Jeremy Mayer:']\n",
      "*****************************************************\n",
      "debate_text/declinists.txt\n",
      "['Josef Joffe:', 'Peter Zeihan:']\n",
      "['Chrystia Freeland:', 'James Rickards:']\n",
      "*****************************************************\n",
      "debate_text/amazon.txt\n",
      "['Joe Konrath:', 'Matthew Yglesias:']\n",
      "['Franklin Foer:', 'Scott Turow:']\n",
      "*****************************************************\n",
      "debate_text/gmos.txt\n",
      "['Robert Fraley:', 'Alison Van Eenennaam:']\n",
      "['Charles Benbrook:', 'Margaret Mellon:']\n",
      "*****************************************************\n",
      "debate_text/eutha.txt\n",
      "['Peter Singer:', 'Andrew Solomon:']\n",
      "['Ilora Finlay:', 'Daniel Sulmasy:']\n",
      "*****************************************************\n",
      "debate_text/income_inequal.txt\n",
      "['Elise Gould:', 'Nick Hanauer:']\n",
      "['Edward Conard:', 'Scott Winship:']\n",
      "*****************************************************\n",
      "debate_text/mass_collection.txt\n",
      "['Alex Abdo:', 'Elizabeth Wydra:']\n",
      "['Stewart Baker:', 'John Yoo:']\n",
      "*****************************************************\n",
      "debate_text/flexing_musc.txt\n",
      "['Aaron David Miller:', 'Paul Pillar:']\n",
      "['Michael Doran:', 'Bret Stephens:']\n",
      "*****************************************************\n",
      "debate_text/common_core.txt\n",
      "['Carmel Martin:', 'Michael Petrilli:']\n",
      "['Carol Burris:', 'Frederick Hess:']\n",
      "*****************************************************\n",
      "debate_text/pacs.txt\n",
      "['Floyd Abrams:', 'Nadine Strossen:', 'Floyd Abrams:', 'Nadine Strossen:']\n",
      "['Burt Neuborne:', 'Zephyr Teachout:', 'Burt Neuborne:', 'Zephyr Teachout:']\n",
      "*****************************************************\n",
      "debate_text/death_not_final.txt\n",
      "['Eben Alexander:', 'Raymond Moody:']\n",
      "['Sean Carroll:', 'Steven Novella:']\n",
      "*****************************************************\n",
      "debate_text/millenials.txt\n",
      "['Binta Niambi Brown:', 'W. Keith Campbell:']\n",
      "['David Burstein:', 'Jessica Grose:']\n",
      "*****************************************************\n",
      "debate_text/lecture_obsolete.txt\n",
      "['Anant Agarwal:', 'Ben Nelson:']\n",
      "['Jonathan Cole:', 'Rebecca Schuman:']\n",
      "*****************************************************\n",
      "debate_text/russia.txt\n",
      "['Ian Bremmer:', 'Edward Lucas:']\n",
      "['Amb. Robert Blackwill:', 'Peter Hitchens:']\n",
      "*****************************************************\n",
      "debate_text/USA_kill.txt\n",
      "['Alan Dershowitz:', 'Michael Lewis:']\n",
      "['Noah Feldman:', 'Hina Shamsi:']\n",
      "*****************************************************\n",
      "debate_text/affirmative.txt\n",
      "['Gail Heriot:', 'Richard Sander:']\n",
      "['Theodore Shaw:', 'Randall Kennedy:']\n",
      "*****************************************************\n",
      "debate_text/snowden.txt\n",
      "['Daniel Ellsberg:', 'Ben Wizner:']\n",
      "['Andrew McCarthy:', 'James Woolsey:']\n",
      "*****************************************************\n",
      "debate_text/obamacare.txt\n",
      "['Dr. Scott Gottlieb:', 'Megan McArdle:']\n",
      "['Jonathan Chait:', 'Douglas Kamerow:']\n",
      "*****************************************************\n",
      "debate_text/eat_face.txt\n",
      "['Dr. Neal Bernard:', 'Gene Baur:', 'their second vote was 45 percent.  They went from 24 percent to 45:']\n",
      "['Chris Masterjohn:', 'Joel Salatin:']\n",
      "*****************************************************\n",
      "debate_text/spy_on_me.txt\n",
      "['Stewart Baker:', 'Richard Falkenrath:']\n",
      "['David Cole:', 'Michael German:']\n",
      "*****************************************************\n",
      "debate_text/right_to_bear.txt\n",
      "['Alan Dershowitz:', 'Sanford Levinson:']\n",
      "['David Kopel:', 'Eugene Volokh:']\n",
      "*****************************************************\n",
      "debate_text/take_job_anywhere.txt\n",
      "['Bryan Caplan:', 'Vivek Wadhwa:']\n",
      "['Kathleen Newland:', 'Ron Unz:']\n",
      "*****************************************************\n",
      "debate_text/red_state.txt\n",
      "['Hugh Hewitt:', 'Stephen Moore:']\n",
      "['Gray Davis:', 'Michael Lind:']\n",
      "*****************************************************\n",
      "debate_text/break_up_banks.txt\n",
      "['Richard Fisher:', 'Simon Johnson:']\n",
      "['Douglas Elliott:', 'Paul Saltzman:']\n",
      "*****************************************************\n",
      "debate_text/drones.txt\n",
      "['Ahmed Rashid:', 'John Kael Weston:']\n",
      "['Dennis Blair:', 'Norton Schwartz:']\n",
      "*****************************************************\n",
      "debate_text/us_syria.txt\n",
      "['Graham Allison:', 'Richard Falkenrath:']\n",
      "['R. Nicholas Burns:', 'Sir Nigel Sheinwald:']\n",
      "*****************************************************\n",
      "debate_text/pentagon_budget.txt\n",
      "['Thomas Donnelly:', 'Andrew Krepinevich:']\n",
      "['Benjamin Friedman:', 'Kori Schake:']\n",
      "*****************************************************\n",
      "debate_text/fda_caution.txt\n",
      "['Dr. Scott Gottlieb:', 'Peter Huber:']\n",
      "['Dr. Jerry Avorn:', 'Dr. David Challoner:']\n",
      "*****************************************************\n",
      "debate_text/gop_center.txt\n",
      "['David Brooks:', 'Mickey Edwards:']\n",
      "['Laura Ingraham:', 'Ralph Reed:']\n",
      "*****************************************************\n",
      "debate_text/minimum_wage.txt\n",
      "['James Dorn:', 'Russell Roberts:']\n",
      "['Jared Bernstein:', 'Karen Kornbluh:']\n",
      "*****************************************************\n",
      "debate_text/strong_dollar.txt\n",
      "['Frederic Mishkin:', 'John Taylor:']\n",
      "['James Grant:', 'Steve Forbes:']\n",
      "*****************************************************\n",
      "debate_text/prohibit_genetic.txt\n",
      "['Sheldon Krimsky:', 'Lord Robert Winston:']\n",
      "['Nita Farahany:', 'Lee Silver:']\n",
      "*****************************************************\n",
      "debate_text/nuclear_iran.txt\n",
      "['James Dobbins:', 'Reuven Pedatzur:']\n",
      "['Shmuel Bar:', 'Jeffrey Goldberg:']\n",
      "*****************************************************\n",
      "debate_text/science_god.txt\n",
      "['Lawrence Krauss:', 'Michael Shermer:']\n",
      "['Dinesh D\\xe2\\x80\\x99Souza:', 'Ian Hutchinson:']\n",
      "*****************************************************\n",
      "debate_text/legalize_drugs.txt\n",
      "['Paul Butler:', 'Nick Gillespie:']\n",
      "['Theodore Dalrymple:', 'Asa Hutchinson:']\n",
      "*****************************************************\n",
      "debate_text/rich_taxed.txt\n",
      "['Glenn Hubbard:', 'Arthur Laffer:']\n",
      "['Robert Reich:', 'Mark Zandi:']\n",
      "*****************************************************\n",
      "debate_text/end_of_life_care.txt\n",
      "['Arthur Kellermann:', 'Peter Singer:']\n",
      "['Ken Connor:', 'Sally Pipes:']\n",
      "*****************************************************\n",
      "debate_text/elected_islamists.txt\n",
      "['Reuel Marc Gerecht:', 'Brian Katulis:']\n",
      "['Daniel Pipes:', 'M. Zuhdi Jasser:']\n",
      "*****************************************************\n",
      "debate_text/money_politics_overregulated.txt\n",
      "['David Keating:', 'Jacob Sullum:']\n",
      "['Trevor Potter:', 'Jonathan Soros:']\n",
      "*****************************************************\n",
      "debate_text/natural_gas_bad.txt\n",
      "['Deborah Goldberg:', 'Katherine Hudson:']\n",
      "['Joe Nocera:', 'Susan Tierney:']\n",
      "*****************************************************\n",
      "debate_text/ban_football.txt\n",
      "['Buzz Bissinger:', 'Malcolm Gladwell:']\n",
      "['Tim Green:', 'Jason Whitlock:']\n",
      "*****************************************************\n",
      "debate_text/internet_closing_minds.txt\n",
      "['Eli Pariser:', 'Siva Vaidhyanathan:']\n",
      "['Evgeny Morozov:', 'Jacob Weisberg:']\n",
      "*****************************************************\n",
      "debate_text/china_capitalism_better.txt\n",
      "['Orville Schell:', 'Peter Schiff:']\n",
      "['Ian Bremmer:', 'Minxin Pei:']\n",
      "*****************************************************\n",
      "debate_text/obesity_govt_business.txt\n",
      "['Pamela Peeke:', 'David Satcher:']\n",
      "['Paul Campos:', 'John Stossel:']\n",
      "*****************************************************\n",
      "debate_text/palestine_statehood.txt\n",
      "['Mustafa Barghouthi:', 'Daniel Levy:']\n",
      "['Dore Gold:', 'Aaron David Miller:']\n",
      "*****************************************************\n",
      "debate_text/no_religion.txt\n",
      "['Matthew Chapman:', 'A.C. Grayling:']\n",
      "['Dinesh D\\xe2\\x80\\x99Souza:', 'David Wolpe:']\n",
      "*****************************************************\n",
      "debate_text/job_plan.txt\n",
      "['Cecilia Rouse:', 'Mark Zandi:']\n",
      "['Richard Epstein:', 'Daniel Mitchell:']\n",
      "*****************************************************\n",
      "debate_text/too_many_kids_college.txt\n",
      "['Charles Murray:', 'Peter Thiel:']\n",
      "['Henry Bienen:', 'Vivek Wadhwa:']\n",
      "*****************************************************\n",
      "debate_text/grandmas_benefits.txt\n",
      "['Margaret Hoover:', 'Mort Zuckerman:']\n",
      "['Howard Dean:', 'Jeff Madrick:']\n",
      "*****************************************************\n",
      "debate_text/men_are_finished.txt\n",
      "['Dan Abrams:', 'Hanna Rosin:']\n",
      "['Christina Hoff Sommers:', 'David Zinczenko:']\n",
      "*****************************************************\n",
      "debate_text/end_war_on_terror.txt\n",
      "['Peter Bergen:', 'Juliette Kayyem:']\n",
      "['Richard Falkenrath:', 'Michael Hayden:']\n",
      "*****************************************************\n",
      "debate_text/freedom_press_state.txt\n",
      "['Michael Chertoff:', 'Gabriel Schoenfeld:']\n",
      "['Alan Dershowitz:', 'David Sanger:']\n",
      "*****************************************************\n",
      "debate_text/dont_give_us.txt\n",
      "['Kris Kobach:', 'Tom Tancredo:']\n",
      "['Juli\\xc3\\xa1n Castro:', 'Tamar Jacoby:']\n",
      "*****************************************************\n",
      "debate_text/clip_americas_wings.txt\n",
      "['Peter Galbraith:', 'Lawrence Korb:']\n",
      "['Elliott Abrams:', 'Eliot Cohen:']\n",
      "*****************************************************\n",
      "debate_text/clean_energy.txt\n",
      "['Bill Ritter:', 'Kassia Yanosek:']\n",
      "['Robert Bryce:', 'Steven Hayward:']\n",
      "*****************************************************\n",
      "debate_text/two_party_bad.txt\n",
      "['David Brooks:', 'Arianna Huffington:']\n",
      "['Zev Chafets:', 'P.J. O\\xe2\\x80\\x99Rourke:']\n",
      "*****************************************************\n",
      "debate_text/repeal_obamacare.txt\n",
      "['Douglas Holtz-Eakin:', 'John Shadegg:']\n",
      "['Jonathan Cohn:', 'Paul Starr:']\n",
      "*****************************************************\n",
      "debate_text/airports_profiling.txt\n",
      "['Robert Baer:', 'Deroy Murdock:', 'Asra Nomani:']\n",
      "['Hassan Abbas:', 'Debra Burlingame:', 'Michael Chertoff:']\n",
      "*****************************************************\n",
      "debate_text/afghanistan_lost.txt\n",
      "['Matthew Hoh:', 'Nir Rosen:']\n",
      "['Peter Bergen:', 'Max Boot:']\n",
      "*****************************************************\n",
      "debate_text/big_govt_stifling.txt\n",
      "['Phil Gramm:', 'Arthur Laffer:']\n",
      "['Nouriel Roubini:', 'Laura Tyson:']\n",
      "*****************************************************\n",
      "debate_text/islam_is_peace.txt\n",
      "['Zeba Khan:', 'Maajid Nawaz:']\n",
      "['Ayaan Hirsi Ali:', 'Douglas Murray:']\n",
      "*****************************************************\n",
      "debate_text/terrorists_enemy_combatants.txt\n",
      "['Michael Hayden:', 'Marc Thiessen:']\n",
      "['David Frakt:', 'Stephen Jones:']\n",
      "*****************************************************\n",
      "debate_text/cyber_war_exaggerated.txt\n",
      "['Marc Rotenberg:', 'Bruce Schneier:']\n",
      "['Mike McConnell:', 'Jonathan Zittrain:']\n",
      "*****************************************************\n",
      "debate_text/obamas_policy_us_decline.txt\n",
      "['Dan Senor:', 'Mort Zuckerman:']\n",
      "['Wesley Clark:', 'Bernard-Henri L\\xc3\\xa9vy:']\n",
      "*****************************************************\n",
      "debate_text/organic_is_hype.txt\n",
      "['Dennis Avery:', 'Blake Hurst:', 'John Krebs:']\n",
      "['Charles Benbrook:', 'Urvashi Rangan:', 'Jeffrey Steingarten:']\n",
      "*****************************************************\n",
      "debate_text/teacher_unions_failing_schools.txt\n",
      "['Kate McLaughlin:', 'Gary Smuts:', 'Randi Weingarten:']\n",
      "['Terry Moe:', 'Rod Paige:', 'Larry Sand:', 'Larry Sand:', 'retired teacher:', 'president of the California Teachers:']\n",
      "*****************************************************\n",
      "debate_text/us_stepback_israel.txt\n",
      "['Roger Cohen:', 'Rashid Khalidi:']\n",
      "['Stuart Eizenstat:', 'Itamar Rabinovich:']\n",
      "*****************************************************\n",
      "debate_text/california_failed.txt\n",
      "['Andreas Kluth:', 'Bobby Shriver:', 'Sharon Waxman:', '31%:', '58%:']\n",
      "['Gray Davis:', 'Van Jones:', 'Lawrence O\\xe2\\x80\\x99Donnell:', 'Khin Mai Aung:', 'Kimberl\\xc3\\xa9 Crenshaw:', 'Tim Wise:', '25%:', '37%:']\n",
      "*****************************************************\n",
      "debate_text/us_mexico_drugs.txt\n",
      "['Andr\\xc3\\xa9s Martinez:', 'Jeffrey Miron:', 'Fareed Zakaria:', '43%:', '72%:']\n",
      "['Jorge Casta\\xc3\\xb1eda:', 'Chris Cox:', 'Asa Hutchinson:', '22%:', '22%:']\n",
      "*****************************************************\n",
      "debate_text/obamas_policies_working.txt\n",
      "['Lawrence Mishel:', 'Steve Rattner:', 'Mark Zandi:', '32%:', '46%:']\n",
      "['James Galbraith:', 'Allan Meltzer:', 'Eliot Spitzer:', '29%:', '42%:']\n",
      "*****************************************************\n",
      "debate_text/good_riddance_mainstream.txt\n",
      "['John Hockenberry:', 'Jim VandeHei:', 'Michael Wolff:', '25%:', '24%:']\n",
      "['Phil Bronstein:', 'David Carr:', 'Katrina vanden Heuvel:', '50%:', '68%:']\n",
      "*****************************************************\n",
      "debate_text/us_will_not_succeed_afghan.txt\n",
      "['Steve Clemons:', 'Patrick Lang:', 'Ralph Peters:', '48%:', '43%:']\n",
      "['Steve Coll:', 'John Nagl:', 'James Shinn:', '25%:', '45%:']\n",
      "*****************************************************\n",
      "debate_text/buy_american_bad.txt\n",
      "['Jagdish Bhagwati:', 'Douglas Irwin:', 'Susan Schwab:', '57%:', '72%:']\n",
      "['Leo Gerard:', 'John R. MacArthur:', 'Jeff Madrick:', '20%:', '14%:']\n",
      "*****************************************************\n",
      "debate_text/diplomacy_iran_nowhere.txt\n",
      "['Liz Cheney & Dan Senor:', '34%:', '35%:']\n",
      "['Amb. R. Nicholas Burns & Kenneth Pollack:', '33%:', '59%:']\n",
      "*****************************************************\n",
      "debate_text/pay_for_sex.txt\n",
      "['Melissa Farley:', 'Catharine A. MacKinnon:', 'Wendy Shalit:', '20%:', '45%:', '25%:', '58%:', '13%:', '27%:']\n",
      "['Sydney Biddle Barrows:', 'Tyler Cowen:', 'Lionel Tiger:', '50%:', '46%:', '41%:', '34%:', '61%:', '66%:']\n",
      "*****************************************************\n",
      "debate_text/blame_washington_financial.txt\n",
      "['Niall Ferguson:', 'John Steele Gordon:', 'Nouriel Roubini:', '42%:', '60%:']\n",
      "['Alex Berenson:', 'Jim Chanos:', 'Nell Minow:', '30%:', '31%:']\n",
      "*****************************************************\n",
      "debate_text/art_market_ethical.txt\n",
      "['Richard Feigen:', 'Michael Hue-Williams:', 'Adam Lindemann:', '32%:', '55%:']\n",
      "['Amy Cappellazzo:', 'Chuck Close:', 'Jerry Saltz:', '30%:', '33%:']\n",
      "*****************************************************\n",
      "debate_text/carbon_reductions_not_worth_it.txt\n",
      "['Peter Huber:', 'Bjorn Lomborg:', 'Philip Stott:', '16%:', '42%:']\n",
      "['L. Hunter Lovins:', 'Oliver Tickell:', 'Adam Werbach:', '49%:', '48%:']\n",
      "*****************************************************\n",
      "debate_text/bush_is_worst.txt\n",
      "['Simon Jenkins:', 'Jacob Weisberg:', '65%:', '68%:']\n",
      "['William Kristol:', 'Karl Rove:', '17%:', '27%:']\n",
      "*****************************************************\n",
      "debate_text/google_dont_be_evil.txt\n",
      "['Harry Lewis:', 'Randal Picker:', 'Siva Vaidhyanathan:', '21%:', '47%:']\n",
      "['Esther Dyson:', 'Jim Harper:', 'Jeff Jarvis:', '31%:', '47%:']\n",
      "*****************************************************\n",
      "debate_text/guns_reduce_crime.txt\n",
      "['Stephen Halbrook:', 'Gary Kleck:', 'John R. Lott Jr.:', '13%:', '27%:']\n",
      "['John J. Donohue III:', 'Paul Helmke:', 'R. Gil Kerlikowske:', '60%:', '63%:']\n",
      "*****************************************************\n",
      "debate_text/america_winning_iraq.txt\n",
      "['Frederick Kagan:', 'General Jack Keane (ret.):', '20%:', '36%:']\n",
      "['Charles Ferguson:', 'Sir Malcolm Rifkind:', '54%:', '53%:']\n",
      "*****************************************************\n",
      "debate_text/universal_health.txt\n",
      "['Art Kellermann:', 'Paul Krugman:', 'Michael Rachlis:', '49%:', '58%:']\n",
      "['Michael Cannon:', 'Sally Pipes:', 'John Stossel:', '24%:', '34%:']\n",
      "*****************************************************\n",
      "debate_text/legalize_organs.txt\n",
      "['Lloyd Cohen:', 'Amy Friedman:', 'Sally Satel:', '44%:', '60%:']\n",
      "['James Childress:', 'Francis Delmonico:', 'David Rothman:', '27%:', '31%:']\n",
      "*****************************************************\n",
      "debate_text/islam_radicals.txt\n",
      "['Daveed Gartenstein-Ross:', 'Paul Marshall:', 'Asra Nomani:', '46%:', '73%:']\n",
      "['Reza Aslan:', 'Richard Bulliet:', 'Edina Lekovic:', '32%:', '23%:']\n",
      "*****************************************************\n",
      "debate_text/tough_interrogation.txt\n",
      "['Rick Francona:', 'Heather Mac Donald:', 'David Rivkin:', '46%:', '40%:']\n",
      "['Jack Cloonan:', 'John Hutson:', 'Darius Rejali:', '35%:', '53%:']\n",
      "*****************************************************\n",
      "debate_text/america_policeman.txt\n",
      "['Max Boot:', 'Michael Mandelbaum:', 'Douglas Murray:', '24%:', '47%:']\n",
      "['Ian Bremmer:', 'Ellen Laipson:', 'Matthew Parris:', '44%:', '48%:']\n",
      "*****************************************************\n",
      "debate_text/performance_enhancing.txt\n",
      "['Radley Balko:', 'Norman Fost:', 'Julian Savulescu:']\n",
      "['George Michael:', 'Dale Murphy:', 'Richard Pound:']\n",
      "*****************************************************\n",
      "debate_text/aid_africa_bad.txt\n",
      "['George Ayittey:', 'William Easterly:', 'David Rieff:']\n",
      "['C. Payne Lucas:', 'John McArthur:', 'Gayle Smith:']\n",
      "*****************************************************\n",
      "debate_text/end_affirmative.txt\n",
      "['John McWhorter:', 'Terence Pell:', 'Joseph Phillips:']\n",
      "['Khin Mai Aung:', 'Kimberl\\xc3\\xa9 Crenshaw:', 'Tim Wise:']\n",
      "*****************************************************\n",
      "debate_text/russia_enemy_again.txt\n",
      "['Claudia Rosett:', 'Bret Stephens:', 'J. Michael Waller:']\n",
      "['Nina Khrushcheva:', 'Robert Legvold:', 'Mark Medish:']\n",
      "*****************************************************\n",
      "debate_text/stop_welcoming_immigrants.txt\n",
      "['Vernon Briggs Jr.:', 'Mark Krikorian:', 'Heather Mac Donald:']\n",
      "['Daniel Griswold:', 'Enrique Morones:', 'Karen Narasaki:']\n",
      "*****************************************************\n",
      "debate_text/spread_democracy_me.txt\n",
      "[]\n",
      "[]\n",
      "*****************************************************\n",
      "debate_text/booming_china.txt\n",
      "[]\n",
      "[]\n",
      "*****************************************************\n",
      "debate_text/more_domestic_surveillance.txt\n",
      "[]\n",
      "[]\n",
      "*****************************************************\n",
      "debate_text/global_warming_not.txt\n",
      "[]\n",
      "['Climate Scientist at the Union of Concerned:']\n",
      "*****************************************************\n",
      "debate_text/america_too_religious.txt\n",
      "[]\n",
      "[]\n",
      "*****************************************************\n",
      "debate_text/hollywood_anti_us.txt\n",
      "[]\n",
      "[]\n",
      "*****************************************************\n",
      "debate_text/democratic_hamas.txt\n",
      "[]\n",
      "[]\n",
      "*****************************************************\n",
      "debate_text/license_to_offend.txt\n",
      "[]\n",
      "[]\n",
      "*****************************************************\n",
      "debate_text/tolerate_iran.txt\n",
      "[]\n",
      "[]\n",
      "*****************************************************\n"
     ]
    }
   ],
   "source": []
  },
  {
   "cell_type": "code",
   "execution_count": null,
   "metadata": {
    "collapsed": true
   },
   "outputs": [],
   "source": []
  }
 ],
 "metadata": {
  "kernelspec": {
   "display_name": "Python 2",
   "language": "python",
   "name": "python2"
  },
  "language_info": {
   "codemirror_mode": {
    "name": "ipython",
    "version": 2
   },
   "file_extension": ".py",
   "mimetype": "text/x-python",
   "name": "python",
   "nbconvert_exporter": "python",
   "pygments_lexer": "ipython2",
   "version": "2.7.10"
  }
 },
 "nbformat": 4,
 "nbformat_minor": 0
}
