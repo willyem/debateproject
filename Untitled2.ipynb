{
 "cells": [
  {
   "cell_type": "code",
   "execution_count": 151,
   "metadata": {
    "collapsed": false
   },
   "outputs": [],
   "source": [
    "from sklearn.metrics import f1_score\n",
    "import processing\n",
    "import pandas as pd\n",
    "import string \n",
    "from sklearn.feature_extraction.text import CountVectorizer, TfidfVectorizer\n",
    "from sklearn.metrics.pairwise import linear_kernel\n",
    "import re"
   ]
  },
  {
   "cell_type": "code",
   "execution_count": 35,
   "metadata": {
    "collapsed": false
   },
   "outputs": [
    {
     "name": "stdout",
     "output_type": "stream",
     "text": [
      "Good evening.  Delighted to be here.  Let me first say I fully expected in a couple of minutes when we see the numbers for and against the motion that Im against the motion, I expect most of you are against the motion.  When we vote at the end, I know a lot of you, if its really skewed on the side of being against the motion are gonna want to give these guys a couple of votes.   Its kinda like wanting to vote for Huckabee right now.  [LAUGHTER] Hes still in the game.  And theres stylishness and you kinda want to give him a little something for being in the game and taking the side.  But we all know we cant get there.   And thats where I am, look, Michael Mandelbaum made very clear that there are only two ways you can agree with me.  Number one, you have to believe that the world doesnt need a global policeman, or number two, that there is a better system out there than having a global policeman.  Thats spoken like a true academic. I agree with both of those things.  I think the world does need a Media Transcripts, Inc. PROGRAM Rosenkranz Foundation-Intelligence Square U.S.- America Should be the World's Policeman Page 34. global policeman, I think it would be the best system if the US wasthe global policeman.  But I also think we are incapable, and unprepared to do it.  So, Im trying to be a realist.  Im trying to look at what we can actually do, the limitations of our power, look, I need a loving family, but my mom and dad died of cancer, Im sorry, Im not gonna get there.  Thats kind ofits true, but itsIm not looking for sympathy.  My point is, were justor laughter.   But were, were not going to get there.  And thats really the crux of my argument, now, let me make a couple of points here.  The first is I fully agree with the notion that the world desperately needs leadership.  We are in a situation where global architecture is not catching up to the radical change in geopolitical shift. The United States doesnt have the lifting power it used to, Chinas growing like crazy.  Energys increasingly coming from unstable parts of the world.  NATOs ineffectual.  Security Councils ineffectual, the proliferation regime is broken.  Dont even get me started on climate change.   Lord knows, you need a leader, to take advantage of this, and to move the system in the direction that we will all be able to live more secure, more prosperous lives.  I do believe the United States needs to fill as much of that void as possible, the United States needs to be a global leader.  Condi Rice said as much at Davos a couple weeks Media Transcripts, Inc. PROGRAM Rosenkranz Foundation-Intelligence Square U.S.- America Should be the World's Policeman Page 35. ago.  The Russians strongly disagreed, they said the world does not need a conductor for the orchestra.  And then Shimon Peres, the closest to Henry Kissinger on the panel, said, what we really need is a composer.  Not a leader. And I think the world does need a leader.  I think a policeman is a very different fact on the ground, look.  When we talk about a policeman I think about enforcement, and I think about Max Boots on the ground.  I dont think we have the political will in this country, I dont think we have the political capital in this country, and I think trying to argue that we do, risks a growth of anti-Americanism abroad.   But more importantly and more dangerously, it risks a rise of protectionism in the United States, it risks a rise of neo-isolationism in the United States.  Look at the Pew polls, look at how Americans increasingly feel about support for free trade.   Look at how they increasingly feel about whether or not they believe America has benefited from the way the world system is evolving, they dont.  Part of the reason they dont, I suspect, is because folks in the Ninth Ward in New Orleans dont feel like theyre doing as well as they should.   And they dont necessary like the idea of giving billions of dollars of aid after a tsunami in Indonesia when we cant build our own homes in New Orleans.  I am not suggesting we shouldnt be giving the billions of dollars in aid, I firmly believe we should. Media Transcripts, Inc. PROGRAM Rosenkranz Foundation-Intelligence Square U.S.- America Should be the World's Policeman Page 36. But I think that taking on the role of global policeman creates far more sentiment in the United States in opposing the world of good the United States does and should continue to do.  Let me be specific on a couple of issues.  Iran.  The United States desperately needs to help reduce the threat of Iran.   How might we do that?  Effective sanctions?  Look at who provides refined product to Iran, from around the world, its not the United States. Its the Europeans, its the Indians.  You want to be a global policeman on Iran, you better get their support.   How about shutting down their accounts, the accounts of the Quds force, um, or of the Revolutionary Guard.  Better get support from Dubai.  Its not the United States.  The US in a globalized world cant act as a global policeman, with one of the most important conflicts facing us today. Lord knows theyd like to try, but unless youre arguing that this is gonna be the next American military intervention and there doesnt seem to be much direct support for that even among the most ardent neoconservatives in the United Statesyouve got a serious problem.  How about a place where we cant even argue about military support, how about North Korea.  The United States said, if the North Koreans develop a nuclear weapon, we are gonna be very, very angry.  [LAUGHTER]  And the North Media Transcripts, Inc. PROGRAM Rosenkranz Foundation-Intelligence Square U.S.- America Should be the World's Policeman Page 37. Koreans tested a nuclear weapon, and you know what, the anger in Washington was palpable.   But we didnt do anything, and we went back to the Chinese, and the Chinese said, we told you you dont have a military options, sanctions arent gonna work, now lets sit down at the table and work with them.  The United States said yeah, youre right, okay, well sit down and well talk to you. At the end of the day, Id love to be in a position where the Americans could be the global policemen on Iran and North Korea, it would be a better system, itd be a safer system.  But we cant do it, and the more we try to do it, by ourselves in that role MORLEY SAFER One minute IAN BREMMER the lessthe, the more incapable were going to be, okay, two final points since I only have a minute.  First point is, what I like in terms of leadership is what Bob Zoellick did, vis--vis the Chinese, is talk about stakeholdership, and the Chinese originally didnt know how to translate that word but once they did they kinda figured it out.   We need more responsibility from the actors that are becoming vastly more powerful every day, every year vis--vis the United States.  Were increasingly going to be unable to be in favor of this motion, in four years, in eight years, in 12 years, wed better prepare for it, by getting more Media Transcripts, Inc. PROGRAM Rosenkranz Foundation-Intelligence Square U.S.- America Should be the World's Policeman Page 38. stakeholdership, leadership, and dare I say global policemanship, from the folks around the world that can increasingly take some of that lifting regionally. Final point.  Indispensable nation.  Madeline Albright came up with that term, actually originally from James Chase, one of my mentors, I fully admit the United States is an indispensable nation.  But you know what? If youre the indispensable part of a family, if youre the husband, if youre the father, you do not go out, and buy a house you cant afford, with a mortgage you cant service.   What you do, is you actually get your apartment, you bring home the bacon, you keep your nose down, and you ensure that you are there in a sustainable way.  We need to recognize, that we have to eat within our means.   Weve got a serious problem with that in the American economy, I fear we have a serious problem with that in terms of global security, and I truly hope as a consequence youll vote with us against the motion, thank you very much. [APPLAUSE] MORLEY SAFER I have a question for each of you gentlemen.  Mr. Murray.  You talk about Afghanistan and Iraq, two places that have no interest in democracy, no record of human rights.  These arethere are tribal wars going on in both countries and certainly in Media Transcripts, Inc. PROGRAM Rosenkranz Foundation-Intelligence Square U.S.- America Should be the World's Policeman Page 39. Afghanistan where they managed to resist  How many wars did the British fight in Afghanistan, and ultimately lose?  Seven I think.  Or six or three or something like that.  And the Russians and everyone else whos poked their nose in there.  What on earth can this cop on the beat, this American cop on the beat, do in a place like, either Afghanistan, or in Iraq. Well, historically thats certainly true, America cant follow a single leader but in terms of values and regimes, when we talk about for example free trade, the fact is we have an international system that the United States has been at the forefront of and has been pushing until some trends very recently, has been pushing a very strong agenda in free trade where its been seen as the global leader as a consequence and, whether were talking about, you know, sort of international norms and regimes or whether were talking about regional bilateral ones thats been an extremely important process.   The WTO, the World Trade Organization, the United States has played a leadership role, the US as the worlds largest economy, has helped to smooth and create many, many efficiencies. Media Transcripts, Inc. PROGRAM Rosenkranz Foundation-Intelligence Square U.S.- America Should be the World's Policeman Page 42. If you want to talk about, um, what happened after the Soviet Union, uh, collapsed, if you want to talk about the efforts to denuclearize places like Belarus and Kazakhstan and Ukraine, the US took a leadership role, that clearly made the world a more safe place.  Thats very different from talking about being the worlds policeman, I think that there are a lot of countries that do criticize when the US doesnt take a leadership role.  Look at the tsunami in Indonesia.  The Chinese put $4 million on the ground, about a week afterwards.   The United States got the Japanese, the Indians, and the Australians together, billions of dollars, in this case, boots on the ground from adding for providing humanitarian assistance, and actually made a serious difference. The United States is clearly indispensable in these roles as a leader, but I would not say that the US has the capacity to be the global policeman. MORLEY SAFER Okay.  I am now ready to announce the results of the pre No, I certainly dont think this is all Americas fault.  I think Ive Media Transcripts, Inc. PROGRAM Rosenkranz Foundation-Intelligence Square U.S.- America Should be the World's Policeman Page 51. pretty much said Id like the idea of the United States being the worlds policeman, we just cant get there, its generally a kinda country Id probably enjoy, again Id like the idea of having a private plane but its not happening tomorrow.   You know, I would say that youre referring to the wrong Pew polls.  In terms of my comment, it wasnt on how much countries like America.  It was about how much Americans actually support globalization, how much they support free trade.   And also how much they believe that the United States benefits from growing foreign companies, companies in emerging markets and the rest.  And they compared those views on free trade, with the views of other foreign nationals in countries like Russia, China and India.   And, forin a dramatic shift of fortunes, Americans have proven to be less pro-globalization, less pro-free trade than the Russians, the Chinese, and the Indians, and that shows something very disturbing, in my view, which is that increasingly the average American does not believe that they benefit from the trajectory that the world is moving towards.   And that not only speaks against growing opposition to the United States serving as the worlds policeman, but it also speaks against the United States serving the role as, as a leader on key issues where international leadership is lacking, and I really fear that we will throw the baby out with the bathwater on this one. Media Transcripts, Inc. PROGRAM Rosenkranz Foundation-Intelligence Square U.S.- America Should be the World's Policeman Page 52. MORLEY SAFER Ian Bremmer, do you have a question. IAN BREMMER Yes I do, and I would ask it to Michael but hes already gotten two so Im gonna ask either Max or Douglas if theyif they want to take it.  It is, thatit follows on this issue of legitimacy and the notion that all countries around the world kind of like the idea of the US as a policeman.  And Im wondering, what do we do in those big issues where its clear that they dont.  You know, what do we do about Russia, where clearly, whether were talking about Chechnya, or Georgia, or Ukraine, the Orange Revolution and the rest, the Russians really assertively dont want the United States to be a policeman.   What do we do in a place like Taiwan, where the Chinese really assertivelyand increasingly have the power to stop the USdont want the US to act as global policeman, how do we  and Im asking, actually out of legitimate curiosity, how do we deal with those sorts of challenges. Inability of the United States to actnot failed police work, just the US doesnt have the capacity to act as a policeman in the case of North Korea, yes. MALE AUDIENCE MEMBER My understanding is that Madeline Albright went over, Jimmy Carter went over, flattered Kim Jong-ilthen he went nuclear.  If youre aware of some othernon-diplomatic means that were employed and failed, would you please share them with us. IAN BREMMER Look, I mean, Im not trying to argue, I think Morley raised the same point in a question to Ellen which is that, oh well, engagement clearly doesnt work with Iran because the Iranians dont want to be engagedIm with you.  The Iranians dont want to be engaged, theyre moving, theyre going nuclear.   The North Koreans didnt want to be engaged, I mean criminy, they dont want pro-globalization, you throw CNN in North Korea, you know, probably Kim Jong-il falls relatively quickly, they want to keep the place isolated, they want to build their nukes, they want to buy people off, they want to blackmail, they want to sell drugs, Media Transcripts, Inc. PROGRAM Rosenkranz Foundation-Intelligence Square U.S.- America Should be the World's Policeman Page 55. they want to sell ballistic missiles, they want to engage in human trade.   This is a nasty, brutish and quite short regime.  I dont expect that any of the United States policies were likely to work, my point was, the Chinese have more leverage over North Korea than the United States does, there was no military option, you attack North Korea to try to stop them, South Koreas devastated within 36 hours because of artillery if you look at geography.   So that wasnt an option.  Even the most ardent opponents in the Defense Department werent trying to go there.  So given the fact that you dont like the regime, given you dont want them to develop the nukes, you want to stop them, the United States has to think about who has the power, and its not just the US, you gotta go to the Chinese, who actually are providing these guys with the lifeline economically, and say we need to work with you. Thats not the US acting as a global policeman, thats America in a more multilateral role trying to cajole relatively incalcitrant [sic] countries, recalcitrant countries to do their best. MORLEY SAFER Other questions? MALE AUDIENCE MEMBER I think one of the key questions has been avoided.  And this only was personally alluded by Mr. Parris.  And the, the question is, how do you be the policeman if you dont longer have predominance.  The key and imperative word is predominance. Media Transcripts, Inc. PROGRAM Rosenkranz Foundation-Intelligence Square U.S.- America Should be the World's Policeman Page 56. Like the English empire, lo lost its role as master of the world when it lost economic predominance after the First World War, the United States no longer has the predominance it ought to have to be the policeman.  So the question is what can webe done, without the predominance. MORLEY SAFER You want to take that Youve brought up a number of times the notion that nobody else wants to be the global policeman so the United States has to step up for the job.  I agree.  Nobody else wants to be the worlds Media Transcripts, Inc. PROGRAM Rosenkranz Foundation-Intelligence Square U.S.- America Should be the World's Policeman Page 70. policeman.  Lots of people want to be their own regions and their own neighborhoods policeman.  Some of them, thankfully, are incapable, like Venezuela.  Some of them are increasingly capable, like China in Asia and like Russia in Eurasia.  And the United States has to recognize that.  They have to recognize that the extraordinary shift in importance of alliances and the importance in the battles of the hearts and minds, not of the individual people in these countries, but of the leaders that have to support this policing role to provide legitimacy is not only assured by the worlds largest military but also by the worlds largest trade flows.  But  MORLEY SAFER [OVERLAP]  One IAN BREMMER [OVERLAP]  but also by the influence in these countries.  And were seeing that in terms of Chinas extraordinary influence in Latin America, which is growing by the second, in Africa, by Russia and Eurasia and the rest.  The United States is going to have to learn to live with this.  Look, its true that a lot of Americans arent happy.  Theyre unhappy because of subprime. Theyre unhappy because of recession.  Theyre unhappy because of energy and security.  Theyre unhappy because of Iraq.  And increasingly theyre unhappy because the bailout thats coming isnt like the U.S. government with the S&L crisis.  The bailout Media Transcripts, Inc. PROGRAM Rosenkranz Foundation-Intelligence Square U.S.- America Should be the World's Policeman Page 71. thats happening with the big blue chips right now is coming from China and the Gulf and the rest.  We dont want to throw the baby out with the bath water.  We dont want Americans that are increasingly insecure to say the U.S. shouldnt play a leadership role.  Look, every debate needs a theme.  For me this theme is that the great should never be the enemy of the good.  Okay, now Im an American and Id love to have the great.  But I tell you, Id take what I can get.  [APPLAUSE] MORLEY SAFER Douglas Murray. Okay?  Well, good evening, everyone, Im not Ian Bremmer, Im Ellen, and I rise to oppose the notion that the US should be the worlds policeman.  The United States indisputably has a vital role to play in world affairs, we have unique qualities for leadership.   At present, perhaps not as a permanent state of affairs, some of this unique role is circumstantial because our only peer adversary for over half a century is no more.  Some of it is inherent in our qualities.  The size of our country, the wealth that we enjoy, and the talent of our people.   We can influence world affairs, both by conscious decisions that our governments make, by our societys desire to respond to humanitarian Media Transcripts, Inc. PROGRAM Rosenkranz Foundation-Intelligence Square U.S.- America Should be the World's Policeman Page 11. disasters, and in positions that we take in multilateral negotiations and in regional organizations.   Americans for the most part do want to be active on the world stage.  But we can do good in the world, and we can benefit as a society, from active engagement in the world, without being the worlds policeman. Lets talk some definitions. Now, I dont know whether the organizers of this debate meant police in a literal sense.  But lets take the word police at three different levels.  First would be police as in a demand for someone to enforce the rules, not make the rules, but enforce them.   So who do youwhen youre in trouble, call 911, the police come.  So thats the kind of bottom-level, literal definition of, of policeman in this case.  We could also think of the worlds policeman as a metaphor for a security provider in much broader dimensions.   Who sets the laws and enforces them.  This would be a reference to the hegemonic stability system that weve known internationally since World War II, that would refer to for example Americas military presence in East Asia, or in the role that we played when we finally decided to topple the Taliban in Afghanistan. And then theres a third definition thats perhaps a little more abstract.  Policeman as a surrogate for any use of force, or for a Media Transcripts, Inc. PROGRAM Rosenkranz Foundation-Intelligence Square U.S.- America Should be the World's Policeman Page 12. monopoly on the use of force, including going to war, preemptive wars, preventive wars.   We decided Saddam Hussein had to go, we made the rule for ourself [sic], it wasnt a rule for anybody else, it was just for us.  So thats a third definition of the worlds policeman.  So I oppose this motion and I hope you will agree with me, for several reasons.   First lets take some practical reasons.  The US is a country, not a global government.  We have to know our limits.  The United States should use force when its in our interest, just like every other country has to make existential decisions about the use of force and about war and peace.   If we step up to the role of the worlds policeman we would be committing to act and to put our soldiers and police and our citizens in harms way where U.S. interests may be very modest.  Do we want to assume responsibility to go anywhere anytime?  A second practical argument is that we cant do it. And here I mean both in terms of quantity and quality.  Quantity: guess how many of the eleven thousand police who are currently deployed worldwide in U.N. operations are American?  Out of eleven thousand, two hundred and ninety-one are U.S. policemen.  And they are in Kosovo and Haiti, principally.  So the U.S. has not provided robust manpower from our police forces. Weve also learned that the way we train our policemen in a federal system is not all that well suited to the requirements for police in a lot of peace operations post-conflict.  And then lets Media Transcripts, Inc. PROGRAM Rosenkranz Foundation-Intelligence Square U.S.- America Should be the World's Policeman Page 13. ask literally, are we capable of doing the job?  Can we be the beat cop that Max talked about?  Do we know the neighborhood?  Do we speak the language?  Do we know the culture so that we can diffuse conflict before it breaks into violence?  Im not so sure about that.  It turns out that a lot of other countries, by the way, are willing to train their citizens and deploy them to be policemen in such circumstances  the South Asians, the Australians, the Canadians and the Nordics, in particular. A third practical reason is that Im not sure the American people want us to play this role alone.  There is a deep belief that the security burdens in the world need to be shared and that not all security problems affect American interests.  We need to make choices.  Polls show that Americans want to respond when there are humanitarian requirements, et cetera, but they dont want to do it alone.  Now, Im not going to make the cost argument because I actually dont think its the most persuasive one.  The U.S. does still contribute twenty-five percent of the U.N.s costs to deploy forces around the world but we are behind in our dues. And before we criticize the U.N., I think we better decide whether the under-funding of some of the U.N.s activities are, in fact, because we havent paid our, our fair share. Second set of arguments I want to make against this motion are Media Transcripts, Inc. PROGRAM Rosenkranz Foundation-Intelligence Square U.S.- America Should be the World's Policeman Page 14. political ones.  And here basically its two arguments.  One is an argument about today, the particular moment that were in.  And another is an argument about the horizon, about the future.  I think today we have a particular problem trying to assert that we could or should be the worlds policeman.  We have over-used our global leadership role.  We have abused, in a way, the, the good will of the international community by deciding that we knew better than anyone how to bring security to dangerous parts of the world.  And it turned out we werent as good at it as we thought we would be.  We have not necessarily made  at least the key, Iran and AfghanIraq and Afghanistan  more secure or more stable.  This is not the moment to reassert the policemans role. MORLEY SAFER [OVERLAP]  One minute. ELLEN LAIPSON A third set of arguments  at the horizon my argument is that there is a realignment of power in the 21st Century.  Other countries are rising.  This does not mean that the United States is in decline.  It does not mean that were weak.  But other countries are rising and its a good moment to try to reallocate some of the responsibilities for these activities.  I have a third, a last argument, which is a philosophical one.   I think it would behoove American society and the long term interests of the Media Transcripts, Inc. PROGRAM Rosenkranz Foundation-Intelligence Square U.S.- America Should be the World's Policeman Page 15. American people if we would take a more nuanced and egalitarian sense of our place in the world.  In the age of globalization weve benefited at least as much as everybody else. But we have to be, we have to start to recognize that other people are good at this game too, and that we have to have more respect for the capacity of others to contribute to the global commons. So what I advocate is a multilateral approach to the security needs of the international community.  I want an integrated approach that doesnt look just at the security aspects of some of these problems but weaves together cultural, political and economic dimensions of policy responses.  And I want us to care a lot more about the legitimacy of how we engage internationally, particularly since, as the world becomes more democratic  MORLEY SAFER [OVERLAP]  Time is up, Ms. Laipson. ELLEN LAIPSON Okay, thank you very much.  [APPLAUSE] MORLEY SAFER And now for the resolution, Michael Mandelbaum. Well I think the North Korea and Iran cases are a category thats a little bit different than the requirement for a policeman, although Michael Mandelbaum put non-proliferation inn this basket that were talking about tonight.   But both of those problems are being managed with, you know, international cooperation, and even if the United States haddidnt want to engage initially with North Korea, and still today with Iran, the reality is we have found interlocutors to engage with both.   And the progress has been made in the six-party talks with North Korea.  I certainly agree with you that Iran is in one of those, you know, very hard baskets, and engagement alone is not necessarily sufficient.  There are circumstances in which coercive diplomacy, sanctions, there are other instruments of international politics that can be, can be exercised.   But I would argue that at least under todays circumstances, you know, Iran is not, Iran has many policies that we do not like, but it is not playing the role of a belligerent, that requires a military action Media Transcripts, Inc. PROGRAM Rosenkranz Foundation-Intelligence Square U.S.- America Should be the World's Policeman Page 28. right now. MORLEY SAFER We will continue now withfor the resolution, Douglas Murray. Id like to ask Michael Mandelbaum to tell us how he would get to the end state that he desires, of the US as the worlds policeman, what would you do, you spoke very disparagingly of the UN. What would you do with the 17 current peace missions that the Media Transcripts, Inc. PROGRAM Rosenkranz Foundation-Intelligence Square U.S.- America Should be the World's Policeman Page 46. United States has supported, by its vote authorizing them in the Security Council, the 100,000 soldiers and policemen that are deployed worldwide in these trouble spots.  Is your view that those operations should simply shut down and go away? Thanks, Morley.  I admire the optimism of the other side, that Americas power remains preeminent and will continue to be in  and they have been somewhat selective in their metrics or their use of factual information.  I do think that we have some serious questions about the capacity to spread our military and civilian forces thinner around the world.  One only needs to listen to military commanders concerns about recruitment, retention, the cost of medical care to our soldiers, et cetera, to realize that, you know, there are limits to our ability to serve this function.  And I think there is both an ethical and a political argument of why not share it with others?  Ive heard the other side say, Oh, were, we like allies.  Allies are fine.  But they still believe that the essential decision making authority of deciding when to act  MORLEY SAFER [OVERLAP]  One minute. ELLEN LAIPSON and where to act, is, resides in the United States.  And I just Media Transcripts, Inc. PROGRAM Rosenkranz Foundation-Intelligence Square U.S.- America Should be the World's Policeman Page 64. dont think thats the way the world works anymore.  I really do believe that while the United States remains a country of exceptional wealth, talent, et cetera  and I deeply hope we remain so indefinitely --  we should be aware of a redistribution of talent, capacity in the international system.  And we should embrace this and turn it into a virtue.  We should not be afraid of it.  We should not be threatened by it.  And we should not think that that United States alone has a monopoly on wisdom about how to respond to the worlds trouble spots.  And for me one of the strongest arguments of this discussion tonight has been legitimacy.  Michael conceded that we would have less legitimacy than the New York police, but that other countries so far havent pushed back.  I think thats not a permanent state of affairs and I think that we should be looking for, in  if we believe truly in democratic values, and I know we do  legitimacy should matter a lot.  We should care more what other countries think and what their preferences are for finding the best solution to the worlds policemen.  Thank you. MORLEY SAFER Max Boot, youre next. [PAUSE]  Ladies and gentlemen, I was touched by what Max Boot, [LAUGHTER]  Max Boot said about the excellence of the British empire and British imperialism in the 19th and early 20th Century.  I'm old enough  hes not  to remember that that was not the American attitude towards British imperialism, even in the 1950s and the 1960s.  What happens when any one nation tries to assert, coercively, its predominance over the rest of the Media Transcripts, Inc. PROGRAM Rosenkranz Foundation-Intelligence Square U.S.- America Should be the World's Policeman Page 20. world is that other nations begin to gang up against them.  And in that case the United States was part of the group that ganged up against the British empire.  It might be fair, it might not be fair.  But it will always happen and its something to which I want to return.  But first  and if youll forgive me that spirit of malice which I find rescues these occasions from the horrors of constructive debate, may, may I, --  [LAUGHTER]  I say what a privilege it, it is to find ranged, against me three of the finest minds its possible to locate among protagonists for a doomed cause.  [LAUGHTER] One of my fellow countrymen, Douglas Murrays precocious genius  well, few on the British, the thinking British right have not heard of Douglas Murrays genius.  I have to tell you, ladies and gentlemen, that he has taken elements in Britain quite by storm.  One commentator praises him as the rights answer to Michael Moore, God help us.  [LAUGHTER]  His unkinder critics have suggested  I, I think in jest -- that when younger he had a brief flirtation with the Baptist Church.  Only on discovering that baptism by total immersion meant disappearing entirely from the public view for all of thirty seconds, made [LAUGHTER]  Mr. Murray relent.  Max Boot appeared last year on a list of the Five Hundred Most Influential Foreign Policy Thinkers.  We, on this side of the debate, do not dispute Mr. Boots influence on foreign Media Transcripts, Inc. PROGRAM Rosenkranz Foundation-Intelligence Square U.S.- America Should be the World's Policeman Page 21. policy thinking any more than we dispute the influence of Donald Rumsfeld or King George the III.  [LAUGHTER] Both Murray and Boot and Michael Mandelbaum, too clever for the mob on their own side, represent one of the most interesting political experiments in outsourcing ever conducted -- U.S. conservatisms franchising out to experts of its higher mental faculties.  [LAUGHTER]   Their function, theyre a kind of priesthood, is to flatter stupider people that there exist higher arguments, smarter than they themselves can quite grasp, for things that they wanted to do anyway.  They should be here in white robes.  Three fine fellows, then  one of them older, one of them younger, all of them prettier and all of them cleverer than the argument that they represent.  We salute them.  [LAUGHTER] Next, to the, to the argument that they represent:  why must Washington shun the mantle of world policeman?  For three reasons:  First, America cant; Second, America shouldnt; and Third, Americans wont embrace this role. We dont debate whether Belgium should police the world because the possibility does not arise nor does it for America, as Ellen Laipson says  not even America.  She is more powerful than any but nowhere like more powerful than all of the nations of the world.  The point at which the United States most closely Media Transcripts, Inc. PROGRAM Rosenkranz Foundation-Intelligence Square U.S.- America Should be the World's Policeman Page 22. approached political hegemony  military, political and economic  was more than half a century ago.  It was at the end of the Second World War.  Since then, and despite magnificent growth in absolute terms, America has been in almost continuous relative decline.  After the implosion of the Soviet Union the impression of power vacuum was just a mirage.  It was not a vacuum.  It was a fragmentation, as America and my own country, Britain, are discovering in Iraq and Afghanistan, where we are hopelessly entangled in two quite undeveloped countries, both of which I visited since the occupation. Where are the armies?  Where are the fleets?  Where are the treasure chests to finish this job, let alone embark on new coercions?  If the predominance of Americas wealth and power in comparison with any single rival has misled some into supposing that America could out-punch all of them together, it never misled cleverer men like Messrs. Boot, Mandelbaum and Murray. They have advanced a more subtle theory that if America picked on a single miscreant nation and sorted it out by force, then mission accomplished  others would learn the lesson.  Its an attractive idea.  It didnt work  quite the reverse.  It triggered an international up-swelling of resentment and resistance.  This has weakened Americas greatest resource  good will, her powers of persuasion. Media Transcripts, Inc. PROGRAM Rosenkranz Foundation-Intelligence Square U.S.- America Should be the World's Policeman Page 23. Maybe you think the world is judging America unfairly.  I, I think the world judged imperial Britain unfairly.  But ask why that happens, why that always happen.  And if you want to know the answer, ask how Americans would feel if the boot  Max will forgive me  were not on the American foot.  Of all people, Americans should know that a policeman implements laws made by and for the people that he polices, under a government whose legitimacy derives from its being their own.  Police other nations and there will be no such assumed legitimacy.  Without acquiescence you can only impose.  America does not have the brute power to impose, nor the right.  I said that not only can America not police the world but that she should not.  With whatever good will you set out with  MORLEY SAFER [OVERLAP]  One minute. MATTHEW PARRIS on your policemans beat, your decisions must in the end take account of your own interest.  How can it be otherwise?  Faced with a conflict between the interests of the American people and anywhere else in the world, how can a democrat believe that Washington can or would stand blindfold in disinterested judgment between the two?  We act, in the end, in our own interests.  Finally, I said that America wont police the world.  I Media Transcripts, Inc. PROGRAM Rosenkranz Foundation-Intelligence Square U.S.- America Should be the World's Policeman Page 24. dont believe it is the will of the American people.  Im not a narrow horizon Englander.  I was born in Africa, schooled in Cyprus, Zimbabwe.  My family lived for five years in Jamaica.  I was at school in Swaziland and for two years at Yale University.  I know a bit about America and Americans.  And I think theres something different about you.  I think that even if you could police the world, I dont think that Americans want to police the world.  I dont think that Americans are isolationist.  I think that on occasions America has to intervene abroad, has to respond, has to defend herself.  But I think its in the instincts of the American people to demand of their statesmen that reasons are given for that.  There will never be a long, longstanding will among the American people for international intervention. Curiously enough, I [UNCLEAR]  -- MORLEY SAFER [OVERLAP]  Please wrap it up Mr. Parris. MATTHEW PARRIS [OVERLAP]  May I just finish my sentence? MORLEY SAFER Sentence. MATTHEW PARRIS Though you think your argument faces a tough test before an audience of internationalist New Yorkers, its out there in the sticks, among the right, where it will finally flounder.  I know Media Transcripts, Inc. PROGRAM Rosenkranz Foundation-Intelligence Square U.S.- America Should be the World's Policeman Page 25. those people.  I represented them in England.  They are conservatives.  You, Max, Douglas and your cartload of doctrine and theory, are not.  I beg to oppose the motion.  [APPLAUSE] MORLEY SAFER Thank you.  [APPLAUSE]   Before we continue, II have a question or two for each side here.  Max Boot, you make the casethat the alternative to unilateralism, is isolation.  Whatever happened to diplomacy? Yeah.  [APPLAUSE] Well of course I know a great deal less of the American people than almost everybody else on the panel, I only have the hunches that I get from those whom I know and the time that I spent there.  And also a little bit that I know about the history of the British empire and British colonialism and much of which Ive lived in my own childhood, and, my impression, and I may be wrong, is that thetheres a good patriotic spirit in America for invasions of foreign countries where those invasions can be seen as palpably in the national interest in order to defend America from people abroad.  But that there isnt the same interest in administering other countries, there isnt the same interest in prolonged occupations of other countries, there isnt the same interest in doing what policemen do abroad, and that its only as long as America is winning in those circumstances that public opinion remains positive, it quite quickly turns against, when conditions seem to be coming adverse. MORLEY SAFER Ellen Laipson, who do you have a question for. ELLEN LAIPSON Id like to ask Michael Mandelbaum to tell us how he would get to the end state that he desires, of the US as the worlds policeman, what would you do, you spoke very disparagingly of the UN. What would you do with the 17 current peace missions that the Media Transcripts, Inc. PROGRAM Rosenkranz Foundation-Intelligence Square U.S.- America Should be the World's Policeman Page 46. United States has supported, by its vote authorizing them in the Security Council, the 100,000 soldiers and policemen that are deployed worldwide in these trouble spots.  Is your view that those operations should simply shut down and go away? Well, Ill  [APPLAUSE]  Ill reciprocate your humility.  You suggest that you or the Americans have learnt that imperialism, indeed British imperialism was a better thing than you thought it was at the time.   I would say that we British have learnt that imperialism was not as good a thing as we thought that it was, at the time, but there is a limit to the extent that a country that has no economic global predominance can continue to police large sections of the globe.   We learnt that, to our very great cost, its a lesson that weve learnt and I think were not going to un-learn it and if we have any advice for you it is not to repeat the mistake. MORLEY SAFER Matthew Parris, do you have a question for someone here. MATTHEW PARRIS Yes.  Idagain, its to Mr. Mandelbaum.  Its a serious question, I rather than aan ad hominem one, Id like you toId like you to deal with the question of legitimacy with policemen, a policeman in New York works for an authority that is elected, enforces laws which have been enacted by people who have been Media Transcripts, Inc. PROGRAM Rosenkranz Foundation-Intelligence Square U.S.- America Should be the World's Policeman Page 49. elected and is in many ways of the community that he polices. America as world policemen would be a very different kind of animal.  There would be no such presumed consent, theres a real problem MORLEY SAFER Question MATTHEW PARRIS about legitimacy MORLEY SAFER question, please, sir MATTHEW PARRIS about authority, and I wonder how you answer that problem. There wasif I can just put in quickly, theres a good quote here from Mr. Blair, our former premier in Britain.  When--I mean I think on the important point to make which is that just because you cant intervene everywhere doesnt mean you dont intervene anywhere.   And before the Iraq war Mr. Blair was asked by a journalistnwhy he was going for this particular conflict and he said, its a very important phrase and I absolutely agree with it, he said peopleI get fed up when people say to me why not the Burmese lot, why not Mugabe.  He said, I dont, because I cant. But when you can, you should. MORLEY SAFER We have time for two more questions, brief ones, please. MALE AUDIENCE MEMBER Question is for the proponents of the motion.  Given the fact that Media Transcripts, Inc. PROGRAM Rosenkranz Foundation-Intelligence Square U.S.- America Should be the World's Policeman Page 60. Medicare and Social Security, and other elements in our safety net are gonna be with us for a while would any of you advocate the institution of a military draft, to provide the power that would be necessary to be the world policeman on a scale that would fit the needs of the problems that are going to arise in the foreseeable future. Well, Im becoming more and more confused listening to Max Boot as to whether the United States can or cant afford this role. In one breath he says they can and then challenged over Africa, he says they cant.  That quote from Tony Blair that Douglas Murray gave us was thoroughly disingenuous.  I dont because I Media Transcripts, Inc. PROGRAM Rosenkranz Foundation-Intelligence Square U.S.- America Should be the World's Policeman Page 67. cant.  Britain is perfectly capable of toppling Mugabes regime in Zimbabwe.  The United States is perfectly capable of instigating free and fair elections in Kenya.  Britain and the United States together could do something about Darfur.  They dont and the reason that they dont, I believe, is that there is no coherent view on the part of the allies as to what the role of worlds policeman would be or where the worlds policeman would police.  And I believe that one of the reasons theres no coherent view is American democracy.  I dont think the American people are really into this kind of thing.  I dont think the American people really want this role.  If they did there would have been much more discussion as to how it should be imposed.  Secondly, multilateralism. MORLEY SAFER One minute. MATTHEW PARRIS [OVERLAP]  Are they in favor of it or are they against it on the other side?  Max Boot seemed to speak very disparagingly about multilateralism.  Mr. Mandelbaum spoke about the feebleness of the United Nations.  One of the reasons for the feebleness of the United Nations is that countries like America, and to some extent Britain, have not entirely supported the United Nations.  Theres lots of things wrong with the United Nations.  But one of them is there is no feeling that the United States any longer really wants Media Transcripts, Inc. PROGRAM Rosenkranz Foundation-Intelligence Square U.S.- America Should be the World's Policeman Page 68. to make the United Nations a driving multilateral force.  Douglas, Murray spoke about police not policing, not really meaning the assertion of force.  He seemed to call up a vision of an American world policeman as a kind of world marriage guidance counselor or world social worker or world priest or, uh-- MORLEY SAFER [OVERLAP]  I must ask, I must ask you to wrap it up. MATTHEW PARRIS or Rabbi.  I will wrap up.  America has two great weapons.  One is force and the other is persuasion, the power of moral persuasion.  They are not complementary.  The more force is used the more the power of moral persuasion will be undermined.  And I would urge you to oppose the motion and to support the idea of moral persuasion and not the use of force. MORLEY SAFER Michael Mandelbaum. Undecided:  32% After the debate:  Undecided:  5% MORLEY SAFER Id like to introduce Robert Rosenkranz, Chairman of the Rosenkranz Foundation, the sponsor of Intelligence Squared, who will frame tonights debate.  [APPLAUSE] ROBERT ROSENKRANZ Thank you, Morley.  And thank all of you for braving the rather forbidding elements tonight.  With me is Dana Wolfe, our Executive Producer.  Well, tonights debate reflects what will almost certainly be a major theme in the upcoming Presidential election, particularly if Barack Obamas momentum and fundraising prowess carry him to the Democratic nomination. We can expect campaigns that reflect stark differences in views about Americas military engagement with the world.  Each of Media Transcripts, Inc. PROGRAM Rosenkranz Foundation-Intelligence Square U.S.- America Should be the World's Policeman Page 2. these views has a long political pedigree  antecedents ranging from Jeffersonian isolationism, Hamiltons economic liberalism, Jacksons muscular populism and Wilsons humanitarian idealism.  Each would come to very different conclusions on tonights resolution.  Among the arguments that America should be the worlds policeman are:  Who else will protect the peaceful from the ruthless, especially the ruthlessness of Islamic radicalism.   Who else will cope with nuclear proliferation or threats to the world oil supply.  The U.N. has proven useless. NATO is too unwieldy and has under-invested in its militaries for decades.  Only the U.S. has the capability to lead and to act. The counter-argument is that no single nation is fit for the role of global policeman  certainly not an over-stretched and economically challenged America, an America with a deeply flawed intelligence operation, ineffective public diplomacy and only a superficial understanding of other cultures.   Police are viewed skeptically and for good reason, particularly if there are no international institutions to check their power.  We need a multilateral approach for legitimacy and to be successful.  So these are the two arguments that are going to be elaborated on by a wonderful panel of speakers that Im particularly proud of.  And Im pleased to turn the evening over now to our moderator, Morley Safer.  Morley has received many awards for his long and Media Transcripts, Inc. PROGRAM Rosenkranz Foundation-Intelligence Square U.S.- America Should be the World's Policeman Page 3. distinguished career in broadcast journalism.  Hes been a correspondent on 60 Minutes for CBS since 1970.  So this is his thirty-eighth year on the show this season.  Morley, the evening is yours. MORLEY SAFER Thank you, Bob.  [APPLAUSE]  Id like to welcome you to the seventh debate of the second Intelligence Squared U.S. series. The resolution being debated tonight is:  America should be the worlds policeman.  And let me give you a brief run down of the rules of the game.  Members of each team will alternate in presenting their side of the argument.  Presentations are limited to seven minutes.  When opening arguments are complete I will open up the floor to brief questions from the audience.  After the Q&A each debater will make a final two minute summation.  And finally, you will vote on tonights motion with the keypad attached to the armrest of your seat and I will announce your decision on which side carried the day.  Lets start with a pre-debate vote. You should have one of these.  Pick it up.  It should be attached to the armrest on your left.  And for audience members sitting along the aisle, to my right, your keypad is attached to the armrest on your right side next to your neighbors.  Again, tonights resolution is:  America should be the worlds policeman. After my prompt please press one to vote for the motion, two to vote against the motion or three if youre undecided.  You may Media Transcripts, Inc. PROGRAM Rosenkranz Foundation-Intelligence Square U.S.- America Should be the World's Policeman Page 4. begin voting now.  [PAUSE]  Everyone voted?  Okay, I will announce the result of your vote later on in the evening.  Id now, now like to introduce the panel, and please hold your applause until all six are introduced.  For the motion, a Fellow in National Security Studies at the Council on Foreign Relations, Max Boot, professor of American Foreign Policy at the Johns Hopkins University School of Advanced International Studies, Michael Mandelbaum, and author, commentator and director of the Centre for Social Cohesion, Douglas Murray.   And to my left, against the motion, president and founder of the Eurasia Group, Ian Bremmer, President and CEO of the Henry L. Stimson Center Ellen Laipson, and writer for the Times of London and the Spectator, then broadcaster for the BBC and a former British Member of Parliament, Matthew Parris.  [APPLAUSE]  We will start with Max Boot voting for the motion.\n"
     ]
    }
   ],
   "source": [
    "\n",
    "\n",
    "import nltk.data\n",
    "from nltk.corpus import stopwords\n",
    "from nltk.tokenize import word_tokenize\n",
    "from nltk.stem.wordnet import WordNetLemmatizer\n",
    "from nltk import pos_tag\n",
    "import numpy as np\n",
    "\n",
    "\n",
    "names_and_win = [('campus_assault.txt', [0, 1]), ('ISIS_defeated.txt', [0, 1]), ('samesex.txt', [0, 1]), ('iran_deal.txt', [0, 1]),\\\n",
    "('death_penalty.txt', [0, 1]), ('constitutional_authority.txt', [0, 1]), ('right_to_forget.txt', [0, 1]), \\\n",
    "('liberals_stifling.txt', [1, 0]), ('declinists.txt', [1, 0]), ('amazon.txt', [0, 1]), ('gmos.txt', [1, 0]), ('eutha.txt', [0, 1]), \\\n",
    "('income_inequal.txt', [0, 1]), ('mass_collection.txt', [1, 0]), ('flexing_musc.txt', [1, 0]), ('common_core.txt', [1, 0]), \\\n",
    "('pacs.txt', [0, 1]), ('death_not_final.txt', [0, 1]), ('millenials.txt', [1, 0]), ('lecture_obsolete.txt', [1, 0]), \\\n",
    "('russia.txt', [0, 1]), ('USA_kill.txt', [1, 0]), ('affirmative.txt', [1, 0]), ('snowden.txt', [1, 0]), ('obamacare.txt', [1, 0]), \\\n",
    "('eat_face.txt', [1, 0]), ('spy_on_me.txt', [0, 1]), ('right_to_bear.txt', [1, 0]), ('take_job_anywhere.txt', [0, 1]), \\\n",
    "('red_state.txt', [1, 0]), ('break_up_banks.txt', [0, 1]), ('drones.txt', [0, 1]), ('us_syria.txt', [1, 0]), \\\n",
    "('pentagon_budget.txt', [0, 1]), ('fda_caution.txt', [1, 0]), ('gop_center.txt', [0, 1]), ('minimum_wage.txt', [0, 1]), \\\n",
    "('strong_dollar.txt', [1, 0]), ('prohibit_genetic.txt', [0, 1]), ('nuclear_iran.txt', [0, 1]), ('science_god.txt', [1, 0]), \\\n",
    "('legalize_drugs.txt', [1, 0]), ('rich_taxed.txt', [0, 1]), ('end_of_life_care.txt', [1, 0]), ('elected_islamists.txt', [0, 1]),\\\n",
    "('money_politics_overregulated.txt', [0, 1]), ('natural_gas_bad.txt', [1, 0]), ('ban_football.txt', [1, 0]), \\\n",
    "('internet_closing_minds.txt', [1, 0]), ('china_capitalism_better.txt', [0, 1]), ('obesity_govt_business.txt', [0, 1]), \\\n",
    "('palestine_statehood.txt', [1, 0]), ('no_religion.txt', [1, 0]), ('job_plan.txt', [1, 0]), ('too_many_kids_college.txt', [1, 0]), \\\n",
    "('grandmas_benefits.txt', [0, 1]), ('men_are_finished.txt', [1, 0]), ('end_war_on_terror.txt', [0, 1]), \\\n",
    "('freedom_press_state.txt', [0, 1]), ('dont_give_us.txt', [1, 0]), ('clip_americas_wings.txt', [1, 0]), \\\n",
    "('clean_energy.txt', [0, 1]), ('two_party_bad.txt', [0, 1]), ('repeal_obamacare.txt', [0, 1]), ('airports_profiling.txt', [1, 0]), \\\n",
    "('afghanistan_lost.txt', [0, 1]), ('big_govt_stifling.txt', [1, 0]), ('islam_is_peace.txt', [0, 1]), \\\n",
    "('terrorists_enemy_combatants.txt', [0, 1]), ('cyber_war_exaggerated.txt', [0, 1]), ('obamas_policy_us_decline.txt', [0, 1]), \\\n",
    "('organic_is_hype.txt', [0, 1]), ('teacher_unions_failing_schools.txt', [0, 1]), ('us_stepback_israel.txt', [1, 0]), \\\n",
    "('california_failed.txt', [1, 0]), ('us_mexico_drugs.txt', [1, 0]), ('obamas_policies_working.txt', [1, 0]), \\\n",
    "('good_riddance_mainstream.txt', [0, 1]), ('us_will_not_succeed_afghan.txt', [0, 1]), ('buy_american_bad.txt', [1, 0]), \\\n",
    "('diplomacy_iran_nowhere.txt', [0, 1]), ('pay_for_sex.txt', [1, 0]), ('blame_washington_financial.txt', [1, 0]), \\\n",
    "('art_market_ethical.txt', [1, 0]), ('carbon_reductions_not_worth_it.txt', [1, 0]), ('bush_is_worst.txt', [0, 1]), \\\n",
    "('google_dont_be_evil.txt', [1, 0]), ('guns_reduce_crime.txt', [1, 0]), ('america_winning_iraq.txt', [1, 0]), \\\n",
    "('universal_health.txt', [0, 1]), ('legalize_organs.txt', [1, 0]), ('islam_radicals.txt', [1, 0]), \\\n",
    "('tough_interrogation.txt', [0, 1]), ('america_policeman.txt', [1, 0]), ('performance_enhancing.txt', [1, 0]), \\\n",
    "('aid_africa_bad.txt', [0, 1]), ('end_affirmative.txt', [0, 1]), ('russia_enemy_again.txt', [0, 1]), \\\n",
    "('stop_welcoming_immigrants.txt', [1, 0]), ('spread_democracy_me.txt', [1, 0]), ('booming_china.txt', [0, 1]), \\\n",
    "('more_domestic_surveillance.txt', [0, 1]), ('global_warming_not.txt', [1, 0]), ('america_too_religious.txt', [1, 0]), \\\n",
    "('hollywood_anti_us.txt', [0, 1]), ('democratic_hamas.txt', [0, 1]), ('license_to_offend.txt', [1, 0]), \\\n",
    "('tolerate_iran.txt', [1, 0])]\n",
    "\n",
    "\n",
    "names_and_win2 = [('america_policeman.txt', [0, 1])]\n",
    "wordnet = WordNetLemmatizer()\n",
    "stop = set(stopwords.words('english'))\n",
    "all_words = [] \n",
    "\n",
    "for document in names_and_win2:\n",
    "    for_, aga_=  processing.parse_text('debate_text/'+document[0]) #/document\n",
    "    ##tokenize 'for_'\n",
    "#    print aga_[0].decode('unicode_escape').encode('ascii', 'ignore')\n",
    "    tokenized_for = word_tokenize(for_[0].decode('unicode_escape').encode('ascii', 'ignore'))\n",
    "    tokenized_aga = word_tokenize(aga_[0].decode('unicode_escape').encode('ascii', 'ignore'))\n",
    "\n",
    "    for_wo_punctuation_words = [x for x in tokenized_for if x not in string.punctuation]\n",
    "    aga_wo_punctuation_words = [x for x in tokenized_aga if x not in string.punctuation]\n",
    "\n",
    "    docs_for = [word for word in for_wo_punctuation_words if word not in stop] \n",
    "    docs_aga = [word for word in aga_wo_punctuation_words if word not in stop] \n",
    "\n",
    "    all_words += for_ + aga_\n",
    "\n",
    "#docs_wordnet = [wordnet.lemmatize(word) for word in all_words]\n",
    "\n",
    "#docs = docs_wordnet\n",
    "\n",
    "#vocab_set = set()\n",
    "\n",
    "#[vocab_set.add(token) for token in docs]\n",
    "\n",
    "#vocab = list(vocab_set)\n",
    "\n",
    "#cv = CountVectorizer(stop_words = 'english')\n",
    "#vectorized = cv.fit_transform(for_+aga_)\n",
    "def tokenize(doc):\n",
    "    '''\n",
    "    INPUT: string\n",
    "    OUTPUT: list of strings\n",
    "\n",
    "    Tokenize and stem/lemmatize the document.\n",
    "    '''\n",
    "    return [wordnet.lemmatize(word) for word in word_tokenize(doc.lower())]\n",
    "\n",
    "tfidf = TfidfVectorizer(stop_words='english')\n",
    "tfidfed = tfidf.fit_transform(all_words).toarray()\n",
    "\n",
    "#print tfidfed\n",
    "\n",
    "cosine_similarities = linear_kernel(tfidfed, tfidfed)\n",
    "\n",
    "df = pd.DataFrame(tfidfed)\n",
    "\n",
    "#print cosine_similarities\n",
    "#for index, vector in enumerate(tfidfed): \n",
    "#    if sum(vector) == 0.0:\n",
    "#        print index \n"
   ]
  },
  {
   "cell_type": "code",
   "execution_count": 3,
   "metadata": {
    "collapsed": false
   },
   "outputs": [],
   "source": [
    "winslosses = []\n",
    "for debate in names_and_win:\n",
    "    winslosses.append(debate[1][0])\n",
    "    winslosses.append(debate[1][1])"
   ]
  },
  {
   "cell_type": "code",
   "execution_count": 4,
   "metadata": {
    "collapsed": false
   },
   "outputs": [],
   "source": [
    "y = np.array(winslosses)"
   ]
  },
  {
   "cell_type": "code",
   "execution_count": 5,
   "metadata": {
    "collapsed": false
   },
   "outputs": [],
   "source": [
    "from sklearn.cross_validation import train_test_split\n",
    "from sklearn.ensemble import RandomForestClassifier"
   ]
  },
  {
   "cell_type": "code",
   "execution_count": 6,
   "metadata": {
    "collapsed": true
   },
   "outputs": [],
   "source": [
    "X_train, X_test, y_train, y_test = train_test_split(df, y)"
   ]
  },
  {
   "cell_type": "code",
   "execution_count": 7,
   "metadata": {
    "collapsed": true
   },
   "outputs": [],
   "source": [
    "rf = RandomForestClassifier(n_estimators = 10000)"
   ]
  },
  {
   "cell_type": "code",
   "execution_count": 8,
   "metadata": {
    "collapsed": true
   },
   "outputs": [],
   "source": [
    "fittedrf = rf.fit(X_train, y_train)"
   ]
  },
  {
   "cell_type": "code",
   "execution_count": 9,
   "metadata": {
    "collapsed": false
   },
   "outputs": [],
   "source": [
    "y_hat = fittedrf.predict(X_test)"
   ]
  },
  {
   "cell_type": "code",
   "execution_count": 12,
   "metadata": {
    "collapsed": false
   },
   "outputs": [
    {
     "data": {
      "text/plain": [
       "0.93827160493827155"
      ]
     },
     "execution_count": 12,
     "metadata": {},
     "output_type": "execute_result"
    }
   ],
   "source": [
    "fittedrf.score(X_train, y_train)"
   ]
  },
  {
   "cell_type": "code",
   "execution_count": 13,
   "metadata": {
    "collapsed": false
   },
   "outputs": [
    {
     "data": {
      "text/plain": [
       "0.29629629629629628"
      ]
     },
     "execution_count": 13,
     "metadata": {},
     "output_type": "execute_result"
    }
   ],
   "source": [
    "fittedrf.score(X_test, y_test)"
   ]
  },
  {
   "cell_type": "code",
   "execution_count": 14,
   "metadata": {
    "collapsed": true
   },
   "outputs": [],
   "source": [
    "from sklearn.linear_model import LogisticRegression"
   ]
  },
  {
   "cell_type": "code",
   "execution_count": 15,
   "metadata": {
    "collapsed": true
   },
   "outputs": [],
   "source": [
    "lr = LogisticRegression()"
   ]
  },
  {
   "cell_type": "code",
   "execution_count": 16,
   "metadata": {
    "collapsed": true
   },
   "outputs": [],
   "source": [
    "fittedlr = lr.fit(X_train, y_train)"
   ]
  },
  {
   "cell_type": "code",
   "execution_count": 43,
   "metadata": {
    "collapsed": true
   },
   "outputs": [],
   "source": [
    "y_test_hat = fittedlr.predict(X_test)"
   ]
  },
  {
   "cell_type": "code",
   "execution_count": 45,
   "metadata": {
    "collapsed": true
   },
   "outputs": [],
   "source": [
    "y_train_hat = fittedlr.predict(X_train)"
   ]
  },
  {
   "cell_type": "code",
   "execution_count": 46,
   "metadata": {
    "collapsed": false
   },
   "outputs": [
    {
     "data": {
      "text/plain": [
       "0.90109890109890112"
      ]
     },
     "execution_count": 46,
     "metadata": {},
     "output_type": "execute_result"
    }
   ],
   "source": [
    "f1_score(y_train, y_train_hat)"
   ]
  },
  {
   "cell_type": "code",
   "execution_count": 44,
   "metadata": {
    "collapsed": false
   },
   "outputs": [
    {
     "data": {
      "text/plain": [
       "0.29508196721311475"
      ]
     },
     "execution_count": 44,
     "metadata": {},
     "output_type": "execute_result"
    }
   ],
   "source": [
    "f1_score(y_test, y_test_hat)"
   ]
  },
  {
   "cell_type": "code",
   "execution_count": 17,
   "metadata": {
    "collapsed": false
   },
   "outputs": [
    {
     "data": {
      "text/plain": [
       "0.20370370370370369"
      ]
     },
     "execution_count": 17,
     "metadata": {},
     "output_type": "execute_result"
    }
   ],
   "source": [
    "lr.score(X_test, y_test)"
   ]
  },
  {
   "cell_type": "code",
   "execution_count": 18,
   "metadata": {
    "collapsed": false
   },
   "outputs": [],
   "source": [
    "list_of_indices = []\n",
    "for index, vector in enumerate(tfidfed):\n",
    "    if sum(vector)==0: \n",
    "        list_of_indices.append(index)"
   ]
  },
  {
   "cell_type": "code",
   "execution_count": 20,
   "metadata": {
    "collapsed": true
   },
   "outputs": [],
   "source": [
    "copy = tfidfed"
   ]
  },
  {
   "cell_type": "code",
   "execution_count": 47,
   "metadata": {
    "collapsed": false
   },
   "outputs": [],
   "source": [
    "newlist = []\n",
    "for index, vector in enumerate(copy): \n",
    "    if index not in list_of_indices: \n",
    "        newlist.append(vector)"
   ]
  },
  {
   "cell_type": "code",
   "execution_count": 48,
   "metadata": {
    "collapsed": false
   },
   "outputs": [],
   "source": [
    "newy = []\n",
    "for index, value in enumerate(y): \n",
    "    if index not in list_of_indices: \n",
    "        newy.append(value)"
   ]
  },
  {
   "cell_type": "code",
   "execution_count": 49,
   "metadata": {
    "collapsed": false
   },
   "outputs": [],
   "source": [
    "newlr = LogisticRegression()"
   ]
  },
  {
   "cell_type": "code",
   "execution_count": 50,
   "metadata": {
    "collapsed": true
   },
   "outputs": [],
   "source": [
    "X2_train, X2_test, y2_train, y2_test = train_test_split(newlist, newy)"
   ]
  },
  {
   "cell_type": "code",
   "execution_count": 51,
   "metadata": {
    "collapsed": false
   },
   "outputs": [],
   "source": [
    "newfittedlr = newlr.fit(X2_train, y2_train)"
   ]
  },
  {
   "cell_type": "code",
   "execution_count": 52,
   "metadata": {
    "collapsed": false
   },
   "outputs": [
    {
     "data": {
      "text/plain": [
       "0.083333333333333329"
      ]
     },
     "execution_count": 52,
     "metadata": {},
     "output_type": "execute_result"
    }
   ],
   "source": [
    "newfittedlr.score(X2_test, y2_test)"
   ]
  },
  {
   "cell_type": "code",
   "execution_count": 58,
   "metadata": {
    "collapsed": false
   },
   "outputs": [
    {
     "data": {
      "text/plain": [
       "array([0, 1, 0, 1, 0, 1, 0, 1, 0, 1, 0, 1, 0, 1, 1, 0, 1, 0, 0, 1, 1, 0, 0,\n",
       "       1, 0, 1, 1, 0, 1, 0, 1, 0, 0, 1, 0, 1, 1, 0, 1, 0, 0, 1, 1, 0, 1, 0,\n",
       "       1, 0, 1, 0, 1, 0, 0, 1, 1, 0, 0, 1, 1, 0, 0, 1, 0, 1, 1, 0, 0, 1, 1,\n",
       "       0, 0, 1, 0, 1, 1, 0, 0, 1, 0, 1, 1, 0, 1, 0, 0, 1, 1, 0, 0, 1, 0, 1,\n",
       "       1, 0, 1, 0, 1, 0, 0, 1, 0, 1, 1, 0, 1, 0, 1, 0, 1, 0, 0, 1, 1, 0, 0,\n",
       "       1, 0, 1, 1, 0, 1, 0, 0, 1, 0, 1, 0, 1, 1, 0, 0, 1, 1, 0, 0, 1, 0, 1,\n",
       "       0, 1, 0, 1, 0, 1, 0, 1, 1, 0, 1, 0, 1, 0, 1, 0, 0, 1, 0, 1, 1, 0, 0,\n",
       "       1, 1, 0, 1, 0, 1, 0, 1, 0, 0, 1, 1, 0, 1, 0, 1, 0, 0, 1, 1, 0, 1, 0,\n",
       "       0, 1, 1, 0, 1, 0, 0, 1, 0, 1, 0, 1, 1, 0, 1, 0, 0, 1, 0, 1, 1, 0, 1,\n",
       "       0, 0, 1, 0, 1, 1, 0, 1, 0])"
      ]
     },
     "execution_count": 58,
     "metadata": {},
     "output_type": "execute_result"
    }
   ],
   "source": [
    "y"
   ]
  },
  {
   "cell_type": "code",
   "execution_count": 53,
   "metadata": {
    "collapsed": false
   },
   "outputs": [
    {
     "data": {
      "text/plain": [
       "0.91608391608391604"
      ]
     },
     "execution_count": 53,
     "metadata": {},
     "output_type": "execute_result"
    }
   ],
   "source": [
    "newfittedlr.score(X2_train, y2_train)"
   ]
  },
  {
   "cell_type": "code",
   "execution_count": 54,
   "metadata": {
    "collapsed": true
   },
   "outputs": [],
   "source": [
    "subtracted_tfidf = [] \n",
    "for index in range(tfidfed.shape[0]):\n",
    "    if index%2 == 0: \n",
    "        subtracted_tfidf.append(tfidfed[index]-tfidfed[index+1])"
   ]
  },
  {
   "cell_type": "code",
   "execution_count": 55,
   "metadata": {
    "collapsed": true
   },
   "outputs": [],
   "source": [
    "subtracted_y = [] \n",
    "for index in range(y.shape[0]):\n",
    "    if index%2 == 0: \n",
    "        subtracted_y.append(y[index])"
   ]
  },
  {
   "cell_type": "code",
   "execution_count": 58,
   "metadata": {
    "collapsed": false
   },
   "outputs": [],
   "source": [
    "empty_indices = []\n",
    "for index, vector in enumerate(subtracted_tfidf): \n",
    "    if sum(vector) == 0: \n",
    "        empty_indices.append(index)"
   ]
  },
  {
   "cell_type": "code",
   "execution_count": 59,
   "metadata": {
    "collapsed": false
   },
   "outputs": [],
   "source": [
    "new_subtracted_vectors = []\n",
    "for index, vector in enumerate(subtracted_tfidf):\n",
    "    if index not in empty_indices:\n",
    "        new_subtracted_vectors.append(vector)\n",
    "        \n",
    "new_subtracted_y = []\n",
    "for index, value in enumerate(subtracted_y):\n",
    "    if index not in empty_indices:\n",
    "        new_subtracted_y.append(value)"
   ]
  },
  {
   "cell_type": "code",
   "execution_count": 60,
   "metadata": {
    "collapsed": false
   },
   "outputs": [],
   "source": [
    "new_subtracted_vectors = np.array(new_subtracted_vectors)"
   ]
  },
  {
   "cell_type": "code",
   "execution_count": 61,
   "metadata": {
    "collapsed": false
   },
   "outputs": [],
   "source": [
    "new_subtracted_y = np.array(new_subtracted_y)"
   ]
  },
  {
   "cell_type": "code",
   "execution_count": 62,
   "metadata": {
    "collapsed": true
   },
   "outputs": [],
   "source": [
    "Xnew_train, Xnew_test, ynew_train, ynew_test = train_test_split(new_subtracted_vectors, new_subtracted_y)"
   ]
  },
  {
   "cell_type": "code",
   "execution_count": 63,
   "metadata": {
    "collapsed": false
   },
   "outputs": [
    {
     "data": {
      "text/plain": [
       "array([[ 0.        ,  0.00643007,  0.        , ...,  0.        ,\n",
       "         0.        ,  0.        ],\n",
       "       [-0.01445194,  0.00472562,  0.00604486, ...,  0.        ,\n",
       "         0.        ,  0.        ],\n",
       "       [-0.00571085, -0.00122234,  0.        , ...,  0.        ,\n",
       "         0.        ,  0.        ],\n",
       "       ..., \n",
       "       [ 0.        , -0.00194317,  0.        , ...,  0.        ,\n",
       "         0.        ,  0.        ],\n",
       "       [ 0.00261787,  0.0112248 ,  0.        , ...,  0.        ,\n",
       "         0.        ,  0.        ],\n",
       "       [ 0.00609003,  0.00044511,  0.        , ...,  0.02056965,\n",
       "         0.        ,  0.        ]])"
      ]
     },
     "execution_count": 63,
     "metadata": {},
     "output_type": "execute_result"
    }
   ],
   "source": [
    "Xnew_train"
   ]
  },
  {
   "cell_type": "code",
   "execution_count": 64,
   "metadata": {
    "collapsed": true
   },
   "outputs": [],
   "source": [
    "newlr = LogisticRegression()"
   ]
  },
  {
   "cell_type": "code",
   "execution_count": 65,
   "metadata": {
    "collapsed": false
   },
   "outputs": [
    {
     "data": {
      "text/plain": [
       "LogisticRegression(C=1.0, class_weight=None, dual=False, fit_intercept=True,\n",
       "          intercept_scaling=1, max_iter=100, multi_class='ovr',\n",
       "          penalty='l2', random_state=None, solver='liblinear', tol=0.0001,\n",
       "          verbose=0)"
      ]
     },
     "execution_count": 65,
     "metadata": {},
     "output_type": "execute_result"
    }
   ],
   "source": [
    "newlr.fit(Xnew_train, ynew_train)"
   ]
  },
  {
   "cell_type": "code",
   "execution_count": 66,
   "metadata": {
    "collapsed": false
   },
   "outputs": [
    {
     "data": {
      "text/plain": [
       "1.0"
      ]
     },
     "execution_count": 66,
     "metadata": {},
     "output_type": "execute_result"
    }
   ],
   "source": [
    "newlr.score(Xnew_train, ynew_train)"
   ]
  },
  {
   "cell_type": "code",
   "execution_count": 69,
   "metadata": {
    "collapsed": true
   },
   "outputs": [],
   "source": [
    "ynew_hat = newlr.predict(Xnew_test)"
   ]
  },
  {
   "cell_type": "code",
   "execution_count": 70,
   "metadata": {
    "collapsed": false
   },
   "outputs": [
    {
     "name": "stderr",
     "output_type": "stream",
     "text": [
      "/Users/datascientist/anaconda/lib/python2.7/site-packages/sklearn/metrics/classification.py:958: UndefinedMetricWarning: F-score is ill-defined and being set to 0.0 due to no predicted samples.\n",
      "  'precision', 'predicted', average, warn_for)\n"
     ]
    },
    {
     "data": {
      "text/plain": [
       "0.0"
      ]
     },
     "execution_count": 70,
     "metadata": {},
     "output_type": "execute_result"
    }
   ],
   "source": [
    "f1_score(ynew_test, ynew_hat)"
   ]
  },
  {
   "cell_type": "code",
   "execution_count": 67,
   "metadata": {
    "collapsed": false
   },
   "outputs": [
    {
     "data": {
      "text/plain": [
       "0.45833333333333331"
      ]
     },
     "execution_count": 67,
     "metadata": {},
     "output_type": "execute_result"
    }
   ],
   "source": [
    "newlr.score(Xnew_test, ynew_test)"
   ]
  },
  {
   "cell_type": "code",
   "execution_count": 68,
   "metadata": {
    "collapsed": false
   },
   "outputs": [
    {
     "data": {
      "text/plain": [
       "0.54166666666666663"
      ]
     },
     "execution_count": 68,
     "metadata": {},
     "output_type": "execute_result"
    }
   ],
   "source": [
    "sum(ynew_test)/float(len(ynew_test))"
   ]
  },
  {
   "cell_type": "code",
   "execution_count": 98,
   "metadata": {
    "collapsed": false
   },
   "outputs": [],
   "source": [
    "newrf = RandomForestClassifier(n_estimators=10000)"
   ]
  },
  {
   "cell_type": "code",
   "execution_count": 99,
   "metadata": {
    "collapsed": false
   },
   "outputs": [
    {
     "data": {
      "text/plain": [
       "RandomForestClassifier(bootstrap=True, class_weight=None, criterion='gini',\n",
       "            max_depth=None, max_features='auto', max_leaf_nodes=None,\n",
       "            min_samples_leaf=1, min_samples_split=2,\n",
       "            min_weight_fraction_leaf=0.0, n_estimators=10000, n_jobs=1,\n",
       "            oob_score=False, random_state=None, verbose=0,\n",
       "            warm_start=False)"
      ]
     },
     "execution_count": 99,
     "metadata": {},
     "output_type": "execute_result"
    }
   ],
   "source": [
    "newrf.fit(Xnew_train, ynew_train)"
   ]
  },
  {
   "cell_type": "code",
   "execution_count": 100,
   "metadata": {
    "collapsed": false
   },
   "outputs": [
    {
     "data": {
      "text/plain": [
       "0.54166666666666663"
      ]
     },
     "execution_count": 100,
     "metadata": {},
     "output_type": "execute_result"
    }
   ],
   "source": []
  },
  {
   "cell_type": "code",
   "execution_count": 107,
   "metadata": {
    "collapsed": false
   },
   "outputs": [
    {
     "name": "stdout",
     "output_type": "stream",
     "text": [
      "debate_text/campus_assault.txt\n",
      "['Jed Rubenfeld:', 'Jeannie Suk:']\n",
      "['Michelle Anderson:', 'Stephen Schulhofer:']\n",
      "*****************************************************\n",
      "debate_text/ISIS_defeated.txt\n",
      "[]\n",
      "[]\n",
      "*****************************************************\n",
      "debate_text/samesex.txt\n",
      "['John Eastman:', 'Sherif Girgis:']\n",
      "['Kenji Yoshino:', 'Evan Wolfson:']\n",
      "*****************************************************\n",
      "debate_text/iran_deal.txt\n",
      "['Philip Gordon:', 'Thomas Pickering:']\n",
      "['Michael Doran:', 'Mark Dubowitz:']\n",
      "*****************************************************\n",
      "debate_text/death_penalty.txt\n",
      "['Diann Rust-Tierney:', 'Barry Scheck:']\n",
      "['Robert Blecker:', 'Kent Scheidegger:']\n",
      "*****************************************************\n",
      "debate_text/constitutional_authority.txt\n",
      "['Gene Healy:', 'Deborah Pearlstein:']\n",
      "['Akhil Amar:', 'Philip Bobbitt:']\n",
      "*****************************************************\n",
      "debate_text/right_to_forget.txt\n",
      "['Paul Nemitz:', 'Eric Posner:']\n",
      "['Jonathan Zittrain:', 'Andrew McLaughlin:']\n",
      "*****************************************************\n",
      "debate_text/liberals_stifling.txt\n",
      "['Greg Lukianoff:', 'Kirsten Powers:']\n",
      "['Angus Johnston:', 'Jeremy Mayer:']\n",
      "*****************************************************\n",
      "debate_text/declinists.txt\n",
      "['Josef Joffe:', 'Peter Zeihan:']\n",
      "['Chrystia Freeland:', 'James Rickards:']\n",
      "*****************************************************\n",
      "debate_text/amazon.txt\n",
      "['Joe Konrath:', 'Matthew Yglesias:']\n",
      "['Franklin Foer:', 'Scott Turow:']\n",
      "*****************************************************\n",
      "debate_text/gmos.txt\n",
      "['Robert Fraley:', 'Alison Van Eenennaam:']\n",
      "['Charles Benbrook:', 'Margaret Mellon:']\n",
      "*****************************************************\n",
      "debate_text/eutha.txt\n",
      "['Peter Singer:', 'Andrew Solomon:']\n",
      "['Ilora Finlay:', 'Daniel Sulmasy:']\n",
      "*****************************************************\n",
      "debate_text/income_inequal.txt\n",
      "['Elise Gould:', 'Nick Hanauer:']\n",
      "['Edward Conard:', 'Scott Winship:']\n",
      "*****************************************************\n",
      "debate_text/mass_collection.txt\n",
      "['Alex Abdo:', 'Elizabeth Wydra:']\n",
      "['Stewart Baker:', 'John Yoo:']\n",
      "*****************************************************\n",
      "debate_text/flexing_musc.txt\n",
      "['Aaron David Miller:', 'Paul Pillar:']\n",
      "['Michael Doran:', 'Bret Stephens:']\n",
      "*****************************************************\n",
      "debate_text/common_core.txt\n",
      "['Carmel Martin:', 'Michael Petrilli:']\n",
      "['Carol Burris:', 'Frederick Hess:']\n",
      "*****************************************************\n",
      "debate_text/pacs.txt\n",
      "['Floyd Abrams:', 'Nadine Strossen:', 'Floyd Abrams:', 'Nadine Strossen:']\n",
      "['Burt Neuborne:', 'Zephyr Teachout:', 'Burt Neuborne:', 'Zephyr Teachout:']\n",
      "*****************************************************\n",
      "debate_text/death_not_final.txt\n",
      "['Eben Alexander:', 'Raymond Moody:']\n",
      "['Sean Carroll:', 'Steven Novella:']\n",
      "*****************************************************\n",
      "debate_text/millenials.txt\n",
      "['Binta Niambi Brown:', 'W. Keith Campbell:']\n",
      "['David Burstein:', 'Jessica Grose:']\n",
      "*****************************************************\n",
      "debate_text/lecture_obsolete.txt\n",
      "['Anant Agarwal:', 'Ben Nelson:']\n",
      "['Jonathan Cole:', 'Rebecca Schuman:']\n",
      "*****************************************************\n",
      "debate_text/russia.txt\n",
      "['Ian Bremmer:', 'Edward Lucas:']\n",
      "['Amb. Robert Blackwill:', 'Peter Hitchens:']\n",
      "*****************************************************\n",
      "debate_text/USA_kill.txt\n",
      "['Alan Dershowitz:', 'Michael Lewis:']\n",
      "['Noah Feldman:', 'Hina Shamsi:']\n",
      "*****************************************************\n",
      "debate_text/affirmative.txt\n",
      "['Gail Heriot:', 'Richard Sander:']\n",
      "['Theodore Shaw:', 'Randall Kennedy:']\n",
      "*****************************************************\n",
      "debate_text/snowden.txt\n",
      "['Daniel Ellsberg:', 'Ben Wizner:']\n",
      "['Andrew McCarthy:', 'James Woolsey:']\n",
      "*****************************************************\n",
      "debate_text/obamacare.txt\n",
      "['Dr. Scott Gottlieb:', 'Megan McArdle:']\n",
      "['Jonathan Chait:', 'Douglas Kamerow:']\n",
      "*****************************************************\n",
      "debate_text/eat_face.txt\n",
      "['Dr. Neal Bernard:', 'Gene Baur:', 'their second vote was 45 percent.  They went from 24 percent to 45:']\n",
      "['Chris Masterjohn:', 'Joel Salatin:']\n",
      "*****************************************************\n",
      "debate_text/spy_on_me.txt\n",
      "['Stewart Baker:', 'Richard Falkenrath:']\n",
      "['David Cole:', 'Michael German:']\n",
      "*****************************************************\n",
      "debate_text/right_to_bear.txt\n",
      "['Alan Dershowitz:', 'Sanford Levinson:']\n",
      "['David Kopel:', 'Eugene Volokh:']\n",
      "*****************************************************\n",
      "debate_text/take_job_anywhere.txt\n",
      "['Bryan Caplan:', 'Vivek Wadhwa:']\n",
      "['Kathleen Newland:', 'Ron Unz:']\n",
      "*****************************************************\n",
      "debate_text/red_state.txt\n",
      "['Hugh Hewitt:', 'Stephen Moore:']\n",
      "['Gray Davis:', 'Michael Lind:']\n",
      "*****************************************************\n",
      "debate_text/break_up_banks.txt\n",
      "['Richard Fisher:', 'Simon Johnson:']\n",
      "['Douglas Elliott:', 'Paul Saltzman:']\n",
      "*****************************************************\n",
      "debate_text/drones.txt\n",
      "['Ahmed Rashid:', 'John Kael Weston:']\n",
      "['Dennis Blair:', 'Norton Schwartz:']\n",
      "*****************************************************\n",
      "debate_text/us_syria.txt\n",
      "['Graham Allison:', 'Richard Falkenrath:']\n",
      "['R. Nicholas Burns:', 'Sir Nigel Sheinwald:']\n",
      "*****************************************************\n",
      "debate_text/pentagon_budget.txt\n",
      "['Thomas Donnelly:', 'Andrew Krepinevich:']\n",
      "['Benjamin Friedman:', 'Kori Schake:']\n",
      "*****************************************************\n",
      "debate_text/fda_caution.txt\n",
      "['Dr. Scott Gottlieb:', 'Peter Huber:']\n",
      "['Dr. Jerry Avorn:', 'Dr. David Challoner:']\n",
      "*****************************************************\n",
      "debate_text/gop_center.txt\n",
      "['David Brooks:', 'Mickey Edwards:']\n",
      "['Laura Ingraham:', 'Ralph Reed:']\n",
      "*****************************************************\n",
      "debate_text/minimum_wage.txt\n",
      "['James Dorn:', 'Russell Roberts:']\n",
      "['Jared Bernstein:', 'Karen Kornbluh:']\n",
      "*****************************************************\n",
      "debate_text/strong_dollar.txt\n",
      "['Frederic Mishkin:', 'John Taylor:']\n",
      "['James Grant:', 'Steve Forbes:']\n",
      "*****************************************************\n",
      "debate_text/prohibit_genetic.txt\n",
      "['Sheldon Krimsky:', 'Lord Robert Winston:']\n",
      "['Nita Farahany:', 'Lee Silver:']\n",
      "*****************************************************\n",
      "debate_text/nuclear_iran.txt\n",
      "['James Dobbins:', 'Reuven Pedatzur:']\n",
      "['Shmuel Bar:', 'Jeffrey Goldberg:']\n",
      "*****************************************************\n",
      "debate_text/science_god.txt\n",
      "['Lawrence Krauss:', 'Michael Shermer:']\n",
      "['Dinesh D\\xe2\\x80\\x99Souza:', 'Ian Hutchinson:']\n",
      "*****************************************************\n",
      "debate_text/legalize_drugs.txt\n",
      "['Paul Butler:', 'Nick Gillespie:']\n",
      "['Theodore Dalrymple:', 'Asa Hutchinson:']\n",
      "*****************************************************\n",
      "debate_text/rich_taxed.txt\n",
      "['Glenn Hubbard:', 'Arthur Laffer:']\n",
      "['Robert Reich:', 'Mark Zandi:']\n",
      "*****************************************************\n",
      "debate_text/end_of_life_care.txt\n",
      "['Arthur Kellermann:', 'Peter Singer:']\n",
      "['Ken Connor:', 'Sally Pipes:']\n",
      "*****************************************************\n",
      "debate_text/elected_islamists.txt\n",
      "['Reuel Marc Gerecht:', 'Brian Katulis:']\n",
      "['Daniel Pipes:', 'M. Zuhdi Jasser:']\n",
      "*****************************************************\n",
      "debate_text/money_politics_overregulated.txt\n",
      "['David Keating:', 'Jacob Sullum:']\n",
      "['Trevor Potter:', 'Jonathan Soros:']\n",
      "*****************************************************\n",
      "debate_text/natural_gas_bad.txt\n",
      "['Deborah Goldberg:', 'Katherine Hudson:']\n",
      "['Joe Nocera:', 'Susan Tierney:']\n",
      "*****************************************************\n",
      "debate_text/ban_football.txt\n",
      "['Buzz Bissinger:', 'Malcolm Gladwell:']\n",
      "['Tim Green:', 'Jason Whitlock:']\n",
      "*****************************************************\n",
      "debate_text/internet_closing_minds.txt\n",
      "['Eli Pariser:', 'Siva Vaidhyanathan:']\n",
      "['Evgeny Morozov:', 'Jacob Weisberg:']\n",
      "*****************************************************\n",
      "debate_text/china_capitalism_better.txt\n",
      "['Orville Schell:', 'Peter Schiff:']\n",
      "['Ian Bremmer:', 'Minxin Pei:']\n",
      "*****************************************************\n",
      "debate_text/obesity_govt_business.txt\n",
      "['Pamela Peeke:', 'David Satcher:']\n",
      "['Paul Campos:', 'John Stossel:']\n",
      "*****************************************************\n",
      "debate_text/palestine_statehood.txt\n",
      "['Mustafa Barghouthi:', 'Daniel Levy:']\n",
      "['Dore Gold:', 'Aaron David Miller:']\n",
      "*****************************************************\n",
      "debate_text/no_religion.txt\n",
      "['Matthew Chapman:', 'A.C. Grayling:']\n",
      "['Dinesh D\\xe2\\x80\\x99Souza:', 'David Wolpe:']\n",
      "*****************************************************\n",
      "debate_text/job_plan.txt\n",
      "['Cecilia Rouse:', 'Mark Zandi:']\n",
      "['Richard Epstein:', 'Daniel Mitchell:']\n",
      "*****************************************************\n",
      "debate_text/too_many_kids_college.txt\n",
      "['Charles Murray:', 'Peter Thiel:']\n",
      "['Henry Bienen:', 'Vivek Wadhwa:']\n",
      "*****************************************************\n",
      "debate_text/grandmas_benefits.txt\n",
      "['Margaret Hoover:', 'Mort Zuckerman:']\n",
      "['Howard Dean:', 'Jeff Madrick:']\n",
      "*****************************************************\n",
      "debate_text/men_are_finished.txt\n",
      "['Dan Abrams:', 'Hanna Rosin:']\n",
      "['Christina Hoff Sommers:', 'David Zinczenko:']\n",
      "*****************************************************\n",
      "debate_text/end_war_on_terror.txt\n",
      "['Peter Bergen:', 'Juliette Kayyem:']\n",
      "['Richard Falkenrath:', 'Michael Hayden:']\n",
      "*****************************************************\n",
      "debate_text/freedom_press_state.txt\n",
      "['Michael Chertoff:', 'Gabriel Schoenfeld:']\n",
      "['Alan Dershowitz:', 'David Sanger:']\n",
      "*****************************************************\n",
      "debate_text/dont_give_us.txt\n",
      "['Kris Kobach:', 'Tom Tancredo:']\n",
      "['Juli\\xc3\\xa1n Castro:', 'Tamar Jacoby:']\n",
      "*****************************************************\n",
      "debate_text/clip_americas_wings.txt\n",
      "['Peter Galbraith:', 'Lawrence Korb:']\n",
      "['Elliott Abrams:', 'Eliot Cohen:']\n",
      "*****************************************************\n",
      "debate_text/clean_energy.txt\n",
      "['Bill Ritter:', 'Kassia Yanosek:']\n",
      "['Robert Bryce:', 'Steven Hayward:']\n",
      "*****************************************************\n",
      "debate_text/two_party_bad.txt\n",
      "['David Brooks:', 'Arianna Huffington:']\n",
      "['Zev Chafets:', 'P.J. O\\xe2\\x80\\x99Rourke:']\n",
      "*****************************************************\n",
      "debate_text/repeal_obamacare.txt\n",
      "['Douglas Holtz-Eakin:', 'John Shadegg:']\n",
      "['Jonathan Cohn:', 'Paul Starr:']\n",
      "*****************************************************\n",
      "debate_text/airports_profiling.txt\n",
      "['Robert Baer:', 'Deroy Murdock:', 'Asra Nomani:']\n",
      "['Hassan Abbas:', 'Debra Burlingame:', 'Michael Chertoff:']\n",
      "*****************************************************\n",
      "debate_text/afghanistan_lost.txt\n",
      "['Matthew Hoh:', 'Nir Rosen:']\n",
      "['Peter Bergen:', 'Max Boot:']\n",
      "*****************************************************\n",
      "debate_text/big_govt_stifling.txt\n",
      "['Phil Gramm:', 'Arthur Laffer:']\n",
      "['Nouriel Roubini:', 'Laura Tyson:']\n",
      "*****************************************************\n",
      "debate_text/islam_is_peace.txt\n",
      "['Zeba Khan:', 'Maajid Nawaz:']\n",
      "['Ayaan Hirsi Ali:', 'Douglas Murray:']\n",
      "*****************************************************\n",
      "debate_text/terrorists_enemy_combatants.txt\n",
      "['Michael Hayden:', 'Marc Thiessen:']\n",
      "['David Frakt:', 'Stephen Jones:']\n",
      "*****************************************************\n",
      "debate_text/cyber_war_exaggerated.txt\n",
      "['Marc Rotenberg:', 'Bruce Schneier:']\n",
      "['Mike McConnell:', 'Jonathan Zittrain:']\n",
      "*****************************************************\n",
      "debate_text/obamas_policy_us_decline.txt\n",
      "['Dan Senor:', 'Mort Zuckerman:']\n",
      "['Wesley Clark:', 'Bernard-Henri L\\xc3\\xa9vy:']\n",
      "*****************************************************\n",
      "debate_text/organic_is_hype.txt\n",
      "['Dennis Avery:', 'Blake Hurst:', 'John Krebs:']\n",
      "['Charles Benbrook:', 'Urvashi Rangan:', 'Jeffrey Steingarten:']\n",
      "*****************************************************\n",
      "debate_text/teacher_unions_failing_schools.txt\n",
      "['Kate McLaughlin:', 'Gary Smuts:', 'Randi Weingarten:']\n",
      "['Terry Moe:', 'Rod Paige:', 'Larry Sand:', 'Larry Sand:', 'retired teacher:', 'president of the California Teachers:']\n",
      "*****************************************************\n",
      "debate_text/us_stepback_israel.txt\n",
      "['Roger Cohen:', 'Rashid Khalidi:']\n",
      "['Stuart Eizenstat:', 'Itamar Rabinovich:']\n",
      "*****************************************************\n",
      "debate_text/california_failed.txt\n",
      "['Andreas Kluth:', 'Bobby Shriver:', 'Sharon Waxman:', '31%:', '58%:']\n",
      "['Gray Davis:', 'Van Jones:', 'Lawrence O\\xe2\\x80\\x99Donnell:', 'Khin Mai Aung:', 'Kimberl\\xc3\\xa9 Crenshaw:', 'Tim Wise:', '25%:', '37%:']\n",
      "*****************************************************\n",
      "debate_text/us_mexico_drugs.txt\n",
      "['Andr\\xc3\\xa9s Martinez:', 'Jeffrey Miron:', 'Fareed Zakaria:', '43%:', '72%:']\n",
      "['Jorge Casta\\xc3\\xb1eda:', 'Chris Cox:', 'Asa Hutchinson:', '22%:', '22%:']\n",
      "*****************************************************\n",
      "debate_text/obamas_policies_working.txt\n",
      "['Lawrence Mishel:', 'Steve Rattner:', 'Mark Zandi:', '32%:', '46%:']\n",
      "['James Galbraith:', 'Allan Meltzer:', 'Eliot Spitzer:', '29%:', '42%:']\n",
      "*****************************************************\n",
      "debate_text/good_riddance_mainstream.txt\n",
      "['John Hockenberry:', 'Jim VandeHei:', 'Michael Wolff:', '25%:', '24%:']\n",
      "['Phil Bronstein:', 'David Carr:', 'Katrina vanden Heuvel:', '50%:', '68%:']\n",
      "*****************************************************\n",
      "debate_text/us_will_not_succeed_afghan.txt\n",
      "['Steve Clemons:', 'Patrick Lang:', 'Ralph Peters:', '48%:', '43%:']\n",
      "['Steve Coll:', 'John Nagl:', 'James Shinn:', '25%:', '45%:']\n",
      "*****************************************************\n",
      "debate_text/buy_american_bad.txt\n",
      "['Jagdish Bhagwati:', 'Douglas Irwin:', 'Susan Schwab:', '57%:', '72%:']\n",
      "['Leo Gerard:', 'John R. MacArthur:', 'Jeff Madrick:', '20%:', '14%:']\n",
      "*****************************************************\n",
      "debate_text/diplomacy_iran_nowhere.txt\n",
      "['Liz Cheney & Dan Senor:', '34%:', '35%:']\n",
      "['Amb. R. Nicholas Burns & Kenneth Pollack:', '33%:', '59%:']\n",
      "*****************************************************\n",
      "debate_text/pay_for_sex.txt\n",
      "['Melissa Farley:', 'Catharine A. MacKinnon:', 'Wendy Shalit:', '20%:', '45%:', '25%:', '58%:', '13%:', '27%:']\n",
      "['Sydney Biddle Barrows:', 'Tyler Cowen:', 'Lionel Tiger:', '50%:', '46%:', '41%:', '34%:', '61%:', '66%:']\n",
      "*****************************************************\n",
      "debate_text/blame_washington_financial.txt\n",
      "['Niall Ferguson:', 'John Steele Gordon:', 'Nouriel Roubini:', '42%:', '60%:']\n",
      "['Alex Berenson:', 'Jim Chanos:', 'Nell Minow:', '30%:', '31%:']\n",
      "*****************************************************\n",
      "debate_text/art_market_ethical.txt\n",
      "['Richard Feigen:', 'Michael Hue-Williams:', 'Adam Lindemann:', '32%:', '55%:']\n",
      "['Amy Cappellazzo:', 'Chuck Close:', 'Jerry Saltz:', '30%:', '33%:']\n",
      "*****************************************************\n",
      "debate_text/carbon_reductions_not_worth_it.txt\n",
      "['Peter Huber:', 'Bjorn Lomborg:', 'Philip Stott:', '16%:', '42%:']\n",
      "['L. Hunter Lovins:', 'Oliver Tickell:', 'Adam Werbach:', '49%:', '48%:']\n",
      "*****************************************************\n",
      "debate_text/bush_is_worst.txt\n",
      "['Simon Jenkins:', 'Jacob Weisberg:', '65%:', '68%:']\n",
      "['William Kristol:', 'Karl Rove:', '17%:', '27%:']\n",
      "*****************************************************\n",
      "debate_text/google_dont_be_evil.txt\n",
      "['Harry Lewis:', 'Randal Picker:', 'Siva Vaidhyanathan:', '21%:', '47%:']\n",
      "['Esther Dyson:', 'Jim Harper:', 'Jeff Jarvis:', '31%:', '47%:']\n",
      "*****************************************************\n",
      "debate_text/guns_reduce_crime.txt\n",
      "['Stephen Halbrook:', 'Gary Kleck:', 'John R. Lott Jr.:', '13%:', '27%:']\n",
      "['John J. Donohue III:', 'Paul Helmke:', 'R. Gil Kerlikowske:', '60%:', '63%:']\n",
      "*****************************************************\n",
      "debate_text/america_winning_iraq.txt\n",
      "['Frederick Kagan:', 'General Jack Keane (ret.):', '20%:', '36%:']\n",
      "['Charles Ferguson:', 'Sir Malcolm Rifkind:', '54%:', '53%:']\n",
      "*****************************************************\n",
      "debate_text/universal_health.txt\n",
      "['Art Kellermann:', 'Paul Krugman:', 'Michael Rachlis:', '49%:', '58%:']\n",
      "['Michael Cannon:', 'Sally Pipes:', 'John Stossel:', '24%:', '34%:']\n",
      "*****************************************************\n",
      "debate_text/legalize_organs.txt\n",
      "['Lloyd Cohen:', 'Amy Friedman:', 'Sally Satel:', '44%:', '60%:']\n",
      "['James Childress:', 'Francis Delmonico:', 'David Rothman:', '27%:', '31%:']\n",
      "*****************************************************\n",
      "debate_text/islam_radicals.txt\n",
      "['Daveed Gartenstein-Ross:', 'Paul Marshall:', 'Asra Nomani:', '46%:', '73%:']\n",
      "['Reza Aslan:', 'Richard Bulliet:', 'Edina Lekovic:', '32%:', '23%:']\n",
      "*****************************************************\n",
      "debate_text/tough_interrogation.txt\n",
      "['Rick Francona:', 'Heather Mac Donald:', 'David Rivkin:', '46%:', '40%:']\n",
      "['Jack Cloonan:', 'John Hutson:', 'Darius Rejali:', '35%:', '53%:']\n",
      "*****************************************************\n",
      "debate_text/america_policeman.txt\n",
      "['Max Boot:', 'Michael Mandelbaum:', 'Douglas Murray:', '24%:', '47%:']\n",
      "['Ian Bremmer:', 'Ellen Laipson:', 'Matthew Parris:', '44%:', '48%:']\n",
      "*****************************************************\n",
      "debate_text/performance_enhancing.txt\n",
      "['Radley Balko:', 'Norman Fost:', 'Julian Savulescu:']\n",
      "['George Michael:', 'Dale Murphy:', 'Richard Pound:']\n",
      "*****************************************************\n",
      "debate_text/aid_africa_bad.txt\n",
      "['George Ayittey:', 'William Easterly:', 'David Rieff:']\n",
      "['C. Payne Lucas:', 'John McArthur:', 'Gayle Smith:']\n",
      "*****************************************************\n",
      "debate_text/end_affirmative.txt\n",
      "['John McWhorter:', 'Terence Pell:', 'Joseph Phillips:']\n",
      "['Khin Mai Aung:', 'Kimberl\\xc3\\xa9 Crenshaw:', 'Tim Wise:']\n",
      "*****************************************************\n",
      "debate_text/russia_enemy_again.txt\n",
      "['Claudia Rosett:', 'Bret Stephens:', 'J. Michael Waller:']\n",
      "['Nina Khrushcheva:', 'Robert Legvold:', 'Mark Medish:']\n",
      "*****************************************************\n",
      "debate_text/stop_welcoming_immigrants.txt\n",
      "['Vernon Briggs Jr.:', 'Mark Krikorian:', 'Heather Mac Donald:']\n",
      "['Daniel Griswold:', 'Enrique Morones:', 'Karen Narasaki:']\n",
      "*****************************************************\n",
      "debate_text/spread_democracy_me.txt\n",
      "[]\n",
      "[]\n",
      "*****************************************************\n",
      "debate_text/booming_china.txt\n",
      "[]\n",
      "[]\n",
      "*****************************************************\n",
      "debate_text/more_domestic_surveillance.txt\n",
      "[]\n",
      "[]\n",
      "*****************************************************\n",
      "debate_text/global_warming_not.txt\n",
      "[]\n",
      "['Climate Scientist at the Union of Concerned:']\n",
      "*****************************************************\n",
      "debate_text/america_too_religious.txt\n",
      "[]\n",
      "[]\n",
      "*****************************************************\n",
      "debate_text/hollywood_anti_us.txt\n",
      "[]\n",
      "[]\n",
      "*****************************************************\n",
      "debate_text/democratic_hamas.txt\n",
      "[]\n",
      "[]\n",
      "*****************************************************\n",
      "debate_text/license_to_offend.txt\n",
      "[]\n",
      "[]\n",
      "*****************************************************\n",
      "debate_text/tolerate_iran.txt\n",
      "[]\n",
      "[]\n",
      "*****************************************************\n"
     ]
    }
   ],
   "source": []
  },
  {
   "cell_type": "code",
   "execution_count": 2,
   "metadata": {
    "collapsed": true
   },
   "outputs": [],
   "source": [
    "###Feature Engineering: \n",
    "###Gender \n",
    "###Sentiment Analysis \n",
    "###"
   ]
  },
  {
   "cell_type": "code",
   "execution_count": 3,
   "metadata": {
    "collapsed": true
   },
   "outputs": [],
   "source": [
    "from textblob import TextBlob"
   ]
  },
  {
   "cell_type": "code",
   "execution_count": 33,
   "metadata": {
    "collapsed": false
   },
   "outputs": [],
   "source": [
    "wiki = TextBlob(\"Thank you very much.  And first Id like to thank Bob and Alexandra and Dana for the terrific job theyve done in turning this debate series into reality.  And Id like to thank all of you for showing up on such a miserable evening to hear a debate about what I do think is one of the most important issues that we could possibly talk about.   No doubt many of you are asking yourselves tonight, why should America take on the thankless task of policing the globe.  To answer that question, start by Media Transcripts, Inc. PROGRAM Rosenkranz Foundation-Intelligence Square U.S.- America Should be the World's Policeman Page 5. asking, does the world need a policeman.   Thats like asking whether New York City needs a police force.  As long as evil exists, someone will have to protect peaceful people from predators.  The international system is no different in this regard from your own neighborhood, except that predators abroad are far more dangerous than ordinary robbers, rapists and murderers.   They are, if given half a chance, mass robbers, mass rapists, mass murderers.  Without an effective police force the world community would fall apart faster, and more completely than New York City did in the 1970s. There are to be sure lots of international laws on the books prohibiting genocide, landmines, biological weapons and other nasty things.  But without enforcement mechanisms they are as worthless as the Kellogg-Briand Pact, which outlawed war as an instrument of national policy, 11 years before the Vermacht rolled into Poland.   The hope of idealistic liberals for more than a century has been that some international organization would punish the wicked.  But the League of Nations was a dismal failure, and the UN is not much better.   The best multilateral alternative is probably NATO.  But from Bosnia to Afghanistan we have seen time and again that NATO has trouble acting effectively.  In fact five retired NATO generals have just issued a report that bemoans the absence of a properly defined political Media Transcripts, Inc. PROGRAM Rosenkranz Foundation-Intelligence Square U.S.- America Should be the World's Policeman Page 6. objective, the absence of an integrated strategy to achieve that objective, and the absence of capabilities to implement the strategy.   Now that doesnt mean we should abandon NATO.  It does mean we should have no illusions that its European members can fend for themselves.  So who does that leave to be the worlds policeman.  Belgium, Bolivia, Burkina Faso, Bangladesh? I think the answers pretty obvious.  Its the country with the most vibrant economy, the most fervent devotion to liberty, and the most powerful military.  In the 19th century, Great Britain battled enemies of all mankind such as slave traders and pirates, preserved the balance of power on the continent, and kept the worlds seas open to commerce.   Today the only nation that can play an equivalent role is the United States of America.  Allies will be needed, but America is, as Madeline Albright said, the indispensable nation.  Now skeptics will reply that America has an isolationist past, and no desire to past globo-cop.  But rumors of American isolationism are greatly exaggerated.   Since the earliest days of the republic American traders, missionaries and soldiers have penetrated the farthest corners of the world, and they have a long history of upholding civilized norms.   I am reminded in fact of the words spoken 104 years ago, by a great New Yorker.  He said, Chronic wrongdoing, or an impotence Media Transcripts, Inc. PROGRAM Rosenkranz Foundation-Intelligence Square U.S.- America Should be the World's Policeman Page 7. which results in a general loosening of the ties of civilized society, may ultimately require intervention by some civilized nation. And in the Western Hemisphere, the adherence of the United States to the Monroe Doctrine may force the United States, however reluctantly, in flagrant cases of such wrongdoing or impotence, to the exercise of an international police power. Now when Teddy Roosevelt spoke those words, the Western Hemisphere was the only place where the US exercised military hegemony.  Today America exercises almost as much power everywhere around the world, as we once had only the Caribbean.   In fact we have more power than any other state in history.  Thus, by Roosevelts logic the US is obligated to defend civilization, and that is precisely what we are doing.  That is why American troops have fought in places like Bosnia, Kosovo, Afghanistan and Iraq to uprestore the rule of law and uphold human rights.   That is why American troops are still stationed from South Korea to Germany, to prevent aggression and a return of dangerous rivalries.  That is why the US Navy patrols the worlds oceans, to prevent the closing of checkpoints at chokepoints, such as the Straits of Hormuz. And thats why numerous agencies of the US government work to combat terrorism, and to stop the spread of weapons of mass Media Transcripts, Inc. PROGRAM Rosenkranz Foundation-Intelligence Square U.S.- America Should be the World's Policeman Page 8. destruction.  That is what being the worlds policeman is all about.  Of course we cannot right every wrong, nor intervene everywhere.   We have to use prudence and judgment in the exercise of our power, something we have not always done in recent years.  But Americas occasional missteps should not lead us to abdicate our indispensable role, any more than the NYPD should stop doing its vital work, simply because cops occasionally do the wrong thing.   On balance, the NYPD still does far more good than harm, and so does the United States of America.  In fact America has been the greatest force for good in the world in the past century.  Just think of what happened when we did not act as globo-cop.   Think of what happened in 1914, in 1939.  By contrast, think of what happened when we did act as globo-cop.  Think of what happened in 1945, and 1989. American intervention made possible the defeat of Nazism, and Communism.  American isolationism made possible the outbreak of two world wars. As these examples demonstrate, there is nothing altruistic about our globo-cop role.  As the worlds most prosperous country, and as a country that depends for its prosperity on the free flow of people, capital and products, we are the biggest beneficiaries of the liberal international order that we safeguard.   Compared with the benefits that we gain the financial costs are trivial.  We Media Transcripts, Inc. PROGRAM Rosenkranz Foundation-Intelligence Square U.S.- America Should be the World's Policeman Page 9. currently spend 4% of our GPD on defense, a lot less than the average during the past four decades.  That 4 cents on the dollar preserving international peace and stability is a bargain.   Now I imagine that the other side will claim that our international policing function makes us hated, and leads to greater violence against us.  That is sometimes the case and I will be the first to admit it.  But we are as often reviled for not acting, for not stopping the genocide in Rwanda or Darfur, for not imposing peace between the Israelis and Palestinians.   And yes, there is a cost to be paid for action, as weve learned in Iraq. MORLEY SAFER One minute MAX BOOT But there is also a cost to be paid for inaction.  During the 1990s we ignored our policing responsibilities in Afghanistan.  As the civil war raged between the Taliban and the Northern Alliance, our leaders said in essence what Britains leaders said in the 1930sthat there is no reason to be concerned about a quarrel in a faraway country between people of whom we know nothing. Well on 9-11 we found out why we should care.  The answer can be seen a few miles from here, where the World Trade Center once stood.  9-11 shouldve taught us that we cannot ignore potential peril, nor count on others to protect us.   We must safeguard ourselves, and not simply by launching retaliatory Media Transcripts, Inc. PROGRAM Rosenkranz Foundation-Intelligence Square U.S.- America Should be the World's Policeman Page 10. strikes after thousands, perhaps millions have perished.  We need to play a proactive role.  We need to police areas of unrest, and to do what we can to bring decent government to war-torn lands.   If we fail to act, we, as the mightiest nation in the world, will pay the heaviest price.  I therefore urge you to heed Theodore Roosevelts admonition, and to vote in favor of America exercising an international police power.  Thank you. [APPLAUSE] MORLEY SAFER Against the motion, well begin with Ian Bremmer.  [PAUSE]  No, Im sorry, I am sorry  [LAUGHTER]  Okay.  I should sure this, cant I If I gave you the impression thatthe alternatives are either unilateralism or isolationism Ithats, thats false, and in fact I tried very hard not to give that impression because what I talked about was not necessary unilateralism, it was American global leadership, and as I said, we should try to act with allies wherever possible.   We should certainly not go it alone unless its absolutely necessary.  But in certain circumstances it is absolutely necessary, and even with allies we cannot simply do what the herd wants, we have to provide leadership.  We saw in the case of Bosnia for example in the early 1990s what happened when American global leadership was absent.   And that was genocide occurring and it was only when we stepped forward and mobilized our allies in the way that a policeman might mobilize a posse that we were able to be effective, so Media Transcripts, Inc. PROGRAM Rosenkranz Foundation-Intelligence Square U.S.- America Should be the World's Policeman Page 26. MORLEY SAFER But the record for intervention is abominable, when you think of the intervention in Vietnam.  When we think of the intervention in Cuba, I mean the list goes on and onand, and Chile. MAX BOOT Well, I would say to you MORLEY SAFER And all of those places. MAX BOOT Well, in the first place MORLEY SAFER We areinterventionists we may want to be, but inept we are. MAX BOOT Well, in fact I would argue that a lot of our interventions have worked out reasonably well and I think for example of World War II or the Gulf War and more importantly I think of the consequences of not in intervening, for example the fact that we did not intervene in Europe in the 1930s, I think that failure speaks for itself. MORLEY SAFER Well, in an age of atomic proliferation, reasonably well just isnt good enough, I guess.  Ms. Laipson, you talk about engagement MAX BOOT How many debaters do we have onon the other side there. Media Transcripts, Inc. PROGRAM Rosenkranz Foundation-Intelligence Square U.S.- America Should be the World's Policeman Page 27. [LAUGHTER] MORLEY SAFER You talk about engagement.  But, in the case of Iran where the other side really has no interest in engagement, or North Korea has no interest in engagement, I mean, we can be out there engaging all we want, and nobodys accepting the ring. Well, Id like to ask a question of Matthew Parris and I am tempted to ask if you know what the words ad hominem mean but I will refrain from asking that Instead I would like to ask about your fascinating claim that you have great knowledge and power to intuit the feelings of the American people which is denied to those of us who actually live here.  [LAUGHTER]  And I would like to ask you, therefore, why you claim that the American people will not support this role of Media Transcripts, Inc. PROGRAM Rosenkranz Foundation-Intelligence Square U.S.- America Should be the World's Policeman Page 44. global policeman if in fact they have supported American troops being stationed in East Asia and Europe for over 60 years and why you think that Republican and conservative voters in particular, do not support an interventionist role for the United States when they consistently back Presidents and Presidential candidates such as Ronald Reagan, George H.W. Bush, George W. Bush MORLEY SAFER [UNCLEAR] MAX BOOT and John McCain who are in fact leading advocates of intervention MORLEY SAFER I must remind the panelists that these are questions, not speeches.  So MAX BOOT Well MORLEY SAFER please keep the question brief, and then Matthew Parris MAX BOOT There was a question mark at the end MORLEY SAFER please keep your answer brief.  [LAUGHTER] Media Transcripts, Inc. PROGRAM Rosenkranz Foundation-Intelligence Square U.S.- America Should be the World's Policeman Page 45. I guess I would reply thats a little bit like asking well what do we do about the fact that John Gotti doesnt like the NYPD in his neighborhood.  Well, you have to deal with those issues, and sometimes you have to deal with them diplomatically and obviously nobodys suggesting that we start a war with Russia or Media Transcripts, Inc. PROGRAM Rosenkranz Foundation-Intelligence Square U.S.- America Should be the World's Policeman Page 53. China because we dislike some of their behavior.   But, youthe problem with the position that your side takes which is multilateralism is that basically, you hold us hostage to the views of a Russia or China, you basically say, we cannot act by leading a coalition of the willing, we cannot act with our posse, we have to wait for some multilateral institution before we can do something  and of course, Russia and China have vetoes in the most powerful multilateral institution that exists and they use their vetoes to shield wrongdoers such as Iran developing nuclear weapons, or to try to prevent us from intervening for example in Kosovo to stop the genocide.   So if you pay too much heed to the opinions of countries like Russia or China or other dictatorships which dont have the best interests, our best interests at heart or the worlds best interests at heart, basically you allow the worlds worst criminals free rein.  And thats something I dont think we can afford to, to let happen. [APPLAUSE] MORLEY SAFER Id like to open the Q-and-A up to the audience now.  Please stand when you ask your questions, and I ask that you do not start to ask the question until you have the microphone, one will get to you.   And please, please make the question short and to the point.  And if youre a member of the press here, please identify yourself.  Any questions? Media Transcripts, Inc. PROGRAM Rosenkranz Foundation-Intelligence Square U.S.- America Should be the World's Policeman Page 54. MALE AUDIENCE MEMBER Iover here.  I have one, over here.  I have a question for Mr. Bremmer.  You adduce a nuclear North Korea as an example of a failedpolice work, is thatis that the case? Well, I dont think that you can come up with any hard and fast criteria, I think a lot of what you do has to be really based on a realistic assessment of your capabilities at the moment, and nobody suggests that for example, that, if you haveif you saw murders occurring in New York City that therefore, the New York Police Department is a complete failure.   Obviously there are going to be crimes occurring in the world.  We cannot stop all of them, its beyond our means, everybody will admit that.  But I think we have to do what we can.  And I thinkIm with Bill Clinton when he said that it was a mistake not to have intervened in Rwanda, not to have stopped a genocide that it was in our power to stop, I think, it was correct that we did intervene in Bosnia and Kosovo and we stopped terrible bloodletting in the Balkans.   Today obviously our forces are engaged in Afghanistan and Iraq and we dont have the capability to intervene as many including me would like in places like Darfur.  And thats a sad, tragic reality, which means that hundreds of thousands of people are dying.   But of course, even if we dont have the capability to lead an intervention with massive use of force we can do other things such as using our global leadership role to push economic sanctions, or to provide enablers that might allow others to Media Transcripts, Inc. PROGRAM Rosenkranz Foundation-Intelligence Square U.S.- America Should be the World's Policeman Page 59. intervene, but unfortunately for all the talk from the other side, about how there are so many others out there willing to play this global policing role, we find time and time again, theres been very few cases of anybody willing to step forward where the United States does not lead and,  Im in favor of American leadership while recognizing the limits of our power and the fact that we cannot possibly intervene in every case, I think we should try to do as much good as possible within the bounds of our power. Can I just jump in and just make one point?  Because I think in your question and some of the others I kind of scent this notion of American declinism in the air.  And the fact that wereWoe is us.  Were over-stretched.  We cant do everything that we want to do.  And I think you should be aware of just how vast our power is.  The fact is that we spend more than the rest of the world, or as much as the rest of the world combined, on defense.  And Media Transcripts, Inc. PROGRAM Rosenkranz Foundation-Intelligence Square U.S.- America Should be the World's Policeman Page 61. were still spending only four per cent of our GDP, which is several percentage points less than we were spending during the Cold War.  We still have the worlds largest and richest economy. Weve been creating jobs at a pace that out-clips any other industrialized economy over the last twenty or thirty years.  Our population size is growing.  Were already the third largest country by population in the world.  And were projected to increase by another hundred and fifty million over the course of the next fifty years.  There are vast pools of power and resources in the United States that can be mobilized for the task that we have to undertake.  And in fact, we have mobilized them in essentially policing the world over the last sixty years.  It is a very doable mission. MORLEY SAFER One more question.  And please, a brief one and direct it to one of the panelists. FEMALE AUDIENCE MEMBER I have a question over here.  Actually, unfortunately, its a very general question, which is Im getting more and more confused as this discussion goes on what the difference is between policing the world and actually using the military to go to war.  And the two seem to be discussed along with each other.  And I think theyre very different issues.  So I dont know if anyone wants to take it. Media Transcripts, Inc. PROGRAM Rosenkranz Foundation-Intelligence Square U.S.- America Should be the World's Policeman Page 62. MORLEY SAFER [OVERLAP]  Who, who is that question directed to?  Which side? FEMALE AUDIENCE MEMBER Ill take it for the motion. MICHAEL MANDELBAUM [OVERLAP]  [UNCLEAR]  Youve answered it.  Youve already answered the question.  Why dont you answer it again? DOUGLAS MURRAY [OVERLAP]  Yeah, I mean, just to get back to this point is that, I think that I can speak for people on this side and just say that again, that the policing issue, it doesnt  First of all, it does not have to be primeonly military.  And I think thats my, thats fairly obvious.  And even a member of the other side conceded, Americas role in operations like the post-tsunami operations a couple of years ago.  And I think that, as I say, this should be cleared up before you vote  that the issue  and I think I mentioned it in my comments earlier, that the issue of, for instance, sustaining an operation, remaining in a country and all these sort of things, is not what we are talking about as policing. That policing operations are not welfare operations, as I mentioned earlier, but are also not imperialist operations. Theyre not even operations which, people might think of sustaining for the long term. MAN Media Transcripts, Inc. PROGRAM Rosenkranz Foundation-Intelligence Square U.S.- America Should be the World's Policeman Page 63. If I could just, could I just -- MORLEY SAFER [OVERLAP]  No, we will in a moment.  We are going to wind this up.  Each of the debaters has two minutes and I will give you a one minute warning.  And we will start with the team against the motion, Ellen Laipson, please. Well, Id like to begin by addressing the question that was just asked because I think its an important point.  And by no means do those of us on this side advocate waging perpetual war.  In Media Transcripts, Inc. PROGRAM Rosenkranz Foundation-Intelligence Square U.S.- America Should be the World's Policeman Page 65. fact, what I believe is that if America takes seriously its global policing responsibilities that makes war less likely, not more likely.  When you think simply about what an urban police force does, for example  cops on the beat walk the beat.  They dont fire their guns very often.  And the more theyre out there, the more they have a presence the more they deter crime and the less, uh, likely it is that criminals will prey on innocent people. And they can have their greatest effect simply with the same kind of, uh, street corner presence that we expect here in New York City.  And thats essentially what the United States has been doing around the world for more than sixty years, where our navy keeps the Straits of Hormuz open.  They patrol the worlds ocean to prevent pirates or other predators from disrupting the flow of global commerce. MORLEY SAFER One minute. MAX BOOT [OVERLAP]  Our troops are stationed in countries like Japan and South Korea and Germany and elsewhere to prevent conflict, to deter conflict from occurring.  And all you have to do to realize why this is a good thing is just to imagine the consequences of a world without American leadership.  I mean, imagine arms races spiraling out of control in East Asia and Europe.  Imagine Iran Media Transcripts, Inc. PROGRAM Rosenkranz Foundation-Intelligence Square U.S.- America Should be the World's Policeman Page 66. closing the Straits of Hormuz.  Imagine chaos and civil war spilling over the borders of Iraq and Afghanistan into neighboring states.   Imagine terrorists getting their hands on nuclear weapons.  Now, you may think Im being melodramatic but, in fact, I think history shows the dire consequences of America abdicating its global policing role.  And if even ten percent or a third of the things that Im talking about are likely to happen if we give up this policing function, its an unacceptable risk.  And we can afford the, the, uh, global policing function which we have performed.  It is not bankrupting our country.  It is a very small share of our public purse.  [UNCLEAR] MORLEY SAFER [OVERLAP]  You must wrap it up. MAX BOOT We have to continue in order to prevent the very wars that all of us decry. MORLEY SAFER Matthew Parris. Thank you.  You will observe that some of the things that I have to say overlap some of the things that Max Boot said.  This is so, I daresay, not only because great minds run in the same channel, Media Transcripts, Inc. PROGRAM Rosenkranz Foundation-Intelligence Square U.S.- America Should be the World's Policeman Page 16. but also because the things on which we agree are true. [LAUGHTER]  All societies, when they become sufficiently interdependent, need governance.  The society of states, the society of sovereign countries has reached that point.  The international society needs governance and the United States provides it.  The United States provides to other countries some, although not all, of the services that governments provide within the countries that they govern.  This, as it happens, is the thesis of my 2006 book, The Case for Goliath:  How America Acts as the Worlds Government in the 21st Century, that the organizers have very kindly provided outside this room.  [AUDIENCE REACTION] Hmm. [PAUSE] The United States provides order to the world, as governments must, in two ways.  First, economic activity within countries requires a secure backdrop.  Government protects commerce and enforces contracts.  The United States does this in the global economy.  American military deployments and the American alliance systems assure the free flow of trade and the movement of capital across borders.  This economic activity known as globalization, and made possible by the American role as the worlds police force, has brought benefits to hundreds of millions of people.  Second, the United States helps keep order in the world by leading the effort to keep weapons of mass destruction Media Transcripts, Inc. PROGRAM Rosenkranz Foundation-Intelligence Square U.S.- America Should be the World's Policeman Page 17. out of the hands of groups or individuals that would deploy them in ways antithetical to the interests not only of the United States, but of the world in general.  The United States leads the effort at global nuclear non-proliferation.  And in these two ways above all, the United States acts as the worlds police force. Now, to this argument at least three objections may be made. And weve already heard one of them.  One objection is that the United States does not carry out its policing duties as well as it should.  As Ellen Laipson said, the United States is not present everywhere and doesnt act perfectly.  And this is certainly true, but neither does any police force.  Every police force is subject to criticism, legitimate criticism.  But criticizing a police force is not the same thing as arguing that there should not be one.  A second objection to the motion is that it would be better if global policing were carried out, not by the United States, but by other countries or groups of countries or international organizations. Now, I daresay if the proposition were put that way to the American public a majority of them might agree.  But it is the fact, as Max Boot noted, that there is no other country or group of countries that is willing or able to take up the burden of global policing.  And as for international organizations, they are far too feeble to do so, and that emphatically includes the international Media Transcripts, Inc. PROGRAM Rosenkranz Foundation-Intelligence Square U.S.- America Should be the World's Policeman Page 18. organization to which some would like to assign the task of global policing  the one whose headquarters is located a few blocks from here  the United Nations.  So the alternative to the United States as the worlds policeman is not a better international order.  It is more international disorder.  Well, a third objection is, what about Iraq?  Well, the American military operations in Iraq really have two parts.  The first part involved removing a tyrannical government and insuring that neither it nor a tyrannical successor would possess weapons of mass destruction. The second part of the operation involves trying to construct a stable, decent democratic government in that country.  The first task which falls within the purview of global policing was successfully accomplished.  The second has not been done so successfully.  But the second task  whats wrongly called nation building and should be called state building  is not an example of police work.  Its an example of social work.  The United States is not good at social work but it doesnt have to be to perform as the worlds police force.  So to oppose this motion you must believe one or both of two things.  You must believe either that the world does not need policing or that there is some better source of global policing than the United States.  There is, I submit, no reason to believe either.  And I will add, by way of Media Transcripts, Inc. PROGRAM Rosenkranz Foundation-Intelligence Square U.S.- America Should be the World's Policeman Page 19. conclusion, that there is one group of people with a keen interest in global order and extensive familiarity with the American role in the world that emphatically does not believe either proposition. I refer to the worlds governments.  They could, if they chose, circumscribe or abolish altogether by banding together to oppose it, the American role as the worlds policeman.  But they have done and shown no signs of doing any such thing.  And the reason is that they understand and appreciate the benefits that Americas role as the global policeman confers upon their countries and on the world as a whole.  So whatever the verdict of the people in this house, the governments of the world above all, by what they have not done, have voted in favor of this motion. Thank you.  [APPLAUSE] MORLEY SAFER Against the motion, uh, Matthew Parris. Do Matthew Parris and I not get the questions, have we so intimidated you that youre not gonna ask us questions? [LAUGHTER] MORLEY SAFER Well, theyve given me four questions to ask and weve, theyve Media Transcripts, Inc. PROGRAM Rosenkranz Foundation-Intelligence Square U.S.- America Should be the World's Policeman Page 43. [LAUGHTER]  Im sorry. MICHAEL MANDELBAUM Well, congratulations MORLEY SAFER Youll get your chance, you will get your chance, I promise you. More or less.  [INAUDIBLE, LAUGHTER].  Anyway  Im now ready to announce the results of the pre-debate vote.  Before the Not at all, Im delighted with them, I think we should have more of them, I think the United States should support them, but they add up to only a small fraction of the policing thats necessary in the world.  In fact, I claim that the United States does police the world and does do so effectively and let me give you three examples.   In East Asia, contrary to what Mr. Bremmer said, the United States does a very effective job of containing although not preventing the acquisition of nuclear weapons by North Korea, with the Seventh Fleet, with its security treaties with Japan and South Korea, without them, East Asia would be a much more dangerous place.   Similarly, in the Persian Gulf, although the United States has not dealt with complete success with Iran, our military presence over the horizon and our naval presence assures the free flow of petroleum which is a global necessity.   A policeman walks the beat.  The United States does that in the Persian Gulf and in East Asia, its extremely important that it do so.  To the extent that other countries can chip in, all the better. But they just dont do enough, and I dont have any expectation that they will. Media Transcripts, Inc. PROGRAM Rosenkranz Foundation-Intelligence Square U.S.- America Should be the World's Policeman Page 47. MORLEY SAFER Michael Mandelbaum, who do you have a question for. MICHAEL MANDELBAUM Well, Id like to make a comment MORLEY SAFER No, no, its question time, not opinion.  [LAUGHTER] MICHAEL MANDELBAUM Well then IllIll turn it into a question.  [LAUGHTER] MORLEY SAFER And who MICHAEL MANDELBAUM Mr. Parris gave, I would say a rather broad view of American anti- imperialism but not altogether inaccurate so let me give a reply in a similar spirit and it follows onto what Ellen Laipson said and my response.  I would say in response to you comment about American opposition to the British empire MORLEY SAFER Question, in question, sir. MICHAEL MANDELBAUM Its a question.  We thought  [LAUGHTER]  We thought we could do it better than you did.  But we were wrong.  Come back. We would be delighted for the British to do more by way of global policing, so will you, as an influential member of the political class in Britain, commit to agitating in favor of the Royal Navy Media Transcripts, Inc. PROGRAM Rosenkranz Foundation-Intelligence Square U.S.- America Should be the World's Policeman Page 48. growing larger rather than smaller so that it can resume the policing of the Atlantic and the Mediterranean that it did so well and so necessarily and with such great benefit to everyone, including that large free-rider across the Atlantic, the United States, in the 19th century. I answer it as follows.  The United States as the global policeman is not as legitimate as the New York City police force is.  And it cannot be because there is no global government, no global state to give it legitimacy.  But it has enough legitimacy, because nobody opposes it, as they would if they didnt like it and felt threatened by it.   Indeed, as I say in my, my book The Case for Goliath, [LAUGHTER] I think there is a threat, there is a threat to the American role as the worlds governments, but it doesnt come from other countries.  It comes from the mounting costs of social welfare, of our entitlement programs, the great threat to the American role as the worlds policeman and to global order Media Transcripts, Inc. PROGRAM Rosenkranz Foundation-Intelligence Square U.S.- America Should be the World's Policeman Page 50. comes not from Chinapace Mr. Bremmerit comes from Medicare. AUDIENCE [MURMURS FROM AUDIENCE] MORLEY SAFER Mr. Murray  [LAUGHTER, VOICES] DOUGLAS MURRAY Gosh, I dont have any lack of questions for the other side, but the one Id most like to ask is Ian Bremmer, who mentioned, I just pricked up about the Pew polls, about what people across the globe think of America.   And aside from the vaguely unpleasant sight of anyone caring that much about how much theyre liked I wonder if youve seen the Pew polls about suicide bombingpeople who are in favor of suicide bombing as a tactic, across the Arab and Muslim world, particularly, legitimizing vast percentages the murder of Israelis.   And whether youve seen the Pew polls that show the number of people across the Middle East and elsewhere, the huge numbers of people who think that for instance 9-11 was a conspiracy, forced on the American people by their own government, by Mossad and all this sort of thing. Based on all this, do you think that this is all Americas fault, or do you think other people have agency and the ability to cock up. Ah. MORLEY SAFER Michael Mandelbaum? MICHAEL MANDELBAUM The United States can continue to act as the worlds policeman as long as serious countries do not actively oppose it.  And that means that since there is no longer a Cold War, it is in many ways cheaper for the United States to carry out the legitimate police functions in the world that it does carry out.   And it carries them out, with the sufferance, with the tacit agreement of major countries, including Russia and China, that disagree with the United States on some important issues, but still value the American role at least to the extent that they do not oppose it. DOUGLAS MURRAY Can I also add to that?  Theres a confusion going on at the moment here, between policing and being an imperial power. Media Transcripts, Inc. PROGRAM Rosenkranz Foundation-Intelligence Square U.S.- America Should be the World's Policeman Page 57. Which is going to I think, cause a problem on the voting at least for this side.  Which is why I mention it, being a world policeman in the definition that were going on at the moment is quite different from being a world authoritarian.   And to go back to Ellen Laipsons definitions when she said that, the definition of policing would be enforcing the rules, setting the rules and having a monopoly on the use of force   America does enforce the rules, they tend not to be ones set by themselves, they tend to be set by all sorts of other organizations and nations in history. And America certainly doesnt have monopoly on the use of force as for instance the intervention in Sierra Leone by my own country would demonstrate.   But I would just tidy that up, just because youwere saying on this side that, that we would like America to be the worlds policeman does not mean were suggesting that it is like the British Empire was, or that its like any other empire, I dont think it is an empire, being a policemans quite different. MALE AUDIENCE MEMBER There are a lot of nasty conflicts in the world at any given time, so this is a question for those who support the motion.  Whats the criteria for the, the United States to intervene as policemen, would that include Kenya today, would that include, Mozambique, would that include Darfur, would that include Rwanda in the early 90s Media Transcripts, Inc. PROGRAM Rosenkranz Foundation-Intelligence Square U.S.- America Should be the World's Policeman Page 58. MORLEY SAFER Excellent question, who wants to field it. MAX BOOT Well, I dont think that you can come up with any hard and fast criteria, I think a lot of what you do has to be really based on a realistic assessment of your capabilities at the moment, and nobody suggests that for example, that, if you haveif you saw murders occurring in New York City that therefore, the New York Police Department is a complete failure.   Obviously there are going to be crimes occurring in the world.  We cannot stop all of them, its beyond our means, everybody will admit that.  But I think we have to do what we can.  And I thinkIm with Bill Clinton when he said that it was a mistake not to have intervened in Rwanda, not to have stopped a genocide that it was in our power to stop, I think, it was correct that we did intervene in Bosnia and Kosovo and we stopped terrible bloodletting in the Balkans.   Today obviously our forces are engaged in Afghanistan and Iraq and we dont have the capability to intervene as many including me would like in places like Darfur.  And thats a sad, tragic reality, which means that hundreds of thousands of people are dying.   But of course, even if we dont have the capability to lead an intervention with massive use of force we can do other things such as using our global leadership role to push economic sanctions, or to provide enablers that might allow others to Media Transcripts, Inc. PROGRAM Rosenkranz Foundation-Intelligence Square U.S.- America Should be the World's Policeman Page 59. intervene, but unfortunately for all the talk from the other side, about how there are so many others out there willing to play this global policing role, we find time and time again, theres been very few cases of anybody willing to step forward where the United States does not lead and,  Im in favor of American leadership while recognizing the limits of our power and the fact that we cannot possibly intervene in every case, I think we should try to do as much good as possible within the bounds of our power. I dont think a draft would solve the problem.  And of course the military doesnt want a draft, and the United States carries out its policing role without a huge mass army of the kind that great powers fielded until the last third of the 20th Century.  But I do agree, and I did say, that this is a substantial problem and does present a threat to American foreign policy.  And if it results in the curtailing of the global services that include providing a global police force, the whole world, including those who most harshly criticize American foreign policy, will be sorry. MAX BOOT Can I just jump in and just make one point?  Because I think in your question and some of the others I kind of scent this notion of American declinism in the air.  And the fact that wereWoe is us.  Were over-stretched.  We cant do everything that we want to do.  And I think you should be aware of just how vast our power is.  The fact is that we spend more than the rest of the world, or as much as the rest of the world combined, on defense.  And Media Transcripts, Inc. PROGRAM Rosenkranz Foundation-Intelligence Square U.S.- America Should be the World's Policeman Page 61. were still spending only four per cent of our GDP, which is several percentage points less than we were spending during the Cold War.  We still have the worlds largest and richest economy. Weve been creating jobs at a pace that out-clips any other industrialized economy over the last twenty or thirty years.  Our population size is growing.  Were already the third largest country by population in the world.  And were projected to increase by another hundred and fifty million over the course of the next fifty years.  There are vast pools of power and resources in the United States that can be mobilized for the task that we have to undertake.  And in fact, we have mobilized them in essentially policing the world over the last sixty years.  It is a very doable mission. MORLEY SAFER One more question.  And please, a brief one and direct it to one of the panelists. FEMALE AUDIENCE MEMBER I have a question over here.  Actually, unfortunately, its a very general question, which is Im getting more and more confused as this discussion goes on what the difference is between policing the world and actually using the military to go to war.  And the two seem to be discussed along with each other.  And I think theyre very different issues.  So I dont know if anyone wants to take it. Media Transcripts, Inc. PROGRAM Rosenkranz Foundation-Intelligence Square U.S.- America Should be the World's Policeman Page 62. MORLEY SAFER [OVERLAP]  Who, who is that question directed to?  Which side? FEMALE AUDIENCE MEMBER Ill take it for the motion. MICHAEL MANDELBAUM [OVERLAP]  [UNCLEAR]  Youve answered it.  Youve already answered the question.  Why dont you answer it again? DOUGLAS MURRAY [OVERLAP]  Yeah, I mean, just to get back to this point is that, I think that I can speak for people on this side and just say that again, that the policing issue, it doesnt  First of all, it does not have to be primeonly military.  And I think thats my, thats fairly obvious.  And even a member of the other side conceded, Americas role in operations like the post-tsunami operations a couple of years ago.  And I think that, as I say, this should be cleared up before you vote  that the issue  and I think I mentioned it in my comments earlier, that the issue of, for instance, sustaining an operation, remaining in a country and all these sort of things, is not what we are talking about as policing. That policing operations are not welfare operations, as I mentioned earlier, but are also not imperialist operations. Theyre not even operations which, people might think of sustaining for the long term. MAN Media Transcripts, Inc. PROGRAM Rosenkranz Foundation-Intelligence Square U.S.- America Should be the World's Policeman Page 63. If I could just, could I just -- MORLEY SAFER [OVERLAP]  No, we will in a moment.  We are going to wind this up.  Each of the debaters has two minutes and I will give you a one minute warning.  And we will start with the team against the motion, Ellen Laipson, please. Some people in New York  possibly including some people in this room  are unhappy.  [AUDIENCE REACTION]  The New York Police Department cant help you.  Morley Safer noted that despite the presence of NATO forces  and incidentally, if you want to see just what Americas allies are willing to do in a cause with which they agree, check out their performance in Afghanistan.  Its pretty pathetic.  Despite, Morley Safer has Media Transcripts, Inc. PROGRAM Rosenkranz Foundation-Intelligence Square U.S.- America Should be the World's Policeman Page 69. noted that drugs are still traded.  Theyre still traded in New York, within a few blocks of here.  Thats not an argument against New York having a police force.  And what is true of New York is true of the world as well.  The fact that the United States cannot bring Chechnya to a successful resolution is not an argument against the United States acting as the worlds police force. The job of a police force in the world, as in New York, is not to make things perfect.  Its to keep things from becoming worse. And that the United States does in the world in two important ways  by its military deployments and alliances that undergird globalization and by leading the effort against nuclear proliferation and deterring rogue states if and when they get nuclear weapons.  Those are important global tasks.  They are the tasks of global policing.  Other countries and other organizations have shown no inclination to do them.  Therefore it is in everybodys interest that the United States continue to do so.  That is why you should support this motion. MORLEY SAFER Ian Bremmer.  [APPLAUSE] Okay, thank you, thank you very much, its very good to be here. And thank you for listening to me, its good to be another Brit here, partly, partly so that you dont all think that Brits think like Matthew Parris  [LAUGHTER]  Its an odd position to be in, perhaps some of you think to have somebody from another nation coming along to you here and saying, effectively, please police me  A strange misquote of that wonderful thinker Engelbert Humperdinck  [LAUGHTER]  But  [LAUGHTER] But its not quite as masochistic as it sounds when we talk about the worlds policeman, a lot of people assume up the idea of force, and that you have the right to do it because youre powerful. I dont think that is what the reason is, that America has the right to be and should continue to be as it currently is the worlds policeman.  Its not your force as a nation which I think allows you that right, its Americas virtues that allow it that right.  Its the fact that, when America goes into a country like Afghanistan or Iraq, you dont do the things which previous great powers did, that the moment, if anything this is a failing, if anything, when you go into a country like Iraq, you dont say how long can we Media Transcripts, Inc. PROGRAM Rosenkranz Foundation-Intelligence Square U.S.- America Should be the World's Policeman Page 29. stay here, but how soon can we get out.   You want to dabble as little as possible in the world--I think thats a virtue.  You know when you have to intervene.  But you also know when you have to get out.  But, uh, to clear up some of the mistakes from other side already, just because youre the worlds policeman doesnt mean you dont have allies.  It doesnt mean you dont have friends and others who will do the job, wholl join you in the job. America in the last few years, despite the caricature of her greatest enemies, is not the unilateral organization that a lot of people would portray her as being.  Now, as my two colleagues and comrades on my side have already intimated to you, there are really only two reasons not to vote for the right side if I may, in this in this motion.   The first is that you think that the world does need a policeman, but that someone else can do it. Someone else will step up for the job.  Weve heard quite a lot at the moment, uh, from people talking more I think in glee than sorrow about the rise of China, for instance.  You can look in your papers any day and see what the rise of China would bring in its wake if you wanted them to police the world, look at the athletes for instance going to the Olympics, being, attempting to be forbidden from speaking out about any Chinese abuses whilst theyre there. Media Transcripts, Inc. PROGRAM Rosenkranz Foundation-Intelligence Square U.S.- America Should be the World's Policeman Page 30. You want a perpetual silencing like that across the globe?  You dont see America trying to do that, you dont see America trying to silence her enemies.  America is the only force I can think of which tolerates people standing up against it, shouting as loudly as possible, picketing its military institutions and all this kind of thing permits that.   Think of another world power that would permit that kind of thing, or another policeman that wouldnt object when people continue to rejoice in poking it in the eye. Who else might be on the horizon?  You might see, theres a lot of talk for instance at the moment about Saudi Arabia.   We have a lot of talk about that in Britain at the moment with our Archbishop of Canterbury, or soon to be promoted to the Grand Mufti of Canterbury.  [LAUGHTER]  Saying that he wouldnt mind Sharia law in Britain, I was sitting opposite a clerical goon two mornings ago in London who was explaining to me,  Sheik Sewit Hassan [PH], what the sharia that he would like to bring to Britain would be and that, yes, we should cut off hands, we should stone women to death, because it would teach the others, and he hadnt seen any adultery in Saudi Arabia.  And I pointed out you dont actually often see adultery happening, but [LAUGHTER] But you might get those kind of global systems if you, if you wish Media Transcripts, Inc. PROGRAM Rosenkranz Foundation-Intelligence Square U.S.- America Should be the World's Policeman Page 31. it hard enough, if you wish hard enough for America to fall, for America to be poked in the eye.  But what will you do, who will sort out these problems, who will sort out a problem like Iran, when you have years of talks and the only progress youll really hear of is Iran getting closer and closer to its desired objectives of nuclear power.   So thats the first reason, the first reason why you would vote against this motion, the second, is that you think that the world doesnt really need a policeman.  It will be just fine without one.  This, ladies and gentlemen, is, I think, a terrible, terrible illusion, its a siren call which has called across history to people.   It called to the people of Athens two and a half millennia ago when Demosthenes warned them of the threat from King Phillip and said you do have other people who will tell you, if you ignore this threat, you will save money, and youll be able to spend it on other things But, I know that if you listen to them, you will one day wake up, and youll realize how much this optimism cost you.  Youre in the same position today, ladies and gentlemen.  As people have been throughout history, as the personthe famous journalist who before the First World War wrote that, war in Europe was now an impossibility, because it was so economically unviable. Well it turned out to be more unviable for more reason than economics and people did it anyway.  You will not be able to live Media Transcripts, Inc. PROGRAM Rosenkranz Foundation-Intelligence Square U.S.- America Should be the World's Policeman Page 32. in a world in which no one acts as your policeman.  And let me cite one example of where the virtue of American intervention has been cited already by Max Boot, is not only necessary but vital and Id cite the case of Kosovo.   This might well come back again and again later.  But, when the concentration camps in Europe reopened in the 1990s in the Balkans, and when we saw an ethnic genocide, an ethnic cleansing, from a third-rate tin-pot dictator and the European governments couldnt stop it, who was it who had to stop in. MORLEY SAFER One minute. DOUGLAS MURRAY It wasnt France, France provided us with a phalanx of lawyers, and a leak.  America provided us with 98% of the worldthe air power, and they stopped a genocide, thats no small achievement, ladies and gentlemen, I willcould go through all of the things which Ellen Laipson said, of the problems that you have enforcing, as nobody says that its good being the worlds policeman, nobody says its enjoyable, nobody would want the job.  Other than people who you wouldnt want to have the job. And, if Matthew Parris  Its always wary when somebody opens with compliments.  [LAUGHTER]   Mr. Parris describes my cause, our sides cause, I think your cause is a doomed cause.  If it were a doomed cause, ladies and gentlemen, if my cause were a Media Transcripts, Inc. PROGRAM Rosenkranz Foundation-Intelligence Square U.S.- America Should be the World's Policeman Page 33. doomed cause, it would mean that our cause as a civilization is a doomed cause.  It is I think too early to try to give up like that. Thank you. [APPLAUSE] MORLEY SAFER Now, against the resolution, Ian Bremmer. Well, Ill tell you one MORLEY SAFER Other than stay there forever? DOUGLAS MURRAY Sure, well I can tell you one thing it can do and has done straight away which is that Afghanistan is no longer a base where there are open training camps where terrorists can train and come and attack cities like this one were sitting in. MORLEY SAFER And their heroin DOUGLAS MURRAY And thatsI dont think, I dont think thats a small achievement. MORLEY SAFER And the heroin business is booming. DOUGLAS MURRAY I think thats a different question Media Transcripts, Inc. PROGRAM Rosenkranz Foundation-Intelligence Square U.S.- America Should be the World's Policeman Page 40. MORLEY SAFER So whichwhat doeswell, the cops out there, whats he doing? DOUGLAS MURRAY Well, hang on, if you let me finish.  OrI thought it was one question.  Look, as I said its no small thing to get the first thing done, the thing that was originally why America and her allies went into Afghanistan which was to take out flagrant training camps of terrorists, and that job has been done.   Now it seems to me that the job of sorting out the Afghan economy is a separate one, one which the world community generally is involved in, but I think thats a different point.  I dont know if you wanted to try to make me an apologist for the American administration or a spokesperson for them but Im not. MORLEY SAFER Well, youre DOUGLAS MURRAY My own, my own view for what its worth on it is that the job of creating a viable, booming economy in Afghanistan is a quite different one, now this particular policeman went in and sorted out the problem.  It doesnt also have to be the Social Services Department. MORLEY SAFER [APPLAUSE]  Ian Bremmer Media Transcripts, Inc. PROGRAM Rosenkranz Foundation-Intelligence Square U.S.- America Should be the World's Policeman Page 41. DOUGLAS MURRAY Thank you MORLEY SAFER you talk about a leadera fuehrer, out there, someone whos going to, you know, some big pie in the sky who is going to suddenly have the world bowing down and saying, we want to follow you, leader, whoever that may be.   I mean, this is wonderfully kind of anti-Orwellian stuff youre saying, but, what leader?  What single leader is the world gonna follow? America cant follow a single leader. Gosh, I dont have any lack of questions for the other side, but the one Id most like to ask is Ian Bremmer, who mentioned, I just pricked up about the Pew polls, about what people across the globe think of America.   And aside from the vaguely unpleasant sight of anyone caring that much about how much theyre liked I wonder if youve seen the Pew polls about suicide bombingpeople who are in favor of suicide bombing as a tactic, across the Arab and Muslim world, particularly, legitimizing vast percentages the murder of Israelis.   And whether youve seen the Pew polls that show the number of people across the Middle East and elsewhere, the huge numbers of people who think that for instance 9-11 was a conspiracy, forced on the American people by their own government, by Mossad and all this sort of thing. Based on all this, do you think that this is all Americas fault, or do you think other people have agency and the ability to cock up. Can I also add to that?  Theres a confusion going on at the moment here, between policing and being an imperial power. Media Transcripts, Inc. PROGRAM Rosenkranz Foundation-Intelligence Square U.S.- America Should be the World's Policeman Page 57. Which is going to I think, cause a problem on the voting at least for this side.  Which is why I mention it, being a world policeman in the definition that were going on at the moment is quite different from being a world authoritarian.   And to go back to Ellen Laipsons definitions when she said that, the definition of policing would be enforcing the rules, setting the rules and having a monopoly on the use of force   America does enforce the rules, they tend not to be ones set by themselves, they tend to be set by all sorts of other organizations and nations in history. And America certainly doesnt have monopoly on the use of force as for instance the intervention in Sierra Leone by my own country would demonstrate.   But I would just tidy that up, just because youwere saying on this side that, that we would like America to be the worlds policeman does not mean were suggesting that it is like the British Empire was, or that its like any other empire, I dont think it is an empire, being a policemans quite different. MALE AUDIENCE MEMBER There are a lot of nasty conflicts in the world at any given time, so this is a question for those who support the motion.  Whats the criteria for the, the United States to intervene as policemen, would that include Kenya today, would that include, Mozambique, would that include Darfur, would that include Rwanda in the early 90s Media Transcripts, Inc. PROGRAM Rosenkranz Foundation-Intelligence Square U.S.- America Should be the World's Policeman Page 58. MORLEY SAFER Excellent question, who wants to field it. MAX BOOT Well, I dont think that you can come up with any hard and fast criteria, I think a lot of what you do has to be really based on a realistic assessment of your capabilities at the moment, and nobody suggests that for example, that, if you haveif you saw murders occurring in New York City that therefore, the New York Police Department is a complete failure.   Obviously there are going to be crimes occurring in the world.  We cannot stop all of them, its beyond our means, everybody will admit that.  But I think we have to do what we can.  And I thinkIm with Bill Clinton when he said that it was a mistake not to have intervened in Rwanda, not to have stopped a genocide that it was in our power to stop, I think, it was correct that we did intervene in Bosnia and Kosovo and we stopped terrible bloodletting in the Balkans.   Today obviously our forces are engaged in Afghanistan and Iraq and we dont have the capability to intervene as many including me would like in places like Darfur.  And thats a sad, tragic reality, which means that hundreds of thousands of people are dying.   But of course, even if we dont have the capability to lead an intervention with massive use of force we can do other things such as using our global leadership role to push economic sanctions, or to provide enablers that might allow others to Media Transcripts, Inc. PROGRAM Rosenkranz Foundation-Intelligence Square U.S.- America Should be the World's Policeman Page 59. intervene, but unfortunately for all the talk from the other side, about how there are so many others out there willing to play this global policing role, we find time and time again, theres been very few cases of anybody willing to step forward where the United States does not lead and,  Im in favor of American leadership while recognizing the limits of our power and the fact that we cannot possibly intervene in every case, I think we should try to do as much good as possible within the bounds of our power. [OVERLAP]  Yeah, I mean, just to get back to this point is that, I think that I can speak for people on this side and just say that again, that the policing issue, it doesnt  First of all, it does not have to be primeonly military.  And I think thats my, thats fairly obvious.  And even a member of the other side conceded, Americas role in operations like the post-tsunami operations a couple of years ago.  And I think that, as I say, this should be cleared up before you vote  that the issue  and I think I mentioned it in my comments earlier, that the issue of, for instance, sustaining an operation, remaining in a country and all these sort of things, is not what we are talking about as policing. That policing operations are not welfare operations, as I mentioned earlier, but are also not imperialist operations. Theyre not even operations which, people might think of sustaining for the long term. MAN Media Transcripts, Inc. PROGRAM Rosenkranz Foundation-Intelligence Square U.S.- America Should be the World's Policeman Page 63. If I could just, could I just -- MORLEY SAFER [OVERLAP]  No, we will in a moment.  We are going to wind this up.  Each of the debaters has two minutes and I will give you a one minute warning.  And we will start with the team against the motion, Ellen Laipson, please.\")"
   ]
  },
  {
   "cell_type": "code",
   "execution_count": 36,
   "metadata": {
    "collapsed": true
   },
   "outputs": [],
   "source": [
    "wiki2 = TextBlob(\"Good evening.  Delighted to be here.  Let me first say I fully expected in a couple of minutes when we see the numbers for and against the motion that Im against the motion, I expect most of you are against the motion.  When we vote at the end, I know a lot of you, if its really skewed on the side of being against the motion are gonna want to give these guys a couple of votes.   Its kinda like wanting to vote for Huckabee right now.  [LAUGHTER] Hes still in the game.  And theres stylishness and you kinda want to give him a little something for being in the game and taking the side.  But we all know we cant get there.   And thats where I am, look, Michael Mandelbaum made very clear that there are only two ways you can agree with me.  Number one, you have to believe that the world doesnt need a global policeman, or number two, that there is a better system out there than having a global policeman.  Thats spoken like a true academic. I agree with both of those things.  I think the world does need a Media Transcripts, Inc. PROGRAM Rosenkranz Foundation-Intelligence Square U.S.- America Should be the World's Policeman Page 34. global policeman, I think it would be the best system if the US wasthe global policeman.  But I also think we are incapable, and unprepared to do it.  So, Im trying to be a realist.  Im trying to look at what we can actually do, the limitations of our power, look, I need a loving family, but my mom and dad died of cancer, Im sorry, Im not gonna get there.  Thats kind ofits true, but itsIm not looking for sympathy.  My point is, were justor laughter.   But were, were not going to get there.  And thats really the crux of my argument, now, let me make a couple of points here.  The first is I fully agree with the notion that the world desperately needs leadership.  We are in a situation where global architecture is not catching up to the radical change in geopolitical shift. The United States doesnt have the lifting power it used to, Chinas growing like crazy.  Energys increasingly coming from unstable parts of the world.  NATOs ineffectual.  Security Councils ineffectual, the proliferation regime is broken.  Dont even get me started on climate change.   Lord knows, you need a leader, to take advantage of this, and to move the system in the direction that we will all be able to live more secure, more prosperous lives.  I do believe the United States needs to fill as much of that void as possible, the United States needs to be a global leader.  Condi Rice said as much at Davos a couple weeks Media Transcripts, Inc. PROGRAM Rosenkranz Foundation-Intelligence Square U.S.- America Should be the World's Policeman Page 35. ago.  The Russians strongly disagreed, they said the world does not need a conductor for the orchestra.  And then Shimon Peres, the closest to Henry Kissinger on the panel, said, what we really need is a composer.  Not a leader. And I think the world does need a leader.  I think a policeman is a very different fact on the ground, look.  When we talk about a policeman I think about enforcement, and I think about Max Boots on the ground.  I dont think we have the political will in this country, I dont think we have the political capital in this country, and I think trying to argue that we do, risks a growth of anti-Americanism abroad.   But more importantly and more dangerously, it risks a rise of protectionism in the United States, it risks a rise of neo-isolationism in the United States.  Look at the Pew polls, look at how Americans increasingly feel about support for free trade.   Look at how they increasingly feel about whether or not they believe America has benefited from the way the world system is evolving, they dont.  Part of the reason they dont, I suspect, is because folks in the Ninth Ward in New Orleans dont feel like theyre doing as well as they should.   And they dont necessary like the idea of giving billions of dollars of aid after a tsunami in Indonesia when we cant build our own homes in New Orleans.  I am not suggesting we shouldnt be giving the billions of dollars in aid, I firmly believe we should. Media Transcripts, Inc. PROGRAM Rosenkranz Foundation-Intelligence Square U.S.- America Should be the World's Policeman Page 36. But I think that taking on the role of global policeman creates far more sentiment in the United States in opposing the world of good the United States does and should continue to do.  Let me be specific on a couple of issues.  Iran.  The United States desperately needs to help reduce the threat of Iran.   How might we do that?  Effective sanctions?  Look at who provides refined product to Iran, from around the world, its not the United States. Its the Europeans, its the Indians.  You want to be a global policeman on Iran, you better get their support.   How about shutting down their accounts, the accounts of the Quds force, um, or of the Revolutionary Guard.  Better get support from Dubai.  Its not the United States.  The US in a globalized world cant act as a global policeman, with one of the most important conflicts facing us today. Lord knows theyd like to try, but unless youre arguing that this is gonna be the next American military intervention and there doesnt seem to be much direct support for that even among the most ardent neoconservatives in the United Statesyouve got a serious problem.  How about a place where we cant even argue about military support, how about North Korea.  The United States said, if the North Koreans develop a nuclear weapon, we are gonna be very, very angry.  [LAUGHTER]  And the North Media Transcripts, Inc. PROGRAM Rosenkranz Foundation-Intelligence Square U.S.- America Should be the World's Policeman Page 37. Koreans tested a nuclear weapon, and you know what, the anger in Washington was palpable.   But we didnt do anything, and we went back to the Chinese, and the Chinese said, we told you you dont have a military options, sanctions arent gonna work, now lets sit down at the table and work with them.  The United States said yeah, youre right, okay, well sit down and well talk to you. At the end of the day, Id love to be in a position where the Americans could be the global policemen on Iran and North Korea, it would be a better system, itd be a safer system.  But we cant do it, and the more we try to do it, by ourselves in that role MORLEY SAFER One minute IAN BREMMER the lessthe, the more incapable were going to be, okay, two final points since I only have a minute.  First point is, what I like in terms of leadership is what Bob Zoellick did, vis--vis the Chinese, is talk about stakeholdership, and the Chinese originally didnt know how to translate that word but once they did they kinda figured it out.   We need more responsibility from the actors that are becoming vastly more powerful every day, every year vis--vis the United States.  Were increasingly going to be unable to be in favor of this motion, in four years, in eight years, in 12 years, wed better prepare for it, by getting more Media Transcripts, Inc. PROGRAM Rosenkranz Foundation-Intelligence Square U.S.- America Should be the World's Policeman Page 38. stakeholdership, leadership, and dare I say global policemanship, from the folks around the world that can increasingly take some of that lifting regionally. Final point.  Indispensable nation.  Madeline Albright came up with that term, actually originally from James Chase, one of my mentors, I fully admit the United States is an indispensable nation.  But you know what? If youre the indispensable part of a family, if youre the husband, if youre the father, you do not go out, and buy a house you cant afford, with a mortgage you cant service.   What you do, is you actually get your apartment, you bring home the bacon, you keep your nose down, and you ensure that you are there in a sustainable way.  We need to recognize, that we have to eat within our means.   Weve got a serious problem with that in the American economy, I fear we have a serious problem with that in terms of global security, and I truly hope as a consequence youll vote with us against the motion, thank you very much. [APPLAUSE] MORLEY SAFER I have a question for each of you gentlemen.  Mr. Murray.  You talk about Afghanistan and Iraq, two places that have no interest in democracy, no record of human rights.  These arethere are tribal wars going on in both countries and certainly in Media Transcripts, Inc. PROGRAM Rosenkranz Foundation-Intelligence Square U.S.- America Should be the World's Policeman Page 39. Afghanistan where they managed to resist  How many wars did the British fight in Afghanistan, and ultimately lose?  Seven I think.  Or six or three or something like that.  And the Russians and everyone else whos poked their nose in there.  What on earth can this cop on the beat, this American cop on the beat, do in a place like, either Afghanistan, or in Iraq. Well, historically thats certainly true, America cant follow a single leader but in terms of values and regimes, when we talk about for example free trade, the fact is we have an international system that the United States has been at the forefront of and has been pushing until some trends very recently, has been pushing a very strong agenda in free trade where its been seen as the global leader as a consequence and, whether were talking about, you know, sort of international norms and regimes or whether were talking about regional bilateral ones thats been an extremely important process.   The WTO, the World Trade Organization, the United States has played a leadership role, the US as the worlds largest economy, has helped to smooth and create many, many efficiencies. Media Transcripts, Inc. PROGRAM Rosenkranz Foundation-Intelligence Square U.S.- America Should be the World's Policeman Page 42. If you want to talk about, um, what happened after the Soviet Union, uh, collapsed, if you want to talk about the efforts to denuclearize places like Belarus and Kazakhstan and Ukraine, the US took a leadership role, that clearly made the world a more safe place.  Thats very different from talking about being the worlds policeman, I think that there are a lot of countries that do criticize when the US doesnt take a leadership role.  Look at the tsunami in Indonesia.  The Chinese put $4 million on the ground, about a week afterwards.   The United States got the Japanese, the Indians, and the Australians together, billions of dollars, in this case, boots on the ground from adding for providing humanitarian assistance, and actually made a serious difference. The United States is clearly indispensable in these roles as a leader, but I would not say that the US has the capacity to be the global policeman. MORLEY SAFER Okay.  I am now ready to announce the results of the pre No, I certainly dont think this is all Americas fault.  I think Ive Media Transcripts, Inc. PROGRAM Rosenkranz Foundation-Intelligence Square U.S.- America Should be the World's Policeman Page 51. pretty much said Id like the idea of the United States being the worlds policeman, we just cant get there, its generally a kinda country Id probably enjoy, again Id like the idea of having a private plane but its not happening tomorrow.   You know, I would say that youre referring to the wrong Pew polls.  In terms of my comment, it wasnt on how much countries like America.  It was about how much Americans actually support globalization, how much they support free trade.   And also how much they believe that the United States benefits from growing foreign companies, companies in emerging markets and the rest.  And they compared those views on free trade, with the views of other foreign nationals in countries like Russia, China and India.   And, forin a dramatic shift of fortunes, Americans have proven to be less pro-globalization, less pro-free trade than the Russians, the Chinese, and the Indians, and that shows something very disturbing, in my view, which is that increasingly the average American does not believe that they benefit from the trajectory that the world is moving towards.   And that not only speaks against growing opposition to the United States serving as the worlds policeman, but it also speaks against the United States serving the role as, as a leader on key issues where international leadership is lacking, and I really fear that we will throw the baby out with the bathwater on this one. Media Transcripts, Inc. PROGRAM Rosenkranz Foundation-Intelligence Square U.S.- America Should be the World's Policeman Page 52. MORLEY SAFER Ian Bremmer, do you have a question. IAN BREMMER Yes I do, and I would ask it to Michael but hes already gotten two so Im gonna ask either Max or Douglas if theyif they want to take it.  It is, thatit follows on this issue of legitimacy and the notion that all countries around the world kind of like the idea of the US as a policeman.  And Im wondering, what do we do in those big issues where its clear that they dont.  You know, what do we do about Russia, where clearly, whether were talking about Chechnya, or Georgia, or Ukraine, the Orange Revolution and the rest, the Russians really assertively dont want the United States to be a policeman.   What do we do in a place like Taiwan, where the Chinese really assertivelyand increasingly have the power to stop the USdont want the US to act as global policeman, how do we  and Im asking, actually out of legitimate curiosity, how do we deal with those sorts of challenges. Inability of the United States to actnot failed police work, just the US doesnt have the capacity to act as a policeman in the case of North Korea, yes. MALE AUDIENCE MEMBER My understanding is that Madeline Albright went over, Jimmy Carter went over, flattered Kim Jong-ilthen he went nuclear.  If youre aware of some othernon-diplomatic means that were employed and failed, would you please share them with us. IAN BREMMER Look, I mean, Im not trying to argue, I think Morley raised the same point in a question to Ellen which is that, oh well, engagement clearly doesnt work with Iran because the Iranians dont want to be engagedIm with you.  The Iranians dont want to be engaged, theyre moving, theyre going nuclear.   The North Koreans didnt want to be engaged, I mean criminy, they dont want pro-globalization, you throw CNN in North Korea, you know, probably Kim Jong-il falls relatively quickly, they want to keep the place isolated, they want to build their nukes, they want to buy people off, they want to blackmail, they want to sell drugs, Media Transcripts, Inc. PROGRAM Rosenkranz Foundation-Intelligence Square U.S.- America Should be the World's Policeman Page 55. they want to sell ballistic missiles, they want to engage in human trade.   This is a nasty, brutish and quite short regime.  I dont expect that any of the United States policies were likely to work, my point was, the Chinese have more leverage over North Korea than the United States does, there was no military option, you attack North Korea to try to stop them, South Koreas devastated within 36 hours because of artillery if you look at geography.   So that wasnt an option.  Even the most ardent opponents in the Defense Department werent trying to go there.  So given the fact that you dont like the regime, given you dont want them to develop the nukes, you want to stop them, the United States has to think about who has the power, and its not just the US, you gotta go to the Chinese, who actually are providing these guys with the lifeline economically, and say we need to work with you. Thats not the US acting as a global policeman, thats America in a more multilateral role trying to cajole relatively incalcitrant [sic] countries, recalcitrant countries to do their best. MORLEY SAFER Other questions? MALE AUDIENCE MEMBER I think one of the key questions has been avoided.  And this only was personally alluded by Mr. Parris.  And the, the question is, how do you be the policeman if you dont longer have predominance.  The key and imperative word is predominance. Media Transcripts, Inc. PROGRAM Rosenkranz Foundation-Intelligence Square U.S.- America Should be the World's Policeman Page 56. Like the English empire, lo lost its role as master of the world when it lost economic predominance after the First World War, the United States no longer has the predominance it ought to have to be the policeman.  So the question is what can webe done, without the predominance. MORLEY SAFER You want to take that Youve brought up a number of times the notion that nobody else wants to be the global policeman so the United States has to step up for the job.  I agree.  Nobody else wants to be the worlds Media Transcripts, Inc. PROGRAM Rosenkranz Foundation-Intelligence Square U.S.- America Should be the World's Policeman Page 70. policeman.  Lots of people want to be their own regions and their own neighborhoods policeman.  Some of them, thankfully, are incapable, like Venezuela.  Some of them are increasingly capable, like China in Asia and like Russia in Eurasia.  And the United States has to recognize that.  They have to recognize that the extraordinary shift in importance of alliances and the importance in the battles of the hearts and minds, not of the individual people in these countries, but of the leaders that have to support this policing role to provide legitimacy is not only assured by the worlds largest military but also by the worlds largest trade flows.  But  MORLEY SAFER [OVERLAP]  One IAN BREMMER [OVERLAP]  but also by the influence in these countries.  And were seeing that in terms of Chinas extraordinary influence in Latin America, which is growing by the second, in Africa, by Russia and Eurasia and the rest.  The United States is going to have to learn to live with this.  Look, its true that a lot of Americans arent happy.  Theyre unhappy because of subprime. Theyre unhappy because of recession.  Theyre unhappy because of energy and security.  Theyre unhappy because of Iraq.  And increasingly theyre unhappy because the bailout thats coming isnt like the U.S. government with the S&L crisis.  The bailout Media Transcripts, Inc. PROGRAM Rosenkranz Foundation-Intelligence Square U.S.- America Should be the World's Policeman Page 71. thats happening with the big blue chips right now is coming from China and the Gulf and the rest.  We dont want to throw the baby out with the bath water.  We dont want Americans that are increasingly insecure to say the U.S. shouldnt play a leadership role.  Look, every debate needs a theme.  For me this theme is that the great should never be the enemy of the good.  Okay, now Im an American and Id love to have the great.  But I tell you, Id take what I can get.  [APPLAUSE] MORLEY SAFER Douglas Murray. Okay?  Well, good evening, everyone, Im not Ian Bremmer, Im Ellen, and I rise to oppose the notion that the US should be the worlds policeman.  The United States indisputably has a vital role to play in world affairs, we have unique qualities for leadership.   At present, perhaps not as a permanent state of affairs, some of this unique role is circumstantial because our only peer adversary for over half a century is no more.  Some of it is inherent in our qualities.  The size of our country, the wealth that we enjoy, and the talent of our people.   We can influence world affairs, both by conscious decisions that our governments make, by our societys desire to respond to humanitarian Media Transcripts, Inc. PROGRAM Rosenkranz Foundation-Intelligence Square U.S.- America Should be the World's Policeman Page 11. disasters, and in positions that we take in multilateral negotiations and in regional organizations.   Americans for the most part do want to be active on the world stage.  But we can do good in the world, and we can benefit as a society, from active engagement in the world, without being the worlds policeman. Lets talk some definitions. Now, I dont know whether the organizers of this debate meant police in a literal sense.  But lets take the word police at three different levels.  First would be police as in a demand for someone to enforce the rules, not make the rules, but enforce them.   So who do youwhen youre in trouble, call 911, the police come.  So thats the kind of bottom-level, literal definition of, of policeman in this case.  We could also think of the worlds policeman as a metaphor for a security provider in much broader dimensions.   Who sets the laws and enforces them.  This would be a reference to the hegemonic stability system that weve known internationally since World War II, that would refer to for example Americas military presence in East Asia, or in the role that we played when we finally decided to topple the Taliban in Afghanistan. And then theres a third definition thats perhaps a little more abstract.  Policeman as a surrogate for any use of force, or for a Media Transcripts, Inc. PROGRAM Rosenkranz Foundation-Intelligence Square U.S.- America Should be the World's Policeman Page 12. monopoly on the use of force, including going to war, preemptive wars, preventive wars.   We decided Saddam Hussein had to go, we made the rule for ourself [sic], it wasnt a rule for anybody else, it was just for us.  So thats a third definition of the worlds policeman.  So I oppose this motion and I hope you will agree with me, for several reasons.   First lets take some practical reasons.  The US is a country, not a global government.  We have to know our limits.  The United States should use force when its in our interest, just like every other country has to make existential decisions about the use of force and about war and peace.   If we step up to the role of the worlds policeman we would be committing to act and to put our soldiers and police and our citizens in harms way where U.S. interests may be very modest.  Do we want to assume responsibility to go anywhere anytime?  A second practical argument is that we cant do it. And here I mean both in terms of quantity and quality.  Quantity: guess how many of the eleven thousand police who are currently deployed worldwide in U.N. operations are American?  Out of eleven thousand, two hundred and ninety-one are U.S. policemen.  And they are in Kosovo and Haiti, principally.  So the U.S. has not provided robust manpower from our police forces. Weve also learned that the way we train our policemen in a federal system is not all that well suited to the requirements for police in a lot of peace operations post-conflict.  And then lets Media Transcripts, Inc. PROGRAM Rosenkranz Foundation-Intelligence Square U.S.- America Should be the World's Policeman Page 13. ask literally, are we capable of doing the job?  Can we be the beat cop that Max talked about?  Do we know the neighborhood?  Do we speak the language?  Do we know the culture so that we can diffuse conflict before it breaks into violence?  Im not so sure about that.  It turns out that a lot of other countries, by the way, are willing to train their citizens and deploy them to be policemen in such circumstances  the South Asians, the Australians, the Canadians and the Nordics, in particular. A third practical reason is that Im not sure the American people want us to play this role alone.  There is a deep belief that the security burdens in the world need to be shared and that not all security problems affect American interests.  We need to make choices.  Polls show that Americans want to respond when there are humanitarian requirements, et cetera, but they dont want to do it alone.  Now, Im not going to make the cost argument because I actually dont think its the most persuasive one.  The U.S. does still contribute twenty-five percent of the U.N.s costs to deploy forces around the world but we are behind in our dues. And before we criticize the U.N., I think we better decide whether the under-funding of some of the U.N.s activities are, in fact, because we havent paid our, our fair share. Second set of arguments I want to make against this motion are Media Transcripts, Inc. PROGRAM Rosenkranz Foundation-Intelligence Square U.S.- America Should be the World's Policeman Page 14. political ones.  And here basically its two arguments.  One is an argument about today, the particular moment that were in.  And another is an argument about the horizon, about the future.  I think today we have a particular problem trying to assert that we could or should be the worlds policeman.  We have over-used our global leadership role.  We have abused, in a way, the, the good will of the international community by deciding that we knew better than anyone how to bring security to dangerous parts of the world.  And it turned out we werent as good at it as we thought we would be.  We have not necessarily made  at least the key, Iran and AfghanIraq and Afghanistan  more secure or more stable.  This is not the moment to reassert the policemans role. MORLEY SAFER [OVERLAP]  One minute. ELLEN LAIPSON A third set of arguments  at the horizon my argument is that there is a realignment of power in the 21st Century.  Other countries are rising.  This does not mean that the United States is in decline.  It does not mean that were weak.  But other countries are rising and its a good moment to try to reallocate some of the responsibilities for these activities.  I have a third, a last argument, which is a philosophical one.   I think it would behoove American society and the long term interests of the Media Transcripts, Inc. PROGRAM Rosenkranz Foundation-Intelligence Square U.S.- America Should be the World's Policeman Page 15. American people if we would take a more nuanced and egalitarian sense of our place in the world.  In the age of globalization weve benefited at least as much as everybody else. But we have to be, we have to start to recognize that other people are good at this game too, and that we have to have more respect for the capacity of others to contribute to the global commons. So what I advocate is a multilateral approach to the security needs of the international community.  I want an integrated approach that doesnt look just at the security aspects of some of these problems but weaves together cultural, political and economic dimensions of policy responses.  And I want us to care a lot more about the legitimacy of how we engage internationally, particularly since, as the world becomes more democratic  MORLEY SAFER [OVERLAP]  Time is up, Ms. Laipson. ELLEN LAIPSON Okay, thank you very much.  [APPLAUSE] MORLEY SAFER And now for the resolution, Michael Mandelbaum. Well I think the North Korea and Iran cases are a category thats a little bit different than the requirement for a policeman, although Michael Mandelbaum put non-proliferation inn this basket that were talking about tonight.   But both of those problems are being managed with, you know, international cooperation, and even if the United States haddidnt want to engage initially with North Korea, and still today with Iran, the reality is we have found interlocutors to engage with both.   And the progress has been made in the six-party talks with North Korea.  I certainly agree with you that Iran is in one of those, you know, very hard baskets, and engagement alone is not necessarily sufficient.  There are circumstances in which coercive diplomacy, sanctions, there are other instruments of international politics that can be, can be exercised.   But I would argue that at least under todays circumstances, you know, Iran is not, Iran has many policies that we do not like, but it is not playing the role of a belligerent, that requires a military action Media Transcripts, Inc. PROGRAM Rosenkranz Foundation-Intelligence Square U.S.- America Should be the World's Policeman Page 28. right now. MORLEY SAFER We will continue now withfor the resolution, Douglas Murray. Id like to ask Michael Mandelbaum to tell us how he would get to the end state that he desires, of the US as the worlds policeman, what would you do, you spoke very disparagingly of the UN. What would you do with the 17 current peace missions that the Media Transcripts, Inc. PROGRAM Rosenkranz Foundation-Intelligence Square U.S.- America Should be the World's Policeman Page 46. United States has supported, by its vote authorizing them in the Security Council, the 100,000 soldiers and policemen that are deployed worldwide in these trouble spots.  Is your view that those operations should simply shut down and go away? Thanks, Morley.  I admire the optimism of the other side, that Americas power remains preeminent and will continue to be in  and they have been somewhat selective in their metrics or their use of factual information.  I do think that we have some serious questions about the capacity to spread our military and civilian forces thinner around the world.  One only needs to listen to military commanders concerns about recruitment, retention, the cost of medical care to our soldiers, et cetera, to realize that, you know, there are limits to our ability to serve this function.  And I think there is both an ethical and a political argument of why not share it with others?  Ive heard the other side say, Oh, were, we like allies.  Allies are fine.  But they still believe that the essential decision making authority of deciding when to act  MORLEY SAFER [OVERLAP]  One minute. ELLEN LAIPSON and where to act, is, resides in the United States.  And I just Media Transcripts, Inc. PROGRAM Rosenkranz Foundation-Intelligence Square U.S.- America Should be the World's Policeman Page 64. dont think thats the way the world works anymore.  I really do believe that while the United States remains a country of exceptional wealth, talent, et cetera  and I deeply hope we remain so indefinitely --  we should be aware of a redistribution of talent, capacity in the international system.  And we should embrace this and turn it into a virtue.  We should not be afraid of it.  We should not be threatened by it.  And we should not think that that United States alone has a monopoly on wisdom about how to respond to the worlds trouble spots.  And for me one of the strongest arguments of this discussion tonight has been legitimacy.  Michael conceded that we would have less legitimacy than the New York police, but that other countries so far havent pushed back.  I think thats not a permanent state of affairs and I think that we should be looking for, in  if we believe truly in democratic values, and I know we do  legitimacy should matter a lot.  We should care more what other countries think and what their preferences are for finding the best solution to the worlds policemen.  Thank you. MORLEY SAFER Max Boot, youre next. [PAUSE]  Ladies and gentlemen, I was touched by what Max Boot, [LAUGHTER]  Max Boot said about the excellence of the British empire and British imperialism in the 19th and early 20th Century.  I'm old enough  hes not  to remember that that was not the American attitude towards British imperialism, even in the 1950s and the 1960s.  What happens when any one nation tries to assert, coercively, its predominance over the rest of the Media Transcripts, Inc. PROGRAM Rosenkranz Foundation-Intelligence Square U.S.- America Should be the World's Policeman Page 20. world is that other nations begin to gang up against them.  And in that case the United States was part of the group that ganged up against the British empire.  It might be fair, it might not be fair.  But it will always happen and its something to which I want to return.  But first  and if youll forgive me that spirit of malice which I find rescues these occasions from the horrors of constructive debate, may, may I, --  [LAUGHTER]  I say what a privilege it, it is to find ranged, against me three of the finest minds its possible to locate among protagonists for a doomed cause.  [LAUGHTER] One of my fellow countrymen, Douglas Murrays precocious genius  well, few on the British, the thinking British right have not heard of Douglas Murrays genius.  I have to tell you, ladies and gentlemen, that he has taken elements in Britain quite by storm.  One commentator praises him as the rights answer to Michael Moore, God help us.  [LAUGHTER]  His unkinder critics have suggested  I, I think in jest -- that when younger he had a brief flirtation with the Baptist Church.  Only on discovering that baptism by total immersion meant disappearing entirely from the public view for all of thirty seconds, made [LAUGHTER]  Mr. Murray relent.  Max Boot appeared last year on a list of the Five Hundred Most Influential Foreign Policy Thinkers.  We, on this side of the debate, do not dispute Mr. Boots influence on foreign Media Transcripts, Inc. PROGRAM Rosenkranz Foundation-Intelligence Square U.S.- America Should be the World's Policeman Page 21. policy thinking any more than we dispute the influence of Donald Rumsfeld or King George the III.  [LAUGHTER] Both Murray and Boot and Michael Mandelbaum, too clever for the mob on their own side, represent one of the most interesting political experiments in outsourcing ever conducted -- U.S. conservatisms franchising out to experts of its higher mental faculties.  [LAUGHTER]   Their function, theyre a kind of priesthood, is to flatter stupider people that there exist higher arguments, smarter than they themselves can quite grasp, for things that they wanted to do anyway.  They should be here in white robes.  Three fine fellows, then  one of them older, one of them younger, all of them prettier and all of them cleverer than the argument that they represent.  We salute them.  [LAUGHTER] Next, to the, to the argument that they represent:  why must Washington shun the mantle of world policeman?  For three reasons:  First, America cant; Second, America shouldnt; and Third, Americans wont embrace this role. We dont debate whether Belgium should police the world because the possibility does not arise nor does it for America, as Ellen Laipson says  not even America.  She is more powerful than any but nowhere like more powerful than all of the nations of the world.  The point at which the United States most closely Media Transcripts, Inc. PROGRAM Rosenkranz Foundation-Intelligence Square U.S.- America Should be the World's Policeman Page 22. approached political hegemony  military, political and economic  was more than half a century ago.  It was at the end of the Second World War.  Since then, and despite magnificent growth in absolute terms, America has been in almost continuous relative decline.  After the implosion of the Soviet Union the impression of power vacuum was just a mirage.  It was not a vacuum.  It was a fragmentation, as America and my own country, Britain, are discovering in Iraq and Afghanistan, where we are hopelessly entangled in two quite undeveloped countries, both of which I visited since the occupation. Where are the armies?  Where are the fleets?  Where are the treasure chests to finish this job, let alone embark on new coercions?  If the predominance of Americas wealth and power in comparison with any single rival has misled some into supposing that America could out-punch all of them together, it never misled cleverer men like Messrs. Boot, Mandelbaum and Murray. They have advanced a more subtle theory that if America picked on a single miscreant nation and sorted it out by force, then mission accomplished  others would learn the lesson.  Its an attractive idea.  It didnt work  quite the reverse.  It triggered an international up-swelling of resentment and resistance.  This has weakened Americas greatest resource  good will, her powers of persuasion. Media Transcripts, Inc. PROGRAM Rosenkranz Foundation-Intelligence Square U.S.- America Should be the World's Policeman Page 23. Maybe you think the world is judging America unfairly.  I, I think the world judged imperial Britain unfairly.  But ask why that happens, why that always happen.  And if you want to know the answer, ask how Americans would feel if the boot  Max will forgive me  were not on the American foot.  Of all people, Americans should know that a policeman implements laws made by and for the people that he polices, under a government whose legitimacy derives from its being their own.  Police other nations and there will be no such assumed legitimacy.  Without acquiescence you can only impose.  America does not have the brute power to impose, nor the right.  I said that not only can America not police the world but that she should not.  With whatever good will you set out with  MORLEY SAFER [OVERLAP]  One minute. MATTHEW PARRIS on your policemans beat, your decisions must in the end take account of your own interest.  How can it be otherwise?  Faced with a conflict between the interests of the American people and anywhere else in the world, how can a democrat believe that Washington can or would stand blindfold in disinterested judgment between the two?  We act, in the end, in our own interests.  Finally, I said that America wont police the world.  I Media Transcripts, Inc. PROGRAM Rosenkranz Foundation-Intelligence Square U.S.- America Should be the World's Policeman Page 24. dont believe it is the will of the American people.  Im not a narrow horizon Englander.  I was born in Africa, schooled in Cyprus, Zimbabwe.  My family lived for five years in Jamaica.  I was at school in Swaziland and for two years at Yale University.  I know a bit about America and Americans.  And I think theres something different about you.  I think that even if you could police the world, I dont think that Americans want to police the world.  I dont think that Americans are isolationist.  I think that on occasions America has to intervene abroad, has to respond, has to defend herself.  But I think its in the instincts of the American people to demand of their statesmen that reasons are given for that.  There will never be a long, longstanding will among the American people for international intervention. Curiously enough, I [UNCLEAR]  -- MORLEY SAFER [OVERLAP]  Please wrap it up Mr. Parris. MATTHEW PARRIS [OVERLAP]  May I just finish my sentence? MORLEY SAFER Sentence. MATTHEW PARRIS Though you think your argument faces a tough test before an audience of internationalist New Yorkers, its out there in the sticks, among the right, where it will finally flounder.  I know Media Transcripts, Inc. PROGRAM Rosenkranz Foundation-Intelligence Square U.S.- America Should be the World's Policeman Page 25. those people.  I represented them in England.  They are conservatives.  You, Max, Douglas and your cartload of doctrine and theory, are not.  I beg to oppose the motion.  [APPLAUSE] MORLEY SAFER Thank you.  [APPLAUSE]   Before we continue, II have a question or two for each side here.  Max Boot, you make the casethat the alternative to unilateralism, is isolation.  Whatever happened to diplomacy? Yeah.  [APPLAUSE] Well of course I know a great deal less of the American people than almost everybody else on the panel, I only have the hunches that I get from those whom I know and the time that I spent there.  And also a little bit that I know about the history of the British empire and British colonialism and much of which Ive lived in my own childhood, and, my impression, and I may be wrong, is that thetheres a good patriotic spirit in America for invasions of foreign countries where those invasions can be seen as palpably in the national interest in order to defend America from people abroad.  But that there isnt the same interest in administering other countries, there isnt the same interest in prolonged occupations of other countries, there isnt the same interest in doing what policemen do abroad, and that its only as long as America is winning in those circumstances that public opinion remains positive, it quite quickly turns against, when conditions seem to be coming adverse. MORLEY SAFER Ellen Laipson, who do you have a question for. ELLEN LAIPSON Id like to ask Michael Mandelbaum to tell us how he would get to the end state that he desires, of the US as the worlds policeman, what would you do, you spoke very disparagingly of the UN. What would you do with the 17 current peace missions that the Media Transcripts, Inc. PROGRAM Rosenkranz Foundation-Intelligence Square U.S.- America Should be the World's Policeman Page 46. United States has supported, by its vote authorizing them in the Security Council, the 100,000 soldiers and policemen that are deployed worldwide in these trouble spots.  Is your view that those operations should simply shut down and go away? Well, Ill  [APPLAUSE]  Ill reciprocate your humility.  You suggest that you or the Americans have learnt that imperialism, indeed British imperialism was a better thing than you thought it was at the time.   I would say that we British have learnt that imperialism was not as good a thing as we thought that it was, at the time, but there is a limit to the extent that a country that has no economic global predominance can continue to police large sections of the globe.   We learnt that, to our very great cost, its a lesson that weve learnt and I think were not going to un-learn it and if we have any advice for you it is not to repeat the mistake. MORLEY SAFER Matthew Parris, do you have a question for someone here. MATTHEW PARRIS Yes.  Idagain, its to Mr. Mandelbaum.  Its a serious question, I rather than aan ad hominem one, Id like you toId like you to deal with the question of legitimacy with policemen, a policeman in New York works for an authority that is elected, enforces laws which have been enacted by people who have been Media Transcripts, Inc. PROGRAM Rosenkranz Foundation-Intelligence Square U.S.- America Should be the World's Policeman Page 49. elected and is in many ways of the community that he polices. America as world policemen would be a very different kind of animal.  There would be no such presumed consent, theres a real problem MORLEY SAFER Question MATTHEW PARRIS about legitimacy MORLEY SAFER question, please, sir MATTHEW PARRIS about authority, and I wonder how you answer that problem. There wasif I can just put in quickly, theres a good quote here from Mr. Blair, our former premier in Britain.  When--I mean I think on the important point to make which is that just because you cant intervene everywhere doesnt mean you dont intervene anywhere.   And before the Iraq war Mr. Blair was asked by a journalistnwhy he was going for this particular conflict and he said, its a very important phrase and I absolutely agree with it, he said peopleI get fed up when people say to me why not the Burmese lot, why not Mugabe.  He said, I dont, because I cant. But when you can, you should. MORLEY SAFER We have time for two more questions, brief ones, please. MALE AUDIENCE MEMBER Question is for the proponents of the motion.  Given the fact that Media Transcripts, Inc. PROGRAM Rosenkranz Foundation-Intelligence Square U.S.- America Should be the World's Policeman Page 60. Medicare and Social Security, and other elements in our safety net are gonna be with us for a while would any of you advocate the institution of a military draft, to provide the power that would be necessary to be the world policeman on a scale that would fit the needs of the problems that are going to arise in the foreseeable future. Well, Im becoming more and more confused listening to Max Boot as to whether the United States can or cant afford this role. In one breath he says they can and then challenged over Africa, he says they cant.  That quote from Tony Blair that Douglas Murray gave us was thoroughly disingenuous.  I dont because I Media Transcripts, Inc. PROGRAM Rosenkranz Foundation-Intelligence Square U.S.- America Should be the World's Policeman Page 67. cant.  Britain is perfectly capable of toppling Mugabes regime in Zimbabwe.  The United States is perfectly capable of instigating free and fair elections in Kenya.  Britain and the United States together could do something about Darfur.  They dont and the reason that they dont, I believe, is that there is no coherent view on the part of the allies as to what the role of worlds policeman would be or where the worlds policeman would police.  And I believe that one of the reasons theres no coherent view is American democracy.  I dont think the American people are really into this kind of thing.  I dont think the American people really want this role.  If they did there would have been much more discussion as to how it should be imposed.  Secondly, multilateralism. MORLEY SAFER One minute. MATTHEW PARRIS [OVERLAP]  Are they in favor of it or are they against it on the other side?  Max Boot seemed to speak very disparagingly about multilateralism.  Mr. Mandelbaum spoke about the feebleness of the United Nations.  One of the reasons for the feebleness of the United Nations is that countries like America, and to some extent Britain, have not entirely supported the United Nations.  Theres lots of things wrong with the United Nations.  But one of them is there is no feeling that the United States any longer really wants Media Transcripts, Inc. PROGRAM Rosenkranz Foundation-Intelligence Square U.S.- America Should be the World's Policeman Page 68. to make the United Nations a driving multilateral force.  Douglas, Murray spoke about police not policing, not really meaning the assertion of force.  He seemed to call up a vision of an American world policeman as a kind of world marriage guidance counselor or world social worker or world priest or, uh-- MORLEY SAFER [OVERLAP]  I must ask, I must ask you to wrap it up. MATTHEW PARRIS or Rabbi.  I will wrap up.  America has two great weapons.  One is force and the other is persuasion, the power of moral persuasion.  They are not complementary.  The more force is used the more the power of moral persuasion will be undermined.  And I would urge you to oppose the motion and to support the idea of moral persuasion and not the use of force. MORLEY SAFER Michael Mandelbaum. Undecided:  32% After the debate:  Undecided:  5% MORLEY SAFER Id like to introduce Robert Rosenkranz, Chairman of the Rosenkranz Foundation, the sponsor of Intelligence Squared, who will frame tonights debate.  [APPLAUSE] ROBERT ROSENKRANZ Thank you, Morley.  And thank all of you for braving the rather forbidding elements tonight.  With me is Dana Wolfe, our Executive Producer.  Well, tonights debate reflects what will almost certainly be a major theme in the upcoming Presidential election, particularly if Barack Obamas momentum and fundraising prowess carry him to the Democratic nomination. We can expect campaigns that reflect stark differences in views about Americas military engagement with the world.  Each of Media Transcripts, Inc. PROGRAM Rosenkranz Foundation-Intelligence Square U.S.- America Should be the World's Policeman Page 2. these views has a long political pedigree  antecedents ranging from Jeffersonian isolationism, Hamiltons economic liberalism, Jacksons muscular populism and Wilsons humanitarian idealism.  Each would come to very different conclusions on tonights resolution.  Among the arguments that America should be the worlds policeman are:  Who else will protect the peaceful from the ruthless, especially the ruthlessness of Islamic radicalism.   Who else will cope with nuclear proliferation or threats to the world oil supply.  The U.N. has proven useless. NATO is too unwieldy and has under-invested in its militaries for decades.  Only the U.S. has the capability to lead and to act. The counter-argument is that no single nation is fit for the role of global policeman  certainly not an over-stretched and economically challenged America, an America with a deeply flawed intelligence operation, ineffective public diplomacy and only a superficial understanding of other cultures.   Police are viewed skeptically and for good reason, particularly if there are no international institutions to check their power.  We need a multilateral approach for legitimacy and to be successful.  So these are the two arguments that are going to be elaborated on by a wonderful panel of speakers that Im particularly proud of.  And Im pleased to turn the evening over now to our moderator, Morley Safer.  Morley has received many awards for his long and Media Transcripts, Inc. PROGRAM Rosenkranz Foundation-Intelligence Square U.S.- America Should be the World's Policeman Page 3. distinguished career in broadcast journalism.  Hes been a correspondent on 60 Minutes for CBS since 1970.  So this is his thirty-eighth year on the show this season.  Morley, the evening is yours. MORLEY SAFER Thank you, Bob.  [APPLAUSE]  Id like to welcome you to the seventh debate of the second Intelligence Squared U.S. series. The resolution being debated tonight is:  America should be the worlds policeman.  And let me give you a brief run down of the rules of the game.  Members of each team will alternate in presenting their side of the argument.  Presentations are limited to seven minutes.  When opening arguments are complete I will open up the floor to brief questions from the audience.  After the Q&A each debater will make a final two minute summation.  And finally, you will vote on tonights motion with the keypad attached to the armrest of your seat and I will announce your decision on which side carried the day.  Lets start with a pre-debate vote. You should have one of these.  Pick it up.  It should be attached to the armrest on your left.  And for audience members sitting along the aisle, to my right, your keypad is attached to the armrest on your right side next to your neighbors.  Again, tonights resolution is:  America should be the worlds policeman. After my prompt please press one to vote for the motion, two to vote against the motion or three if youre undecided.  You may Media Transcripts, Inc. PROGRAM Rosenkranz Foundation-Intelligence Square U.S.- America Should be the World's Policeman Page 4. begin voting now.  [PAUSE]  Everyone voted?  Okay, I will announce the result of your vote later on in the evening.  Id now, now like to introduce the panel, and please hold your applause until all six are introduced.  For the motion, a Fellow in National Security Studies at the Council on Foreign Relations, Max Boot, professor of American Foreign Policy at the Johns Hopkins University School of Advanced International Studies, Michael Mandelbaum, and author, commentator and director of the Centre for Social Cohesion, Douglas Murray.   And to my left, against the motion, president and founder of the Eurasia Group, Ian Bremmer, President and CEO of the Henry L. Stimson Center Ellen Laipson, and writer for the Times of London and the Spectator, then broadcaster for the BBC and a former British Member of Parliament, Matthew Parris.  [APPLAUSE]  We will start with Max Boot voting for the motion.\")"
   ]
  },
  {
   "cell_type": "code",
   "execution_count": 198,
   "metadata": {
    "collapsed": true
   },
   "outputs": [],
   "source": [
    "names_and_win = [('campus_assault.txt', [0, 1]), ('ISIS_defeated.txt', [0, 1]), ('samesex.txt', [0, 1]), ('iran_deal.txt', [0, 1]),\\\n",
    "('death_penalty.txt', [0, 1]), ('constitutional_authority.txt', [0, 1]), ('right_to_forget.txt', [0, 1]), \\\n",
    "('liberals_stifling.txt', [1, 0]), ('declinists.txt', [1, 0]), ('amazon.txt', [0, 1]), ('gmos.txt', [1, 0]), ('eutha.txt', [0, 1]), \\\n",
    "('income_inequal.txt', [0, 1]), ('mass_collection.txt', [1, 0]), ('flexing_musc.txt', [1, 0]), ('common_core.txt', [1, 0]), \\\n",
    "('pacs.txt', [0, 1]), ('death_not_final.txt', [0, 1]), ('millenials.txt', [1, 0]), ('lecture_obsolete.txt', [1, 0]), \\\n",
    "('russia.txt', [0, 1]), ('USA_kill.txt', [1, 0]), ('affirmative.txt', [1, 0]), ('snowden.txt', [1, 0]), ('obamacare.txt', [1, 0]), \\\n",
    "('eat_face.txt', [1, 0]), ('spy_on_me.txt', [0, 1]), ('right_to_bear.txt', [1, 0]), ('take_job_anywhere.txt', [0, 1]), \\\n",
    "('red_state.txt', [1, 0]), ('break_up_banks.txt', [0, 1]), ('drones.txt', [0, 1]), ('us_syria.txt', [1, 0]), \\\n",
    "('pentagon_budget.txt', [0, 1]), ('fda_caution.txt', [1, 0]), ('gop_center.txt', [0, 1]), ('minimum_wage.txt', [0, 1]), \\\n",
    "('strong_dollar.txt', [1, 0]), ('prohibit_genetic.txt', [0, 1]), ('nuclear_iran.txt', [0, 1]), ('science_god.txt', [1, 0]), \\\n",
    "('legalize_drugs.txt', [1, 0]), ('rich_taxed.txt', [0, 1]), ('end_of_life_care.txt', [1, 0]), ('elected_islamists.txt', [0, 1]),\\\n",
    "('money_politics_overregulated.txt', [0, 1]), ('natural_gas_bad.txt', [1, 0]), ('ban_football.txt', [1, 0]), \\\n",
    "('internet_closing_minds.txt', [1, 0]), ('china_capitalism_better.txt', [0, 1]), ('obesity_govt_business.txt', [0, 1]), \\\n",
    "('palestine_statehood.txt', [1, 0]), ('no_religion.txt', [1, 0]), ('job_plan.txt', [1, 0]), ('too_many_kids_college.txt', [1, 0]), \\\n",
    "('grandmas_benefits.txt', [0, 1]), ('men_are_finished.txt', [1, 0]), ('end_war_on_terror.txt', [0, 1]), \\\n",
    "('freedom_press_state.txt', [0, 1]), ('dont_give_us.txt', [1, 0]), ('clip_americas_wings.txt', [1, 0]), \\\n",
    "('clean_energy.txt', [0, 1]), ('two_party_bad.txt', [0, 1]), ('repeal_obamacare.txt', [0, 1]), ('airports_profiling.txt', [1, 0]), \\\n",
    "('afghanistan_lost.txt', [0, 1]), ('big_govt_stifling.txt', [1, 0]), ('islam_is_peace.txt', [0, 1]), \\\n",
    "('terrorists_enemy_combatants.txt', [0, 1]), ('cyber_war_exaggerated.txt', [0, 1]), ('obamas_policy_us_decline.txt', [0, 1]), \\\n",
    "('organic_is_hype.txt', [0, 1]), ('teacher_unions_failing_schools.txt', [0, 1]), ('us_stepback_israel.txt', [1, 0]), \\\n",
    "('california_failed.txt', [1, 0]), ('us_mexico_drugs.txt', [1, 0]), ('obamas_policies_working.txt', [1, 0]), \\\n",
    "('good_riddance_mainstream.txt', [0, 1]), ('us_will_not_succeed_afghan.txt', [0, 1]), ('buy_american_bad.txt', [1, 0]), \\\n",
    "('diplomacy_iran_nowhere.txt', [0, 1]), ('pay_for_sex.txt', [1, 0]), ('blame_washington_financial.txt', [1, 0]), \\\n",
    "('art_market_ethical.txt', [1, 0]), ('carbon_reductions_not_worth_it.txt', [1, 0]), ('bush_is_worst.txt', [0, 1]), \\\n",
    "('google_dont_be_evil.txt', [1, 0]), ('guns_reduce_crime.txt', [1, 0]), ('america_winning_iraq.txt', [1, 0]), \\\n",
    "('universal_health.txt', [0, 1]), ('legalize_organs.txt', [1, 0]), ('islam_radicals.txt', [1, 0]), \\\n",
    "('tough_interrogation.txt', [0, 1]), ('america_policeman.txt', [1, 0]), ('performance_enhancing.txt', [1, 0]), \\\n",
    "('aid_africa_bad.txt', [0, 1]), ('end_affirmative.txt', [0, 1]), ('russia_enemy_again.txt', [0, 1]), \\\n",
    "('stop_welcoming_immigrants.txt', [1, 0]), ('spread_democracy_me.txt', [1, 0]), ('booming_china.txt', [0, 1]), \\\n",
    "('more_domestic_surveillance.txt', [0, 1]), ('global_warming_not.txt', [1, 0]), ('america_too_religious.txt', [1, 0]), \\\n",
    "('hollywood_anti_us.txt', [0, 1]), ('democratic_hamas.txt', [0, 1]), ('license_to_offend.txt', [1, 0]), \\\n",
    "('tolerate_iran.txt', [1, 0])]"
   ]
  },
  {
   "cell_type": "code",
   "execution_count": 207,
   "metadata": {
    "collapsed": false,
    "scrolled": false
   },
   "outputs": [
    {
     "name": "stdout",
     "output_type": "stream",
     "text": [
      "debate_text/campus_assault.txt\n",
      "['Jed Rubenfeld:', 'Jeannie Suk:']\n",
      "['Michelle Anderson:', 'Stephen Schulhofer:']\n",
      "\n",
      "\n",
      "\n",
      "\n",
      "debate_text/ISIS_defeated.txt\n",
      "[]\n",
      "[]\n",
      "\n",
      "\n",
      "\n",
      "\n",
      "debate_text/samesex.txt\n",
      "['John Eastman:', 'Sherif Girgis:']\n",
      "['Kenji Yoshino:', 'Evan Wolfson:']\n",
      "\n",
      "\n",
      "\n",
      "\n",
      "debate_text/iran_deal.txt\n",
      "['Philip Gordon:', 'Thomas Pickering:']\n",
      "['Michael Doran:', 'Mark Dubowitz:']\n",
      "\n",
      "\n",
      "\n",
      "\n",
      "debate_text/death_penalty.txt\n",
      "['Diann Rust-Tierney:', 'Barry Scheck:']\n",
      "['Robert Blecker:', 'Kent Scheidegger:']\n",
      "\n",
      "\n",
      "\n",
      "\n",
      "debate_text/constitutional_authority.txt\n",
      "['Gene Healy:', 'Deborah Pearlstein:']\n",
      "['Akhil Amar:', 'Philip Bobbitt:']\n",
      "\n",
      "\n",
      "\n",
      "\n",
      "debate_text/right_to_forget.txt\n",
      "['Paul Nemitz:', 'Eric Posner:']\n",
      "['Jonathan Zittrain:', 'Andrew McLaughlin:']\n",
      "\n",
      "\n",
      "\n",
      "\n",
      "debate_text/liberals_stifling.txt\n",
      "['Greg Lukianoff:', 'Kirsten Powers:']\n",
      "['Angus Johnston:', 'Jeremy Mayer:']\n",
      "\n",
      "\n",
      "\n",
      "\n",
      "debate_text/declinists.txt\n",
      "['Josef Joffe:', 'Peter Zeihan:']\n",
      "['Chrystia Freeland:', 'James Rickards:']\n",
      "\n",
      "\n",
      "\n",
      "\n",
      "debate_text/amazon.txt\n",
      "['Joe Konrath:', 'Matthew Yglesias:']\n",
      "['Franklin Foer:', 'Scott Turow:']\n",
      "\n",
      "\n",
      "\n",
      "\n",
      "debate_text/gmos.txt\n",
      "['Robert Fraley:', 'Alison Van Eenennaam:']\n",
      "['Charles Benbrook:', 'Margaret Mellon:']\n",
      "\n",
      "\n",
      "\n",
      "\n",
      "debate_text/eutha.txt\n",
      "['Peter Singer:', 'Andrew Solomon:']\n",
      "['Ilora Finlay:', 'Daniel Sulmasy:']\n",
      "\n",
      "\n",
      "\n",
      "\n",
      "debate_text/income_inequal.txt\n",
      "['Elise Gould:', 'Nick Hanauer:']\n",
      "['Edward Conard:', 'Scott Winship:']\n",
      "\n",
      "\n",
      "\n",
      "\n",
      "debate_text/mass_collection.txt\n",
      "['Alex Abdo:', 'Elizabeth Wydra:']\n",
      "['Stewart Baker:', 'John Yoo:']\n",
      "\n",
      "\n",
      "\n",
      "\n",
      "debate_text/flexing_musc.txt\n",
      "['Aaron David Miller:', 'Paul Pillar:']\n",
      "['Michael Doran:', 'Bret Stephens:']\n",
      "\n",
      "\n",
      "\n",
      "\n",
      "debate_text/common_core.txt\n",
      "['Carmel Martin:', 'Michael Petrilli:']\n",
      "['Carol Burris:', 'Frederick Hess:']\n",
      "\n",
      "\n",
      "\n",
      "\n",
      "debate_text/pacs.txt\n",
      "['Floyd Abrams:', 'Nadine Strossen:']\n",
      "['Burt Neuborne:', 'Zephyr Teachout:']\n",
      "\n",
      "\n",
      "\n",
      "\n",
      "debate_text/death_not_final.txt\n",
      "['Eben Alexander:', 'Raymond Moody:']\n",
      "['Sean Carroll:', 'Steven Novella:']\n",
      "\n",
      "\n",
      "\n",
      "\n",
      "debate_text/millenials.txt\n",
      "['Binta Niambi Brown:', 'W. Keith Campbell:']\n",
      "['David Burstein:', 'Jessica Grose:']\n",
      "\n",
      "\n",
      "\n",
      "\n",
      "debate_text/lecture_obsolete.txt\n",
      "['Anant Agarwal:', 'Ben Nelson:']\n",
      "['Jonathan Cole:', 'Rebecca Schuman:']\n",
      "\n",
      "\n",
      "\n",
      "\n",
      "debate_text/russia.txt\n",
      "['Ian Bremmer:', 'Edward Lucas:']\n",
      "['Amb. Robert Blackwill:', 'Peter Hitchens:']\n",
      "\n",
      "\n",
      "\n",
      "\n",
      "debate_text/USA_kill.txt\n",
      "['Alan Dershowitz:', 'Michael Lewis:']\n",
      "['Noah Feldman:', 'Hina Shamsi:']\n",
      "\n",
      "\n",
      "\n",
      "\n",
      "debate_text/affirmative.txt\n",
      "['Gail Heriot:', 'Richard Sander:']\n",
      "['Theodore Shaw:', 'Randall Kennedy:']\n",
      "\n",
      "\n",
      "\n",
      "\n",
      "debate_text/snowden.txt\n",
      "['Daniel Ellsberg:', 'Ben Wizner:']\n",
      "['Andrew McCarthy:', 'James Woolsey:']\n",
      "\n",
      "\n",
      "\n",
      "\n",
      "debate_text/obamacare.txt\n",
      "['Dr. Scott Gottlieb:', 'Megan McArdle:']\n",
      "['Jonathan Chait:', 'Douglas Kamerow:']\n",
      "\n",
      "\n",
      "\n",
      "\n",
      "debate_text/eat_face.txt\n",
      "['Dr. Neal Bernard:', 'Gene Baur:']\n",
      "['Chris Masterjohn:', 'Joel Salatin:']\n",
      "\n",
      "\n",
      "\n",
      "\n",
      "debate_text/spy_on_me.txt\n",
      "['Stewart Baker:', 'Richard Falkenrath:']\n",
      "['David Cole:', 'Michael German:']\n",
      "\n",
      "\n",
      "\n",
      "\n",
      "debate_text/right_to_bear.txt\n",
      "['Alan Dershowitz:', 'Sanford Levinson:']\n",
      "['David Kopel:', 'Eugene Volokh:']\n",
      "\n",
      "\n",
      "\n",
      "\n",
      "debate_text/take_job_anywhere.txt\n",
      "['Bryan Caplan:', 'Vivek Wadhwa:']\n",
      "['Kathleen Newland:', 'Ron Unz:']\n",
      "\n",
      "\n",
      "\n",
      "\n",
      "debate_text/red_state.txt\n",
      "['Hugh Hewitt:', 'Stephen Moore:']\n",
      "['Gray Davis:', 'Michael Lind:']\n",
      "\n",
      "\n",
      "\n",
      "\n",
      "debate_text/break_up_banks.txt\n",
      "['Richard Fisher:', 'Simon Johnson:']\n",
      "['Douglas Elliott:', 'Paul Saltzman:']\n",
      "\n",
      "\n",
      "\n",
      "\n",
      "debate_text/drones.txt\n",
      "['Ahmed Rashid:', 'John Kael Weston:']\n",
      "['Dennis Blair:', 'Norton Schwartz:']\n",
      "\n",
      "\n",
      "\n",
      "\n",
      "debate_text/us_syria.txt\n",
      "['Graham Allison:', 'Richard Falkenrath:']\n",
      "['R. Nicholas Burns:', 'Sir Nigel Sheinwald:']\n",
      "\n",
      "\n",
      "\n",
      "\n",
      "debate_text/pentagon_budget.txt\n",
      "['Thomas Donnelly:', 'Andrew Krepinevich:']\n",
      "['Benjamin Friedman:', 'Kori Schake:']\n",
      "\n",
      "\n",
      "\n",
      "\n",
      "debate_text/fda_caution.txt\n",
      "['Dr. Scott Gottlieb:', 'Peter Huber:']\n",
      "['Dr. Jerry Avorn:', 'Dr. David Challoner:']\n",
      "\n",
      "\n",
      "\n",
      "\n",
      "debate_text/gop_center.txt\n",
      "['David Brooks:', 'Mickey Edwards:']\n",
      "['Laura Ingraham:', 'Ralph Reed:']\n",
      "\n",
      "\n",
      "\n",
      "\n",
      "debate_text/minimum_wage.txt\n",
      "['James Dorn:', 'Russell Roberts:']\n",
      "['Jared Bernstein:', 'Karen Kornbluh:']\n",
      "\n",
      "\n",
      "\n",
      "\n",
      "debate_text/strong_dollar.txt\n",
      "['Frederic Mishkin:', 'John Taylor:']\n",
      "['James Grant:', 'Steve Forbes:']\n",
      "\n",
      "\n",
      "\n",
      "\n",
      "debate_text/prohibit_genetic.txt\n",
      "['Sheldon Krimsky:', 'Lord Robert Winston:']\n",
      "['Nita Farahany:', 'Lee Silver:']\n",
      "\n",
      "\n",
      "\n",
      "\n",
      "debate_text/nuclear_iran.txt\n",
      "['James Dobbins:', 'Reuven Pedatzur:']\n",
      "['Shmuel Bar:', 'Jeffrey Goldberg:']\n",
      "\n",
      "\n",
      "\n",
      "\n",
      "debate_text/science_god.txt\n",
      "['Lawrence Krauss:', 'Michael Shermer:']\n",
      "['Dinesh DSouza:', 'Ian Hutchinson:']\n",
      "\n",
      "\n",
      "\n",
      "\n",
      "debate_text/legalize_drugs.txt\n",
      "['Paul Butler:', 'Nick Gillespie:']\n",
      "['Theodore Dalrymple:', 'Asa Hutchinson:']\n",
      "\n",
      "\n",
      "\n",
      "\n",
      "debate_text/rich_taxed.txt\n",
      "['Glenn Hubbard:', 'Arthur Laffer:']\n",
      "['Robert Reich:', 'Mark Zandi:']\n",
      "\n",
      "\n",
      "\n",
      "\n",
      "debate_text/end_of_life_care.txt\n",
      "['Arthur Kellermann:', 'Peter Singer:']\n",
      "['Ken Connor:', 'Sally Pipes:']\n",
      "\n",
      "\n",
      "\n",
      "\n",
      "debate_text/elected_islamists.txt\n",
      "['Reuel Marc Gerecht:', 'Brian Katulis:']\n",
      "['Daniel Pipes:', 'M. Zuhdi Jasser:']\n",
      "\n",
      "\n",
      "\n",
      "\n",
      "debate_text/money_politics_overregulated.txt\n",
      "['David Keating:', 'Jacob Sullum:']\n",
      "['Trevor Potter:', 'Jonathan Soros:']\n",
      "\n",
      "\n",
      "\n",
      "\n",
      "debate_text/natural_gas_bad.txt\n",
      "['Deborah Goldberg:', 'Katherine Hudson:']\n",
      "['Joe Nocera:', 'Susan Tierney:']\n",
      "\n",
      "\n",
      "\n",
      "\n",
      "debate_text/ban_football.txt\n",
      "['Buzz Bissinger:', 'Malcolm Gladwell:']\n",
      "['Tim Green:', 'Jason Whitlock:']\n",
      "\n",
      "\n",
      "\n",
      "\n",
      "debate_text/internet_closing_minds.txt\n",
      "['Eli Pariser:', 'Siva Vaidhyanathan:']\n",
      "['Evgeny Morozov:', 'Jacob Weisberg:']\n",
      "\n",
      "\n",
      "\n",
      "\n",
      "debate_text/china_capitalism_better.txt\n",
      "['Orville Schell:', 'Peter Schiff:']\n",
      "['Ian Bremmer:', 'Minxin Pei:']\n",
      "\n",
      "\n",
      "\n",
      "\n",
      "debate_text/obesity_govt_business.txt\n",
      "['Pamela Peeke:', 'David Satcher:']\n",
      "['Paul Campos:', 'John Stossel:']\n",
      "\n",
      "\n",
      "\n",
      "\n",
      "debate_text/palestine_statehood.txt\n",
      "['Mustafa Barghouthi:', 'Daniel Levy:']\n",
      "['Dore Gold:', 'Aaron David Miller:']\n",
      "\n",
      "\n",
      "\n",
      "\n",
      "debate_text/no_religion.txt\n",
      "['Matthew Chapman:', 'A.C. Grayling:']\n",
      "['Dinesh DSouza:', 'David Wolpe:']\n",
      "\n",
      "\n",
      "\n",
      "\n",
      "debate_text/job_plan.txt\n",
      "['Cecilia Rouse:', 'Mark Zandi:']\n",
      "['Richard Epstein:', 'Daniel Mitchell:']\n",
      "\n",
      "\n",
      "\n",
      "\n",
      "debate_text/too_many_kids_college.txt\n",
      "['Charles Murray:', 'Peter Thiel:']\n",
      "['Henry Bienen:', 'Vivek Wadhwa:']\n",
      "\n",
      "\n",
      "\n",
      "\n",
      "debate_text/grandmas_benefits.txt\n",
      "['Margaret Hoover:', 'Mort Zuckerman:']\n",
      "['Howard Dean:', 'Jeff Madrick:']\n",
      "\n",
      "\n",
      "\n",
      "\n",
      "debate_text/men_are_finished.txt\n",
      "['Dan Abrams:', 'Hanna Rosin:']\n",
      "['Christina Hoff Sommers:', 'David Zinczenko:']\n",
      "\n",
      "\n",
      "\n",
      "\n",
      "debate_text/end_war_on_terror.txt\n",
      "['Peter Bergen:', 'Juliette Kayyem:']\n",
      "['Richard Falkenrath:', 'Michael Hayden:']\n",
      "\n",
      "\n",
      "\n",
      "\n",
      "debate_text/freedom_press_state.txt\n",
      "['Michael Chertoff:', 'Gabriel Schoenfeld:']\n",
      "['Alan Dershowitz:', 'David Sanger:']\n",
      "\n",
      "\n",
      "\n",
      "\n",
      "debate_text/dont_give_us.txt\n",
      "['Kris Kobach:', 'Tom Tancredo:']\n",
      "['Julin Castro:', 'Tamar Jacoby:']\n",
      "\n",
      "\n",
      "\n",
      "\n",
      "debate_text/clip_americas_wings.txt\n",
      "['Peter Galbraith:', 'Lawrence Korb:']\n",
      "['Elliott Abrams:', 'Eliot Cohen:']\n",
      "\n",
      "\n",
      "\n",
      "\n",
      "debate_text/clean_energy.txt\n",
      "['Bill Ritter:', 'Kassia Yanosek:']\n",
      "['Robert Bryce:', 'Steven Hayward:']\n",
      "\n",
      "\n",
      "\n",
      "\n",
      "debate_text/two_party_bad.txt\n",
      "['David Brooks:', 'Arianna Huffington:']\n",
      "['Zev Chafets:', 'P.J. ORourke:']\n",
      "\n",
      "\n",
      "\n",
      "\n",
      "debate_text/repeal_obamacare.txt\n",
      "['Douglas Holtz-Eakin:', 'John Shadegg:']\n",
      "['Jonathan Cohn:', 'Paul Starr:']\n",
      "\n",
      "\n",
      "\n",
      "\n",
      "debate_text/airports_profiling.txt\n",
      "['Robert Baer:', 'Deroy Murdock:', 'Asra Nomani:']\n",
      "['Hassan Abbas:', 'Debra Burlingame:', 'Michael Chertoff:']\n",
      "\n",
      "\n",
      "\n",
      "\n",
      "debate_text/afghanistan_lost.txt\n",
      "['Matthew Hoh:', 'Nir Rosen:']\n",
      "['Peter Bergen:', 'Max Boot:']\n",
      "\n",
      "\n",
      "\n",
      "\n",
      "debate_text/big_govt_stifling.txt\n",
      "['Phil Gramm:', 'Arthur Laffer:']\n",
      "['Nouriel Roubini:', 'Laura Tyson:']\n",
      "\n",
      "\n",
      "\n",
      "\n",
      "debate_text/islam_is_peace.txt\n",
      "['Zeba Khan:', 'Maajid Nawaz:']\n",
      "['Ayaan Hirsi Ali:', 'Douglas Murray:']\n",
      "\n",
      "\n",
      "\n",
      "\n",
      "debate_text/terrorists_enemy_combatants.txt\n",
      "['Michael Hayden:', 'Marc Thiessen:']\n",
      "['David Frakt:', 'Stephen Jones:']\n",
      "\n",
      "\n",
      "\n",
      "\n",
      "debate_text/cyber_war_exaggerated.txt\n",
      "['Marc Rotenberg:', 'Bruce Schneier:']\n",
      "['Mike McConnell:', 'Jonathan Zittrain:']\n",
      "\n",
      "\n",
      "\n",
      "\n",
      "debate_text/obamas_policy_us_decline.txt\n",
      "['Dan Senor:', 'Mort Zuckerman:']\n",
      "['Wesley Clark:', 'Bernard-Henri Lvy:']\n",
      "\n",
      "\n",
      "\n",
      "\n",
      "debate_text/organic_is_hype.txt\n",
      "['Dennis Avery:', 'Blake Hurst:', 'John Krebs:']\n",
      "['Charles Benbrook:', 'Urvashi Rangan:', 'Jeffrey Steingarten:']\n",
      "\n",
      "\n",
      "\n",
      "\n",
      "debate_text/teacher_unions_failing_schools.txt\n",
      "['Kate McLaughlin:', 'Gary Smuts:', 'Randi Weingarten:']\n",
      "['Terry Moe:', 'Rod Paige:', 'Larry Sand:']\n",
      "\n",
      "\n",
      "\n",
      "\n",
      "debate_text/us_stepback_israel.txt\n",
      "['Roger Cohen:', 'Rashid Khalidi:']\n",
      "['Stuart Eizenstat:', 'Itamar Rabinovich:']\n",
      "\n",
      "\n",
      "\n",
      "\n",
      "debate_text/california_failed.txt\n",
      "['Andreas Kluth:', 'Bobby Shriver:', 'Sharon Waxman:']\n",
      "['Gray Davis:', 'Van Jones:', 'Lawrence ODonnell:']\n",
      "\n",
      "\n",
      "\n",
      "\n",
      "debate_text/us_mexico_drugs.txt\n",
      "['Andrs Martinez:', 'Jeffrey Miron:', 'Fareed Zakaria:']\n",
      "['Jorge Castaeda:', 'Chris Cox:', 'Asa Hutchinson:']\n",
      "\n",
      "\n",
      "\n",
      "\n",
      "debate_text/obamas_policies_working.txt\n",
      "['Lawrence Mishel:', 'Steve Rattner:', 'Mark Zandi:']\n",
      "['James Galbraith:', 'Allan Meltzer:', 'Eliot Spitzer:']\n",
      "\n",
      "\n",
      "\n",
      "\n",
      "debate_text/good_riddance_mainstream.txt\n",
      "['John Hockenberry:', 'Jim VandeHei:', 'Michael Wolff:']\n",
      "['Phil Bronstein:', 'David Carr:', 'Katrina vanden Heuvel:']\n",
      "\n",
      "\n",
      "\n",
      "\n",
      "debate_text/us_will_not_succeed_afghan.txt\n",
      "['Steve Clemons:', 'Patrick Lang:', 'Ralph Peters:']\n",
      "['Steve Coll:', 'John Nagl:', 'James Shinn:']\n",
      "\n",
      "\n",
      "\n",
      "\n",
      "debate_text/buy_american_bad.txt\n",
      "['Jagdish Bhagwati:', 'Douglas Irwin:', 'Susan Schwab:']\n",
      "['Leo Gerard:', 'John R. MacArthur:', 'Jeff Madrick:']\n",
      "\n",
      "\n",
      "\n",
      "\n",
      "debate_text/diplomacy_iran_nowhere.txt\n",
      "['Liz Cheney:', 'Dan Senor:']\n",
      "['Amb. R. Nicholas Burns & Kenneth Pollack:']\n",
      "\n",
      "\n",
      "\n",
      "\n",
      "debate_text/pay_for_sex.txt\n",
      "['Melissa Farley:', 'Catharine A. MacKinnon:', 'Wendy Shalit:']\n",
      "['Sydney Biddle Barrows:', 'Tyler Cowen:', 'Lionel Tiger:']\n",
      "\n",
      "\n",
      "\n",
      "\n",
      "debate_text/blame_washington_financial.txt\n",
      "['Niall Ferguson:', 'John Steele Gordon:', 'Nouriel Roubini:']\n",
      "['Alex Berenson:', 'Jim Chanos:', 'Nell Minow:']\n",
      "\n",
      "\n",
      "\n",
      "\n",
      "debate_text/art_market_ethical.txt\n",
      "['Richard Feigen:', 'Michael Hue-Williams:', 'Adam Lindemann:']\n",
      "['Amy Cappellazzo:', 'Chuck Close:', 'Jerry Saltz:']\n",
      "\n",
      "\n",
      "\n",
      "\n",
      "debate_text/carbon_reductions_not_worth_it.txt\n",
      "['Peter Huber:', 'Bjorn Lomborg:', 'Philip Stott:']\n",
      "['L. Hunter Lovins:', 'Oliver Tickell:', 'Adam Werbach:']\n",
      "\n",
      "\n",
      "\n",
      "\n",
      "debate_text/bush_is_worst.txt\n",
      "['Simon Jenkins:', 'Jacob Weisberg:']\n",
      "['William Kristol:', 'Karl Rove:']\n",
      "\n",
      "\n",
      "\n",
      "\n",
      "debate_text/google_dont_be_evil.txt\n",
      "['Harry Lewis:', 'Randal Picker:', 'Siva Vaidhyanathan:']\n",
      "['Esther Dyson:', 'Jim Harper:', 'Jeff Jarvis:']\n",
      "\n",
      "\n",
      "\n",
      "\n",
      "debate_text/guns_reduce_crime.txt\n",
      "['Stephen Halbrook:', 'Gary Kleck:', 'John R. Lott Jr.:']\n",
      "['John J. Donohue III:', 'Paul Helmke:', 'R. Gil Kerlikowske:']\n",
      "\n",
      "\n",
      "\n",
      "\n",
      "debate_text/america_winning_iraq.txt\n",
      "['Frederick Kagan:', 'General Jack Keane (ret.):']\n",
      "['Charles Ferguson:', 'Sir Malcolm Rifkind:']\n",
      "\n",
      "\n",
      "\n",
      "\n",
      "debate_text/universal_health.txt\n",
      "['Art Kellermann:', 'Paul Krugman:', 'Michael Rachlis:']\n",
      "['Michael Cannon:', 'Sally Pipes:', 'John Stossel:']\n",
      "\n",
      "\n",
      "\n",
      "\n",
      "debate_text/legalize_organs.txt\n",
      "['Lloyd Cohen:', 'Amy Friedman:', 'Sally Satel:']\n",
      "['James Childress:', 'Francis Delmonico:', 'David Rothman:']\n",
      "\n",
      "\n",
      "\n",
      "\n",
      "debate_text/islam_radicals.txt\n",
      "['Daveed Gartenstein-Ross:', 'Paul Marshall:', 'Asra Nomani:']\n",
      "['Reza Aslan:', 'Richard Bulliet:', 'Edina Lekovic:']\n",
      "\n",
      "\n",
      "\n",
      "\n",
      "debate_text/tough_interrogation.txt\n",
      "['Rick Francona:', 'Heather Mac Donald:', 'David Rivkin:']\n",
      "['Jack Cloonan:', 'John Hutson:', 'Darius Rejali:']\n",
      "\n",
      "\n",
      "\n",
      "\n",
      "debate_text/america_policeman.txt\n",
      "['Max Boot:', 'Michael Mandelbaum:', 'Douglas Murray:']\n",
      "['Ian Bremmer:', 'Ellen Laipson:', 'Matthew Parris:']\n",
      "\n",
      "\n",
      "\n",
      "\n",
      "debate_text/performance_enhancing.txt\n",
      "['Radley Balko:', 'Norman Fost:', 'Julian Savulescu:']\n",
      "['George Michael:', 'Dale Murphy:', 'Richard Pound:']\n",
      "\n",
      "\n",
      "\n",
      "\n",
      "debate_text/aid_africa_bad.txt\n",
      "['George Ayittey:', 'William Easterly:', 'David Rieff:']\n",
      "['C. Payne Lucas:', 'John McArthur:', 'Gayle Smith:']\n",
      "\n",
      "\n",
      "\n",
      "\n",
      "debate_text/end_affirmative.txt\n",
      "['John McWhorter:', 'Terence Pell:', 'Joseph Phillips:']\n",
      "['Khin Mai Aung:', 'Kimberl Crenshaw:', 'Tim Wise:']\n",
      "\n",
      "\n",
      "\n",
      "\n",
      "debate_text/russia_enemy_again.txt\n",
      "['Claudia Rosett:', 'Bret Stephens:', 'J. Michael Waller:']\n",
      "['Nina Khrushcheva:', 'Robert Legvold:', 'Mark Medish:']\n",
      "\n",
      "\n",
      "\n",
      "\n",
      "debate_text/stop_welcoming_immigrants.txt\n",
      "['Vernon Briggs Jr.:', 'Mark Krikorian:', 'Heather Mac Donald:']\n",
      "['Daniel Griswold:', 'Enrique Morones:', 'Karen Narasaki:']\n",
      "\n",
      "\n",
      "\n",
      "\n",
      "debate_text/spread_democracy_me.txt\n",
      "[]\n",
      "[]\n",
      "\n",
      "\n",
      "\n",
      "\n",
      "debate_text/booming_china.txt\n",
      "[]\n",
      "[]\n",
      "\n",
      "\n",
      "\n",
      "\n",
      "debate_text/more_domestic_surveillance.txt\n",
      "[]\n",
      "[]\n",
      "\n",
      "\n",
      "\n",
      "\n",
      "debate_text/global_warming_not.txt\n",
      "[]\n",
      "['Climate Scientist at the Union of Concerned:']\n",
      "\n",
      "\n",
      "\n",
      "\n",
      "debate_text/america_too_religious.txt\n",
      "[]\n",
      "[]\n",
      "\n",
      "\n",
      "\n",
      "\n",
      "debate_text/hollywood_anti_us.txt\n",
      "[]\n",
      "[]\n",
      "\n",
      "\n",
      "\n",
      "\n",
      "debate_text/democratic_hamas.txt\n",
      "[]\n",
      "[]\n",
      "\n",
      "\n",
      "\n",
      "\n",
      "debate_text/license_to_offend.txt\n",
      "[]\n",
      "[]\n",
      "\n",
      "\n",
      "\n",
      "\n",
      "debate_text/tolerate_iran.txt\n",
      "[]\n",
      "[]\n",
      "\n",
      "\n",
      "\n",
      "\n"
     ]
    }
   ],
   "source": [
    "for document in names_and_win: \n",
    "    processing.parse_text('debate_text/'+document[0])"
   ]
  },
  {
   "cell_type": "code",
   "execution_count": null,
   "metadata": {
    "collapsed": true
   },
   "outputs": [],
   "source": []
  }
 ],
 "metadata": {
  "kernelspec": {
   "display_name": "Python 2",
   "language": "python",
   "name": "python2"
  },
  "language_info": {
   "codemirror_mode": {
    "name": "ipython",
    "version": 2
   },
   "file_extension": ".py",
   "mimetype": "text/x-python",
   "name": "python",
   "nbconvert_exporter": "python",
   "pygments_lexer": "ipython2",
   "version": "2.7.10"
  }
 },
 "nbformat": 4,
 "nbformat_minor": 0
}
