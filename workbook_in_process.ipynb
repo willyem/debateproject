{
 "cells": [
  {
   "cell_type": "markdown",
   "metadata": {},
   "source": [
    "#ALRIGHT WILL \n",
    "##IT'S MONDAY. YOU'RE GONNA SPEND 20 MINUTES LOOKING AT THIS CODE UNABLE TO FIGURE OUT WHAT THE FUCK YOU WERE DOING. I'M HERE TO HELP. \n",
    "\n",
    "###The last thing you looked at was a list of the vocabulary sorted by coefficient magnitude for a logistic regression model; this is towards the top of the workbook. \n",
    "\n",
    "###What you need to do next is to CHANGE how you're calculating the word count vectors you're using; you were originally subtracting 'against the motion' from 'for the motion' -- you WANT to make it so that it's 'winner' minus 'loser'; this will make your vocabulary and coefficients much more intelligible. \n",
    "\n",
    "###After that, look at the features and plot their coefficients -- does it tell you anything? \n",
    "\n",
    "###There are still a few additional things you need to incorporate into your model -- the number of women speaking, POS/syntax. REFER TO THE YELLOW NOTEBOOK. "
   ]
  },
  {
   "cell_type": "code",
   "execution_count": 82,
   "metadata": {
    "collapsed": false
   },
   "outputs": [],
   "source": [
    "import processing\n",
    "import pandas as pd\n",
    "import string \n",
    "from sklearn.feature_extraction.text import CountVectorizer, TfidfVectorizer\n",
    "from sklearn.metrics.pairwise import linear_kernel\n",
    "import nltk.data\n",
    "from nltk.tokenize import word_tokenize\n",
    "from nltk.stem.wordnet import WordNetLemmatizer\n",
    "from nltk.corpus import stopwords\n",
    "from nltk import pos_tag\n",
    "from sklearn.cross_validation import train_test_split\n",
    "import numpy as np\n",
    "from sklearn.linear_model import LogisticRegression\n",
    "from sklearn.metrics import f1_score\n",
    "from sklearn.ensemble import RandomForestClassifier\n",
    "from sklearn.linear_model import LogisticRegressionCV\n",
    "from sklearn.naive_bayes import GaussianNB\n",
    "from sklearn.metrics.pairwise import cosine_similarity\n",
    "from sklearn.preprocessing import normalize\n",
    "\n",
    "from sklearn.naive_bayes import MultinomialNB\n",
    "\n",
    "%matplotlib inline"
   ]
  },
  {
   "cell_type": "code",
   "execution_count": 2,
   "metadata": {
    "collapsed": true
   },
   "outputs": [],
   "source": [
    "\n",
    "names_and_win = [('campus_assault.txt', [0, 1], [(0, 1), (1, 0)]), ('samesex.txt', [0, 1], [(0, 0), (0, 0)]), ('iran_deal.txt', [0, 1], [(0, 0), (0, 0)]),\\\n",
    "('death_penalty.txt', [0, 1], [(1, 0), (0, 0)]), ('constitutional_authority.txt', [0, 1], [(0, 1), (0, 0)]), ('right_to_forget.txt', [0, 1], [(0, 0), (0, 0)]), \\\n",
    "('liberals_stifling.txt', [1, 0], [(0, 1), (0, 0)]), ('declinists.txt', [1, 0], [(0, 0), (1, 0)]), ('amazon.txt', [0, 1], [(0, 0), (0, 0)]), ('gmos.txt', [1, 0], [(0, 1), (0, 1)]), \\\n",
    "('eutha.txt', [0, 1], [(0, 0), (1, 0)]), \\\n",
    "('income_inequal.txt', [0, 1], [(1, 0), (0, 0)]), ('mass_collection.txt', [1, 0], [(0, 1), (0, 0)]), ('flexing_musc.txt', [1, 0], [(0, 0), (0, 0)]), ('common_core.txt', [1, 0], [(1, 0), (1, 0)]), \\\n",
    "('pacs.txt', [0, 1], [(0, 1), (0, 1)]), ('death_not_final.txt', [0, 1], [(0, 0), (0, 0)]), ('millenials.txt', [1, 0], [(1, 0), (0, 1)]), ('lecture_obsolete.txt', [1, 0], [(0, 0), (0, 1)]), \\\n",
    "('russia.txt', [0, 1], [(0, 0), (0, 0)]), ('USA_kill.txt', [1, 0], [(0, 0), (0, 1)]), ('affirmative.txt', [1, 0], [(1, 0), (0, 0)]), ('snowden.txt', [1, 0], [(0, 0), (0, 0)]), ('obamacare.txt', [1, 0], [(0, 1), (0, 0)]), \\\n",
    "('eat_face.txt', [1, 0], [(0, 0), (0, 0)]), ('spy_on_me.txt', [0, 1], [(0, 0), (0, 0)]), ('right_to_bear.txt', [1, 0], [(0, 0), (0, 0)]), ('take_job_anywhere.txt', [0, 1], [(0, 0), (1, 0)]), \\\n",
    "('red_state.txt', [1, 0], [(0, 0), (0, 0)]), ('break_up_banks.txt', [0, 1], [(0, 0), (0, 0)]), ('drones.txt', [0, 1], [(0, 0), (0, 0)]), ('us_syria.txt', [1, 0], [(0, 0), (0, 0)]), \\\n",
    "('pentagon_budget.txt', [0, 1], [(0, 0), (0, 1)]), ('fda_caution.txt', [1, 0], [(0, 0), (0, 0)]), ('gop_center.txt', [0, 1], [(0, 0), (1, 0)]), ('minimum_wage.txt', [0, 1], [(0, 0), (0, 1)]), \\\n",
    "('strong_dollar.txt', [1, 0], [(0, 0), (0, 0)]), ('prohibit_genetic.txt', [0, 1], [(0, 0), (1, 0)]), ('nuclear_iran.txt', [0, 1], [(0, 0), (0, 0)]), ('science_god.txt', [1, 0], [(0, 0), (0, 0)]), \\\n",
    "('legalize_drugs.txt', [1, 0], [(0, 0), (0, 0)]), ('rich_taxed.txt', [0, 1], [(0, 0), (0, 0)]), ('end_of_life_care.txt', [1, 0], [(0, 0), (0, 1)]), ('elected_islamists.txt', [0, 1], [(0, 0), (0, 0)]),\\\n",
    "('money_politics_overregulated.txt', [0, 1], [(0, 0), (0, 0)]), ('natural_gas_bad.txt', [1, 0], [(1, 1), (0, 1)]), ('ban_football.txt', [1, 0], [(0, 0), (0, 0)]), \\\n",
    "('internet_closing_minds.txt', [1, 0], [(0, 0), (0, 0)]), ('china_capitalism_better.txt', [0, 1], [(0, 0), (0, 0)]), ('obesity_govt_business.txt', [0, 1], [(1, 0), (0, 0)]), \\\n",
    "('palestine_statehood.txt', [1, 0], [(0, 0), (0, 0)]), ('no_religion.txt', [1, 0], [(0, 0), (0, 0)]), ('job_plan.txt', [1, 0], [(1, 0), (0, 0)]), ('too_many_kids_college.txt', [1, 0], [(0, 0), (0, 0)]), \\\n",
    "('grandmas_benefits.txt', [0, 1], [(1, 0), (0, 0)]), ('men_are_finished.txt', [1, 0], [(0, 1), (1, 0)]), ('end_war_on_terror.txt', [0, 1], [(0, 1), (0, 0)]), \\\n",
    "('freedom_press_state.txt', [0, 1], [(0, 0), (0, 0)]), ('dont_give_us.txt', [1, 0], [(0, 0), (1, 0)]), ('clip_americas_wings.txt', [1, 0], [(0, 0), (0, 0)]), \\\n",
    "('clean_energy.txt', [0, 1], [(0, 1), (0, 0)]), ('two_party_bad.txt', [0, 1], [(0, 1), (0, 0)]), ('repeal_obamacare.txt', [0, 1], [(0, 0), (0, 0)]), ('airports_profiling.txt', [1, 0], [(0, 0, 1), (0, 1, 0)]), \\\n",
    "('afghanistan_lost.txt', [0, 1], [(0, 0), (0, 0)]), ('big_govt_stifling.txt', [1, 0], [(0, 0), (0, 1)]), ('islam_is_peace.txt', [0, 1], [(1, 0), (1, 0)]), \\\n",
    "('terrorists_enemy_combatants.txt', [0, 1], [(0, 0), (0, 0)]), ('cyber_war_exaggerated.txt', [0, 1], [(0, 0), (0, 0)]), ('obamas_policy_us_decline.txt', [0, 1], [(0, 0), (0, 0)]), \\\n",
    "('organic_is_hype.txt', [0, 1], [(0, 0, 0), (0, 1, 0)]), ('teacher_unions_failing_schools.txt', [0, 1], [(1, 0, 1), (0, 0, 0)]), ('us_stepback_israel.txt', [1, 0], [(0, 0), (0, 0)]), \\\n",
    "('california_failed.txt', [1, 0], [(0, 0, 1), (0, 0, 0)]), ('us_mexico_drugs.txt', [1, 0], [(0, 0, 0), (0, 0, 0)]), ('obamas_policies_working.txt', [1, 0], [(0, 0, 0), (0, 0, 0)]), \\\n",
    "('good_riddance_mainstream.txt', [0, 1], [(0, 0, 0), (0, 0, 1)]), ('us_will_not_succeed_afghan.txt', [0, 1], [(0, 0, 0), (0, 0, 0)]), ('buy_american_bad.txt', [1, 0], [(0, 0, 1), (0, 0, 0)]), \\\n",
    "('diplomacy_iran_nowhere.txt', [0, 1], [(1, 0), (0, 0)]), ('pay_for_sex.txt', [1, 0], [(1, 1, 1), (1, 0, 0)]), ('blame_washington_financial.txt', [1, 0], [(0, 0, 0), (0, 0, 1)]), \\\n",
    "('art_market_ethical.txt', [1, 0], [(0, 0, 0), (1, 0, 0)]), ('carbon_reductions_not_worth_it.txt', [1, 0], [(0, 0, 0), (1, 0, 0)]), ('bush_is_worst.txt', [0, 1], [(0, 0), (0, 0)]), \\\n",
    "('google_dont_be_evil.txt', [1, 0], [(0, 0, 0), (1, 0, 0)]), ('guns_reduce_crime.txt', [1, 0], [(0, 0, 0), (0, 0, 0)]), ('america_winning_iraq.txt', [1, 0], [(0, 0), (0, 0)]), \\\n",
    "('universal_health.txt', [0, 1], [(0, 0, 0), (0, 1, 0)]), ('legalize_organs.txt', [1, 0], [(0, 1, 1), (0, 0, 0)]), ('islam_radicals.txt', [1, 0], [(0, 0, 1), (0, 0, 1)]), \\\n",
    "('tough_interrogation.txt', [0, 1], [(0, 1, 0), (0, 0, 0)]), ('america_policeman.txt', [1, 0], [(0, 0, 0), (0, 1, 0)]), ('performance_enhancing.txt', [1, 0], [(0, 0, 0), (0, 0, 0)]), \\\n",
    "('aid_africa_bad.txt', [0, 1], [(0, 0, 0), (0, 0, 1)]), ('end_affirmative.txt', [0, 1], [(0, 0, 0), (1, 1, 0)]), ('russia_enemy_again.txt', [0, 1], [(1, 0, 0), (1, 0, 0)]), \\\n",
    "('stop_welcoming_immigrants.txt', [1, 0], [(0, 0, 1), (0, 0, 1)]), ('spread_democracy_me.txt', [1, 0], [(0, 0, 0), (1, 1, 0)]), ('booming_china.txt', [0, 1], [(0, 0, 0), (0, 0, 0)]), \\\n",
    "('more_domestic_surveillance.txt', [0, 1], [(0, 0, 0), (0, 0, 1)]), ('global_warming_not.txt', [1, 0], [(0, 0, 0), (1, 0, 0)]), ('america_too_religious.txt', [1, 0], [(1, 0, 0), (1, 0, 0)]), \\\n",
    "('hollywood_anti_us.txt', [0, 1], [(0, 0, 0), (1, 0, 0)]), ('democratic_hamas.txt', [0, 1], [(0, 0, 0), (0, 0, 0)]), ('license_to_offend.txt', [1, 0], [(0, 0, 1), (0, 1, 1)]), \\\n",
    "('tolerate_iran.txt', [1, 0], [(0, 0, 0), (0, 0, 0)])]"
   ]
  },
  {
   "cell_type": "code",
   "execution_count": 3,
   "metadata": {
    "collapsed": false
   },
   "outputs": [],
   "source": [
    "df = pd.DataFrame(columns = [\"For_text\", \"FL\", \"FA\", \"FP\", \"FS\", \\\n",
    "                             \"Against_text\", \"AL\", \"AA\", \"AP\", \"AS\"])\n",
    "\n",
    "i = 0\n",
    "for document in names_and_win:\n",
    "    \n",
    "    df.loc[i] =  processing.parse_text('debate_text/'+document[0]) #/document\n",
    "    i += 1 \n",
    "\n",
    "    \n",
    "all_text = []\n",
    "for row in df['For_text']:\n",
    "    all_text.append(row)\n",
    "\n",
    "for row in df['Against_text']: \n",
    "    all_text.append(row)\n",
    "\n",
    "all_text = [' '.join(item) for item in all_text]\n",
    "\n",
    "\n",
    "for_the_motion_win_classification = []\n",
    "for item in names_and_win: \n",
    "    for_the_motion_win_classification.append(item[1][0])\n",
    "\n",
    "#who_won --> 0 means against the motion won, 1 means for the motion won\n",
    "\n",
    "df['who_won'] = for_the_motion_win_classification"
   ]
  },
  {
   "cell_type": "code",
   "execution_count": 606,
   "metadata": {
    "collapsed": false
   },
   "outputs": [
    {
     "data": {
      "text/plain": [
       "<214x25 sparse matrix of type '<type 'numpy.float64'>'\n",
       "\twith 1804 stored elements in Compressed Sparse Column format>"
      ]
     },
     "execution_count": 606,
     "metadata": {},
     "output_type": "execute_result"
    }
   ],
   "source": [
    "target = np.array(df['who_won'])\n",
    "\n",
    "CV = CountVectorizer(ngram_range = (4,5), binary = True, min_df = .25)\n",
    "CV_vectors = CV.fit_transform(all_text) * 1.\n",
    "normalize(CV_vectors, axis=0, copy=False)"
   ]
  },
  {
   "cell_type": "code",
   "execution_count": 607,
   "metadata": {
    "collapsed": false
   },
   "outputs": [],
   "source": [
    "#win_minus_lose_vectors = []\n",
    "#for index in range(len(for_the_motion_win_classification)): \n",
    "#    if for_the_motion_win_classification[index] == 0: \n",
    "#        win_minus_lose_vectors.append(np.array((CV_vectors[index+107]-CV_vectors[index]).todense())[0])\n",
    "#    else: \n",
    "#        win_minus_lose_vectors.append(np.array(((CV_vectors[index]-CV_vectors[index+107]).todense()))[0])\n",
    "\n",
    "#win_minus_lose_vectors = np.asmatrix(win_minus_lose_vectors)\n",
    "win_minus_lose_vectors = CV_vectors[:107]-CV_vectors[107:]"
   ]
  },
  {
   "cell_type": "code",
   "execution_count": 608,
   "metadata": {
    "collapsed": false
   },
   "outputs": [
    {
     "data": {
      "text/plain": [
       "(107, 25)"
      ]
     },
     "execution_count": 608,
     "metadata": {},
     "output_type": "execute_result"
    }
   ],
   "source": [
    "win_minus_lose_vectors.shape"
   ]
  },
  {
   "cell_type": "code",
   "execution_count": 609,
   "metadata": {
    "collapsed": false
   },
   "outputs": [],
   "source": [
    "#subtracted_cv_vectors = CV_vectors[0:107] + CV_vectors[107:]"
   ]
  },
  {
   "cell_type": "code",
   "execution_count": 610,
   "metadata": {
    "collapsed": true
   },
   "outputs": [],
   "source": [
    "#X_train, X_test, y_train, y_test = train_test_split(win_minus_lose_vectors, target)\n",
    "\n",
    "#gnb = GaussianNB() \n",
    "#fittedgnb = gnb.fit(X_train, y_train)\n",
    "#y_test_gnb = fittedgnb.predict(X_test)\n",
    "#f1_score(y_test_gnb, y_test)\n",
    "\n",
    "#mnb = MultinomialNB()\n",
    "#fittedmnb = mnb.fit(X_train, y_train)\n",
    "#y_test_mnb = fittedmnb.predict(X_test)\n",
    "#f1_score(y_test_mnb, y_test)"
   ]
  },
  {
   "cell_type": "code",
   "execution_count": 611,
   "metadata": {
    "collapsed": false
   },
   "outputs": [
    {
     "data": {
      "text/plain": [
       "0.57142857142857151"
      ]
     },
     "execution_count": 611,
     "metadata": {},
     "output_type": "execute_result"
    }
   ],
   "source": [
    "lg = LogisticRegressionCV(penalty = 'l1', solver='liblinear')\n",
    "fittedlg = lg.fit(X_train, y_train)\n",
    "predicted_lg = fittedlg.predict(X_test)\n",
    "f1_score(predicted_lg, y_test)"
   ]
  },
  {
   "cell_type": "markdown",
   "metadata": {},
   "source": [
    "##Subtract CV vectors; drop all features that only show up in one class; \n",
    "##add sentiment analysis to dataframe; \n",
    "##train test split, LR CV "
   ]
  },
  {
   "cell_type": "code",
   "execution_count": 612,
   "metadata": {
    "collapsed": false
   },
   "outputs": [],
   "source": [
    "#subtracted_cv_vectors = CV_vectors[0:107] - CV_vectors[107:]\n",
    "cv_df = pd.DataFrame(win_minus_lose_vectors.todense())\n",
    "dropped_cv_df = cv_df.drop(list(cv_df.columns[(cv_df[target==0].sum(axis = 0) == 0)]), axis=1)\n",
    "dropped_cv_df = dropped_cv_df.drop(list(dropped_cv_df.columns[(dropped_cv_df[target==1].sum(axis = 0) == 0)]), axis=1)"
   ]
  },
  {
   "cell_type": "code",
   "execution_count": 613,
   "metadata": {
    "collapsed": true
   },
   "outputs": [],
   "source": [
    "dropped_cv_df[['FL', 'FA', 'FP', 'FS', 'AL', 'AA', 'AP', 'AS']] = df[['FL', 'FA', 'FP', 'FS', 'AL', 'AA', 'AP', 'AS']]"
   ]
  },
  {
   "cell_type": "code",
   "execution_count": 614,
   "metadata": {
    "collapsed": false
   },
   "outputs": [],
   "source": [
    "#winner_females_minus_loser_females = []\n",
    "\n",
    "#for index in range(len(names_and_win)):\n",
    "#    if target[index] == 0: \n",
    "#        winner_females_minus_loser_females.append(sum(names_and_win[index][2][1]) - sum(names_and_win[index][2][0]))\n",
    "#    else: \n",
    "#        winner_females_minus_loser_females.append(sum(names_and_win[index][2][0]) - sum(names_and_win[index][2][1]))\n",
    "\n",
    "#dropped_cv_df['female_count'] = winner_females_minus_loser_females   "
   ]
  },
  {
   "cell_type": "code",
   "execution_count": 615,
   "metadata": {
    "collapsed": false
   },
   "outputs": [],
   "source": [
    "f1scores = []\n",
    "randomarray = np.zeros(dropped_cv_df.shape[1])\n",
    "\n",
    "for x in range(1): \n",
    "    X_train, X_test, y_train, y_test = train_test_split(np.array(dropped_cv_df), target)\n",
    "    lg = LogisticRegressionCV(penalty = 'l1', solver='liblinear')\n",
    "    fittedlg = lg.fit(X_train, y_train)\n",
    "    predicted_lg = fittedlg.predict(X_test)\n",
    "    f1scores.append(f1_score(predicted_lg, y_test))\n",
    "    randomarray += fittedlg.coef_[0]\n"
   ]
  },
  {
   "cell_type": "code",
   "execution_count": 616,
   "metadata": {
    "collapsed": false
   },
   "outputs": [
    {
     "data": {
      "text/plain": [
       "[<matplotlib.lines.Line2D at 0x1b90b2890>]"
      ]
     },
     "execution_count": 616,
     "metadata": {},
     "output_type": "execute_result"
    },
    {
     "data": {
      "image/png": "[encoded data removed]",
      "text/plain": [
       "<matplotlib.figure.Figure at 0x1a23371d0>"
      ]
     },
     "metadata": {},
     "output_type": "display_data"
    }
   ],
   "source": [
    "coefs = list(randomarray / 1.)\n",
    "coefs.sort(reverse=True)\n",
    "big_coefs = coefs[0:]\n",
    "plt.plot(big_coefs)"
   ]
  },
  {
   "cell_type": "code",
   "execution_count": 617,
   "metadata": {
    "collapsed": false
   },
   "outputs": [],
   "source": [
    "important_vocab = [(key, index) for key, index in CV.vocabulary_.items() if index in dropped_cv_df.columns]"
   ]
  },
  {
   "cell_type": "code",
   "execution_count": 618,
   "metadata": {
    "collapsed": false
   },
   "outputs": [],
   "source": [
    "sorted_important_vocab = sorted(important_vocab, key = lambda x: x[1])\n",
    "coefs_ = randomarray \n",
    "zipped_with_coefs = zip(sorted_important_vocab, coefs_)\n",
    "zipped_with_coefs += zip(dropped_cv_df.columns[-9:], coefs_[-9:])"
   ]
  },
  {
   "cell_type": "code",
   "execution_count": 619,
   "metadata": {
    "collapsed": false
   },
   "outputs": [
    {
     "data": {
      "text/plain": [
       "0.53333333333333333"
      ]
     },
     "execution_count": 619,
     "metadata": {},
     "output_type": "execute_result"
    }
   ],
   "source": [
    "np.mean(f1scores)"
   ]
  },
  {
   "cell_type": "code",
   "execution_count": 620,
   "metadata": {
    "collapsed": false
   },
   "outputs": [
    {
     "data": {
      "text/plain": [
       "[((u'you look at the', 24), -0.65410125175267098),\n",
       " (24, -0.65410125175267098),\n",
       " ((u'one of the most', 13), -0.51124311491140928),\n",
       " ((u'thank you very much', 15), 0.42172650231330833),\n",
       " ((u'are going to be', 1), 0.3620039091156621),\n",
       " ((u'the united states and', 18), -0.33595905825626815),\n",
       " ((u'of the united states', 11), -0.30508574985363701),\n",
       " ((u'going to have to', 4), -0.28998514899438943),\n",
       " ((u'and by the way', 0), 0.27212909876671587),\n",
       " ((u'at the same time', 3), -0.14317333891844325),\n",
       " ((u'were not going to', 21), -0.14165174514605194),\n",
       " ((u'is going to be', 9), -0.12727109216228868),\n",
       " ('FS', 0.1145185030721365),\n",
       " ((u'if you look at', 5), 0.10173751244056846),\n",
       " ((u'the end of the', 16), -0.092561378681380188),\n",
       " ('FL', 0.084611606482972598),\n",
       " ('AL', -0.080065872487322595),\n",
       " ((u'if you want to', 7), -0.077466739105445381),\n",
       " ('AS', 0.07438015230426534),\n",
       " ('AP', 0.064517738773417391),\n",
       " ((u'one of the things', 14), -0.057692606862315782),\n",
       " ((u'to the united states', 20), -0.05543507934782238),\n",
       " ('AA', -0.043771768352729175),\n",
       " ((u'what were talking about', 22), -0.039156543792187692),\n",
       " ((u'on the other side', 12), 0.034905716584366975),\n",
       " ((u'if you look at the', 6), -0.033908622048411316),\n",
       " ((u'in the united states', 8), -0.027647214468879501),\n",
       " ((u'when it comes to', 23), -0.025510134225085929),\n",
       " ('FA', 0.025498094432776119),\n",
       " ((u'is one of the', 10), 0.013094488995997329),\n",
       " ((u'to be able to', 19), 0.012368112630695866),\n",
       " ('FP', -0.011504549256455209)]"
      ]
     },
     "execution_count": 620,
     "metadata": {},
     "output_type": "execute_result"
    }
   ],
   "source": [
    "sorted(zipped_with_coefs, key = lambda x: abs(x[1]), reverse=True)"
   ]
  },
  {
   "cell_type": "code",
   "execution_count": null,
   "metadata": {
    "collapsed": true
   },
   "outputs": [],
   "source": []
  },
  {
   "cell_type": "markdown",
   "metadata": {},
   "source": [
    "#TFIDF VECTORIZATION"
   ]
  },
  {
   "cell_type": "code",
   "execution_count": 24,
   "metadata": {
    "collapsed": false
   },
   "outputs": [],
   "source": [
    "tfidf = TfidfVectorizer(stop_words = 'english')\n",
    "tfidf_vectors = tfidf.fit_transform(all_text)\n",
    "\n",
    "vector_differences = tfidf_vectors[0:107] - tfidf_vectors[107:214]\n",
    "\n",
    "df['Vector_differences'] = list(vector_differences.todense())"
   ]
  },
  {
   "cell_type": "code",
   "execution_count": 25,
   "metadata": {
    "collapsed": false
   },
   "outputs": [
    {
     "data": {
      "text/plain": [
       "0.31999999999999995"
      ]
     },
     "execution_count": 25,
     "metadata": {},
     "output_type": "execute_result"
    }
   ],
   "source": [
    "X_train, X_test, y_train, y_test = train_test_split(vector_differences, target)\n",
    "lg = LogisticRegressionCV(penalty = 'l1', solver='liblinear')\n",
    "fittedlg = lg.fit(X_train, y_train)\n",
    "predicted_lg = fittedlg.predict(X_test)\n",
    "f1_score(predicted_lg, y_test)"
   ]
  },
  {
   "cell_type": "code",
   "execution_count": 599,
   "metadata": {
    "collapsed": true
   },
   "outputs": [],
   "source": [
    "sum_of_aga_motion_tfidf_winners = sum(df[df['who_won']==0]['Vector_differences'])\n",
    "aga_wins_avg_tfidf = sum_of_aga_motion_tfidf_winners/len(df[df['who_won']==0])\n",
    "\n",
    "sum_of_for_motion_tfidf_winners = sum(df[df['who_won']==1]['Vector_differences'])\n",
    "for_wins_avg_tfidf = sum_of_for_motion_tfidf_winners/len(df[df['who_won']==1])\n",
    "\n",
    "cosim_to_aga_wins_avg_tfidf = linear_kernel(aga_wins_avg_tfidf, vector_differences)\n",
    "cosim_to_for_wins_avg_tfidf = linear_kernel(for_wins_avg_tfidf, vector_differences)\n",
    "\n",
    "df['cosim_to_for_wins'] = cosim_to_for_wins_avg_tfidf.reshape(107, 1)\n",
    "df['cosim_to_aga_wins'] = cosim_to_aga_wins_avg_tfidf.reshape(107, 1)"
   ]
  },
  {
   "cell_type": "code",
   "execution_count": 9,
   "metadata": {
    "collapsed": false
   },
   "outputs": [],
   "source": [
    "similarity_to_for_the_motion = [] \n",
    "similarity_to_aga_the_motion = []\n",
    "\n",
    "for x in range(107): \n",
    "    new_df = df[df.index != x]\n",
    "    \n",
    "    sum_aga = sum(new_df[new_df['who_won'] == 0]['Vector_differences'])\n",
    "    aga_avg = sum_aga/len(new_df[new_df['who_won'] == 0])\n",
    "    \n",
    "    sum_for = sum(new_df[new_df['who_won'] == 1]['Vector_differences'])\n",
    "    for_avg = sum_for/len(new_df[new_df['who_won'] == 1])\n",
    "    \n",
    "    similarity_to_for_the_motion.append(cosine_similarity(df['Vector_differences'][x], for_avg)[0][0])\n",
    "    similarity_to_aga_the_motion.append(cosine_similarity(df['Vector_differences'][x], aga_avg)[0][0])"
   ]
  },
  {
   "cell_type": "code",
   "execution_count": 10,
   "metadata": {
    "collapsed": false
   },
   "outputs": [],
   "source": [
    "df['similarity_to_for_motion_avg'] = similarity_to_for_the_motion\n",
    "df['similarity_to_aga_motion_avg'] = similarity_to_aga_the_motion"
   ]
  },
  {
   "cell_type": "code",
   "execution_count": 43,
   "metadata": {
    "collapsed": false
   },
   "outputs": [
    {
     "data": {
      "text/plain": [
       "Index([u'For_text', u'FL', u'FA', u'FP', u'FS', u'Against_text', u'AL', u'AA',\n",
       "       u'AP', u'AS', u'who_won', u'Vector_differences',\n",
       "       u'similarity_to_for_motion_avg', u'similarity_to_aga_motion_avg'],\n",
       "      dtype='object')"
      ]
     },
     "execution_count": 43,
     "metadata": {},
     "output_type": "execute_result"
    }
   ],
   "source": [
    "df.columns"
   ]
  },
  {
   "cell_type": "code",
   "execution_count": 73,
   "metadata": {
    "collapsed": true
   },
   "outputs": [],
   "source": [
    "X = df[['FP', 'FS', 'AP', 'AS']]"
   ]
  },
  {
   "cell_type": "code",
   "execution_count": 74,
   "metadata": {
    "collapsed": false
   },
   "outputs": [],
   "source": [
    "#X = df.drop(['For_text', 'Against_text', 'who_won', 'Vector_differences'], axis=1)"
   ]
  },
  {
   "cell_type": "code",
   "execution_count": 75,
   "metadata": {
    "collapsed": false
   },
   "outputs": [],
   "source": [
    "y = df['who_won']"
   ]
  },
  {
   "cell_type": "code",
   "execution_count": 140,
   "metadata": {
    "collapsed": true
   },
   "outputs": [],
   "source": [
    "X_train, X_test, y_train, y_test = train_test_split(X, y)"
   ]
  },
  {
   "cell_type": "code",
   "execution_count": 141,
   "metadata": {
    "collapsed": true
   },
   "outputs": [],
   "source": [
    "lr1 = LogisticRegression()"
   ]
  },
  {
   "cell_type": "code",
   "execution_count": 142,
   "metadata": {
    "collapsed": false
   },
   "outputs": [
    {
     "data": {
      "text/plain": [
       "LogisticRegression(C=1.0, class_weight=None, dual=False, fit_intercept=True,\n",
       "          intercept_scaling=1, max_iter=100, multi_class='ovr',\n",
       "          penalty='l2', random_state=None, solver='liblinear', tol=0.0001,\n",
       "          verbose=0)"
      ]
     },
     "execution_count": 142,
     "metadata": {},
     "output_type": "execute_result"
    }
   ],
   "source": [
    "lr1.fit(X_train, y_train)"
   ]
  },
  {
   "cell_type": "code",
   "execution_count": 143,
   "metadata": {
    "collapsed": false
   },
   "outputs": [
    {
     "data": {
      "text/plain": [
       "0.48148148148148145"
      ]
     },
     "execution_count": 143,
     "metadata": {},
     "output_type": "execute_result"
    }
   ],
   "source": [
    "lr1.score(X_test, y_test)"
   ]
  },
  {
   "cell_type": "code",
   "execution_count": 144,
   "metadata": {
    "collapsed": true
   },
   "outputs": [],
   "source": [
    "y_hat = lr1.predict(X_test)"
   ]
  },
  {
   "cell_type": "code",
   "execution_count": 145,
   "metadata": {
    "collapsed": false
   },
   "outputs": [
    {
     "data": {
      "text/plain": [
       "0.46153846153846151"
      ]
     },
     "execution_count": 145,
     "metadata": {},
     "output_type": "execute_result"
    }
   ],
   "source": [
    "f1_score(y_test, y_hat)"
   ]
  },
  {
   "cell_type": "code",
   "execution_count": 82,
   "metadata": {
    "collapsed": true
   },
   "outputs": [],
   "source": [
    "rf1 = RandomForestClassifier(n_estimators = 10000)\n",
    "fittedrf = rf1.fit(X_train, y_train)\n",
    "y_hat_rf = fittedrf.predict(X_test)\n",
    "f1_score(y_test, y_hat_rf)"
   ]
  },
  {
   "cell_type": "code",
   "execution_count": 85,
   "metadata": {
    "collapsed": false
   },
   "outputs": [
    {
     "data": {
      "text/plain": [
       "0.48275862068965519"
      ]
     },
     "execution_count": 85,
     "metadata": {},
     "output_type": "execute_result"
    }
   ],
   "source": [
    "f1_score(y_test, y_hat_rf)"
   ]
  },
  {
   "cell_type": "code",
   "execution_count": null,
   "metadata": {
    "collapsed": true
   },
   "outputs": [],
   "source": []
  },
  {
   "cell_type": "code",
   "execution_count": 38,
   "metadata": {
    "collapsed": true
   },
   "outputs": [],
   "source": [
    "jancsy_x = df[df['who_won']==0]['similarity_to_for_motion_avg']\n",
    "jancsy_y = df[df['who_won']==0]['similarity_to_aga_motion_avg']\n",
    "\n",
    "jancsy_x2 = df[df['who_won']==1]['similarity_to_for_motion_avg']\n",
    "jancsy_y2 = df[df['who_won']==1]['similarity_to_aga_motion_avg']"
   ]
  },
  {
   "cell_type": "code",
   "execution_count": null,
   "metadata": {
    "collapsed": true
   },
   "outputs": [],
   "source": []
  },
  {
   "cell_type": "code",
   "execution_count": 39,
   "metadata": {
    "collapsed": false
   },
   "outputs": [],
   "source": [
    "import matplotlib.pyplot as plt \n",
    "%matplotlib inline "
   ]
  },
  {
   "cell_type": "code",
   "execution_count": 40,
   "metadata": {
    "collapsed": false
   },
   "outputs": [
    {
     "data": {
      "text/plain": [
       "<matplotlib.collections.PathCollection at 0x1105e48d0>"
      ]
     },
     "execution_count": 40,
     "metadata": {},
     "output_type": "execute_result"
    },
    {
     "data": {
      "image/png": "[encoded data removed]",
      "text/plain": [
       "<matplotlib.figure.Figure at 0x110544e10>"
      ]
     },
     "metadata": {},
     "output_type": "display_data"
    }
   ],
   "source": [
    "plt.figure(101) \n",
    "plt.scatter(jancsy_x, jancsy_y, c='red')\n",
    "plt.scatter(jancsy_x2, jancsy_y2)"
   ]
  },
  {
   "cell_type": "code",
   "execution_count": null,
   "metadata": {
    "collapsed": true
   },
   "outputs": [],
   "source": []
  }
 ],
 "metadata": {
  "kernelspec": {
   "display_name": "Python 2",
   "language": "python",
   "name": "python2"
  },
  "language_info": {
   "codemirror_mode": {
    "name": "ipython",
    "version": 2
   },
   "file_extension": ".py",
   "mimetype": "text/x-python",
   "name": "python",
   "nbconvert_exporter": "python",
   "pygments_lexer": "ipython2",
   "version": "2.7.10"
  }
 },
 "nbformat": 4,
 "nbformat_minor": 0
}
