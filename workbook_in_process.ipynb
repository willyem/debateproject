{
 "cells": [
  {
   "cell_type": "code",
   "execution_count": 417,
   "metadata": {
    "collapsed": false
   },
   "outputs": [],
   "source": [
    "import processing\n",
    "import pandas as pd\n",
    "import string \n",
    "from sklearn.feature_extraction.text import CountVectorizer, TfidfVectorizer\n",
    "from sklearn.metrics.pairwise import linear_kernel\n",
    "import nltk.data\n",
    "from nltk.tokenize import word_tokenize\n",
    "from nltk.stem.wordnet import WordNetLemmatizer\n",
    "from nltk.corpus import stopwords\n",
    "from nltk import pos_tag\n",
    "from sklearn.cross_validation import train_test_split\n",
    "import numpy as np\n",
    "from sklearn.linear_model import LogisticRegression\n",
    "from sklearn.metrics import f1_score\n",
    "from sklearn.ensemble import RandomForestClassifier\n",
    "from sklearn.linear_model import LogisticRegressionCV\n",
    "from sklearn.naive_bayes import GaussianNB\n",
    "from sklearn.metrics.pairwise import cosine_similarity\n",
    "from sklearn.preprocessing import normalize\n",
    "from textstat.textstat import textstat\n",
    "from nltk.wsd import lesk\n",
    "\n",
    "from sklearn.naive_bayes import MultinomialNB\n",
    "\n",
    "%matplotlib inline"
   ]
  },
  {
   "cell_type": "code",
   "execution_count": 23,
   "metadata": {
    "collapsed": true
   },
   "outputs": [],
   "source": [
    "\n",
    "names_and_win = [('campus_assault.txt', [0, 1], [(0, 1), (1, 0)]), ('samesex.txt', [0, 1], [(0, 0), (0, 0)]), ('iran_deal.txt', [0, 1], [(0, 0), (0, 0)]),\\\n",
    "('death_penalty.txt', [0, 1], [(1, 0), (0, 0)]), ('constitutional_authority.txt', [0, 1], [(0, 1), (0, 0)]), ('right_to_forget.txt', [0, 1], [(0, 0), (0, 0)]), \\\n",
    "('liberals_stifling.txt', [1, 0], [(0, 1), (0, 0)]), ('declinists.txt', [1, 0], [(0, 0), (1, 0)]), ('amazon.txt', [0, 1], [(0, 0), (0, 0)]), ('gmos.txt', [1, 0], [(0, 1), (0, 1)]), \\\n",
    "('eutha.txt', [0, 1], [(0, 0), (1, 0)]), \\\n",
    "('income_inequal.txt', [0, 1], [(1, 0), (0, 0)]), ('mass_collection.txt', [1, 0], [(0, 1), (0, 0)]), ('flexing_musc.txt', [1, 0], [(0, 0), (0, 0)]), ('common_core.txt', [1, 0], [(1, 0), (1, 0)]), \\\n",
    "('pacs.txt', [0, 1], [(0, 1), (0, 1)]), ('death_not_final.txt', [0, 1], [(0, 0), (0, 0)]), ('millenials.txt', [1, 0], [(1, 0), (0, 1)]), ('lecture_obsolete.txt', [1, 0], [(0, 0), (0, 1)]), \\\n",
    "('russia.txt', [0, 1], [(0, 0), (0, 0)]), ('USA_kill.txt', [1, 0], [(0, 0), (0, 1)]), ('affirmative.txt', [1, 0], [(1, 0), (0, 0)]), ('snowden.txt', [1, 0], [(0, 0), (0, 0)]), ('obamacare.txt', [1, 0], [(0, 1), (0, 0)]), \\\n",
    "('eat_face.txt', [1, 0], [(0, 0), (0, 0)]), ('spy_on_me.txt', [0, 1], [(0, 0), (0, 0)]), ('right_to_bear.txt', [1, 0], [(0, 0), (0, 0)]), ('take_job_anywhere.txt', [0, 1], [(0, 0), (1, 0)]), \\\n",
    "('red_state.txt', [1, 0], [(0, 0), (0, 0)]), ('break_up_banks.txt', [0, 1], [(0, 0), (0, 0)]), ('drones.txt', [0, 1], [(0, 0), (0, 0)]), ('us_syria.txt', [1, 0], [(0, 0), (0, 0)]), \\\n",
    "('pentagon_budget.txt', [0, 1], [(0, 0), (0, 1)]), ('fda_caution.txt', [1, 0], [(0, 0), (0, 0)]), ('gop_center.txt', [0, 1], [(0, 0), (1, 0)]), ('minimum_wage.txt', [0, 1], [(0, 0), (0, 1)]), \\\n",
    "('strong_dollar.txt', [1, 0], [(0, 0), (0, 0)]), ('prohibit_genetic.txt', [0, 1], [(0, 0), (1, 0)]), ('nuclear_iran.txt', [0, 1], [(0, 0), (0, 0)]), ('science_god.txt', [1, 0], [(0, 0), (0, 0)]), \\\n",
    "('legalize_drugs.txt', [1, 0], [(0, 0), (0, 0)]), ('rich_taxed.txt', [0, 1], [(0, 0), (0, 0)]), ('end_of_life_care.txt', [1, 0], [(0, 0), (0, 1)]), ('elected_islamists.txt', [0, 1], [(0, 0), (0, 0)]),\\\n",
    "('money_politics_overregulated.txt', [0, 1], [(0, 0), (0, 0)]), ('natural_gas_bad.txt', [1, 0], [(1, 1), (0, 1)]), ('ban_football.txt', [1, 0], [(0, 0), (0, 0)]), \\\n",
    "('internet_closing_minds.txt', [1, 0], [(0, 0), (0, 0)]), ('china_capitalism_better.txt', [0, 1], [(0, 0), (0, 0)]), ('obesity_govt_business.txt', [0, 1], [(1, 0), (0, 0)]), \\\n",
    "('palestine_statehood.txt', [1, 0], [(0, 0), (0, 0)]), ('no_religion.txt', [1, 0], [(0, 0), (0, 0)]), ('job_plan.txt', [1, 0], [(1, 0), (0, 0)]), ('too_many_kids_college.txt', [1, 0], [(0, 0), (0, 0)]), \\\n",
    "('grandmas_benefits.txt', [0, 1], [(1, 0), (0, 0)]), ('men_are_finished.txt', [1, 0], [(0, 1), (1, 0)]), ('end_war_on_terror.txt', [0, 1], [(0, 1), (0, 0)]), \\\n",
    "('freedom_press_state.txt', [0, 1], [(0, 0), (0, 0)]), ('dont_give_us.txt', [1, 0], [(0, 0), (1, 0)]), ('clip_americas_wings.txt', [1, 0], [(0, 0), (0, 0)]), \\\n",
    "('clean_energy.txt', [0, 1], [(0, 1), (0, 0)]), ('two_party_bad.txt', [0, 1], [(0, 1), (0, 0)]), ('repeal_obamacare.txt', [0, 1], [(0, 0), (0, 0)]), ('airports_profiling.txt', [1, 0], [(0, 0, 1), (0, 1, 0)]), \\\n",
    "('afghanistan_lost.txt', [0, 1], [(0, 0), (0, 0)]), ('big_govt_stifling.txt', [1, 0], [(0, 0), (0, 1)]), ('islam_is_peace.txt', [0, 1], [(1, 0), (1, 0)]), \\\n",
    "('terrorists_enemy_combatants.txt', [0, 1], [(0, 0), (0, 0)]), ('cyber_war_exaggerated.txt', [0, 1], [(0, 0), (0, 0)]), ('obamas_policy_us_decline.txt', [0, 1], [(0, 0), (0, 0)]), \\\n",
    "('organic_is_hype.txt', [0, 1], [(0, 0, 0), (0, 1, 0)]), ('teacher_unions_failing_schools.txt', [0, 1], [(1, 0, 1), (0, 0, 0)]), ('us_stepback_israel.txt', [1, 0], [(0, 0), (0, 0)]), \\\n",
    "('california_failed.txt', [1, 0], [(0, 0, 1), (0, 0, 0)]), ('us_mexico_drugs.txt', [1, 0], [(0, 0, 0), (0, 0, 0)]), ('obamas_policies_working.txt', [1, 0], [(0, 0, 0), (0, 0, 0)]), \\\n",
    "('good_riddance_mainstream.txt', [0, 1], [(0, 0, 0), (0, 0, 1)]), ('us_will_not_succeed_afghan.txt', [0, 1], [(0, 0, 0), (0, 0, 0)]), ('buy_american_bad.txt', [1, 0], [(0, 0, 1), (0, 0, 0)]), \\\n",
    "('diplomacy_iran_nowhere.txt', [0, 1], [(1, 0), (0, 0)]), ('pay_for_sex.txt', [1, 0], [(1, 1, 1), (1, 0, 0)]), ('blame_washington_financial.txt', [1, 0], [(0, 0, 0), (0, 0, 1)]), \\\n",
    "('art_market_ethical.txt', [1, 0], [(0, 0, 0), (1, 0, 0)]), ('carbon_reductions_not_worth_it.txt', [1, 0], [(0, 0, 0), (1, 0, 0)]), ('bush_is_worst.txt', [0, 1], [(0, 0), (0, 0)]), \\\n",
    "('google_dont_be_evil.txt', [1, 0], [(0, 0, 0), (1, 0, 0)]), ('guns_reduce_crime.txt', [1, 0], [(0, 0, 0), (0, 0, 0)]), ('america_winning_iraq.txt', [1, 0], [(0, 0), (0, 0)]), \\\n",
    "('universal_health.txt', [0, 1], [(0, 0, 0), (0, 1, 0)]), ('legalize_organs.txt', [1, 0], [(0, 1, 1), (0, 0, 0)]), ('islam_radicals.txt', [1, 0], [(0, 0, 1), (0, 0, 1)]), \\\n",
    "('tough_interrogation.txt', [0, 1], [(0, 1, 0), (0, 0, 0)]), ('america_policeman.txt', [1, 0], [(0, 0, 0), (0, 1, 0)]), ('performance_enhancing.txt', [1, 0], [(0, 0, 0), (0, 0, 0)]), \\\n",
    "('aid_africa_bad.txt', [0, 1], [(0, 0, 0), (0, 0, 1)]), ('end_affirmative.txt', [0, 1], [(0, 0, 0), (1, 1, 0)]), ('russia_enemy_again.txt', [0, 1], [(1, 0, 0), (1, 0, 0)]), \\\n",
    "('stop_welcoming_immigrants.txt', [1, 0], [(0, 0, 1), (0, 0, 1)]), ('spread_democracy_me.txt', [1, 0], [(0, 0, 0), (1, 1, 0)]), ('booming_china.txt', [0, 1], [(0, 0, 0), (0, 0, 0)]), \\\n",
    "('more_domestic_surveillance.txt', [0, 1], [(0, 0, 0), (0, 0, 1)]), ('global_warming_not.txt', [1, 0], [(0, 0, 0), (1, 0, 0)]), ('america_too_religious.txt', [1, 0], [(1, 0, 0), (1, 0, 0)]), \\\n",
    "('hollywood_anti_us.txt', [0, 1], [(0, 0, 0), (1, 0, 0)]), ('democratic_hamas.txt', [0, 1], [(0, 0, 0), (0, 0, 0)]), ('license_to_offend.txt', [1, 0], [(0, 0, 1), (0, 1, 1)]), \\\n",
    "('tolerate_iran.txt', [1, 0], [(0, 0, 0), (0, 0, 0)])]"
   ]
  },
  {
   "cell_type": "code",
   "execution_count": 29,
   "metadata": {
    "collapsed": false,
    "scrolled": true
   },
   "outputs": [
    {
     "name": "stdout",
     "output_type": "stream",
     "text": [
      "0\n",
      "1\n",
      "2\n",
      "3\n",
      "4\n",
      "5\n",
      "6\n",
      "7\n",
      "8\n",
      "9\n",
      "10\n",
      "11\n",
      "12\n",
      "13\n",
      "14\n",
      "15\n",
      "16\n",
      "17\n",
      "18\n",
      "19\n",
      "20\n",
      "21\n",
      "22\n",
      "23\n",
      "24\n",
      "25\n",
      "26\n",
      "27\n",
      "28\n",
      "29\n",
      "30\n",
      "31\n",
      "32\n",
      "33\n",
      "34\n",
      "35\n",
      "36\n",
      "37\n",
      "38\n",
      "39\n",
      "40\n",
      "41\n",
      "42\n",
      "43\n",
      "44\n",
      "45\n",
      "46\n",
      "47\n",
      "48\n",
      "49\n",
      "50\n",
      "51\n",
      "52\n",
      "53\n",
      "54\n",
      "55\n",
      "56\n",
      "57\n",
      "58\n",
      "59\n",
      "60\n",
      "61\n",
      "62\n",
      "63\n",
      "64\n",
      "65\n",
      "66\n",
      "67\n",
      "68\n",
      "69\n",
      "70\n",
      "71\n",
      "72\n",
      "73\n",
      "74\n",
      "75\n",
      "76\n",
      "77\n",
      "78\n",
      "79\n",
      "80\n",
      "81\n",
      "82\n",
      "83\n",
      "84\n",
      "85\n",
      "86\n",
      "87\n",
      "88\n",
      "89\n",
      "90\n",
      "91\n",
      "92\n",
      "93\n",
      "94\n",
      "95\n",
      "96\n",
      "97\n",
      "98\n",
      "99\n",
      "100\n",
      "101\n",
      "102\n",
      "103\n",
      "104\n",
      "105\n",
      "106\n"
     ]
    }
   ],
   "source": [
    "df = pd.DataFrame(columns = [\"For_text\", \"For_POS\", \"FL\", \"FA\", \"FP\", \"FS\", \"FSC\", \"FARI\", \"FFLESCH\", \\\n",
    "                             \"Against_text\", \"Aga_POS\", \"AL\", \"AA\", \"AP\", \"AS\", \"ASC\", \"AARI\", \"AFLESCH\"])\n",
    "\n",
    "i = 0\n",
    "for document in names_and_win:\n",
    "    \n",
    "    df.loc[i] =  processing.parse_text('debate_text/'+document[0]) #/document\n",
    "    i += 1 \n",
    "\n",
    "for_the_motion_win_classification = []\n",
    "for item in names_and_win: \n",
    "    for_the_motion_win_classification.append(item[1][0])\n",
    "\n",
    "#who_won --> 0 means against the motion won, 1 means for the motion won\n",
    "\n",
    "df['who_won'] = for_the_motion_win_classification"
   ]
  },
  {
   "cell_type": "code",
   "execution_count": 364,
   "metadata": {
    "collapsed": true
   },
   "outputs": [],
   "source": [
    "df['For_qs'] = [item[0].count(\"?\") for item in df['For_text']]\n",
    "df['Against_qs'] = [item[0].count(\"?\") for item in df['Against_text']]"
   ]
  },
  {
   "cell_type": "code",
   "execution_count": 365,
   "metadata": {
    "collapsed": true
   },
   "outputs": [],
   "source": [
    "all_text = []\n",
    "for row in df['For_text']:\n",
    "    all_text.append(row)\n",
    "\n",
    "for row in df['Against_text']: \n",
    "    all_text.append(row)\n",
    "\n",
    "all_text = [' '.join(item) for item in all_text]"
   ]
  },
  {
   "cell_type": "code",
   "execution_count": 366,
   "metadata": {
    "collapsed": false,
    "scrolled": false
   },
   "outputs": [],
   "source": [
    "all_text_pos = []\n",
    "for row in df['For_POS']:\n",
    "    all_text_pos.append(row)\n",
    "\n",
    "for row in df['Aga_POS']: \n",
    "    all_text_pos.append(row)\n",
    "\n",
    "all_text_pos = [''.join(item) for item in all_text_pos]"
   ]
  },
  {
   "cell_type": "code",
   "execution_count": 367,
   "metadata": {
    "collapsed": false
   },
   "outputs": [
    {
     "data": {
      "text/plain": [
       "<214x25680 sparse matrix of type '<type 'numpy.float64'>'\n",
       "\twith 1480648 stored elements in Compressed Sparse Column format>"
      ]
     },
     "execution_count": 367,
     "metadata": {},
     "output_type": "execute_result"
    }
   ],
   "source": [
    "target = np.array(df['who_won'])\n",
    "\n",
    "CV = CountVectorizer(ngram_range = (3,6), binary = True, min_df = .10)\n",
    "CV_vectors = CV.fit_transform(all_text_pos) * 1.\n",
    "normalize(CV_vectors, axis=0, copy=False)"
   ]
  },
  {
   "cell_type": "code",
   "execution_count": 368,
   "metadata": {
    "collapsed": false
   },
   "outputs": [],
   "source": [
    "#win_minus_lose_vectors = []\n",
    "#for index in range(len(for_the_motion_win_classification)): \n",
    "#    if for_the_motion_win_classification[index] == 0: \n",
    "#        win_minus_lose_vectors.append(np.array((CV_vectors[index+107]-CV_vectors[index]).todense())[0])\n",
    "#    else: \n",
    "#        win_minus_lose_vectors.append(np.array(((CV_vectors[index]-CV_vectors[index+107]).todense()))[0])\n",
    "\n",
    "#win_minus_lose_vectors = np.asmatrix(win_minus_lose_vectors)\n",
    "win_minus_lose_vectors = CV_vectors[:107]-CV_vectors[107:]"
   ]
  },
  {
   "cell_type": "code",
   "execution_count": 369,
   "metadata": {
    "collapsed": false
   },
   "outputs": [
    {
     "data": {
      "text/plain": [
       "(107, 25680)"
      ]
     },
     "execution_count": 369,
     "metadata": {},
     "output_type": "execute_result"
    }
   ],
   "source": [
    "win_minus_lose_vectors.shape"
   ]
  },
  {
   "cell_type": "code",
   "execution_count": 370,
   "metadata": {
    "collapsed": false
   },
   "outputs": [],
   "source": [
    "#subtracted_cv_vectors = CV_vectors[0:107] + CV_vectors[107:]"
   ]
  },
  {
   "cell_type": "code",
   "execution_count": 371,
   "metadata": {
    "collapsed": true
   },
   "outputs": [],
   "source": [
    "#X_train, X_test, y_train, y_test = train_test_split(win_minus_lose_vectors, target)\n",
    "\n",
    "#gnb = GaussianNB() \n",
    "#fittedgnb = gnb.fit(X_train, y_train)\n",
    "#y_test_gnb = fittedgnb.predict(X_test)\n",
    "#f1_score(y_test_gnb, y_test)\n",
    "\n",
    "#mnb = MultinomialNB()\n",
    "#fittedmnb = mnb.fit(X_train, y_train)\n",
    "#y_test_mnb = fittedmnb.predict(X_test)\n",
    "#f1_score(y_test_mnb, y_test)\n",
    "\n",
    "#lg = LogisticRegressionCV(penalty = 'l1', solver='liblinear')\n",
    "#fittedlg = lg.fit(X_train, y_train)\n",
    "#predicted_lg = fittedlg.predict(X_test)\n",
    "#f1_score(predicted_lg, y_test)"
   ]
  },
  {
   "cell_type": "markdown",
   "metadata": {},
   "source": [
    "##Subtract CV vectors; drop all features that only show up in one class; \n",
    "##add sentiment analysis to dataframe; \n",
    "##train test split, LR CV "
   ]
  },
  {
   "cell_type": "code",
   "execution_count": 372,
   "metadata": {
    "collapsed": false
   },
   "outputs": [],
   "source": [
    "#subtracted_cv_vectors = CV_vectors[0:107] - CV_vectors[107:]\n",
    "cv_df = pd.DataFrame(win_minus_lose_vectors.todense())\n",
    "dropped_cv_df = cv_df.drop(list(cv_df.columns[(cv_df[target==0].sum(axis = 0) == 0)]), axis=1)\n",
    "dropped_cv_df = dropped_cv_df.drop(list(dropped_cv_df.columns[(dropped_cv_df[target==1].sum(axis = 0) == 0)]), axis=1)"
   ]
  },
  {
   "cell_type": "code",
   "execution_count": 374,
   "metadata": {
    "collapsed": false
   },
   "outputs": [],
   "source": [
    "dropped_cv_df[['For_qs', 'FL', 'FA', 'FP', 'FS', \"FSC\", \"FARI\", \"FFLESCH\", \\\n",
    "               'Against_qs', 'AL', 'AA', 'AP', 'AS', \"ASC\", \"AARI\", \"AFLESCH\" ]] = \\\n",
    "            df[['For_qs', 'FL', 'FA', 'FP', 'FS', \"FSC\", \"FARI\", \"FFLESCH\", \\\n",
    "               'Against_qs', 'AL', 'AA', 'AP', 'AS', \"ASC\", \"AARI\", \"AFLESCH\" ]]"
   ]
  },
  {
   "cell_type": "code",
   "execution_count": 330,
   "metadata": {
    "collapsed": false
   },
   "outputs": [],
   "source": [
    "#winner_females_minus_loser_females = []\n",
    "\n",
    "#for index in range(len(names_and_win)):\n",
    "#    if target[index] == 0: \n",
    "#        winner_females_minus_loser_females.append(sum(names_and_win[index][2][1]) - sum(names_and_win[index][2][0]))\n",
    "#    else: \n",
    "#        winner_females_minus_loser_females.append(sum(names_and_win[index][2][0]) - sum(names_and_win[index][2][1]))\n",
    "\n",
    "#dropped_cv_df['female_count'] = winner_females_minus_loser_females   "
   ]
  },
  {
   "cell_type": "code",
   "execution_count": 375,
   "metadata": {
    "collapsed": false
   },
   "outputs": [],
   "source": [
    "f1scores = []\n",
    "accscores = []\n",
    "randomarray = np.zeros(dropped_cv_df.shape[1])\n",
    "\n",
    "for x in range(1): \n",
    "    X_train, X_test, y_train, y_test = train_test_split(np.array(dropped_cv_df), target)\n",
    "    lg = LogisticRegressionCV(penalty = 'l1', solver='liblinear')\n",
    "    fittedlg = lg.fit(X_train, y_train)\n",
    "    predicted_lg = fittedlg.predict(X_test)\n",
    "    f1scores.append(f1_score(predicted_lg, y_test))\n",
    "    accscores.append(fittedlg.score(X_test, y_test))\n",
    "    randomarray += fittedlg.coef_[0]\n"
   ]
  },
  {
   "cell_type": "code",
   "execution_count": 376,
   "metadata": {
    "collapsed": false
   },
   "outputs": [
    {
     "data": {
      "text/plain": [
       "0.64516129032258063"
      ]
     },
     "execution_count": 376,
     "metadata": {},
     "output_type": "execute_result"
    }
   ],
   "source": [
    "np.mean(f1scores)"
   ]
  },
  {
   "cell_type": "code",
   "execution_count": 377,
   "metadata": {
    "collapsed": false
   },
   "outputs": [
    {
     "data": {
      "text/plain": [
       "0.59259259259259256"
      ]
     },
     "execution_count": 377,
     "metadata": {},
     "output_type": "execute_result"
    }
   ],
   "source": [
    "np.mean(accscores)"
   ]
  },
  {
   "cell_type": "code",
   "execution_count": 378,
   "metadata": {
    "collapsed": false
   },
   "outputs": [
    {
     "data": {
      "text/plain": [
       "[<matplotlib.lines.Line2D at 0x127556550>]"
      ]
     },
     "execution_count": 378,
     "metadata": {},
     "output_type": "execute_result"
    },
    {
     "data": {
      "image/png": "[encoded data removed]",
      "text/plain": [
       "<matplotlib.figure.Figure at 0x12513a950>"
      ]
     },
     "metadata": {},
     "output_type": "display_data"
    }
   ],
   "source": [
    "coefs = list(randomarray / 1.)\n",
    "coefs.sort(reverse=True)\n",
    "big_coefs = coefs[0:]\n",
    "plt.plot(big_coefs)"
   ]
  },
  {
   "cell_type": "code",
   "execution_count": 379,
   "metadata": {
    "collapsed": false
   },
   "outputs": [],
   "source": [
    "important_vocab = [(key, index) for key, index in CV.vocabulary_.items() if index in dropped_cv_df.columns]"
   ]
  },
  {
   "cell_type": "code",
   "execution_count": 380,
   "metadata": {
    "collapsed": false
   },
   "outputs": [],
   "source": [
    "sorted_important_vocab = sorted(important_vocab, key = lambda x: x[1])\n",
    "coefs_ = randomarray \n",
    "zipped_with_coefs = zip(sorted_important_vocab, coefs_)\n",
    "zipped_with_coefs += zip(dropped_cv_df.columns[-9:], coefs_[-9:])"
   ]
  },
  {
   "cell_type": "code",
   "execution_count": 381,
   "metadata": {
    "collapsed": false
   },
   "outputs": [
    {
     "data": {
      "text/plain": [
       "0.64516129032258063"
      ]
     },
     "execution_count": 381,
     "metadata": {},
     "output_type": "execute_result"
    }
   ],
   "source": [
    "np.mean(f1scores)"
   ]
  },
  {
   "cell_type": "code",
   "execution_count": 382,
   "metadata": {
    "collapsed": false,
    "scrolled": true
   },
   "outputs": [
    {
     "data": {
      "text/plain": [
       "[('AL', -0.033865219331903063),\n",
       " ('FFLESCH', -0.025088362172044684),\n",
       " ('Against_qs', -0.016611715186429298),\n",
       " ((u'to vb prp nn in', 20156), 0.014751800672884013),\n",
       " ((u'nn in prp vbp in dt', 10291), 0.014247126907728926),\n",
       " ((u'nn in prp vbp in', 10290), 0.013685290507832052),\n",
       " ((u'jj nn nnp rb', 7654), 0.013324245402066464),\n",
       " ((u'jj jj nns prp', 7279), 0.012819467205830491),\n",
       " ((u'vbp prp dt nn in', 23550), -0.012643236918308978),\n",
       " ((u'jj jj nns prp vbp', 7280), 0.012623554692819724),\n",
       " ((u'cd nns in prp', 1208), -0.012256802405113478),\n",
       " ((u'in nn nns vbp', 5476), 0.012185206868034097),\n",
       " ((u'nn prp vbz dt jj', 11600), -0.012127566665579483),\n",
       " ((u'nn in nn dt nn', 9902), -0.011961061807101814),\n",
       " ((u'cc in prp vbd', 222), 0.011947340768395792),\n",
       " ((u'cd nn jj', 1131), -0.011703271851131966),\n",
       " ((u'vbp vbn cc', 24076), 0.011580028872158728),\n",
       " ((u'dt nn in nn vbz', 2231), -0.011500595658915517),\n",
       " ((u'nn nnp nnp prp', 11044), 0.011364492098423776),\n",
       " ((u'to dt in', 19589), 0.011341733349323735),\n",
       " ((u'wdt rb vbd', 25200), -0.011188283231644097),\n",
       " ((u'cc dt nn prp', 80), -0.011140398210008132),\n",
       " ((u'dt jj nn vbg', 1744), 0.010952988741604879),\n",
       " ((u'vbp in dt nn vbz', 23220), 0.010928116782366722),\n",
       " ((u'jj nn vbz rb', 7865), 0.010895374869087945),\n",
       " ((u'rb vbg nns', 19191), -0.010887892286440132),\n",
       " ((u'rb in nnp prp', 18199), -0.010827364852982583),\n",
       " ((u'vbp dt nn to vb', 23119), 0.010805843500226493),\n",
       " ((u'nn nns in nnp nnp', 11202), -0.010791122335383567),\n",
       " ((u'in jj nn prp vbp', 5054), 0.010745803178536677),\n",
       " ((u'dt nn in prp vbp in', 2348), 0.010731634686769683),\n",
       " ((u'nn in dt rb', 9757), -0.010727860827197488),\n",
       " ((u'nn nn vbg nn', 10898), -0.010650424755887615),\n",
       " ((u'vbg prp vbd', 22349), -0.010517061105880651),\n",
       " ((u'prp md to', 15929), 0.010483456778642243),\n",
       " ((u'nns cc in dt', 14145), 0.01048016927678168),\n",
       " ((u'prp cc dt', 15621), 0.010415648617093601),\n",
       " ((u'in wp dt', 6856), 0.010388566053364507),\n",
       " ((u'prp vbp rb vb dt nn', 17370), 0.010384888746180095),\n",
       " ((u'vbg to vb nn in', 22451), 0.010383904788159516),\n",
       " ((u'nn in dt cd', 9551), 0.010327910517346765),\n",
       " ((u'nns wdt md vb', 15449), 0.010314971981926043),\n",
       " ((u'prp nn prp vbd', 16191), -0.010309031620955148),\n",
       " ((u'dt nn prp vbd dt', 2690), -0.010255564642262984),\n",
       " ((u'dt nn in dt nns in', 2119), -0.010200238084826887),\n",
       " ((u'nns jj nnp', 14767), 0.010196438926579208),\n",
       " ((u'nns rb vbd', 15113), -0.010139914787475219),\n",
       " ((u'prp vbp jj in prp', 17117), 0.010132101812846179),\n",
       " ((u'in dt nn cd', 4216), -0.010045734277126477),\n",
       " ((u'rb cc prp vbz', 17908), 0.010043734028477629),\n",
       " ((u'nn rb vb', 11769), -0.010042980125646847),\n",
       " ((u'vb prp rp', 21075), -0.010039914172514749),\n",
       " ((u'prp jj nn prp vbp', 15839), 0.010037430807093115),\n",
       " ((u'nn prp vbd dt jj', 11439), -0.010015575504222208),\n",
       " ((u'jj nn vbz dt jj', 7849), -0.009968053250754505),\n",
       " ((u'rb rb vbz dt', 18871), -0.009946315497880668),\n",
       " ((u'jj in prp in', 7174), 0.0099327728288648044),\n",
       " ((u'wp vbn to', 25453), -0.009925763540378189),\n",
       " ((u'rb vbg in dt nn', 19169), -0.0099085906332726809),\n",
       " ((u'rb rb rb jj', 18823), 0.0098991843599804431),\n",
       " ((u'nns in dt nn rb', 14451), -0.009891594185140299),\n",
       " ((u'nn vbp to', 12131), -0.0098885630107205941),\n",
       " ((u'in prp nn prp vbd', 6267), -0.0098795953384725466),\n",
       " ((u'dt nn cc in dt', 1946), 0.0098622548822541733),\n",
       " ((u'nns vbd in nn', 15203), 0.0098493363403002448),\n",
       " ((u'vb jj to vb prp', 20820), 0.009833008339835806),\n",
       " ((u'nnp vbz rb vbn', 14002), 0.0098329752911171207),\n",
       " ((u'in nnp nnp prp vbd', 5772), -0.0098312205143209833),\n",
       " ((u'to vb nn nns', 20072), -0.009824361028537858),\n",
       " ((u'dt cc prp vbp', 1300), 0.0098160669754245415),\n",
       " ((u'vbd dt nnp nnp', 21511), 0.0097821385367279183),\n",
       " ((u'prp vbd in in', 16662), -0.0097813046692347139),\n",
       " ((u'dt nn nn nnp prp', 2517), -0.0097800106343958887),\n",
       " ((u'vb vbn nnp', 21343), 0.0097320124293443014),\n",
       " ((u'in dt nn in nn vbz', 4275), -0.0097168996681451202),\n",
       " ((u'dt cc prp', 1296), 0.0096804469989934458),\n",
       " ((u'nns wdt md', 15446), 0.0096732820688232024),\n",
       " ((u'nn in prp nn prp', 10244), -0.0096673387267869632),\n",
       " ((u'vbz dt nn in dt jj', 24322), -0.0096652742998372225),\n",
       " ((u'dt nnp vbz dt', 3265), 0.0096622798439002875),\n",
       " ((u'nn rb in nnp', 11680), -0.0096600105456295122),\n",
       " ((u'rb rb vbz', 18870), -0.0096170107170113154),\n",
       " ((u'jj nns wdt md vb', 8214), 0.0095847826365793223),\n",
       " ((u'nn in wrb prp', 10424), -0.0095687186834587049),\n",
       " ((u'dt nnp vbz vbn', 3273), 0.0095664700055023266),\n",
       " ((u'dt nn in jj nns in', 2162), -0.0095542888118957166),\n",
       " ((u'cc prp vbd to', 608), -0.0095477951826977887),\n",
       " ((u'rb in dt jj nns', 18104), -0.0095296769922638015),\n",
       " ((u'rb rb jj to', 18782), 0.0095174901216237735),\n",
       " ((u'prp vbz rb dt nn', 17764), -0.0095093607031122504),\n",
       " ((u'in prp md vb to', 6211), -0.0094979771125174514),\n",
       " ((u'jjr in cd', 8436), -0.0094870728863345223),\n",
       " ((u'to vb nn dt', 20058), -0.009469368396202691),\n",
       " ((u'dt nns vbp dt', 3458), -0.009465732953622805),\n",
       " ((u'vb prp nn in', 21032), 0.0094565563230343611),\n",
       " ((u'md vb in cc', 8719), 0.0094345167226112074),\n",
       " ((u'to vb cc dt', 19806), 0.0094291089028451704),\n",
       " ((u'rb dt nn in nnp', 18002), -0.009413758244681953),\n",
       " ((u'vbn nn in nn', 22773), -0.0094111307145572001),\n",
       " ((u'prp vbd prp md vb', 16734), 0.0094076537403632067),\n",
       " ((u'nn nn nnp rb', 10772), 0.0094070815799161787),\n",
       " ((u'cc jj in', 275), 0.0093934611248746875),\n",
       " ((u'rb to nnp', 18900), 0.0093877188622205759),\n",
       " ((u'dt nn md vb vbn', 2429), 0.0093578402418867095),\n",
       " ((u'vbz rb rb jj', 24813), 0.0093539794395569361),\n",
       " ((u'in dt nns wdt', 4734), 0.0093376009159447382),\n",
       " ((u'cc prp vbp to vb prp', 693), -0.0093204611672823359),\n",
       " ((u'in dt nn in vbg', 4307), -0.0093201812549420469),\n",
       " ((u'in dt nn vbz vbn', 4517), 0.0093198890699337459),\n",
       " ((u'jj to vb dt nn', 8356), 0.009317394190933824),\n",
       " ((u'nn prp vbd dt nn', 11441), -0.0093172529143522396),\n",
       " ((u'nn in prp vbd to', 10279), -0.0093104087548062028),\n",
       " ((u'vbp dt nn to', 23117), 0.0092843011636374925),\n",
       " ((u'rb dt nn vbz rb', 18032), 0.0092827071978071642),\n",
       " ((u'vbp in vbz', 23347), -0.009276790214572863),\n",
       " ((u'in nn nn nn', 5398), 0.0092603459093749969),\n",
       " ((u'vbz vbg to vb dt', 24969), -0.0092589770129620098),\n",
       " ((u'vb in cc', 20560), 0.0092364920313084929),\n",
       " ((u'nns in nnp rb', 14623), 0.0092340070002612032),\n",
       " ((u'nn nnp nn vbz dt', 11013), -0.0092326994214084728),\n",
       " ((u'in nnp nnp prp', 5768), -0.0092276361047493004),\n",
       " ((u'dt nn vbd dt jj', 2846), 0.0092250246238116587),\n",
       " ((u'nn prp vbp dt nn to', 11492), 0.0092235306559814451),\n",
       " ((u'nnp rb prp md', 13768), 0.0091795994187996392),\n",
       " ((u'nnp prp jj', 13595), 0.0091655324173716829),\n",
       " ((u'to nn dt nn', 19696), 0.0091554968174053803),\n",
       " ((u'cd dt vbz', 1038), 0.0091394595199878626),\n",
       " ((u'nn nn prp vbz dt', 10843), -0.0090959584243670601),\n",
       " ((u'rb vbn rp', 19287), 0.0090901771152958472),\n",
       " ((u'prp vbd dt nn nn', 16626), -0.0090870811423936042),\n",
       " ((u'jj dt nn in nn', 7038), -0.0090826399033077255),\n",
       " ((u'dt jj nn prp rb', 1691), -0.0090782294546629828),\n",
       " ((u'in nn dt nn in dt', 5254), -0.0090521505857834583),\n",
       " ((u'cc vb nn', 872), 0.0090301900133761669),\n",
       " ((u'vbp dt nn wrb', 23131), -0.0090244675499357718),\n",
       " ((u'rb jj dt jj', 18293), 0.0090242028310618411),\n",
       " ((u'wp prp vbp to vb', 25400), -0.0090103089948262889),\n",
       " ((u'nn prp vbd in in', 11448), -0.0090018931427648594),\n",
       " ((u'wp prp md', 25360), -0.008978699284978426),\n",
       " ((u'jj dt jj nn', 7027), 0.0089529924893730749),\n",
       " ((u'in prp nns in dt nn', 6308), -0.0089401157949024548),\n",
       " ((u'jj to nnp', 8341), 0.0089246284710958763),\n",
       " ((u'vbz jj to', 24578), 0.0089235970953701338),\n",
       " ((u'dt nn nns dt', 2629), -0.0089229675962121547),\n",
       " ((u'in dt nn nns dt', 4400), -0.0089120217364066692),\n",
       " ((u'rb rb nn', 18787), 0.0089033099458546566),\n",
       " ((u'rb vbp dt nn to', 19315), 0.008898569581895133),\n",
       " ((u'nns vbp vbn to', 15408), 0.0088973230018506745),\n",
       " ((u'ex vbp rb', 3816), -0.0088891989875118423),\n",
       " ((u'nn to vb in prp', 11901), 0.0088874540602727602),\n",
       " ((u'dt vbz rb in', 3737), 0.0088873290959914988),\n",
       " ((u'vb cc dt', 20324), 0.0088836430261203039),\n",
       " ((u'dt nnp nns vbd', 3234), -0.0088817290180521861),\n",
       " ((u'nn cc dt nn prp', 8974), -0.0088583441886675753),\n",
       " ((u'vbp to vb vbn in', 23973), 0.0088574335363983611),\n",
       " ((u'to vb rb in prp', 20214), -0.0088552820189978249),\n",
       " ((u'cc nnp prp vbp', 445), 0.0088449415845646678),\n",
       " ((u'nn in dt vbn', 9765), 0.0088399391121800168),\n",
       " ((u'nn cc prp vbz dt', 9180), -0.0088218560343059898),\n",
       " ((u'vbp dt nn wdt', 23128), 0.0088192385762019092),\n",
       " ((u'prp vbz rb vb', 17799), -0.0088109790949907792),\n",
       " ((u'vbp nns wp vbp', 23540), -0.008790196601366998),\n",
       " ((u'dt jj nn in nnp cc', 1599), -0.0087832255811324117),\n",
       " ((u'in vbz rb rb', 6826), 0.0087785221643198567),\n",
       " ((u'in nnps in', 5892), 0.0087771519509476856),\n",
       " ((u'dt prp vbp vbg', 3556), -0.0087746903402797991),\n",
       " ((u'to dt nn in prp', 19629), 0.0087738593593408853),\n",
       " ((u'to vb prp nnp', 20166), 0.0087737489546048531),\n",
       " ((u'nn vbp to vb', 12132), -0.0087670005332265277),\n",
       " ((u'vbp in in prp vbp', 23251), 0.0087613452900832563),\n",
       " ((u'rb jj cc rb', 18289), 0.008757362703046721),\n",
       " ((u'rb prp vbp vbg in', 18687), 0.00872790585304168),\n",
       " ((u'to vb rp in', 20238), 0.0087230105926252265),\n",
       " ((u'vbz rb vbn in', 24870), 0.008719235523445272),\n",
       " ((u'vbd vbn rb', 22000), -0.008705408663144322),\n",
       " ((u'prp vbp in in prp vbp', 17032), 0.0086908653615190446),\n",
       " ((u'jj nn prp vbp in', 7731), 0.0086833466560576351),\n",
       " ((u'vbd wrb prp', 22018), 0.0086777472456038441),\n",
       " ((u'cc dt nn prp vbd', 81), -0.0086760122666064629),\n",
       " ((u'rb rb rb in', 18820), 0.0086746828060719622),\n",
       " ((u'jj md vb', 7296), -0.0086667355379068198),\n",
       " ((u'vbn in dt nn vbz', 22641), 0.0086466007562944792),\n",
       " ((u'nn in nn dt nn in', 9903), -0.0086433080351877196),\n",
       " ((u'dt jj jjs', 1528), 0.008640298632584897),\n",
       " ((u'in nnp vbd dt', 5847), -0.008636237753156268),\n",
       " ((u'vbg to vb rb', 22468), -0.0086342219019198471),\n",
       " ((u'rb rb vbz dt nn', 18873), -0.0086321835416130702),\n",
       " ((u'jj nns in vbg', 8084), 0.0086222703982514106),\n",
       " ((u'in jjs cd', 5163), 0.0086188696584316941),\n",
       " ((u'in in prp nn', 4933), -0.0086172104092033033),\n",
       " ((u'wrb prp vbp nn', 25628), -0.0086154307039408747),\n",
       " ((u'in dt nn wdt vbd', 4523), 0.0086127237034473673),\n",
       " ((u'nn wdt rb', 12414), -0.0086048644331389867),\n",
       " ((u'prp vbp in vbz', 17100), -0.0086015531150272721),\n",
       " ((u'nn wp nns', 12466), 0.0085988122887931083),\n",
       " ((u'rb ex vbz dt', 18078), -0.0085869357733966457),\n",
       " ((u'vbp jj nns prp vbp', 23408), -0.0085842765653851936),\n",
       " ((u'vbz dt jj nn wdt vbz', 24298), -0.0085744524936986269),\n",
       " ((u'vb dt jj nn nn', 20398), -0.0085669510296182295),\n",
       " ((u'prp md cc', 15875), -0.0085664896176636338),\n",
       " ((u'to nn prp', 19712), 0.0085608948290622957),\n",
       " ((u'vbg to vb nns', 22455), -0.0085607676681777531),\n",
       " ((u'nn nn prp vbp dt', 10826), 0.0085595904533480992),\n",
       " ((u'nnp nnp nnp dt nnp', 13233), 0.0085542197042347713),\n",
       " ((u'to nnp nnp nnp', 19734), 0.0085499964958927095),\n",
       " ((u'prp vbp jj nn dt', 17123), 0.0085481160167780925),\n",
       " ((u'dt nn nn nn prp', 2506), 0.0085479004434361981),\n",
       " ((u'rb in prp vbz', 18253), 0.0085468357711785646),\n",
       " ((u'nn nn nn dt', 10698), 0.0085423844664652797),\n",
       " ((u'wdt dt nnp', 25110), -0.0085312422195334223),\n",
       " ((u'nn nnp jj', 10990), -0.0085294889400869441),\n",
       " ((u'jj to vb dt nn cc', 8357), 0.0085274250953088424),\n",
       " ((u'wp prp md vb', 25362), -0.0085197076430951237),\n",
       " ((u'in nn to dt nn in', 5554), 0.008508845280360949),\n",
       " ((u'jj in prp in dt', 7175), 0.0085069838966200968),\n",
       " ((u'prp vbp rb dt jj', 17313), 0.008505617093543567),\n",
       " ((u'cc in rb vbz', 241), 0.0085043780451582954),\n",
       " ((u'nn prp vbz dt jj nn', 11601), -0.0085030693395408332),\n",
       " ((u'nns cc in dt nn', 14148), 0.0085021564927667895),\n",
       " ((u'in jj nns vbp', 5132), -0.0084851514171986851),\n",
       " ((u'rb to vb dt', 18907), 0.00847224034842739),\n",
       " ((u'prp vbz vbg', 17827), 0.0084617390421462876),\n",
       " ((u'nns jj in', 14754), -0.0084595739824909113),\n",
       " ((u'vbp prp dt nn', 23549), -0.0084591671681534409),\n",
       " ((u'prp vbp in dt nn vbz', 17011), 0.0084575384916689388),\n",
       " ((u'nns in nn vbz', 14589), -0.0084473737927102319),\n",
       " ((u'rb vbg cc', 19152), 0.0084470863349561699),\n",
       " ((u'prp nns jj', 16310), 0.0084389166302318054),\n",
       " ((u'jj nn in prp jj', 7506), 0.0084351138187918045),\n",
       " ((u'rb nn nnp', 18480), 0.008433066961242814),\n",
       " ((u'dt jj nn jj', 1626), 0.008430996591816696),\n",
       " ((u'nn prp vbz dt nn', 11602), -0.0084292697325794169),\n",
       " ((u'nn rb prp vbd', 11726), -0.0084276160851512478),\n",
       " ((u'prp rb vbz', 16508), 0.0084190723513282908),\n",
       " ((u'in nns cc prp', 5910), -0.008415926143326603),\n",
       " ((u'nns vbp in nn', 15303), 0.0084112613574095739),\n",
       " ((u'in nnp prp vbp dt', 5820), 0.0084098096072467519),\n",
       " ((u'in nns wrb', 6080), -0.0084086141859184334),\n",
       " ((u'vbn in jj nns', 22671), 0.0084083196540269793),\n",
       " ((u'rb vb cc', 18930), 0.0084054704574645783),\n",
       " ((u'prp vbp vbg vbz', 17556), -0.0083951447710437568),\n",
       " ((u'nns in dt nn vbd', 14454), -0.0083922675975125188),\n",
       " ((u'nn cc prp vbd to', 9147), -0.0083859456032627858),\n",
       " ((u'in nnp in prp', 5695), -0.0083850101449353641),\n",
       " ((u'prp vbp nnp prp vbp', 17192), -0.0083778223985703955),\n",
       " ((u'vbd vbn in dt nn', 21981), 0.0083695161214368177),\n",
       " ((u'vbp vbg rb rb', 24043), 0.0083632964398495553),\n",
       " ((u'nn vbd dt jj', 11973), 0.0083587877691834195),\n",
       " ((u'nn in jjs', 9870), 0.0083518476274625896),\n",
       " ((u'in vbz dt nn in', 6803), -0.0083511336087517575),\n",
       " ((u'in dt jjr', 4175), 0.0083446357830384288),\n",
       " ((u'vbz vbn prp vbp', 25033), -0.0083346000090591486),\n",
       " ((u'nn in nn nns in', 9974), 0.00833283497630667),\n",
       " ((u'vbn in prp nns', 22722), -0.0083318101837817037),\n",
       " ((u'nn nns cc prp', 11147), 0.0083315767473528153),\n",
       " ((u'nn in dt vbn nn', 9766), 0.0083286880314254533),\n",
       " ((u'nn rb cc prp', 11641), 0.0083244090633794766),\n",
       " ((u'prp vbp vbn in dt nn', 17571), -0.0083065671826658694),\n",
       " ((u'rb in nnp prp vbp', 18200), -0.0083046692837860717),\n",
       " ((u'nns vbp nn', 15322), 0.0082910378507863973),\n",
       " ((u'in dt jj nn in prp', 4086), 0.0082896871340976449),\n",
       " ((u'jj in prp rb', 7187), 0.008288430344769367),\n",
       " ((u'nns rb dt nns', 15053), -0.0082798609253831937),\n",
       " ((u'jj nnp nnp cc', 7943), 0.0082788082469973916),\n",
       " ((u'jj jj nn to', 7258), 0.0082786790081080773),\n",
       " ((u'rb vbz dt nn in', 19377), -0.0082690048249726908),\n",
       " ((u'nnp in in', 12802), -0.0082588116326957495),\n",
       " ((u'nn nns in in dt', 11191), -0.0082577034107846215),\n",
       " ((u'nn in dt nn nnp prp', 9650), 0.0082574410270587224),\n",
       " ((u'wrb prp vbz', 25647), 0.0082550919724385437),\n",
       " ((u'to vb rp cc', 20232), -0.0082398726614352526),\n",
       " ((u'nn in dt nn rb', 9663), -0.0082393813236087722),\n",
       " ((u'vbz to nn', 24906), 0.0082383360753285669),\n",
       " ((u'in wdt dt', 6845), -0.0082349438471231579),\n",
       " ((u'nn nn nnp prp', 10768), -0.0082333475371126202),\n",
       " ((u'nns prp vbp dt nn', 14977), -0.0082298869424719586),\n",
       " ((u'vbd dt jj in', 21432), -0.0082274327383937019),\n",
       " ((u'cc nn nnp', 371), -0.0082137370988699682),\n",
       " ((u'rb prp in', 18564), 0.008207986551673728),\n",
       " ((u'vbp vbg in nnp', 24012), -0.0081973943117810543),\n",
       " ((u'prp vbd jjr', 16699), -0.0081931976030416541),\n",
       " ((u'vb in vbg', 20742), -0.0081873629317925981),\n",
       " ((u'dt nn in nn vbz in', 2233), -0.0081845523293878602),\n",
       " ((u'nns rb vbg', 15115), -0.0081827346045697941),\n",
       " ((u'dt nnp dt nnp nnp', 3056), 0.0081758209657863332),\n",
       " ((u'rb ex vbz', 18077), -0.0081611667988213347),\n",
       " ((u'vb in nn prp', 20670), 0.008159250977571841),\n",
       " ((u'to vb rb to', 20224), -0.0081529481875048607),\n",
       " ((u'nn prp vbp jj prp', 11516), 0.0081477233318281005),\n",
       " ((u'vbp jj in prp', 23376), 0.0081453618952456938),\n",
       " ((u'vbp prp vbg to', 23631), -0.0081379507721686881),\n",
       " ((u'to cd nns', 19583), 0.008137404714915069),\n",
       " ((u'vbz vbn in dt nnp', 25003), 0.0081313546318845312),\n",
       " ((u'dt cd wdt', 1340), 0.0081219211857877869),\n",
       " ((u'dt nns md vb vbn', 3387), -0.0081215410008488118),\n",
       " ((u'dt nnp nn dt', 3087), 0.0081167289528975509),\n",
       " ((u'prp vbp rb to', 17362), 0.0081145901814790866),\n",
       " ((u'in dt nn nn in nns', 4342), -0.0081057626994468137),\n",
       " ((u'nnp nnp nnp cc', 13215), 0.0081019125286807565),\n",
       " ((u'jj nnp prp vbp', 7958), -0.0080996627242637641),\n",
       " ((u'cc prp vbz dt jj nn', 720), -0.0080983545680887413),\n",
       " ((u'nn in in dt jj', 9782), -0.0080936811724347888),\n",
       " ((u'prp vbp nn in dt', 17165), -0.008086626258390045),\n",
       " ((u'dt nn rb prp vbp', 2772), -0.0080845745128292745),\n",
       " ((u'nnp nns vbp in', 13564), 0.0080842631392605141),\n",
       " ((u'vbd dt jj nn cc', 21436), 0.0080733190947877339),\n",
       " ((u'vbn cd nns', 22542), -0.0080713800816073229),\n",
       " ((u'dt cd in', 1310), 0.0080693144191044848),\n",
       " ((u'vbp vbg vbz', 24073), -0.0080657276265252761),\n",
       " ((u'dt nn vbz vbn in dt', 2970), 0.0080501795238081108),\n",
       " ((u'rb vb prp nn', 19045), -0.0080476232693237042),\n",
       " ((u'wp vbp prp vbp', 25466), 0.0080472169081653565),\n",
       " ((u'vbz vbn nnp', 25026), -0.0080470255216623272),\n",
       " ((u'in nnp vbd nnp', 5854), 0.0080377888234803331),\n",
       " ((u'in dt nn nn dt nn', 4336), 0.0080377696607109271),\n",
       " ((u'prp md rb vb dt nn', 15900), -0.0080303711917797671),\n",
       " ((u'in nnp nnp cc nnp', 5728), 0.0080281584242012077),\n",
       " ((u'nn nn nnp in', 10753), 0.008027763442438364),\n",
       " ((u'dt jj nns in prp', 1829), 0.008022831831065589),\n",
       " ((u'nn in dt nns in', 9735), -0.008013281468640665),\n",
       " ((u'rb jj nns in', 18386), 0.0080035898569003026),\n",
       " ((u'in dt nnp nnps prp', 4622), -0.0079975511971258524),\n",
       " ((u'rb vbn to vb', 19293), 0.0079927204273945729),\n",
       " ((u'jj nns rb in', 8155), -0.0079918870002662519),\n",
       " ((u'rb jj vbz', 18434), -0.0079873948584635052),\n",
       " ((u'dt nn in nn in nn', 2187), -0.0079782022449215433),\n",
       " ((u'vb prp vbp in dt', 21107), -0.0079762199739381902),\n",
       " ((u'cc in nn nn', 194), -0.0079745569719475023),\n",
       " ((u'dt nn nn nns vbp', 2526), 0.0079734230305586584),\n",
       " ((u'jj nn nns rb', 7685), -0.007973329515503504),\n",
       " ((u'dt nn cc dt nn in', 1937), -0.0079632870263175257),\n",
       " ((u'nn nnp nn dt nn', 10998), -0.0079575429223446639),\n",
       " ((u'vbp dt in', 23033), -0.0079489651184790743),\n",
       " ((u'nnp in nnp cc', 12826), -0.0079483675894862493),\n",
       " ((u'rb cc rb prp', 17913), -0.0079426086981237536),\n",
       " ((u'prp vbp nnp dt', 17182), -0.0079390773223079348),\n",
       " ((u'vbd prp rb', 21753), 0.007933837235061237),\n",
       " ((u'cc jjr rb', 322), 0.007932678290715197),\n",
       " ((u'md vb dt in', 8672), -0.0079261104933588677),\n",
       " ((u'nns cc vb nn', 14261), 0.0079244181221945643),\n",
       " ((u'md vb rp dt', 8876), -0.0079243037489408179),\n",
       " ((u'dt nn wrb prp vbp', 3034), -0.007924213701591647),\n",
       " ((u'nn in rb in dt nn', 10336), 0.0079237592729968949),\n",
       " ((u'nnp nnp nnp vbz', 13324), 0.0079175893113938543),\n",
       " ((u'rb vb jj in', 18999), 0.0079163924242334448),\n",
       " ((u'rb vbz vbn', 19416), -0.0079137390320806276),\n",
       " ((u'vbp to vb jjr', 23942), -0.0079105204782075542),\n",
       " ((u'wdt vbz cd', 25240), 0.0079098575904446786),\n",
       " ((u'vbd rp in nn', 21878), -0.0079051660859772964),\n",
       " ((u'dt jj nn nnp rb', 1674), 0.0079027525924651159),\n",
       " ((u'nns vbp dt jj', 15280), -0.0079003517315616896),\n",
       " ((u'in nns vbn in', 6034), -0.0078978237330624458),\n",
       " ((u'nns cc wrb', 14276), -0.0078924993741198851),\n",
       " ((u'nn vbz rb prp', 12280), 0.0078877963629104177),\n",
       " ((u'rb to vb dt nns', 18912), 0.0078860274545888807),\n",
       " ((u'nn wp md vb', 12462), 0.0078716547161711732),\n",
       " ((u'in in nn nnp', 4908), 0.0078636396498278187),\n",
       " ((u'wp prp vbp vbg to', 25408), -0.0078623546084551962),\n",
       " ((u'dt nns in dt jj', 3325), -0.0078511022108937144),\n",
       " ((u'nn in nns vbz', 10189), 0.0078444909100197514),\n",
       " ((u'prp nn vbz', 16230), 0.0078430746130319449),\n",
       " ((u'prp vbz rb jj dt', 17775), 0.0078353656155780941),\n",
       " ((u'vbz cd nn in', 24250), 0.0078340388281246676),\n",
       " ((u'vbz to vb prp', 24929), -0.007831022564607602),\n",
       " ((u'vbd dt nn prp vbd', 21493), -0.0078284601727856267),\n",
       " ((u'in jj nn prp', 5051), 0.0078274027671826306),\n",
       " ((u'wp prp vbp to', 25399), -0.0078189964607379547),\n",
       " ((u'prp vbp vbg in dt nn', 17516), 0.0078172527976177481),\n",
       " ((u'cc prp vbz dt jj', 719), -0.0078124455503944153),\n",
       " ((u'jj to vb nnp', 8377), 0.0078040662346571836),\n",
       " ((u'vbz vbg dt', 24941), 0.0077959537864743488),\n",
       " ((u'dt vbz prp', 3728), -0.0077959221640641792),\n",
       " ((u'in prp vbp rb vbn in', 6517), 0.007790082190720111),\n",
       " ((u'vbg nns dt', 22292), 0.0077881418526470937),\n",
       " ((u'nnp nns prp', 13553), 0.007775613730684321),\n",
       " ((u'dt nn in dt nn nnp', 2097), 0.0077713050666140667),\n",
       " ((u'to vb in nn prp', 19972), 0.0077700395965233267),\n",
       " ((u'rb jj nn nnp', 18356), 0.0077665859765412354),\n",
       " ((u'nn nns in jj', 11192), 0.0077659542923161629),\n",
       " ((u'jj nn prp vbp dt', 7728), 0.0077579121120196163),\n",
       " ((u'in nns wp rb', 6073), 0.0077528014484111261),\n",
       " ((u'dt nn cc wp', 2001), 0.0077494615153071216),\n",
       " ((u'to dt nns in', 19665), 0.007748573267160809),\n",
       " ((u'md vb dt rb', 8714), 0.0077292451314860061),\n",
       " ((u'vbd vbn in nn', 21988), -0.0077280660763807503),\n",
       " ((u'cd vbg rb nnp', 1278), 0.007727919367841919),\n",
       " ((u'nn in dt nn in vbg', 9626), -0.0077259690936074916),\n",
       " ((u'dt nn in nns vbp', 2302), 0.0077248411627865851),\n",
       " ((u'prp vbz nn to vb', 17742), 0.0077240852260097338),\n",
       " ((u'vb vbn in dt jj', 21322), 0.0077213399452265088),\n",
       " ((u'nn prp vbd dt jj nn', 11440), -0.0077132037032288416),\n",
       " ((u'in dt nns md vb', 4693), -0.0077126673324150246),\n",
       " ((u'in dt nnp nn dt', 4568), 0.0077119177733166351),\n",
       " ((u'dt nn cc dt nns', 1942), 0.0077113903117483357),\n",
       " ((u'vbp rb in prp', 23707), 0.0077087850051939548),\n",
       " ((u'nns vbp vbz', 15414), 0.0076995811438062356),\n",
       " ((u'cc in dt nns', 170), -0.0076992593492940953),\n",
       " ((u'dt nn rb vb', 2780), -0.0076956454132318004),\n",
       " ((u'vbz dt nn to', 24374), -0.0076953692352916495),\n",
       " ((u'in nns in nns', 5955), 0.0076827473777008066),\n",
       " ((u'prp vbp rb vb dt', 17368), 0.0076719623010353859),\n",
       " ((u'nn rb rbr', 11763), 0.0076652928997798042),\n",
       " ((u'nnp in dt nnp nnp nnp', 12793), -0.0076621178399311624),\n",
       " ((u'nnp nn cc nn', 12938), -0.007658610345878605),\n",
       " ((u'nn in ex vbz dt', 9777), 0.0076581320024897816),\n",
       " ((u'md vb nn to', 8802), 0.0076573352813363504),\n",
       " ((u'in jj nns in nnp', 5106), 0.0076568794449489675),\n",
       " ((u'nns in vbg to', 14735), 0.0076558255533258172),\n",
       " ((u'in dt jj nn jj', 4089), 0.007653832222784482),\n",
       " ((u'nn dt jj nn nn', 9331), 0.0076530431346243438),\n",
       " ((u'vbd vbn in nn in', 21989), -0.0076459366741352813),\n",
       " ((u'nn nn nn dt nn', 10700), 0.0076451537189391522),\n",
       " ((u'rp dt nn nn', 19513), -0.0076451277764213645),\n",
       " ((u'jj nns cc in', 7975), 0.0076439009820451218),\n",
       " ((u'in nn wp vbz', 5625), 0.0076388651489074609),\n",
       " ((u'rp jj nns', 19545), -0.0076385098491979324),\n",
       " ((u'vbp in nn nnp', 23273), 0.0076384815745559513),\n",
       " ((u'prp jjr in', 15867), 0.0076324211043786372),\n",
       " ((u'vb rp dt', 21202), -0.0076322610826090459),\n",
       " ((u'vb in in prp', 20639), 0.0076304628321798695),\n",
       " ((u'in nns dt jj', 5917), 0.0076261781642823585),\n",
       " ((u'vbd dt jj nn in nnp', 21442), -0.0076130464378072046),\n",
       " ((u'prp md vb dt jj nn', 15940), 0.0076111994767227593),\n",
       " ((u'vbp prp rb', 23596), 0.007609201522955353),\n",
       " ((u'dt vbn cc', 3653), 0.0076065395321895596),\n",
       " ((u'dt nn vbz vbn in', 2969), 0.0076056104195124721),\n",
       " ((u'nnp pos jj', 13574), 0.0076049680152461465),\n",
       " ((u'in dt cd nn', 3988), 0.0075986253725093059),\n",
       " ((u'prp vbp dt nn wrb', 16959), -0.007592840203198092),\n",
       " ((u'vbd rb vbd', 21849), 0.0075917625379729554),\n",
       " ((u'dt nns vbp nns', 3470), -0.0075907197713496717),\n",
       " ((u'to vb prp vbp in', 20192), -0.0075756821058266914),\n",
       " ((u'vb in prp dt', 20698), -0.007571734580404145),\n",
       " ((u'nnp in nnp nnp in', 12837), 0.0075699479161742324),\n",
       " ((u'nn in nn in nn', 9922), -0.0075692056698942562),\n",
       " ((u'md vb cc prp', 8661), -0.0075648288899918727),\n",
       " ((u'in prp prp vbp', 6335), -0.0075541671878101117),\n",
       " ((u'vb rp in dt', 21210), 0.0075520132333553834),\n",
       " ((u'vbg in nn nnp', 22163), -0.0075487301532908002),\n",
       " ((u'cc in rb', 239), 0.0075421407770147383),\n",
       " ((u'vbn nns in dt', 22812), -0.00754140572640146),\n",
       " ((u'dt nn cc in dt nn', 1947), 0.0075411838522379477),\n",
       " ((u'jj rb dt', 8298), 0.0075291344914690476),\n",
       " ((u'dt nnp dt nnp', 3055), 0.0075244938996372433),\n",
       " ((u'jj nns prp md vb', 8129), -0.007523481679745138),\n",
       " ((u'prp vbd to prp', 16805), -0.0075223156593267121),\n",
       " ((u'nnp vbp prp', 13934), -0.007522209234719991),\n",
       " ((u'jj nn rb nn', 7773), 0.0075208202214411728),\n",
       " ((u'in jj nn dt', 5009), 0.0075204896439780965),\n",
       " ((u'prp vbg nn', 16867), -0.007516641569139941),\n",
       " ((u'vbp vbg in dt jj', 23999), -0.0075118026029699254),\n",
       " ((u'nns prp vbp dt', 14974), -0.0075103711048542833),\n",
       " ((u'nns vbp in dt', 15292), 0.0075099136375750631),\n",
       " ((u'vb to vb wp', 21278), -0.007504257969555307),\n",
       " ((u'cc in vbz in', 251), -0.0074947398866053857),\n",
       " ((u'cc cd in dt', 6), 0.0074909975578061373),\n",
       " ((u'ex vbp dt nn in nns', 3801), -0.0074857479364928061),\n",
       " ((u'jj nns vbg in', 8185), -0.0074831128563037754),\n",
       " ((u'nnp dt nn nnp', 12715), -0.0074747606369736383),\n",
       " ((u'dt nn nn to vb dt', 2552), -0.007471213999926978),\n",
       " ((u'nn vbd dt jj nn', 11974), 0.0074693179801621308),\n",
       " ((u'nnp nn vbz prp', 13066), 0.0074688586696708163),\n",
       " ((u'prp in dt jj nn', 15729), -0.0074686253511299502),\n",
       " ((u'jj nns prp md', 8126), -0.0074662974590145202),\n",
       " ((u'nn in prp vbd to vb', 10280), -0.0074619862706647878),\n",
       " ((u'rb vbp jj nns', 19332), 0.0074618681444829256),\n",
       " ((u'jj nn md', 7550), -0.0074607940586279477),\n",
       " ((u'vbp dt nn dt', 23077), -0.0074568265433685894),\n",
       " ((u'nn in nns cc prp', 10134), -0.0074519817315566216),\n",
       " ((u'rb vb in dt nn', 18970), -0.0074483860007679642),\n",
       " ((u'vbz prp vbp to', 24705), 0.0074469810053577794),\n",
       " ((u'rb jj prp vbd', 18404), -0.0074469480596000689),\n",
       " ((u'in jj nns prp md vb', 5119), -0.0074414793382576597),\n",
       " ((u'jjr nn to', 8489), -0.0074373634257889776),\n",
       " ((u'vbd rb rb', 21822), 0.0074364793268186817),\n",
       " ((u'dt nnp nnps dt', 3206), -0.0074363761833670973),\n",
       " ((u'in dt nnp nnps dt', 4616), -0.0074309998923206737),\n",
       " ((u'vbn in dt nn prp vbp', 22639), 0.0074304340010391086),\n",
       " ((u'vbp jj cc', 23356), -0.0074296543614215003),\n",
       " ((u'nns prp nns', 14946), 0.0074285782641686157),\n",
       " ((u'nnp dt nn vbd', 12723), -0.0074273024608641413),\n",
       " ((u'vbp vbg to prp', 24050), -0.0074264366914863897),\n",
       " ((u'nns prp vbp jj in', 14987), 0.0074257100489225425),\n",
       " ((u'dt nnp to vb', 3251), 0.0074207910053040076),\n",
       " ((u'nnp nn in prp', 12976), -0.0074200447977783319),\n",
       " ((u'nn in dt rb jj nn', 9759), -0.0074174049191574349),\n",
       " ((u'nn in cd nns', 9540), 0.0074160271143484226),\n",
       " ((u'ex vbd dt nn', 3786), -0.007409136879028692),\n",
       " ((u'vb nnp cc', 20897), 0.0074064643925829433),\n",
       " ((u'cc nn in prp vbp', 357), -0.007402854544309132),\n",
       " ((u'prp vbd prp md', 16733), 0.0073970368930187406),\n",
       " ((u'cd prp vbp', 1260), -0.0073954917205727427),\n",
       " ((u'in dt nn nns vbp', 4411), -0.0073939332555194087),\n",
       " ((u'in jj nn nns', 5043), 0.0073930135001748507),\n",
       " ((u'in rb vbg dt', 6664), 0.0073899196646949831),\n",
       " ((u'nnp ex vbz', 12751), -0.0073882287237538469),\n",
       " ((u'jj nn dt nns', 7387), 0.0073718110072550306),\n",
       " ((u'vb rb in prp', 21152), -0.0073683445976331745),\n",
       " ((u'prp vbp dt nn wdt', 16956), 0.0073675086266292355),\n",
       " ((u'prp vbd rp in', 16796), -0.0073665917949692922),\n",
       " ((u'rb in dt nn prp', 18122), -0.0073646501808685774),\n",
       " ((u'vbp rb rb vbg', 23765), -0.0073634608898923469),\n",
       " ((u'jj jj nnp', 7266), 0.0073622790529068423),\n",
       " ((u'nn in dt rb jj', 9758), -0.0073598198295448157),\n",
       " ((u'cc vbp rb', 951), 0.0073580518432349168),\n",
       " ((u'rb in vbz', 18271), 0.0073576873575286264),\n",
       " ((u'cc cd in dt nns', 7), 0.0073575696611447193),\n",
       " ((u'in rb in dt nn', 6623), 0.0073535643136722704),\n",
       " ((u'rb jj nn to vb', 18367), 0.0073505577792450736),\n",
       " ((u'vbg prp vbz rb', 22361), 0.0073505119329509575),\n",
       " ((u'vbn dt vbz', 22596), -0.0073465572598657592),\n",
       " ((u'jj in vbd', 7210), -0.0073460719577925354),\n",
       " ((u'dt nn vbd dt', 2845), 0.0073346440165040884),\n",
       " ((u'dt nn in nn dt nn', 2181), -0.0073340393260656897),\n",
       " ((u'prp cc vbp', 15661), 0.0073245241561132714),\n",
       " ((u'vbz vbn prp', 25029), -0.0073221803433886788),\n",
       " ((u'nnp vb prp vb', 13830), 0.0073198198193629837),\n",
       " ((u'dt nn to prp', 2810), 0.0073172228414800002),\n",
       " ((u'dt jj nn in nnp', 1598), -0.0073164822276611287),\n",
       " ((u'nns in nn cc prp', 14541), 0.007313555157123678),\n",
       " ((u'nn ex vbp', 9506), -0.0073116165606387489),\n",
       " ((u'nn nnp dt nn', 10968), -0.0073104339585119988),\n",
       " ((u'vbz to vb dt jj', 24914), 0.007309881601389713),\n",
       " ((u'dt vbn nn nn', 3663), 0.0073042547620809604),\n",
       " ((u'nn nns vbd rb', 11283), -0.0072940474625014257),\n",
       " ((u'nns dt in dt nn', 14294), -0.0072880793461887793),\n",
       " ((u'to vb nns to', 20120), -0.0072841613447368397),\n",
       " ((u'in dt nn to vb jj', 4466), 0.0072817212507920275),\n",
       " ((u'nnp nn nn nn nn', 12992), -0.0072816682469039502),\n",
       " ((u'nn cc dt jj nn', 8955), -0.0072814293996219075),\n",
       " ((u'nns cc nns dt', 14187), -0.0072812345839351113),\n",
       " ((u'vbz jj cc dt', 24530), 0.007274963384388192),\n",
       " ((u'nn in prp md vb in', 10227), -0.0072714814267467315),\n",
       " ((u'nns in nns in nnp', 14645), 0.0072684978341648609),\n",
       " ((u'in nnp ex vbz', 5675), -0.0072661870815792524),\n",
       " ((u'jj nn dt vbz rb', 7395), 0.0072655454580771908),\n",
       " ((u'in dt jj nn in jj', 4082), -0.007259131296955575),\n",
       " ((u'dt jj nns cc rb', 1814), -0.0072590627606725451),\n",
       " ((u'in prp nns in prp', 6311), 0.0072582633374828603),\n",
       " ((u'prp vbg to', 16871), -0.0072562945416598306),\n",
       " ((u'prp in wrb', 15804), 0.0072529065586327797),\n",
       " ((u'rb vbz to vb', 19414), -0.0072523916721831116),\n",
       " ((u'wrb in nn', 25536), 0.0072483948497666867),\n",
       " ((u'in nns in jj', 5940), 0.0072471447660589989),\n",
       " ((u'nn cc prp vbd dt', 9139), 0.0072445326169142052),\n",
       " ((u'rb in prp vbp in dt', 18242), 0.0072430593963513654),\n",
       " ((u'prp in nnp nnp', 15770), -0.0072425318475978669),\n",
       " ((u'vb prp jj nn', 21014), -0.0072424550357541072),\n",
       " ((u'to vb jjr', 20047), -0.0072422902991825062),\n",
       " ((u'vbp vbz in', 24210), 0.0072391790781316948),\n",
       " ((u'nn prp vbz dt nn in', 11603), -0.0072371856370140658),\n",
       " ((u'nn nnp prp vbd prp', 11080), 0.0072354640267103931),\n",
       " ((u'nn prp to vb', 11434), -0.0072316087126663726),\n",
       " ((u'vb rb jjr', 21164), 0.0072305574623348755),\n",
       " ((u'jj nn nn prp md', 7607), -0.0072253418585494361),\n",
       " ((u'rb rbr in', 18881), 0.0072249162457853466),\n",
       " ((u'nnp nn in nnp', 12973), 0.0072205698227669488),\n",
       " ((u'vbn nn cc dt', 22761), 0.0072193619816108053),\n",
       " ((u'nn in ex vbz', 9776), 0.0072167136376313544),\n",
       " ((u'jj to dt nn', 8329), 0.0072161155069929471),\n",
       " ((u'cd nns jj', 1213), -0.0072158224116535994),\n",
       " ((u'vb dt jj nn to', 20405), 0.007210374900073294),\n",
       " ((u'vbz rb rb rb', 24819), 0.007209281584149161),\n",
       " ((u'nn cc dt nn in prp', 8970), 0.0071971862454084387),\n",
       " ((u'nn in nn cc nn', 9887), 0.0071963999312464168),\n",
       " ((u'nn md vb dt', 10492), -0.0071940725147538334),\n",
       " ((u'vb dt nn in vbg', 20458), 0.0071922894402326517),\n",
       " ((u'vbz in dt nn in', 24437), -0.0071913850075108737),\n",
       " ((u'vbg jj nns', 22221), -0.0071880614086527513),\n",
       " ((u'vbz vbz dt', 25062), 0.0071858730161484642),\n",
       " ((u'prp nn vbd in', 16223), -0.0071813766361826731),\n",
       " ((u'dt nn nn wrb prp', 2579), 0.0071811468089006091),\n",
       " ((u'vbz rb to vb dt', 24830), 0.0071811212343344992),\n",
       " ((u'prp vbp rb rb to', 17356), 0.0071809314900613585),\n",
       " ((u'vbz in prp vbp vbn', 24512), 0.0071808882087747725),\n",
       " ((u'prp vbp dt nn to', 16948), 0.0071801288398465552),\n",
       " ((u'vbp rb rb to', 23762), 0.0071782729351053277),\n",
       " ((u'in dt nnp prp', 4631), 0.0071779213640664787),\n",
       " ((u'prp vbz rb dt nn in', 17765), -0.0071743686890532316),\n",
       " ((u'to rb vb dt nn', 19799), 0.0071715213516086946),\n",
       " ((u'vbp jjr in', 23434), -0.0071701619287240885),\n",
       " ((u'nnp prp vbp to', 13718), 0.0071701336682737189),\n",
       " ((u'in vbg in dt nn', 6732), 0.007162672443077318),\n",
       " ((u'nn nnp nnp nnp vbd', 11041), 0.0071626500558401559),\n",
       " ((u'jjr nn cc', 8468), -0.0071598078370772407),\n",
       " ((u'vb prp to vb dt', 21080), -0.0071585040092687052),\n",
       " ((u'vbn in dt nn prp', 22638), 0.0071574366257290472),\n",
       " ((u'nn in jj nn cc', 9816), -0.0071562795448624223),\n",
       " ((u'nn vbz dt nn in', 12156), 0.0071533441281330656),\n",
       " ((u'nn in dt nns nnp', 9743), 0.0071513412107063043),\n",
       " ((u'nn in dt nnp nnps', 9717), -0.0071509212527532465),\n",
       " ((u'nnp vb prp', 13829), 0.0071483148760787332),\n",
       " ((u'vb nns in jj nns', 20943), -0.0071482305315475475),\n",
       " ((u'cd vbz vbn', 1283), -0.0071462741690347673),\n",
       " ((u'nn vbg nn', 12067), -0.0071404634972057216),\n",
       " ((u'rb vb rb dt', 19067), 0.0071400417431104991),\n",
       " ((u'prp vbd rb prp', 16773), -0.0071392626869233953),\n",
       " ((u'dt nnp cc nnp', 3044), 0.007137056513601278),\n",
       " ((u'nn vbz to vb dt', 12306), 0.0071364079004247877),\n",
       " ((u'vbd in prp nn', 21607), 0.0071322723906456706),\n",
       " ((u'jj nn dt jj nn', 7370), 0.0071270948685707505),\n",
       " ((u'in dt nn in jj nns', 4262), -0.0071178642304984448),\n",
       " ((u'jj nn nn nn dt', 7594), 0.0071102497308646422),\n",
       " ((u'in jj nns vbz', 5136), -0.0071084019022111733),\n",
       " ((u'jj jj cc', 7219), -0.0071082623657809157),\n",
       " ((u'vb jj cc', 20754), -0.0071043899233175136),\n",
       " ((u'vbn vbg prp', 22966), 0.0071040438640535648),\n",
       " ((u'nns in prp vbd dt', 14697), -0.0071039651860438854),\n",
       " ((u'to vb in prp md', 19992), 0.0071032209932745333),\n",
       " ((u'nn in prp vbp nn', 10296), -0.0071030692312655111),\n",
       " ((u'nns in in dt', 14495), -0.0071023852522226387),\n",
       " ((u'to vb in cc', 19920), 0.0071009127290654782),\n",
       " ((u'prp rb vbd rb', 16470), -0.007097981275963997),\n",
       " ((u'prp md vb to vb dt', 16049), -0.0070916122635760357),\n",
       " ((u'prp vbp vbg in in', 17518), 0.007090825899783655),\n",
       " ((u'in prp vbp rb rb', 6506), 0.0070905096978621041),\n",
       " ((u'nns cc in prp', 14155), 0.0070879892374515006),\n",
       " ((u'jj dt jj nn in', 7028), 0.0070848206043987397),\n",
       " ((u'nn in dt jj nn dt', 9577), 0.0070840298243717457),\n",
       " ((u'prp vbd vbn in dt nn', 16845), 0.0070832267423278595),\n",
       " ((u'cc in vbz prp', 254), -0.0070781052010460881),\n",
       " ((u'in prp nn rb', 6270), 0.0070767579963849454),\n",
       " ((u'nn nns vbp nns', 11302), -0.0070731961070047708),\n",
       " ((u'vbg in dt jj nn in', 22112), -0.0070713275291718683),\n",
       " ((u'dt nn in nn rb', 2221), 0.0070665923999459696),\n",
       " ((u'nnp prp prp', 13629), 0.0070651474969158131),\n",
       " ((u'prp vbp vbg in nnp', 17523), -0.0070651004495817125),\n",
       " ((u'rb vb wrb prp', 19110), -0.0070621356885685015),\n",
       " ((u'cd nns in nnp', 1205), 0.0070608904349980127),\n",
       " ((u'dt jj dt nn', 1482), 0.0070591989142723029),\n",
       " ((u'rb to vb dt jj', 18908), 0.0070591156017121267),\n",
       " ((u'vb in jj nn', 20644), -0.0070565867082994886),\n",
       " ((u'rb jj cc jj', 18281), 0.0070538902707276306),\n",
       " ((u'jjr in nn', 8448), -0.007050170442902402),\n",
       " ((u'rb prp vbp to', 18680), 0.007047148425378378),\n",
       " ((u'to vb wp', 20308), -0.0070471224508447308),\n",
       " ((u'in dt nn dt jj', 4221), 0.0070469826749966179),\n",
       " ((u'cc rb to vb', 825), 0.007041905462057723),\n",
       " ((u'cc in prp vbp to vb', 235), -0.007040146034064108),\n",
       " ((u'prp jj cc', 15805), 0.0070401384054718423),\n",
       " ((u'vbp to vb prp nn', 23954), 0.0070391361866470438),\n",
       " ((u'rb nn to', 18490), 0.0070369346973474774),\n",
       " ((u'vbz in vbg', 24521), 0.0070324840483636086),\n",
       " ((u'nn rb cc prp vbp', 11642), 0.007026614924449605),\n",
       " ((u'in dt jj nns wdt', 4164), 0.0070263012634317716),\n",
       " ((u'nns in nn vbd', 14584), 0.0070239725525742709),\n",
       " ((u'vb nnp prp', 20919), -0.0070234708979887732),\n",
       " ((u'in nn to dt nn', 5553), 0.0070210359842993132),\n",
       " ((u'dt nn in dt rb', 2125), -0.007013672136186839),\n",
       " ((u'nn nnp dt jj', 10966), 0.0070131686174694507),\n",
       " ((u'vbd vbz dt', 22014), -0.0070127628197236913),\n",
       " ((u'nn dt nn prp vbp', 9405), 0.0070110167515555913),\n",
       " ((u'dt nnp nnps prp', 3219), -0.0070106917076227203),\n",
       " ((u'cc dt nns in', 107), 0.0070103432822763954),\n",
       " ((u'dt nn in prp vbp dt', 2347), 0.0070102231778664346),\n",
       " ((u'cd nn nnp nnp', 1142), -0.0070079401935971824),\n",
       " ((u'dt nn wdt vbd', 2995), 0.0070079238043514206),\n",
       " ((u'dt nn cc in', 1945), 0.0070051139380704437),\n",
       " ((u'nn in nn nn in dt', 9951), 0.0070028853407549272),\n",
       " ((u'nns in prp vbp nns', 14706), 0.0069982166418003202),\n",
       " ((u'nn nn pos', 10803), -0.0069980577038728682),\n",
       " ((u'in nns in jj nn', 5941), 0.0069957342780090472),\n",
       " ((u'jj in prp cc', 7172), 0.0069930352622878172),\n",
       " ((u'dt nn in nnp in', 2247), -0.0069929389949169463),\n",
       " ((u'prp vbp vbn jj nns', 17581), -0.006991959497612027),\n",
       " ((u'cd in dt jjs', 1047), -0.0069888605111062992),\n",
       " ((u'dt nn nnp vbd', 2621), 0.0069874172492500912),\n",
       " ((u'cc in prp md', 214), 0.0069854251177957679),\n",
       " ((u'vbp dt nn wdt vbz', 23129), 0.0069843198562103128),\n",
       " ((u'dt in prp vbd', 1440), -0.0069831414565438236),\n",
       " ((u'in dt nn vbz jj', 4504), 0.0069765582632103059),\n",
       " ((u'nns in prp vbd', 14696), -0.0069732663855804509),\n",
       " ((u'nns in vbg nns', 14733), 0.0069703244836246793),\n",
       " ((u'prp vbz vbg in', 17829), 0.0069670335700917577),\n",
       " ((u'dt nn in in prp', 2140), 0.006965091032477934),\n",
       " ((u'rb jj to vb in', 18425), 0.006962923907678633),\n",
       " ((u'in prp md vb to vb', 6212), -0.0069628368830072099),\n",
       " ((u'nnp cc nnp nn', 12594), 0.0069612391867946519),\n",
       " ((u'jj in nnp nnp nnp', 7161), 0.006957885159358964),\n",
       " ((u'vbp vbn jj nns', 24123), -0.0069574339862782993),\n",
       " ((u'in prp nn in dt nn', 6235), -0.0069565750091485122),\n",
       " ((u'rp in nnp nnp', 19538), 0.0069538255393998237),\n",
       " ((u'rb vbn vbg', 19296), 0.0069520319639699265),\n",
       " ((u'to vb dt nn in nns', 19869), 0.0069518109079637755),\n",
       " ((u'nn jj nns prp', 10463), 0.0069490764410204452),\n",
       " ((u'to vb dt nn cc', 19855), 0.0069488306058632888),\n",
       " ((u'jj nn jj nns', 7549), 0.0069480919131888648),\n",
       " ((u'nnp nnp vbz dt nn', 13451), 0.0069471631019848287),\n",
       " ((u'dt rb in', 3564), 0.0069463384757058174),\n",
       " ((u'vb in dt nns in dt', 20619), -0.0069460341598941442),\n",
       " ((u'vbg nn prp vbp', 22266), -0.0069442414115052824),\n",
       " ((u'cc in vbz rb rb', 259), 0.0069437093716058383),\n",
       " ((u'in nn prp vbp vbp', 5522), -0.0069406209087123343),\n",
       " ((u'cc dt nn in jj', 62), -0.0069391329757517179),\n",
       " ((u'nn wdt prp vbd in', 12402), 0.006938076286904969),\n",
       " ((u'nn in dt in dt', 9560), 0.0069368254803544339),\n",
       " ((u'nnp cc rb in', 12645), -0.0069358036154439162),\n",
       " ((u'wp vbp vbg in', 25477), -0.0069312334386740591),\n",
       " ((u'nn in prp vbp prp', 10300), 0.0069308773070514912),\n",
       " ((u'nn wp rb', 12477), -0.0069303707305686029),\n",
       " ((u'nn in dt nns in dt', 9736), -0.0069182341988207113),\n",
       " ((u'nn dt nn in nn vbz', 9375), -0.0069167409684985854),\n",
       " ((u'dt jj nn to vb dt', 1732), 0.0069164011840669301),\n",
       " ((u'in dt prp md', 4748), 0.0069163717033394545),\n",
       " ((u'dt vbn nns', 3669), -0.0069143709167804844),\n",
       " ((u'nn nn to vb dt', 10875), -0.0069142082634041499),\n",
       " ((u'in dt in prp vbp', 4027), 0.0069111250077696224),\n",
       " ((u'cc prp vbp in nns', 636), -0.0069110416569835654),\n",
       " ((u'cc dt dt nn', 20), 0.0069107416909072062),\n",
       " ((u'cc nn dt nn', 341), -0.006906357477271822),\n",
       " ((u'prp vbp in nn in prp', 17047), -0.0069048314437575977),\n",
       " ((u'prp vbz jj cc prp', 17713), 0.0069033495330232189),\n",
       " ((u'wdt md vb prp', 25128), 0.0069016187263180578),\n",
       " ((u'rb rb vbp', 18864), 0.0069012901747000106),\n",
       " ((u'to wdt prp', 20319), 0.0069005790998077771),\n",
       " ((u'in prp vbd rb vb', 6408), 0.006898611825058386),\n",
       " ((u'prp nnp rb', 16277), 0.0068967847221960863),\n",
       " ((u'md vb prp prp', 8838), -0.0068955217242815392),\n",
       " ((u'md vb pdt', 8817), 0.0068930674437646588),\n",
       " ((u'rb jj to dt nn', 18419), 0.006890877708668976),\n",
       " ((u'prp md vb jj nns', 15984), -0.0068806467268075237),\n",
       " ((u'jj nns wdt md', 8213), 0.0068780282328647184),\n",
       " ((u'nns in dt jj nnp', 14417), 0.0068714225614133501),\n",
       " ((u'nn dt jj nn rb', 9336), 0.0068713119124104117),\n",
       " ((u'dt nn cc dt nns in', 1943), 0.0068661420736566055),\n",
       " ((u'vb rp cc', 21199), -0.0068602791623028668),\n",
       " ((u'to nn dt nn in', 19697), 0.0068587088414219536),\n",
       " ((u'nn prp md vb vbg', 11394), -0.0068561186051719755),\n",
       " ((u'rb rb vbp dt', 18865), 0.0068549643691410448),\n",
       " ((u'prp vbp nns dt', 17199), 0.0068535997988664783),\n",
       " ((u'prp vbz dt rb', 17686), 0.0068521811807636199),\n",
       " ((u'dt jj nn md', 1628), -0.0068489078878002149),\n",
       " ((u'vbd rb rb jj', 21827), 0.0068466916909898853),\n",
       " ((u'nnp vbz nn in', 13981), 0.0068428145737298076),\n",
       " ((u'nn in rb in dt', 10335), 0.0068372951548449868),\n",
       " ((u'in prp vbp dt jj', 6433), 0.0068352239852097832),\n",
       " ((u'vb dt jj nn in jj', 20393), -0.0068326779436206049),\n",
       " ((u'nn in nnp cc', 10039), -0.0068318865581300783),\n",
       " ((u'in prp vbp prp to', 6493), 0.0068315685949227583),\n",
       " ((u'vbg in nnp', 22170), -0.006827407672102828),\n",
       " ((u'nn vbz vbn nnp', 12346), -0.0068273237816715631),\n",
       " ((u'jj prp vbp vbg', 8283), 0.0068244459073459321),\n",
       " ((u'nnp jj nnp', 12907), -0.0068220414847764161),\n",
       " ((u'cc nns cc', 459), -0.0068212626471144721),\n",
       " ((u'in prp nn in dt', 6233), -0.0068209043194077537),\n",
       " ((u'rb dt nn in nn cc', 17998), 0.0068195817033595589),\n",
       " ((u'dt nn cc prp vbp prp', 1974), -0.0068189964653959084),\n",
       " ((u'rb vb cc prp', 18932), 0.0068187392145712261),\n",
       " ((u'rp jj nn', 19544), 0.0068181016391440676),\n",
       " ((u'nns dt in dt', 14293), -0.0068105989382639962),\n",
       " ((u'nn dt nn in nns in', 9378), 0.006802848174623558),\n",
       " ((u'nns dt jj nn in', 14303), 0.0068017868607191711),\n",
       " ((u'nns nn dt', 14810), 0.0068004753138389091),\n",
       " ((u'prp jj nn prp', 15838), 0.0067949697902308284),\n",
       " ((u'in nn dt nn in', 5253), -0.0067946986086829452),\n",
       " ((u'cc dt vbz', 127), 0.0067943469010292214),\n",
       " ((u'nns prp vbz rb', 15034), 0.0067943082873179973),\n",
       " ((u'vb rb nn', 21165), 0.0067913026853804563),\n",
       " ((u'dt dt nns in dt', 1370), 0.0067910668847068287),\n",
       " ((u'in nns nns in', 5986), 0.0067908677502723919),\n",
       " ((u'prp vbp in dt cd', 16995), -0.0067887043554587427),\n",
       " ((u'cc vbg dt jj', 920), 0.0067877054909943136),\n",
       " ((u'to vb nn in dt', 20061), 0.0067826909258748951),\n",
       " ((u'rb vb dt nnp', 18958), -0.006780087326881395),\n",
       " ((u'cc vb dt nn in', 862), 0.0067797043106286366),\n",
       " ((u'prp vbp to vb dt nn', 17460), 0.0067770700773529067),\n",
       " ((u'in prp md to', 6193), 0.0067766486463078368),\n",
       " ((u'prp nn nn in', 16147), 0.0067759565340271338),\n",
       " ((u'nns vbp jj to vb', 15320), 0.0067756751335773064),\n",
       " ((u'dt jj nn wrb', 1789), -0.0067741990908300838),\n",
       " ((u'dt nnp prp md vb', 3239), 0.0067714916859172164),\n",
       " ((u'nn vbz rb rb jj', 12284), 0.006767279355608038),\n",
       " ((u'cd cd nnp', 1021), -0.0067666596467880402),\n",
       " ((u'vbg rb nnp', 22374), 0.0067660351827047455),\n",
       " ((u'dt nns vbp cc', 3457), 0.0067633066354834516),\n",
       " ((u'prp vbp prp dt nn in', 17229), -0.0067623676431121851),\n",
       " ((u'dt nn in nns cc nns', 2278), -0.0067623156040436463),\n",
       " ((u'nn nn wp prp', 10950), -0.0067575015940193103),\n",
       " ((u'vbg nnp in', 22279), 0.0067556145332846535),\n",
       " ((u'wp nns in', 25348), 0.0067538616821202066),\n",
       " ((u'prp nns in dt nnp', 16301), 0.0067505566318716908),\n",
       " ((u'dt nnp nnp nnp nn', 3163), -0.0067497431876672948),\n",
       " ((u'vbp dt rb jj', 23161), -0.0067460032369550766),\n",
       " ((u'nn cc wp prp', 9269), 0.0067459790847530206),\n",
       " ((u'md vb rp in', 8878), 0.0067459293550104086),\n",
       " ((u'vbp prp vbg to vb', 23632), -0.0067408538253876816),\n",
       " ((u'cc nn cc', 330), -0.0067401699276632915),\n",
       " ((u'in rb nnp', 6644), 0.0067397047534077234),\n",
       " ((u'prp vbp vbn in dt', 17569), -0.0067395823189372976),\n",
       " ((u'vbz jj in nnp', 24550), 0.006738891976461844),\n",
       " ((u'vb prp vb prp', 21092), 0.0067372602191451995),\n",
       " ((u'nn nnp md', 10993), 0.0067349852854145511),\n",
       " ((u'rb wp prp vbp in', 19433), 0.0067348846837492872),\n",
       " ((u'in dt nns cc prp', 4657), -0.0067324053208545898),\n",
       " ((u'jj nnp in nn', 7927), -0.0067293826151598986),\n",
       " ((u'prp vbd in prp vbp', 16682), 0.0067269939631872311),\n",
       " ((u'in nnp vbz rb vbn', 5877), 0.0067263979805710994),\n",
       " ((u'nnp nn vbd prp', 13050), -0.0067217900029680972),\n",
       " ((u'nn prp md rb vb jj', 11369), 0.006719522742843727),\n",
       " ((u'in dt nn nn nn cc', 4348), 0.0067190636292504703),\n",
       " ((u'vbp cc dt', 22996), 0.0067169872702119481),\n",
       " ((u'vbp in dt cd', 23192), -0.0067157023122092641),\n",
       " ((u'vbz vbn dt jj', 24986), 0.0067153681024296604),\n",
       " ((u'in vbd rb', 6702), 0.0067152321141588827),\n",
       " ((u'vbg dt cd', 22037), 0.0067140395773156829),\n",
       " ((u'in nn nns cc nns', 5448), -0.0067139702763836006),\n",
       " ((u'cd in dt jj nns', 1045), 0.0067112237722302612),\n",
       " ((u'nnp prp vbp vbp', 13730), 0.006709245947583169),\n",
       " ((u'in dt nn prp md vb', 4418), 0.0067083750182025175),\n",
       " ((u'nns vbz dt nn in', 15421), -0.0067054374175401039),\n",
       " ((u'to dt nn in prp vbp', 19630), 0.0067039746805812438),\n",
       " ((u'in in dt nn vbz', 4881), 0.006701876512160752),\n",
       " ((u'jjs nns cc', 8546), 0.006699321503207907),\n",
       " ((u'in wp nn', 6865), 0.0066968129840160187),\n",
       " ((u'in rb prp vbz', 6654), -0.0066964016264321182),\n",
       " ((u'vbg to vb prp vbp', 22467), -0.0066933008981830298),\n",
       " ((u'ex vbd dt jj', 3783), -0.0066825181111656966),\n",
       " ((u'dt nn vbp prp', 2897), -0.0066822916838239904),\n",
       " ((u'nnp nn vbz jj', 13064), 0.0066808304439794006),\n",
       " ((u'nns cc nns cc', 14183), -0.0066805448523198927),\n",
       " ((u'prp vb dt nn', 16556), -0.0066785251403816649),\n",
       " ((u'nns vbd cc', 15192), -0.0066762040499553773),\n",
       " ((u'nn prp in dt nn', 11354), -0.006674175786274732),\n",
       " ((u'nn nnp dt nn in', 10969), -0.0066737462695072658),\n",
       " ((u'in prp nn nn cc', 6246), 0.0066737038251561236),\n",
       " ((u'nnp prp prp vbp', 13630), 0.0066697087194292253),\n",
       " ((u'prp vbp dt nn to vb', 16950), 0.006665855249492739),\n",
       " ((u'jj cc nn nn', 6958), -0.0066647070457496972),\n",
       " ((u'in to prp', 6685), 0.0066644217235492078),\n",
       " ((u'nn dt vbz dt nn', 9485), -0.0066639349706402607),\n",
       " ((u'prp rb vbd dt', 16460), 0.0066628058586153671),\n",
       " ((u'nnp nnp to nnp', 13403), 0.0066627803518997135),\n",
       " ((u'nn in nns wdt vbp', 10194), 0.0066625930306760438),\n",
       " ((u'jj nns cc rb', 8000), -0.0066623261939819552),\n",
       " ((u'in dt nn to dt', 4460), 0.0066589888438546912),\n",
       " ((u'nnp dt nnp nnp nnp', 12732), 0.0066566286768457552),\n",
       " ((u'nn nn in nn dt', 10633), -0.0066539868280708903),\n",
       " ((u'vbd vbg dt nn in', 21937), 0.0066534748430300515),\n",
       " ((u'prp vbp in prp nn', 17081), -0.0066477964909881209),\n",
       " ((u'nnp rb vb', 13785), 0.0066405835262971754),\n",
       " ((u'prp vbp rb dt nn in', 17316), 0.0066396077483407614),\n",
       " ((u'nn prp vbg', 11479), -0.0066372450284662345),\n",
       " ((u'nns vbp jjr', 15321), 0.006636562997997553),\n",
       " ((u'nns vbp vbn dt nn', 15393), 0.0066362762391314013),\n",
       " ((u'jj to vb in nnp', 8369), 0.0066360572049546937),\n",
       " ((u'in cc in dt', 3863), -0.0066349126267592606),\n",
       " ((u'vb vbg rb', 21301), 0.0066306764451496917),\n",
       " ((u'to dt nn prp', 19638), -0.0066300679361393266),\n",
       " ((u'nnp to vb prp', 13822), 0.0066299388066001618),\n",
       " ((u'in cd nn in nn', 3928), 0.0066283914473589901),\n",
       " ((u'to vb vbn to', 20296), -0.006626466706445025),\n",
       " ((u'in jj dt nn in', 4973), -0.0066224821714991767),\n",
       " ((u'cc rb prp vbp in', 802), 0.0066199969591593634),\n",
       " ((u'vbp vbg in dt jj nn', 24000), -0.0066195899094510348),\n",
       " ((u'nn in nn cc in', 9881), -0.0066163320239067524),\n",
       " ((u'jj nns md vb', 8096), -0.0066145238066423404),\n",
       " ((u'vbz dt nn in jj nn', 24328), 0.0066132628687935119),\n",
       " ((u'nns wrb dt nn', 15546), -0.00661299607907837),\n",
       " ((u'prp vbp vbg dt nn in', 17511), 0.0066123067759235677),\n",
       " ((u'vb vbn vbg', 21363), 0.0066104674987939906),\n",
       " ((u'rb jj nns dt', 18384), 0.0066094465998406838),\n",
       " ((u'nn jj prp', 10465), -0.0066072007941801146),\n",
       " ((u'prp md to vb', 15930), 0.0066065243056272665),\n",
       " ((u'nnp in nnp cc prp', 12828), -0.0066046076624273059),\n",
       " ((u'nns nnp nn', 14854), -0.0066033115184996093),\n",
       " ((u'nn vbz dt jj nn', 12150), -0.0066015493339137169),\n",
       " ((u'vb rb to', 21183), -0.0065976048120789639),\n",
       " ((u'in prp nn cd', 6227), -0.0065935772921999185),\n",
       " ((u'nns to jj', 15145), 0.0065860310865852),\n",
       " ((u'prp vbp vbg to vb', 17546), -0.0065851873274693877),\n",
       " ((u'rb prp vbp to vb', 18681), 0.0065832749256302513),\n",
       " ((u'rb prp jj', 18566), 0.0065830094130000091),\n",
       " ((u'prp nn nns prp', 16179), 0.0065827458291340011),\n",
       " ((u'rb vbd dt jj nn', 19116), -0.0065807649247776505),\n",
       " ((u'ex vbp dt', 3797), -0.006577460944292025),\n",
       " ((u'vb wp pos', 21386), -0.0065756599599752844),\n",
       " ((u'dt vbz jj', 3718), 0.006574441577333591),\n",
       " ((u'nn prp md vb vbn', 11395), 0.0065733418490577303),\n",
       " ((u'in rb rb', 6655), 0.0065731675542779087),\n",
       " ((u'rb vbd dt nn in', 19119), -0.0065719958798494587),\n",
       " ((u'prp nn ex', 16107), -0.0065689607634488358),\n",
       " ((u'nn rb jj in', 11697), 0.0065688178203226989),\n",
       " ((u'cc prp vbp prp vbd', 662), 0.0065680387247789946),\n",
       " ((u'jj prp rb', 8251), 0.0065669164737574455),\n",
       " ((u'vb in dt nn nns', 20603), -0.0065624652121788578),\n",
       " ((u'jj jj dt', 7223), 0.0065621349232034198),\n",
       " ((u'prp vbd vbn in dt', 16843), 0.0065613975550181565),\n",
       " ((u'dt nns cc nns in', 3298), -0.0065605478026880314),\n",
       " ((u'vbz nn dt', 24601), 0.0065600783544381364),\n",
       " ((u'vbz rb rb jj in', 24816), 0.006558257783946678),\n",
       " ((u'prp vbp to vb nn', 17477), -0.0065579135592307063),\n",
       " ((u'dt jj nn prp vbp in', 1700), 0.006557541584631627),\n",
       " ((u'vbp jj in dt jj', 23369), 0.0065556365958717635),\n",
       " ((u'rb jj to vb in dt', 18426), 0.0065544186325121514),\n",
       " ((u'in vbd vbg', 6706), -0.0065534235885056765),\n",
       " ((u'vbp in nnp prp vbp', 23290), -0.0065527463606819616),\n",
       " ((u'wrb prp md vb in', 25581), 0.0065494701312304197),\n",
       " ((u'vbp jj nn dt', 23384), 0.0065479785850425781),\n",
       " ((u'dt nnp nn dt nn', 3088), 0.0065478790864507246),\n",
       " ((u'prp rb md', 16420), 0.0065472102640055044),\n",
       " ((u'vbg jj to vb', 22227), -0.0065469451608933015),\n",
       " ((u'nn to prp nn', 11866), 0.0065459316352721193),\n",
       " ((u'vbd to nnp', 21893), -0.0065456023060586638),\n",
       " ((u'cd cc dt', 1000), -0.006537990452313981),\n",
       " ((u'cd nn jj nn', 1132), -0.0065338149700608951),\n",
       " ((u'in to dt nn', 6682), -0.0065296725227562604),\n",
       " ((u'prp nn in dt nn', 16113), -0.0065237790885922502),\n",
       " ((u'prp vbp prp rb rb', 17260), -0.006523292378464619),\n",
       " ((u'dt vbd vbn', 3642), 0.0065230988683749437),\n",
       " ((u'prp jj cc jj', 15806), 0.0065226438805333319),\n",
       " ((u'prp md vb pdt', 16003), 0.0065225412091377893),\n",
       " ((u'jj nn nn vbz', 7619), 0.0065216345304967326),\n",
       " ((u'vbg in vbz', 22205), 0.0065195263776023386),\n",
       " ((u'in prp nns in nn', 6309), -0.006519484904564876),\n",
       " ((u'rb wrb nn', 19443), -0.0065158800223156822),\n",
       " ((u'in nnp in nnp nnp', 5692), -0.006514336446863658),\n",
       " ((u'vbp jj in prp vbp', 23377), 0.0065125297669867029),\n",
       " ((u'nns dt nnp', 14349), 0.0065118362385100806),\n",
       " ((u'dt nn dt nn in nnp', 2026), 0.0065111302428058921),\n",
       " ((u'rb vbz dt nn nn', 19381), 0.0065090704391883285),\n",
       " ((u'md vb nn in', 8793), -0.0065059919246339857),\n",
       " ((u'in dt nnp nnp cc prp', 4587), 0.0065045418085556824),\n",
       " ((u'nn in dt nnp nns', 9724), 0.0065043682276592569),\n",
       " ((u'in dt nn rb vbd', 4457), -0.0065025835714773491),\n",
       " ((u'vbd dt nn in nn', 21472), -0.0065018784074777911),\n",
       " ((u'to vb in rb', 20006), 0.0065012388787038652),\n",
       " ((u'to vb prp nn in dt', 20157), 0.0064996865715311117),\n",
       " ((u'nnp nnp cc dt', 13081), 0.0064979376001423105),\n",
       " ((u'cc vbd in', 898), 0.0064961258908159273),\n",
       " ((u'to vb in in dt', 19953), 0.0064948977353861759),\n",
       " ((u'jj in dt nn cc', 7087), -0.0064923041251579629),\n",
       " ((u'ex vbd dt', 3782), -0.0064865133398854637),\n",
       " ((u'nn rb rb dt nn', 11747), -0.006485659250629253),\n",
       " ((u'vbp rb vb prp nn', 23805), -0.0064840343414189257),\n",
       " ((u'md rb vb dt jj nn', 8597), 0.0064811742104657075),\n",
       " ((u'nn in dt jj nns in', 9593), -0.0064797443368615508),\n",
       " ((u'nns in vbg in', 14729), 0.0064793118759496754),\n",
       " ((u'prp vbp jj nns prp', 17134), -0.006478390407439907),\n",
       " ((u'vb dt nn nn dt', 20462), -0.0064779942958407078),\n",
       " ((u'vbz in nn rb', 24484), -0.0064767684267913366),\n",
       " ((u'nn vbg nn nn', 12071), -0.0064767057151772734),\n",
       " ((u'nns rb prp vbd', 15088), -0.0064757733791376455),\n",
       " ((u'in nns prp vbp to vb', 6003), -0.006474157080444627),\n",
       " ((u'in dt nnp vbd', 4638), 0.006473496421616866),\n",
       " ((u'prp nn nn nn', 16151), 0.0064728833986401231),\n",
       " ((u'nn in dt cc', 9548), -0.0064710924885017446),\n",
       " ((u'rb wp prp md', 19429), 0.0064706075046183122),\n",
       " ((u'nns wp rb', 15523), 0.0064675018030778565),\n",
       " ((u'to vb prp vbp prp', 20193), 0.006467004245769117),\n",
       " ((u'nns in cd nns', 14396), 0.0064649137377749896),\n",
       " ((u'vbz rb vb prp', 24846), -0.0064603442829623209),\n",
       " ((u'prp rb vbz dt', 16509), 0.0064587424752335634),\n",
       " ((u'dt nns in dt nn cc', 3328), 0.0064585989195330828),\n",
       " ((u'rb vbp dt jj nn', 19309), -0.0064579711993944539),\n",
       " ((u'ex md vb', 3775), -0.006456047229357503),\n",
       " ((u'nnp prp md vb dt', 13604), 0.0064554720765764139),\n",
       " ((u'dt cd in dt', 1311), 0.0064547923758461623),\n",
       " ((u'vb nn vbz', 20893), -0.0064518477061300912),\n",
       " ((u'dt nn in dt jj cc', 2083), -0.0064518145351367068),\n",
       " ((u'vb dt nn nn in dt', 20464), 0.0064510030233220078),\n",
       " ((u'cd nn in nn', 1122), 0.0064503344209562146),\n",
       " ((u'prp rb to vb', 16454), 0.006444484798398791),\n",
       " ((u'nnp prp dt', 13590), -0.0064427229707016897),\n",
       " ((u'nn prp vbz dt', 11599), -0.0064371892912969799),\n",
       " ((u'in dt nn prp vbp in', 4430), 0.0064360877203341119),\n",
       " ((u'vb nnp in', 20902), -0.0064358417792569587),\n",
       " ((u'nn in in dt jj nn', 9783), -0.0064329848200306555),\n",
       " ((u'dt nns prp vbp dt', 3414), -0.0064324736967053472),\n",
       " ((u'nnp nnps in dt', 13500), -0.0064321659617740806),\n",
       " ((u'dt nn vbz nn in', 2936), -0.0064316907551541652),\n",
       " ((u'vbd rb dt nn', 21791), 0.0064291763684790866),\n",
       " ((u'nn jj prp vbp', 10466), -0.0064259154363965855),\n",
       " ((u'nn in dt nn vbz vbn', 9684), 0.0064256962457045364),\n",
       " ((u'vbp jj nn cc', 23383), 0.0064219197305015645),\n",
       " ((u'nn cc wp', 9268), 0.0064216401691070332),\n",
       " ((u'vbz dt jj nn in jj', 24278), 0.0064198466850167637),\n",
       " ((u'wrb nnp vbd', 25565), 0.0064170434296096351),\n",
       " ((u'jj nn jj nn', 7545), -0.0064139291363267186),\n",
       " ((u'rb vbg to vb nnp', 19215), -0.0064108260022051212),\n",
       " ((u'nn rb prp vbp to', 11738), 0.0064083712051216137),\n",
       " ((u'nnp nnp vbd to vb', 13433), -0.0064081080095153382),\n",
       " ((u'vbn rb jj', 22880), 0.0064066226593652281),\n",
       " ((u'dt nn ex vbz', 2062), -0.0064042749336269056),\n",
       " ((u'rb rb wp prp', 18878), 0.0064037430722700961),\n",
       " ((u'vbg dt jj nn wdt', 22052), 0.0064034177168219419),\n",
       " ((u'nn vbz wrb', 12363), 0.0064033346635060029),\n",
       " ((u'rb vbp dt nn in', 19312), 0.006400841265972847),\n",
       " ((u'nns cc in prp vbp', 14157), 0.0063943196354995079),\n",
       " ((u'nn vbd rp in', 12024), 0.0063929073283383892),\n",
       " ((u'vb in rb', 20736), 0.0063915825754145552),\n",
       " ((u'nn to vb nn in', 11912), 0.0063909254426504566),\n",
       " ((u'nns to vb jj', 15169), 0.0063908158458455371),\n",
       " ((u'vbp in vbg', 23343), 0.006388543605213997),\n",
       " ((u'nn nnp nnp prp vbp', 11046), 0.0063874592857417088),\n",
       " ((u'prp vbp in nns', 17065), -0.0063858989908109134),\n",
       " ((u'dt nn prp vbd dt nn', 2691), -0.0063850953811588011),\n",
       " ((u'nns vbd in', 15197), -0.0063826005863967606),\n",
       " ((u'rb vbn cc in', 19226), -0.0063806753044061528),\n",
       " ((u'vbn in jj', 22664), 0.0063805523690015431),\n",
       " ((u'vb dt cc prp', 20366), 0.0063790858117461534),\n",
       " ...]"
      ]
     },
     "execution_count": 382,
     "metadata": {},
     "output_type": "execute_result"
    }
   ],
   "source": [
    "sorted(zipped_with_coefs, key = lambda x: abs(x[1]), reverse=True)"
   ]
  },
  {
   "cell_type": "code",
   "execution_count": 383,
   "metadata": {
    "collapsed": false
   },
   "outputs": [
    {
     "data": {
      "text/plain": [
       "Index([u'For_text', u'For_POS', u'FL', u'FA', u'FP', u'FS', u'FSC', u'FARI',\n",
       "       u'FFLESCH', u'Against_text', u'Aga_POS', u'AL', u'AA', u'AP', u'AS',\n",
       "       u'ASC', u'AARI', u'AFLESCH', u'who_won', u'For_qs', u'Against_qs'],\n",
       "      dtype='object')"
      ]
     },
     "execution_count": 383,
     "metadata": {},
     "output_type": "execute_result"
    }
   ],
   "source": [
    "df.columns"
   ]
  },
  {
   "cell_type": "code",
   "execution_count": 416,
   "metadata": {
    "collapsed": false
   },
   "outputs": [],
   "source": [
    "X_nowords = df[['FL', 'FA', 'FP', 'FS', 'FSC', 'FARI', \\\n",
    "       'FFLESCH','AL','AA', 'AP', 'AS', \\\n",
    "       'ASC', 'AARI', 'AFLESCH','For_qs', 'Against_qs']]\n",
    "\n",
    "for x in range(100): \n",
    "    XNW_train, XNW_test, ynw_train, ynw_test = train_test_split(X_nowords, df['who_won'])\n",
    "    lgnw = LogisticRegressionCV(penalty = 'l1', solver='liblinear')\n",
    "    fittedlgnw = lgnw.fit(XNW_train, ynw_train)\n",
    "    predicted_lgnw = fittedlgnw.predict(XNW_test)\n",
    "    f1_score(predicted_lgnw, ynw_test)"
   ]
  },
  {
   "cell_type": "code",
   "execution_count": null,
   "metadata": {
    "collapsed": false
   },
   "outputs": [],
   "source": []
  },
  {
   "cell_type": "code",
   "execution_count": null,
   "metadata": {
    "collapsed": true
   },
   "outputs": [],
   "source": []
  },
  {
   "cell_type": "code",
   "execution_count": 418,
   "metadata": {
    "collapsed": true
   },
   "outputs": [],
   "source": [
    "text = \"This is what I want to do.\"\n",
    "lesk?"
   ]
  },
  {
   "cell_type": "code",
   "execution_count": null,
   "metadata": {
    "collapsed": true
   },
   "outputs": [],
   "source": []
  },
  {
   "cell_type": "code",
   "execution_count": null,
   "metadata": {
    "collapsed": true
   },
   "outputs": [],
   "source": []
  },
  {
   "cell_type": "code",
   "execution_count": null,
   "metadata": {
    "collapsed": true
   },
   "outputs": [],
   "source": []
  },
  {
   "cell_type": "code",
   "execution_count": null,
   "metadata": {
    "collapsed": true
   },
   "outputs": [],
   "source": []
  },
  {
   "cell_type": "code",
   "execution_count": null,
   "metadata": {
    "collapsed": true
   },
   "outputs": [],
   "source": []
  },
  {
   "cell_type": "code",
   "execution_count": null,
   "metadata": {
    "collapsed": true
   },
   "outputs": [],
   "source": []
  },
  {
   "cell_type": "code",
   "execution_count": null,
   "metadata": {
    "collapsed": true
   },
   "outputs": [],
   "source": []
  },
  {
   "cell_type": "code",
   "execution_count": null,
   "metadata": {
    "collapsed": true
   },
   "outputs": [],
   "source": []
  },
  {
   "cell_type": "markdown",
   "metadata": {},
   "source": [
    "#TFIDF VECTORIZATION"
   ]
  },
  {
   "cell_type": "code",
   "execution_count": 24,
   "metadata": {
    "collapsed": false
   },
   "outputs": [],
   "source": [
    "tfidf = TfidfVectorizer(stop_words = 'english')\n",
    "tfidf_vectors = tfidf.fit_transform(all_text)\n",
    "\n",
    "vector_differences = tfidf_vectors[0:107] - tfidf_vectors[107:214]\n",
    "\n",
    "df['Vector_differences'] = list(vector_differences.todense())"
   ]
  },
  {
   "cell_type": "code",
   "execution_count": 25,
   "metadata": {
    "collapsed": false
   },
   "outputs": [
    {
     "data": {
      "text/plain": [
       "0.31999999999999995"
      ]
     },
     "execution_count": 25,
     "metadata": {},
     "output_type": "execute_result"
    }
   ],
   "source": [
    "X_train, X_test, y_train, y_test = train_test_split(vector_differences, target)\n",
    "lg = LogisticRegressionCV(penalty = 'l1', solver='liblinear')\n",
    "fittedlg = lg.fit(X_train, y_train)\n",
    "predicted_lg = fittedlg.predict(X_test)\n",
    "f1_score(predicted_lg, y_test)"
   ]
  },
  {
   "cell_type": "code",
   "execution_count": 599,
   "metadata": {
    "collapsed": true
   },
   "outputs": [],
   "source": [
    "sum_of_aga_motion_tfidf_winners = sum(df[df['who_won']==0]['Vector_differences'])\n",
    "aga_wins_avg_tfidf = sum_of_aga_motion_tfidf_winners/len(df[df['who_won']==0])\n",
    "\n",
    "sum_of_for_motion_tfidf_winners = sum(df[df['who_won']==1]['Vector_differences'])\n",
    "for_wins_avg_tfidf = sum_of_for_motion_tfidf_winners/len(df[df['who_won']==1])\n",
    "\n",
    "cosim_to_aga_wins_avg_tfidf = linear_kernel(aga_wins_avg_tfidf, vector_differences)\n",
    "cosim_to_for_wins_avg_tfidf = linear_kernel(for_wins_avg_tfidf, vector_differences)\n",
    "\n",
    "df['cosim_to_for_wins'] = cosim_to_for_wins_avg_tfidf.reshape(107, 1)\n",
    "df['cosim_to_aga_wins'] = cosim_to_aga_wins_avg_tfidf.reshape(107, 1)"
   ]
  },
  {
   "cell_type": "code",
   "execution_count": 9,
   "metadata": {
    "collapsed": false
   },
   "outputs": [],
   "source": [
    "similarity_to_for_the_motion = [] \n",
    "similarity_to_aga_the_motion = []\n",
    "\n",
    "for x in range(107): \n",
    "    new_df = df[df.index != x]\n",
    "    \n",
    "    sum_aga = sum(new_df[new_df['who_won'] == 0]['Vector_differences'])\n",
    "    aga_avg = sum_aga/len(new_df[new_df['who_won'] == 0])\n",
    "    \n",
    "    sum_for = sum(new_df[new_df['who_won'] == 1]['Vector_differences'])\n",
    "    for_avg = sum_for/len(new_df[new_df['who_won'] == 1])\n",
    "    \n",
    "    similarity_to_for_the_motion.append(cosine_similarity(df['Vector_differences'][x], for_avg)[0][0])\n",
    "    similarity_to_aga_the_motion.append(cosine_similarity(df['Vector_differences'][x], aga_avg)[0][0])"
   ]
  },
  {
   "cell_type": "code",
   "execution_count": 10,
   "metadata": {
    "collapsed": false
   },
   "outputs": [],
   "source": [
    "df['similarity_to_for_motion_avg'] = similarity_to_for_the_motion\n",
    "df['similarity_to_aga_motion_avg'] = similarity_to_aga_the_motion"
   ]
  },
  {
   "cell_type": "code",
   "execution_count": 43,
   "metadata": {
    "collapsed": false
   },
   "outputs": [
    {
     "data": {
      "text/plain": [
       "Index([u'For_text', u'FL', u'FA', u'FP', u'FS', u'Against_text', u'AL', u'AA',\n",
       "       u'AP', u'AS', u'who_won', u'Vector_differences',\n",
       "       u'similarity_to_for_motion_avg', u'similarity_to_aga_motion_avg'],\n",
       "      dtype='object')"
      ]
     },
     "execution_count": 43,
     "metadata": {},
     "output_type": "execute_result"
    }
   ],
   "source": [
    "df.columns"
   ]
  },
  {
   "cell_type": "code",
   "execution_count": 73,
   "metadata": {
    "collapsed": true
   },
   "outputs": [],
   "source": [
    "X = df[['FP', 'FS', 'AP', 'AS']]"
   ]
  },
  {
   "cell_type": "code",
   "execution_count": 74,
   "metadata": {
    "collapsed": false
   },
   "outputs": [],
   "source": [
    "#X = df.drop(['For_text', 'Against_text', 'who_won', 'Vector_differences'], axis=1)"
   ]
  },
  {
   "cell_type": "code",
   "execution_count": 75,
   "metadata": {
    "collapsed": false
   },
   "outputs": [],
   "source": [
    "y = df['who_won']"
   ]
  },
  {
   "cell_type": "code",
   "execution_count": 140,
   "metadata": {
    "collapsed": true
   },
   "outputs": [],
   "source": [
    "X_train, X_test, y_train, y_test = train_test_split(X, y)"
   ]
  },
  {
   "cell_type": "code",
   "execution_count": 141,
   "metadata": {
    "collapsed": true
   },
   "outputs": [],
   "source": [
    "lr1 = LogisticRegression()"
   ]
  },
  {
   "cell_type": "code",
   "execution_count": 142,
   "metadata": {
    "collapsed": false
   },
   "outputs": [
    {
     "data": {
      "text/plain": [
       "LogisticRegression(C=1.0, class_weight=None, dual=False, fit_intercept=True,\n",
       "          intercept_scaling=1, max_iter=100, multi_class='ovr',\n",
       "          penalty='l2', random_state=None, solver='liblinear', tol=0.0001,\n",
       "          verbose=0)"
      ]
     },
     "execution_count": 142,
     "metadata": {},
     "output_type": "execute_result"
    }
   ],
   "source": [
    "lr1.fit(X_train, y_train)"
   ]
  },
  {
   "cell_type": "code",
   "execution_count": 143,
   "metadata": {
    "collapsed": false
   },
   "outputs": [
    {
     "data": {
      "text/plain": [
       "0.48148148148148145"
      ]
     },
     "execution_count": 143,
     "metadata": {},
     "output_type": "execute_result"
    }
   ],
   "source": [
    "lr1.score(X_test, y_test)"
   ]
  },
  {
   "cell_type": "code",
   "execution_count": 144,
   "metadata": {
    "collapsed": true
   },
   "outputs": [],
   "source": [
    "y_hat = lr1.predict(X_test)"
   ]
  },
  {
   "cell_type": "code",
   "execution_count": 145,
   "metadata": {
    "collapsed": false
   },
   "outputs": [
    {
     "data": {
      "text/plain": [
       "0.46153846153846151"
      ]
     },
     "execution_count": 145,
     "metadata": {},
     "output_type": "execute_result"
    }
   ],
   "source": [
    "f1_score(y_test, y_hat)"
   ]
  },
  {
   "cell_type": "code",
   "execution_count": 82,
   "metadata": {
    "collapsed": true
   },
   "outputs": [],
   "source": [
    "rf1 = RandomForestClassifier(n_estimators = 10000)\n",
    "fittedrf = rf1.fit(X_train, y_train)\n",
    "y_hat_rf = fittedrf.predict(X_test)\n",
    "f1_score(y_test, y_hat_rf)"
   ]
  },
  {
   "cell_type": "code",
   "execution_count": 85,
   "metadata": {
    "collapsed": false
   },
   "outputs": [
    {
     "data": {
      "text/plain": [
       "0.48275862068965519"
      ]
     },
     "execution_count": 85,
     "metadata": {},
     "output_type": "execute_result"
    }
   ],
   "source": [
    "f1_score(y_test, y_hat_rf)"
   ]
  },
  {
   "cell_type": "code",
   "execution_count": null,
   "metadata": {
    "collapsed": true
   },
   "outputs": [],
   "source": []
  },
  {
   "cell_type": "code",
   "execution_count": 38,
   "metadata": {
    "collapsed": true
   },
   "outputs": [],
   "source": [
    "jancsy_x = df[df['who_won']==0]['similarity_to_for_motion_avg']\n",
    "jancsy_y = df[df['who_won']==0]['similarity_to_aga_motion_avg']\n",
    "\n",
    "jancsy_x2 = df[df['who_won']==1]['similarity_to_for_motion_avg']\n",
    "jancsy_y2 = df[df['who_won']==1]['similarity_to_aga_motion_avg']"
   ]
  },
  {
   "cell_type": "code",
   "execution_count": null,
   "metadata": {
    "collapsed": true
   },
   "outputs": [],
   "source": []
  },
  {
   "cell_type": "code",
   "execution_count": 39,
   "metadata": {
    "collapsed": false
   },
   "outputs": [],
   "source": [
    "import matplotlib.pyplot as plt \n",
    "%matplotlib inline "
   ]
  },
  {
   "cell_type": "code",
   "execution_count": 40,
   "metadata": {
    "collapsed": false
   },
   "outputs": [
    {
     "data": {
      "text/plain": [
       "<matplotlib.collections.PathCollection at 0x1105e48d0>"
      ]
     },
     "execution_count": 40,
     "metadata": {},
     "output_type": "execute_result"
    },
    {
     "data": {
      "image/png": "[encoded data removed]",
      "text/plain": [
       "<matplotlib.figure.Figure at 0x110544e10>"
      ]
     },
     "metadata": {},
     "output_type": "display_data"
    }
   ],
   "source": [
    "plt.figure(101) \n",
    "plt.scatter(jancsy_x, jancsy_y, c='red')\n",
    "plt.scatter(jancsy_x2, jancsy_y2)"
   ]
  },
  {
   "cell_type": "code",
   "execution_count": 348,
   "metadata": {
    "collapsed": false
   },
   "outputs": [
    {
     "data": {
      "text/plain": [
       "1"
      ]
     },
     "execution_count": 348,
     "metadata": {},
     "output_type": "execute_result"
    }
   ],
   "source": []
  },
  {
   "cell_type": "code",
   "execution_count": null,
   "metadata": {
    "collapsed": true
   },
   "outputs": [],
   "source": []
  }
 ],
 "metadata": {
  "kernelspec": {
   "display_name": "Python 2",
   "language": "python",
   "name": "python2"
  },
  "language_info": {
   "codemirror_mode": {
    "name": "ipython",
    "version": 2
   },
   "file_extension": ".py",
   "mimetype": "text/x-python",
   "name": "python",
   "nbconvert_exporter": "python",
   "pygments_lexer": "ipython2",
   "version": "2.7.10"
  }
 },
 "nbformat": 4,
 "nbformat_minor": 0
}
